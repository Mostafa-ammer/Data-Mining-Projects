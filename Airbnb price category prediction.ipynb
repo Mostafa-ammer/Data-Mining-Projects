{
  "metadata": {
    "kernelspec": {
      "language": "python",
      "display_name": "Python 3",
      "name": "python3"
    },
    "language_info": {
      "name": "python",
      "version": "3.7.12",
      "mimetype": "text/x-python",
      "codemirror_mode": {
        "name": "ipython",
        "version": 3
      },
      "pygments_lexer": "ipython3",
      "nbconvert_exporter": "python",
      "file_extension": ".py"
    },
    "colab": {
      "provenance": []
    }
  },
  "nbformat_minor": 0,
  "nbformat": 4,
  "cells": [
    {
      "cell_type": "markdown",
      "source": [
        "# **Define the problem ?**"
      ],
      "metadata": {
        "id": "xeZFdsitIusX"
      }
    },
    {
      "cell_type": "markdown",
      "source": [
        "**it is a classification problem that depend on multi-modality because there are two features have different data types such as text and image ,and also depend on multi-task because we predict two labels the price of real estate and it's type of real estate**"
      ],
      "metadata": {
        "id": "1ork0X-lIusY"
      }
    },
    {
      "cell_type": "markdown",
      "source": [
        "# **What is the input?**"
      ],
      "metadata": {
        "id": "_EC8WKHrIusZ"
      }
    },
    {
      "cell_type": "markdown",
      "source": [
        "**we have two input features , the image of real estate and summary of real estate**"
      ],
      "metadata": {
        "id": "rMX4GO0sIusZ"
      }
    },
    {
      "cell_type": "markdown",
      "source": [
        "# **What is the output?**"
      ],
      "metadata": {
        "id": "IvGVZr28IusZ"
      }
    },
    {
      "cell_type": "markdown",
      "source": [
        "**we have two output , the price of real estate and it's type.**"
      ],
      "metadata": {
        "id": "CDOKF5zjIusZ"
      }
    },
    {
      "cell_type": "markdown",
      "source": [
        "# **What data mining function is required?**"
      ],
      "metadata": {
        "id": "O4-pBtA7IusZ"
      }
    },
    {
      "cell_type": "markdown",
      "source": [
        "**the function is prediction and classification**"
      ],
      "metadata": {
        "id": "1V1ClXkxIusZ"
      }
    },
    {
      "cell_type": "markdown",
      "source": [
        "# **What could be the challenges?**"
      ],
      "metadata": {
        "id": "ZvcIOZ-KIusa"
      }
    },
    {
      "cell_type": "markdown",
      "source": [
        "**1. we have two features and predict two labels**\n",
        "\n",
        "**2. the summary feature have a different language**\n",
        "\n",
        "**3. imbalance labels**\n",
        "\n",
        "**4. when drop Null and Duplication from train and test data , the data become very small**\n",
        "\n",
        "**5. make preprocessing on different type of data**"
      ],
      "metadata": {
        "id": "PamNlN02Iusa"
      }
    },
    {
      "cell_type": "markdown",
      "source": [
        "# **What is the impact?**"
      ],
      "metadata": {
        "id": "hZt1H12fIusa"
      }
    },
    {
      "cell_type": "markdown",
      "source": [
        "**the model will help the hosts to determine the suitable price for their real estate and the hosts will be able to sell their real estate easily**"
      ],
      "metadata": {
        "id": "D6fNGhAFIusa"
      }
    },
    {
      "cell_type": "markdown",
      "source": [
        "# **What is an ideal solution?**"
      ],
      "metadata": {
        "id": "OhpD1gq2Iusa"
      }
    },
    {
      "cell_type": "markdown",
      "source": [
        "**the ideal solution for me is is building neural network with dropout technique, \n",
        "the accuracy on validation data is 0.6951**"
      ],
      "metadata": {
        "id": "PuI_NApmIusa"
      }
    },
    {
      "cell_type": "markdown",
      "source": [
        "# **What is the experimental protocol used and how was it carried out?**\n",
        "**1-  import the required libraries**\n",
        "\n",
        "**2- read the train and test data** \n",
        "\n",
        "**3- make some visualization on data** \n",
        "\n",
        "**4- make preprocessing on data**\n",
        "\n",
        "\n",
        "  * remove null values and remove duplication\n",
        "     \n",
        "  * translate the text into English\n",
        "     \n",
        "  * apply lemmatization process on text\n",
        "     \n",
        "  * tokenize the text of summary feature\n",
        "     \n",
        "\n",
        "\n",
        "    \n",
        "\n",
        "**5- building set of models** \n",
        "  \n",
        " **6- train each model**\n",
        "  \n",
        " **7- make prediction**\n",
        "  \n",
        " **8- building the submittion file**"
      ],
      "metadata": {
        "id": "wCAMJDe_Iusb"
      }
    },
    {
      "cell_type": "markdown",
      "source": [
        "# **How did we tune hyper-parameters in the template? What is the search space and what is the criteria to determine good/bad hyper-parameters?**\n"
      ],
      "metadata": {
        "id": "bT6jYlhkIusb"
      }
    },
    {
      "cell_type": "markdown",
      "source": [
        "* **Tuning the hyperparameters is an important aspect of building a machine learning model, as they can have a significant impact on the model's performance.**\n",
        "* **we used a technique called grid search, which involves specifying a range of values for each hyperparameter and then systematically trying all possible combinations of these values**\n",
        "* **To determine good/bad hyperparameters, we typically use a metric that measures the performance of the model on a validation set. For example, we might use the accuracy or F1 score for a classification task, or the mean squared error or R-squared for a regression task.**"
      ],
      "metadata": {
        "id": "eE0pU4bmIusb"
      }
    },
    {
      "cell_type": "markdown",
      "source": [
        "# **Is fully-connected model a good one for sequential data? Why? How about for image data? Is it good? Why?**"
      ],
      "metadata": {
        "id": "ib0CN-q_Iusb"
      }
    },
    {
      "cell_type": "markdown",
      "source": [
        "**- it is not good for sequential data because the sequential data is dependant,and the neural network deal with data as non-sequential data** \n",
        "\n",
        "**- it is not good for image because it is not good to deal with feature extraction , so that there are many parameters which may lead to overfitting**"
      ],
      "metadata": {
        "id": "_VX9WBbtIusb"
      }
    },
    {
      "cell_type": "markdown",
      "source": [
        "# **What is gradient vanishing and gradient explosion, and how GRU/LSTM tries to mitigate this problem?**"
      ],
      "metadata": {
        "id": "b-k60cCvIusb"
      }
    },
    {
      "cell_type": "markdown",
      "source": [
        "* **Gradient vanishing occurs when the gradients of the loss function with respect to the parameters of the network become very small as they are backpropagated through the network, making it difficult for the network to update the parameters and learn**\n",
        "* **Gradient explosion occurs when the gradients become very large during backpropagation, causing the weights to update too much and leading to instability and divergence**\n",
        "*  **In both GRU and LSTM, there are gates that control the flow of information through the network, allowing it to selectively remember or forget information from previous time steps. These gates are learned during training and help to mitigate the problems of vanishing and exploding gradients by allowing the network to selectively propagate or block gradients through time.**"
      ],
      "metadata": {
        "id": "5dxVGdSLIusc"
      }
    },
    {
      "cell_type": "markdown",
      "source": [
        "# **What is multi-objective/multi-task learning? What is multi-modality learning? How do you use them in this assignment?**"
      ],
      "metadata": {
        "id": "UGkvRyh2Iusc"
      }
    },
    {
      "cell_type": "markdown",
      "source": [
        "* **multi-objective/multi-task learning mean that make prediction on multiple lable , not one label , in the assignment we make prediction of price of real estate and it's type .**\n",
        "* **multi-modality learning mean the features have different datatypes ,in the assignment ,there are two different features , they are the summary that represent in form of text and image of real estate**"
      ],
      "metadata": {
        "id": "gPa19Nh-Iusc"
      }
    },
    {
      "cell_type": "markdown",
      "source": [
        "# **What is the difference among xgboost, lightgbm and catboost ?**"
      ],
      "metadata": {
        "id": "IEjToY4YIusc"
      }
    },
    {
      "cell_type": "markdown",
      "source": [
        "* **XGBoost is designed to be highly scalable and efficient, using a variety of optimization techniques such as parallelization, cache awareness, and regularization to improve performance. XGBoost uses a tree-based model, where each tree is built using a greedy algorithm that selects the best split at each node based on the gradient of the loss function.**\n",
        "\n",
        "* **A framework for gradient boosting called LightGBM (Light Gradient Boosting Machine). Gradient-based One-Side Sampling (GOSS), a Gradient-edge method, is utilised to reduce the number of data points required to train each tree, making it even more effective than XGBoost. Although LightGBM similarly use a tree-based model, it implements split finding differently from XGBoost, relying instead on a histogram-based strategy that may be more effective for sparse data sets.**\n",
        "* **A weighted sample variation of stochastic gradient boosting, known as minimal variance sampling (MVS), is provided by Catboost.**"
      ],
      "metadata": {
        "id": "uPfDZuXiIusc"
      }
    },
    {
      "cell_type": "code",
      "source": [
        "# This Python 3 environment comes with many helpful analytics libraries installed\n",
        "# It is defined by the kaggle/python Docker image: https://github.com/kaggle/docker-python\n",
        "# For example, here's several helpful packages to load\n",
        "\n",
        "import numpy as np # linear algebra\n",
        "import pandas as pd # data processing, CSV file I/O (e.g. pd.read_csv)\n",
        "\n",
        "# Input data files are available in the read-only \"../input/\" directory\n",
        "# For example, running this (by clicking run or pressing Shift+Enter) will list all files under the input directory\n",
        "\n",
        "import os\n",
        "for dirname, _, filenames in os.walk('/kaggle/input'):\n",
        "    for filename in filenames:\n",
        "        pass\n",
        "        #print(os.path.join(dirname, filename))\n",
        "\n",
        "# You can write up to 20GB to the current directory (/kaggle/working/) that gets preserved as output when you create a version using \"Save & Run All\" \n",
        "# You can also write temporary files to /kaggle/temp/, but they won't be saved outside of the current session"
      ],
      "metadata": {
        "_uuid": "8f2839f25d086af736a60e9eeb907d3b93b6e0e5",
        "_cell_guid": "b1076dfc-b9ad-4769-8c92-a6c4dae69d19",
        "execution": {
          "iopub.status.busy": "2023-04-13T12:23:53.434146Z",
          "iopub.execute_input": "2023-04-13T12:23:53.434857Z",
          "iopub.status.idle": "2023-04-13T12:24:01.540048Z",
          "shell.execute_reply.started": "2023-04-13T12:23:53.434817Z",
          "shell.execute_reply": "2023-04-13T12:24:01.538993Z"
        },
        "trusted": true,
        "id": "cXFLX1y8Iusc"
      },
      "execution_count": null,
      "outputs": []
    },
    {
      "cell_type": "code",
      "source": [
        "#import the required libraries\n",
        "# the basic libraries\n",
        "import pandas as pd\n",
        "import numpy as np\n",
        "import os \n",
        "import pathlib\n",
        "import seaborn as sns\n",
        "import matplotlib.pyplot as plt\n",
        "from tqdm.notebook import tqdm\n",
        "from time import time\n",
        "import tensorflow as tf\n",
        "# libraries for dealing with deep learning \n",
        "from tensorflow import keras\n",
        "from keras.models import Model\n",
        "from tensorflow.keras.layers import Conv2D, Flatten, Dense, MaxPool2D, LSTM, Dropout, Bidirectional, GRU\n",
        "from tensorflow.keras.optimizers import Adam, Nadam\n",
        "from tensorflow.keras.preprocessing.sequence import pad_sequences\n",
        "from sklearn.model_selection import train_test_split\n",
        "from pprint import pprint\n",
        "from tensorflow.keras.preprocessing.text import Tokenizer\n",
        "# for dealing with nlp \n",
        "from nltk.tokenize import word_tokenize\n",
        "from nltk.corpus import stopwords\n",
        "from nltk.stem import WordNetLemmatizer\n",
        "import re\n",
        "import nltk\n",
        "nltk.download('wordnet')\n",
        "# for text translation \n",
        "!pip install googletrans\n",
        "!pip install googletrans==3.1.0a0 --user\n",
        "from googletrans import Translator\n",
        "import cv2\n",
        "import warnings\n",
        "warnings.filterwarnings('ignore')"
      ],
      "metadata": {
        "execution": {
          "iopub.status.busy": "2023-04-13T11:23:34.030837Z",
          "iopub.execute_input": "2023-04-13T11:23:34.032843Z",
          "iopub.status.idle": "2023-04-13T11:23:55.809148Z",
          "shell.execute_reply.started": "2023-04-13T11:23:34.032799Z",
          "shell.execute_reply": "2023-04-13T11:23:55.807528Z"
        },
        "trusted": true,
        "id": "7AuY3MPfIusd",
        "outputId": "fe715bf8-7d4b-49b4-b58f-3686ad038e7a"
      },
      "execution_count": null,
      "outputs": [
        {
          "name": "stdout",
          "text": "[nltk_data] Downloading package wordnet to /usr/share/nltk_data...\n[nltk_data]   Package wordnet is already up-to-date!\nRequirement already satisfied: googletrans in /root/.local/lib/python3.7/site-packages (3.1.0a0)\nRequirement already satisfied: httpx==0.13.3 in /opt/conda/lib/python3.7/site-packages (from googletrans) (0.13.3)\nRequirement already satisfied: rfc3986<2,>=1.3 in /opt/conda/lib/python3.7/site-packages (from httpx==0.13.3->googletrans) (1.5.0)\nRequirement already satisfied: httpcore==0.9.* in /opt/conda/lib/python3.7/site-packages (from httpx==0.13.3->googletrans) (0.9.1)\nRequirement already satisfied: hstspreload in /opt/conda/lib/python3.7/site-packages (from httpx==0.13.3->googletrans) (2023.1.1)\nRequirement already satisfied: chardet==3.* in /opt/conda/lib/python3.7/site-packages (from httpx==0.13.3->googletrans) (3.0.4)\nRequirement already satisfied: certifi in /opt/conda/lib/python3.7/site-packages (from httpx==0.13.3->googletrans) (2022.12.7)\nRequirement already satisfied: sniffio in /opt/conda/lib/python3.7/site-packages (from httpx==0.13.3->googletrans) (1.3.0)\nRequirement already satisfied: idna==2.* in /opt/conda/lib/python3.7/site-packages (from httpx==0.13.3->googletrans) (2.10)\nRequirement already satisfied: h11<0.10,>=0.8 in /opt/conda/lib/python3.7/site-packages (from httpcore==0.9.*->httpx==0.13.3->googletrans) (0.9.0)\nRequirement already satisfied: h2==3.* in /opt/conda/lib/python3.7/site-packages (from httpcore==0.9.*->httpx==0.13.3->googletrans) (3.2.0)\nRequirement already satisfied: hyperframe<6,>=5.2.0 in /opt/conda/lib/python3.7/site-packages (from h2==3.*->httpcore==0.9.*->httpx==0.13.3->googletrans) (5.2.0)\nRequirement already satisfied: hpack<4,>=3.0 in /opt/conda/lib/python3.7/site-packages (from h2==3.*->httpcore==0.9.*->httpx==0.13.3->googletrans) (3.0.0)\n\u001b[33mWARNING: Running pip as the 'root' user can result in broken permissions and conflicting behaviour with the system package manager. It is recommended to use a virtual environment instead: https://pip.pypa.io/warnings/venv\u001b[0m\u001b[33m\n\u001b[0mRequirement already satisfied: googletrans==3.1.0a0 in /root/.local/lib/python3.7/site-packages (3.1.0a0)\nRequirement already satisfied: httpx==0.13.3 in /opt/conda/lib/python3.7/site-packages (from googletrans==3.1.0a0) (0.13.3)\nRequirement already satisfied: sniffio in /opt/conda/lib/python3.7/site-packages (from httpx==0.13.3->googletrans==3.1.0a0) (1.3.0)\nRequirement already satisfied: hstspreload in /opt/conda/lib/python3.7/site-packages (from httpx==0.13.3->googletrans==3.1.0a0) (2023.1.1)\nRequirement already satisfied: certifi in /opt/conda/lib/python3.7/site-packages (from httpx==0.13.3->googletrans==3.1.0a0) (2022.12.7)\nRequirement already satisfied: rfc3986<2,>=1.3 in /opt/conda/lib/python3.7/site-packages (from httpx==0.13.3->googletrans==3.1.0a0) (1.5.0)\nRequirement already satisfied: chardet==3.* in /opt/conda/lib/python3.7/site-packages (from httpx==0.13.3->googletrans==3.1.0a0) (3.0.4)\nRequirement already satisfied: httpcore==0.9.* in /opt/conda/lib/python3.7/site-packages (from httpx==0.13.3->googletrans==3.1.0a0) (0.9.1)\nRequirement already satisfied: idna==2.* in /opt/conda/lib/python3.7/site-packages (from httpx==0.13.3->googletrans==3.1.0a0) (2.10)\nRequirement already satisfied: h2==3.* in /opt/conda/lib/python3.7/site-packages (from httpcore==0.9.*->httpx==0.13.3->googletrans==3.1.0a0) (3.2.0)\nRequirement already satisfied: h11<0.10,>=0.8 in /opt/conda/lib/python3.7/site-packages (from httpcore==0.9.*->httpx==0.13.3->googletrans==3.1.0a0) (0.9.0)\nRequirement already satisfied: hyperframe<6,>=5.2.0 in /opt/conda/lib/python3.7/site-packages (from h2==3.*->httpcore==0.9.*->httpx==0.13.3->googletrans==3.1.0a0) (5.2.0)\nRequirement already satisfied: hpack<4,>=3.0 in /opt/conda/lib/python3.7/site-packages (from h2==3.*->httpcore==0.9.*->httpx==0.13.3->googletrans==3.1.0a0) (3.0.0)\n\u001b[33mWARNING: Running pip as the 'root' user can result in broken permissions and conflicting behaviour with the system package manager. It is recommended to use a virtual environment instead: https://pip.pypa.io/warnings/venv\u001b[0m\u001b[33m\n\u001b[0m",
          "output_type": "stream"
        }
      ]
    },
    {
      "cell_type": "code",
      "source": [
        "# read the data (train,test)\n",
        "train=pd.read_csv(\"/kaggle/input/copy-of-cisc-873-dm-w23-a4/a4/train_xy.csv\")\n",
        "test=pd.read_csv(\"/kaggle/input/copy-of-cisc-873-dm-w23-a4/a4/test_x.csv\")"
      ],
      "metadata": {
        "execution": {
          "iopub.status.busy": "2023-04-13T11:23:55.814568Z",
          "iopub.execute_input": "2023-04-13T11:23:55.817556Z",
          "iopub.status.idle": "2023-04-13T11:23:55.925215Z",
          "shell.execute_reply.started": "2023-04-13T11:23:55.817505Z",
          "shell.execute_reply": "2023-04-13T11:23:55.924151Z"
        },
        "trusted": true,
        "id": "xAin_bZ7Iuse"
      },
      "execution_count": null,
      "outputs": []
    },
    {
      "cell_type": "code",
      "source": [
        "# show the train data\n",
        "train"
      ],
      "metadata": {
        "execution": {
          "iopub.status.busy": "2023-04-13T11:23:55.931190Z",
          "iopub.execute_input": "2023-04-13T11:23:55.933747Z",
          "iopub.status.idle": "2023-04-13T11:23:55.953270Z",
          "shell.execute_reply.started": "2023-04-13T11:23:55.933706Z",
          "shell.execute_reply": "2023-04-13T11:23:55.952313Z"
        },
        "trusted": true,
        "id": "CNZnjTjDIuse",
        "outputId": "7e7f5ee2-7701-44bc-f1b4-191a25051903"
      },
      "execution_count": null,
      "outputs": [
        {
          "execution_count": 29,
          "output_type": "execute_result",
          "data": {
            "text/plain": "                                                summary               image  \\\n0     Spacious, sunny and cozy modern apartment in t...     img_train/0.jpg   \n1     Located in one of the most vibrant and accessi...     img_train/1.jpg   \n2     Logement coquet et douillet à 10 minutes du ce...     img_train/2.jpg   \n3     Beautiful and spacious (1076 sc ft, / 100 mc) ...     img_train/3.jpg   \n4     Très grand appartement ''rustique'' et très ag...     img_train/4.jpg   \n...                                                 ...                 ...   \n7622  Un grand logement 4 et 1/2, tout inclut, bien ...  img_train/7626.jpg   \n7623  Magnificent condo directly on the river. You w...  img_train/7627.jpg   \n7624  This apartment is perfect for anyone visiting ...  img_train/7628.jpg   \n7625  It is a cozy ,clean ,and comfortable apartment...  img_train/7629.jpg   \n7626  Modern country style (newly-renovated); open c...  img_train/7630.jpg   \n\n           type  price  \n0     Apartment      1  \n1     Apartment      0  \n2     Apartment      1  \n3     Apartment      1  \n4     Apartment      0  \n...         ...    ...  \n7622  Apartment      0  \n7623  Apartment      2  \n7624  Apartment      1  \n7625  Apartment      0  \n7626      House      1  \n\n[7627 rows x 4 columns]",
            "text/html": "<div>\n<style scoped>\n    .dataframe tbody tr th:only-of-type {\n        vertical-align: middle;\n    }\n\n    .dataframe tbody tr th {\n        vertical-align: top;\n    }\n\n    .dataframe thead th {\n        text-align: right;\n    }\n</style>\n<table border=\"1\" class=\"dataframe\">\n  <thead>\n    <tr style=\"text-align: right;\">\n      <th></th>\n      <th>summary</th>\n      <th>image</th>\n      <th>type</th>\n      <th>price</th>\n    </tr>\n  </thead>\n  <tbody>\n    <tr>\n      <th>0</th>\n      <td>Spacious, sunny and cozy modern apartment in t...</td>\n      <td>img_train/0.jpg</td>\n      <td>Apartment</td>\n      <td>1</td>\n    </tr>\n    <tr>\n      <th>1</th>\n      <td>Located in one of the most vibrant and accessi...</td>\n      <td>img_train/1.jpg</td>\n      <td>Apartment</td>\n      <td>0</td>\n    </tr>\n    <tr>\n      <th>2</th>\n      <td>Logement coquet et douillet à 10 minutes du ce...</td>\n      <td>img_train/2.jpg</td>\n      <td>Apartment</td>\n      <td>1</td>\n    </tr>\n    <tr>\n      <th>3</th>\n      <td>Beautiful and spacious (1076 sc ft, / 100 mc) ...</td>\n      <td>img_train/3.jpg</td>\n      <td>Apartment</td>\n      <td>1</td>\n    </tr>\n    <tr>\n      <th>4</th>\n      <td>Très grand appartement ''rustique'' et très ag...</td>\n      <td>img_train/4.jpg</td>\n      <td>Apartment</td>\n      <td>0</td>\n    </tr>\n    <tr>\n      <th>...</th>\n      <td>...</td>\n      <td>...</td>\n      <td>...</td>\n      <td>...</td>\n    </tr>\n    <tr>\n      <th>7622</th>\n      <td>Un grand logement 4 et 1/2, tout inclut, bien ...</td>\n      <td>img_train/7626.jpg</td>\n      <td>Apartment</td>\n      <td>0</td>\n    </tr>\n    <tr>\n      <th>7623</th>\n      <td>Magnificent condo directly on the river. You w...</td>\n      <td>img_train/7627.jpg</td>\n      <td>Apartment</td>\n      <td>2</td>\n    </tr>\n    <tr>\n      <th>7624</th>\n      <td>This apartment is perfect for anyone visiting ...</td>\n      <td>img_train/7628.jpg</td>\n      <td>Apartment</td>\n      <td>1</td>\n    </tr>\n    <tr>\n      <th>7625</th>\n      <td>It is a cozy ,clean ,and comfortable apartment...</td>\n      <td>img_train/7629.jpg</td>\n      <td>Apartment</td>\n      <td>0</td>\n    </tr>\n    <tr>\n      <th>7626</th>\n      <td>Modern country style (newly-renovated); open c...</td>\n      <td>img_train/7630.jpg</td>\n      <td>House</td>\n      <td>1</td>\n    </tr>\n  </tbody>\n</table>\n<p>7627 rows × 4 columns</p>\n</div>"
          },
          "metadata": {}
        }
      ]
    },
    {
      "cell_type": "markdown",
      "source": [
        "* there are 7627 samples in train data \n",
        "* there are features such as summary, image path\n",
        "* the labels are type and the price "
      ],
      "metadata": {
        "id": "tfauy0d6Iuse"
      }
    },
    {
      "cell_type": "code",
      "source": [
        "# show the test data\n",
        "test "
      ],
      "metadata": {
        "execution": {
          "iopub.status.busy": "2023-04-13T11:23:55.957388Z",
          "iopub.execute_input": "2023-04-13T11:23:55.959543Z",
          "iopub.status.idle": "2023-04-13T11:23:55.976505Z",
          "shell.execute_reply.started": "2023-04-13T11:23:55.959504Z",
          "shell.execute_reply": "2023-04-13T11:23:55.975646Z"
        },
        "trusted": true,
        "id": "buUDvg2aIuse",
        "outputId": "55c2b67f-f13c-413e-9b35-551c998ba5ac"
      },
      "execution_count": null,
      "outputs": [
        {
          "execution_count": 30,
          "output_type": "execute_result",
          "data": {
            "text/plain": "        id                                            summary  \\\n0        0  Charming warm house is ready to host you here ...   \n1        1  La chambre est spacieuse et lumineuse, dans un...   \n2        2  Grande chambre confortable située au sous-sol ...   \n3        3  Près d’un Métro, ligne orange. 10 minutes à pi...   \n4        4  Very bright appartment and very cosy. 2 separa...   \n...    ...                                                ...   \n7355  7626  Large, fully-furnished flat with brick walls a...   \n7356  7627  Logement situé dans le haut d’un duplex. Vivez...   \n7357  7628  My place is close to parks, . My place is good...   \n7358  7629  *** For security reasons, I will prioritize gu...   \n7359  7630  Stay in an amazing area of Montreal! 5-7 min f...   \n\n                  image  \n0        img_test/0.jpg  \n1        img_test/1.jpg  \n2        img_test/2.jpg  \n3        img_test/3.jpg  \n4        img_test/4.jpg  \n...                 ...  \n7355  img_test/7627.jpg  \n7356  img_test/7628.jpg  \n7357  img_test/7629.jpg  \n7358  img_test/7630.jpg  \n7359  img_test/7631.jpg  \n\n[7360 rows x 3 columns]",
            "text/html": "<div>\n<style scoped>\n    .dataframe tbody tr th:only-of-type {\n        vertical-align: middle;\n    }\n\n    .dataframe tbody tr th {\n        vertical-align: top;\n    }\n\n    .dataframe thead th {\n        text-align: right;\n    }\n</style>\n<table border=\"1\" class=\"dataframe\">\n  <thead>\n    <tr style=\"text-align: right;\">\n      <th></th>\n      <th>id</th>\n      <th>summary</th>\n      <th>image</th>\n    </tr>\n  </thead>\n  <tbody>\n    <tr>\n      <th>0</th>\n      <td>0</td>\n      <td>Charming warm house is ready to host you here ...</td>\n      <td>img_test/0.jpg</td>\n    </tr>\n    <tr>\n      <th>1</th>\n      <td>1</td>\n      <td>La chambre est spacieuse et lumineuse, dans un...</td>\n      <td>img_test/1.jpg</td>\n    </tr>\n    <tr>\n      <th>2</th>\n      <td>2</td>\n      <td>Grande chambre confortable située au sous-sol ...</td>\n      <td>img_test/2.jpg</td>\n    </tr>\n    <tr>\n      <th>3</th>\n      <td>3</td>\n      <td>Près d’un Métro, ligne orange. 10 minutes à pi...</td>\n      <td>img_test/3.jpg</td>\n    </tr>\n    <tr>\n      <th>4</th>\n      <td>4</td>\n      <td>Very bright appartment and very cosy. 2 separa...</td>\n      <td>img_test/4.jpg</td>\n    </tr>\n    <tr>\n      <th>...</th>\n      <td>...</td>\n      <td>...</td>\n      <td>...</td>\n    </tr>\n    <tr>\n      <th>7355</th>\n      <td>7626</td>\n      <td>Large, fully-furnished flat with brick walls a...</td>\n      <td>img_test/7627.jpg</td>\n    </tr>\n    <tr>\n      <th>7356</th>\n      <td>7627</td>\n      <td>Logement situé dans le haut d’un duplex. Vivez...</td>\n      <td>img_test/7628.jpg</td>\n    </tr>\n    <tr>\n      <th>7357</th>\n      <td>7628</td>\n      <td>My place is close to parks, . My place is good...</td>\n      <td>img_test/7629.jpg</td>\n    </tr>\n    <tr>\n      <th>7358</th>\n      <td>7629</td>\n      <td>*** For security reasons, I will prioritize gu...</td>\n      <td>img_test/7630.jpg</td>\n    </tr>\n    <tr>\n      <th>7359</th>\n      <td>7630</td>\n      <td>Stay in an amazing area of Montreal! 5-7 min f...</td>\n      <td>img_test/7631.jpg</td>\n    </tr>\n  </tbody>\n</table>\n<p>7360 rows × 3 columns</p>\n</div>"
          },
          "metadata": {}
        }
      ]
    },
    {
      "cell_type": "markdown",
      "source": [
        "* there are 7360 samples in test data \n",
        "* there are features such as id,summary, image path\n",
        "* No labels in test data"
      ],
      "metadata": {
        "id": "4lUPdYT-Iuse"
      }
    },
    {
      "cell_type": "code",
      "source": [
        "# make a description on train data \n",
        "train.describe"
      ],
      "metadata": {
        "execution": {
          "iopub.status.busy": "2023-04-13T11:23:55.980451Z",
          "iopub.execute_input": "2023-04-13T11:23:55.982634Z",
          "iopub.status.idle": "2023-04-13T11:23:55.996398Z",
          "shell.execute_reply.started": "2023-04-13T11:23:55.982597Z",
          "shell.execute_reply": "2023-04-13T11:23:55.995511Z"
        },
        "trusted": true,
        "id": "DsD9QniQIuse",
        "outputId": "a69b50c0-d4ad-40f5-e96b-fbd2d81f2e48"
      },
      "execution_count": null,
      "outputs": [
        {
          "execution_count": 31,
          "output_type": "execute_result",
          "data": {
            "text/plain": "<bound method NDFrame.describe of                                                 summary               image  \\\n0     Spacious, sunny and cozy modern apartment in t...     img_train/0.jpg   \n1     Located in one of the most vibrant and accessi...     img_train/1.jpg   \n2     Logement coquet et douillet à 10 minutes du ce...     img_train/2.jpg   \n3     Beautiful and spacious (1076 sc ft, / 100 mc) ...     img_train/3.jpg   \n4     Très grand appartement ''rustique'' et très ag...     img_train/4.jpg   \n...                                                 ...                 ...   \n7622  Un grand logement 4 et 1/2, tout inclut, bien ...  img_train/7626.jpg   \n7623  Magnificent condo directly on the river. You w...  img_train/7627.jpg   \n7624  This apartment is perfect for anyone visiting ...  img_train/7628.jpg   \n7625  It is a cozy ,clean ,and comfortable apartment...  img_train/7629.jpg   \n7626  Modern country style (newly-renovated); open c...  img_train/7630.jpg   \n\n           type  price  \n0     Apartment      1  \n1     Apartment      0  \n2     Apartment      1  \n3     Apartment      1  \n4     Apartment      0  \n...         ...    ...  \n7622  Apartment      0  \n7623  Apartment      2  \n7624  Apartment      1  \n7625  Apartment      0  \n7626      House      1  \n\n[7627 rows x 4 columns]>"
          },
          "metadata": {}
        }
      ]
    },
    {
      "cell_type": "code",
      "source": [
        "# make a description on test data \n",
        "train.describe"
      ],
      "metadata": {
        "execution": {
          "iopub.status.busy": "2023-04-13T11:23:56.000299Z",
          "iopub.execute_input": "2023-04-13T11:23:56.002391Z",
          "iopub.status.idle": "2023-04-13T11:23:56.016975Z",
          "shell.execute_reply.started": "2023-04-13T11:23:56.002356Z",
          "shell.execute_reply": "2023-04-13T11:23:56.016089Z"
        },
        "trusted": true,
        "id": "d_4LHdQiIusf",
        "outputId": "21563447-0212-4937-a25f-f91976653104"
      },
      "execution_count": null,
      "outputs": [
        {
          "execution_count": 32,
          "output_type": "execute_result",
          "data": {
            "text/plain": "<bound method NDFrame.describe of                                                 summary               image  \\\n0     Spacious, sunny and cozy modern apartment in t...     img_train/0.jpg   \n1     Located in one of the most vibrant and accessi...     img_train/1.jpg   \n2     Logement coquet et douillet à 10 minutes du ce...     img_train/2.jpg   \n3     Beautiful and spacious (1076 sc ft, / 100 mc) ...     img_train/3.jpg   \n4     Très grand appartement ''rustique'' et très ag...     img_train/4.jpg   \n...                                                 ...                 ...   \n7622  Un grand logement 4 et 1/2, tout inclut, bien ...  img_train/7626.jpg   \n7623  Magnificent condo directly on the river. You w...  img_train/7627.jpg   \n7624  This apartment is perfect for anyone visiting ...  img_train/7628.jpg   \n7625  It is a cozy ,clean ,and comfortable apartment...  img_train/7629.jpg   \n7626  Modern country style (newly-renovated); open c...  img_train/7630.jpg   \n\n           type  price  \n0     Apartment      1  \n1     Apartment      0  \n2     Apartment      1  \n3     Apartment      1  \n4     Apartment      0  \n...         ...    ...  \n7622  Apartment      0  \n7623  Apartment      2  \n7624  Apartment      1  \n7625  Apartment      0  \n7626      House      1  \n\n[7627 rows x 4 columns]>"
          },
          "metadata": {}
        }
      ]
    },
    {
      "cell_type": "code",
      "source": [
        "# get the frequency for each class in price label in train data \n",
        "train['price'].value_counts()"
      ],
      "metadata": {
        "execution": {
          "iopub.status.busy": "2023-04-13T11:23:56.038864Z",
          "iopub.execute_input": "2023-04-13T11:23:56.040981Z",
          "iopub.status.idle": "2023-04-13T11:23:56.052062Z",
          "shell.execute_reply.started": "2023-04-13T11:23:56.040945Z",
          "shell.execute_reply": "2023-04-13T11:23:56.050801Z"
        },
        "trusted": true,
        "id": "u1DJH89NIusf",
        "outputId": "48a02e82-d9b5-48f3-f13a-570f0580bac1"
      },
      "execution_count": null,
      "outputs": [
        {
          "execution_count": 34,
          "output_type": "execute_result",
          "data": {
            "text/plain": "0    4737\n1    2403\n2     487\nName: price, dtype: int64"
          },
          "metadata": {}
        }
      ]
    },
    {
      "cell_type": "code",
      "source": [
        "# plot the frequency for each class in price label in train data\n",
        "\"\"\"\n",
        "0 in price represent beginner\n",
        "1 in price represent plus\n",
        "2 in price represent premium\n",
        "\"\"\"\n",
        "sns.set(style='darkgrid')\n",
        "plt.figure(figsize=(8,8))\n",
        "ax=sns.countplot(y = 'price',data =train,order = train['price'].value_counts().index,palette = \"viridis\")\n",
        "ax.set_yticklabels(['beginner', 'plus', 'premium'])\n",
        "plt.ylabel('PRICE',fontsize = 16, weight = 'bold',color='black')\n",
        "plt.xlabel('COUNT',fontsize = 16, weight = 'bold',color='black')\n",
        "plt.show()"
      ],
      "metadata": {
        "execution": {
          "iopub.status.busy": "2023-04-13T11:23:56.059525Z",
          "iopub.execute_input": "2023-04-13T11:23:56.061635Z",
          "iopub.status.idle": "2023-04-13T11:23:56.370304Z",
          "shell.execute_reply.started": "2023-04-13T11:23:56.061599Z",
          "shell.execute_reply": "2023-04-13T11:23:56.369138Z"
        },
        "trusted": true,
        "id": "PTFQxnifIusf",
        "outputId": "4e7d03bf-d968-4273-dafa-5f907db46c69"
      },
      "execution_count": null,
      "outputs": [
        {
          "output_type": "display_data",
          "data": {
            "text/plain": "<Figure size 800x800 with 1 Axes>",
            "image/png": "[encoded data removed]"
          },
          "metadata": {}
        }
      ]
    },
    {
      "cell_type": "code",
      "source": [
        "# get the frequency for each class in type label in train data \n",
        "train['type'].value_counts()"
      ],
      "metadata": {
        "execution": {
          "iopub.status.busy": "2023-04-13T11:23:56.371660Z",
          "iopub.execute_input": "2023-04-13T11:23:56.372425Z",
          "iopub.status.idle": "2023-04-13T11:23:56.383871Z",
          "shell.execute_reply.started": "2023-04-13T11:23:56.372376Z",
          "shell.execute_reply": "2023-04-13T11:23:56.382798Z"
        },
        "trusted": true,
        "id": "AI7Tyv2qIusf",
        "outputId": "586bc8a2-4fa1-4de1-d7a6-055e0d817907"
      },
      "execution_count": null,
      "outputs": [
        {
          "execution_count": 36,
          "output_type": "execute_result",
          "data": {
            "text/plain": "Apartment                 5765\nCondominium                691\nHouse                      406\nLoft                       324\nTownhouse                  167\nServiced apartment          77\nBed and breakfast           38\nGuest suite                 32\nHostel                      26\nBungalow                    25\nGuesthouse                  14\nCottage                     12\nAparthotel                  12\nBoutique hotel              10\nOther                        8\nVilla                        7\nTiny house                   3\nBoat                         2\nCabin                        2\nCamper/RV                    2\nCasa particular (Cuba)       1\nHotel                        1\nEarth house                  1\nCastle                       1\nName: type, dtype: int64"
          },
          "metadata": {}
        }
      ]
    },
    {
      "cell_type": "code",
      "source": [
        "# plot the frequency for each class in type label in train data \n",
        "sns.set(style='darkgrid')\n",
        "plt.figure(figsize=(8,8))\n",
        "sns.countplot(y = 'type',data =train,order = train['type'].value_counts().index,palette = \"viridis\")\n",
        "plt.ylabel('TYPE',fontsize = 16, weight = 'bold',color='black')\n",
        "plt.xlabel('COUNT',fontsize = 16, weight = 'bold',color='black')\n",
        "plt.show()"
      ],
      "metadata": {
        "execution": {
          "iopub.status.busy": "2023-04-13T11:23:56.385493Z",
          "iopub.execute_input": "2023-04-13T11:23:56.386182Z",
          "iopub.status.idle": "2023-04-13T11:23:56.886870Z",
          "shell.execute_reply.started": "2023-04-13T11:23:56.386112Z",
          "shell.execute_reply": "2023-04-13T11:23:56.885652Z"
        },
        "trusted": true,
        "id": "XxYmTYCeIusf",
        "outputId": "a70ce950-10bd-4905-ecc5-2a6719396a1e"
      },
      "execution_count": null,
      "outputs": [
        {
          "output_type": "display_data",
          "data": {
            "text/plain": "<Figure size 800x800 with 1 Axes>",
            "image/png": "[encoded data removed]"
          },
          "metadata": {}
        }
      ]
    },
    {
      "cell_type": "code",
      "source": [
        "# check null values in train data \n",
        "train.isnull().sum()"
      ],
      "metadata": {
        "execution": {
          "iopub.status.busy": "2023-04-13T11:23:56.891022Z",
          "iopub.execute_input": "2023-04-13T11:23:56.891406Z",
          "iopub.status.idle": "2023-04-13T11:23:56.909768Z",
          "shell.execute_reply.started": "2023-04-13T11:23:56.891372Z",
          "shell.execute_reply": "2023-04-13T11:23:56.908467Z"
        },
        "trusted": true,
        "id": "TNVYV5iHIusf",
        "outputId": "761ccc8f-1c6d-400e-e4a5-ca3456cba90a"
      },
      "execution_count": null,
      "outputs": [
        {
          "execution_count": 38,
          "output_type": "execute_result",
          "data": {
            "text/plain": "summary    301\nimage        0\ntype         0\nprice        0\ndtype: int64"
          },
          "metadata": {}
        }
      ]
    },
    {
      "cell_type": "code",
      "source": [
        "# remove null values in train data \n",
        "train=train.dropna()"
      ],
      "metadata": {
        "execution": {
          "iopub.status.busy": "2023-04-13T11:23:56.911119Z",
          "iopub.execute_input": "2023-04-13T11:23:56.911732Z",
          "iopub.status.idle": "2023-04-13T11:23:56.924825Z",
          "shell.execute_reply.started": "2023-04-13T11:23:56.911694Z",
          "shell.execute_reply": "2023-04-13T11:23:56.923619Z"
        },
        "trusted": true,
        "id": "CI4erVlYIusg"
      },
      "execution_count": null,
      "outputs": []
    },
    {
      "cell_type": "code",
      "source": [
        "# check null values in train data after removing null values \n",
        "train.isnull().sum().sum()"
      ],
      "metadata": {
        "execution": {
          "iopub.status.busy": "2023-04-13T11:23:56.929169Z",
          "iopub.execute_input": "2023-04-13T11:23:56.929523Z",
          "iopub.status.idle": "2023-04-13T11:23:56.944920Z",
          "shell.execute_reply.started": "2023-04-13T11:23:56.929486Z",
          "shell.execute_reply": "2023-04-13T11:23:56.943820Z"
        },
        "trusted": true,
        "id": "RaYXLaHCIusg",
        "outputId": "aebda7d3-0cec-470f-ba8f-39c88934074c"
      },
      "execution_count": null,
      "outputs": [
        {
          "execution_count": 40,
          "output_type": "execute_result",
          "data": {
            "text/plain": "0"
          },
          "metadata": {}
        }
      ]
    },
    {
      "cell_type": "code",
      "source": [
        "# check null values in test data \n",
        "test.isnull().sum().sum()"
      ],
      "metadata": {
        "execution": {
          "iopub.status.busy": "2023-04-13T11:23:56.949226Z",
          "iopub.execute_input": "2023-04-13T11:23:56.951595Z",
          "iopub.status.idle": "2023-04-13T11:23:56.964930Z",
          "shell.execute_reply.started": "2023-04-13T11:23:56.951541Z",
          "shell.execute_reply": "2023-04-13T11:23:56.963932Z"
        },
        "trusted": true,
        "id": "MTDRUWLoIusg",
        "outputId": "dc1d2c49-6918-4749-b9c0-e5153884284b"
      },
      "execution_count": null,
      "outputs": [
        {
          "execution_count": 41,
          "output_type": "execute_result",
          "data": {
            "text/plain": "0"
          },
          "metadata": {}
        }
      ]
    },
    {
      "cell_type": "markdown",
      "source": [
        "* No Null Values in Test Data "
      ],
      "metadata": {
        "id": "x8yQFW5uIusg"
      }
    },
    {
      "cell_type": "code",
      "source": [
        "# check duplication in train data\n",
        "train.duplicated().sum() "
      ],
      "metadata": {
        "execution": {
          "iopub.status.busy": "2023-04-13T11:23:56.969764Z",
          "iopub.execute_input": "2023-04-13T11:23:56.972060Z",
          "iopub.status.idle": "2023-04-13T11:23:57.002699Z",
          "shell.execute_reply.started": "2023-04-13T11:23:56.972025Z",
          "shell.execute_reply": "2023-04-13T11:23:57.001714Z"
        },
        "trusted": true,
        "id": "FNhzG7AcIusg",
        "outputId": "41374aa4-d99b-40b8-ad47-f7006937af60"
      },
      "execution_count": null,
      "outputs": [
        {
          "execution_count": 42,
          "output_type": "execute_result",
          "data": {
            "text/plain": "0"
          },
          "metadata": {}
        }
      ]
    },
    {
      "cell_type": "code",
      "source": [
        "# check duplication in test data\n",
        "test.duplicated().sum()"
      ],
      "metadata": {
        "execution": {
          "iopub.status.busy": "2023-04-13T11:23:57.006818Z",
          "iopub.execute_input": "2023-04-13T11:23:57.009134Z",
          "iopub.status.idle": "2023-04-13T11:23:57.036193Z",
          "shell.execute_reply.started": "2023-04-13T11:23:57.009094Z",
          "shell.execute_reply": "2023-04-13T11:23:57.035227Z"
        },
        "trusted": true,
        "id": "wNSfqKCZIush",
        "outputId": "06fc9b62-acf2-4f6a-951d-1d1a87fc5514"
      },
      "execution_count": null,
      "outputs": [
        {
          "execution_count": 43,
          "output_type": "execute_result",
          "data": {
            "text/plain": "0"
          },
          "metadata": {}
        }
      ]
    },
    {
      "cell_type": "markdown",
      "source": [
        "No data duplicated in train and test data"
      ],
      "metadata": {
        "id": "1D4nr5ZlIush"
      }
    },
    {
      "cell_type": "code",
      "source": [
        "# make encoding on type label\n",
        "train[\"type\"]=train.type.astype('category').cat.codes"
      ],
      "metadata": {
        "execution": {
          "iopub.status.busy": "2023-04-13T11:23:57.040314Z",
          "iopub.execute_input": "2023-04-13T11:23:57.042684Z",
          "iopub.status.idle": "2023-04-13T11:23:57.051228Z",
          "shell.execute_reply.started": "2023-04-13T11:23:57.042636Z",
          "shell.execute_reply": "2023-04-13T11:23:57.050219Z"
        },
        "trusted": true,
        "id": "cqyhHtB8Iush"
      },
      "execution_count": null,
      "outputs": []
    },
    {
      "cell_type": "code",
      "source": [
        "# show type label after encoding\n",
        "train[\"type\"]"
      ],
      "metadata": {
        "execution": {
          "iopub.status.busy": "2023-04-13T11:23:57.056391Z",
          "iopub.execute_input": "2023-04-13T11:23:57.058756Z",
          "iopub.status.idle": "2023-04-13T11:23:57.071032Z",
          "shell.execute_reply.started": "2023-04-13T11:23:57.058718Z",
          "shell.execute_reply": "2023-04-13T11:23:57.069795Z"
        },
        "trusted": true,
        "id": "T56-rJVuIush",
        "outputId": "aae90d77-f80f-4ff8-d4a5-e66b397ba6ca"
      },
      "execution_count": null,
      "outputs": [
        {
          "execution_count": 45,
          "output_type": "execute_result",
          "data": {
            "text/plain": "0        1\n1        1\n2        1\n3        1\n4        1\n        ..\n7622     1\n7623     1\n7624     1\n7625     1\n7626    17\nName: type, Length: 7326, dtype: int8"
          },
          "metadata": {}
        }
      ]
    },
    {
      "cell_type": "code",
      "source": [
        "# getting the length of unique values for \"type\" label\n",
        "length_of_type=len(train.type.unique())"
      ],
      "metadata": {
        "execution": {
          "iopub.status.busy": "2023-04-13T11:23:57.075532Z",
          "iopub.execute_input": "2023-04-13T11:23:57.077894Z",
          "iopub.status.idle": "2023-04-13T11:23:57.084375Z",
          "shell.execute_reply.started": "2023-04-13T11:23:57.077856Z",
          "shell.execute_reply": "2023-04-13T11:23:57.083270Z"
        },
        "trusted": true,
        "id": "RLeoZKeHIush"
      },
      "execution_count": null,
      "outputs": []
    },
    {
      "cell_type": "code",
      "source": [
        "# print the length\n",
        "length_of_type"
      ],
      "metadata": {
        "execution": {
          "iopub.status.busy": "2023-04-13T11:23:57.089131Z",
          "iopub.execute_input": "2023-04-13T11:23:57.090330Z",
          "iopub.status.idle": "2023-04-13T11:23:57.099972Z",
          "shell.execute_reply.started": "2023-04-13T11:23:57.090293Z",
          "shell.execute_reply": "2023-04-13T11:23:57.098893Z"
        },
        "trusted": true,
        "id": "1VTI3CMqIush",
        "outputId": "87110037-77d3-497d-d34a-c4cdf86b8049"
      },
      "execution_count": null,
      "outputs": [
        {
          "execution_count": 47,
          "output_type": "execute_result",
          "data": {
            "text/plain": "24"
          },
          "metadata": {}
        }
      ]
    },
    {
      "cell_type": "code",
      "source": [
        "# getting the length of unique values for \"price\" label\n",
        "length_of_price=len(train.type.unique())"
      ],
      "metadata": {
        "execution": {
          "iopub.status.busy": "2023-04-13T11:23:57.101737Z",
          "iopub.execute_input": "2023-04-13T11:23:57.103121Z",
          "iopub.status.idle": "2023-04-13T11:23:57.112469Z",
          "shell.execute_reply.started": "2023-04-13T11:23:57.103082Z",
          "shell.execute_reply": "2023-04-13T11:23:57.111327Z"
        },
        "trusted": true,
        "id": "91TbKyT8Iush"
      },
      "execution_count": null,
      "outputs": []
    },
    {
      "cell_type": "code",
      "source": [
        "# print the length\n",
        "length_of_price"
      ],
      "metadata": {
        "execution": {
          "iopub.status.busy": "2023-04-13T11:23:57.114136Z",
          "iopub.execute_input": "2023-04-13T11:23:57.114919Z",
          "iopub.status.idle": "2023-04-13T11:23:57.123363Z",
          "shell.execute_reply.started": "2023-04-13T11:23:57.114855Z",
          "shell.execute_reply": "2023-04-13T11:23:57.122297Z"
        },
        "trusted": true,
        "id": "hXV8m_tHIush",
        "outputId": "c388f970-6e91-468a-8933-0fd6c6acab0d"
      },
      "execution_count": null,
      "outputs": [
        {
          "execution_count": 49,
          "output_type": "execute_result",
          "data": {
            "text/plain": "24"
          },
          "metadata": {}
        }
      ]
    },
    {
      "cell_type": "code",
      "source": [
        "# translator \n",
        "\"\"\"\n",
        " using the Google Translate API through the \"googletrans\" module to \n",
        " translate the text data in the \"summary\" column of a DataFrame. \n",
        " Specifically, it is using the \"apply\" method to apply the translation \n",
        " function to each element in the \"summary\" column.\n",
        "\"\"\"\n",
        "from googletrans import Translator\n",
        "translator = Translator()\n",
        "train.summary=train.summary.apply(lambda x:translator.translate(x,dest='en').text)\n",
        "test.summary=test.summary.apply(lambda x:translator.translate(x,dest='en').text) "
      ],
      "metadata": {
        "execution": {
          "iopub.status.busy": "2023-04-13T11:23:57.125829Z",
          "iopub.execute_input": "2023-04-13T11:23:57.126588Z",
          "iopub.status.idle": "2023-04-13T11:31:15.530796Z",
          "shell.execute_reply.started": "2023-04-13T11:23:57.126535Z",
          "shell.execute_reply": "2023-04-13T11:31:15.529724Z"
        },
        "trusted": true,
        "id": "UirksodbIusi"
      },
      "execution_count": null,
      "outputs": []
    },
    {
      "cell_type": "code",
      "source": [
        "#download some essential resources for text processing\n",
        "import nltk\n",
        "nltk.download(\"wordnet\")\n",
        "nltk.download(\"punkt\")\n",
        "nltk.download(\"stopwords\")"
      ],
      "metadata": {
        "execution": {
          "iopub.status.busy": "2023-04-13T11:31:15.532244Z",
          "iopub.execute_input": "2023-04-13T11:31:15.532621Z",
          "iopub.status.idle": "2023-04-13T11:31:15.618541Z",
          "shell.execute_reply.started": "2023-04-13T11:31:15.532565Z",
          "shell.execute_reply": "2023-04-13T11:31:15.617490Z"
        },
        "trusted": true,
        "id": "5ZUrj6aIIusi",
        "outputId": "be10a568-3519-4e18-962d-00237ea91470"
      },
      "execution_count": null,
      "outputs": [
        {
          "name": "stdout",
          "text": "[nltk_data] Downloading package wordnet to /usr/share/nltk_data...\n[nltk_data]   Package wordnet is already up-to-date!\n[nltk_data] Downloading package punkt to /usr/share/nltk_data...\n[nltk_data]   Package punkt is already up-to-date!\n[nltk_data] Downloading package stopwords to /usr/share/nltk_data...\n[nltk_data]   Package stopwords is already up-to-date!\n",
          "output_type": "stream"
        },
        {
          "execution_count": 51,
          "output_type": "execute_result",
          "data": {
            "text/plain": "True"
          },
          "metadata": {}
        }
      ]
    },
    {
      "cell_type": "code",
      "source": [
        "# The nltk.download() function is used to download NLTK data and resources\n",
        "from nltk.corpus import stopwords\n",
        "nltk.download('omw-1.4')\n",
        "nltk.download('all')"
      ],
      "metadata": {
        "execution": {
          "iopub.status.busy": "2023-04-13T11:31:15.619956Z",
          "iopub.execute_input": "2023-04-13T11:31:15.620391Z",
          "iopub.status.idle": "2023-04-13T11:31:34.903819Z",
          "shell.execute_reply.started": "2023-04-13T11:31:15.620353Z",
          "shell.execute_reply": "2023-04-13T11:31:34.902650Z"
        },
        "trusted": true,
        "id": "tcVCGOUDIusi",
        "outputId": "d9df7fda-b431-4f58-977e-a2862c89a59e"
      },
      "execution_count": null,
      "outputs": [
        {
          "name": "stdout",
          "text": "[nltk_data] Downloading package stopwords to /usr/share/nltk_data...\n[nltk_data]   Package stopwords is already up-to-date!\n[nltk_data] Downloading package omw-1.4 to /usr/share/nltk_data...\n[nltk_data] Downloading collection 'all'\n[nltk_data]    | \n[nltk_data]    | Downloading package abc to /usr/share/nltk_data...\n[nltk_data]    |   Package abc is already up-to-date!\n[nltk_data]    | Downloading package alpino to /usr/share/nltk_data...\n[nltk_data]    |   Package alpino is already up-to-date!\n[nltk_data]    | Downloading package averaged_perceptron_tagger to\n[nltk_data]    |     /usr/share/nltk_data...\n[nltk_data]    |   Package averaged_perceptron_tagger is already up-\n[nltk_data]    |       to-date!\n[nltk_data]    | Downloading package averaged_perceptron_tagger_ru to\n[nltk_data]    |     /usr/share/nltk_data...\n[nltk_data]    |   Unzipping\n[nltk_data]    |       taggers/averaged_perceptron_tagger_ru.zip.\n[nltk_data]    | Downloading package basque_grammars to\n[nltk_data]    |     /usr/share/nltk_data...\n[nltk_data]    |   Package basque_grammars is already up-to-date!\n[nltk_data]    | Downloading package bcp47 to /usr/share/nltk_data...\n[nltk_data]    | Downloading package biocreative_ppi to\n[nltk_data]    |     /usr/share/nltk_data...\n[nltk_data]    |   Package biocreative_ppi is already up-to-date!\n[nltk_data]    | Downloading package bllip_wsj_no_aux to\n[nltk_data]    |     /usr/share/nltk_data...\n[nltk_data]    |   Package bllip_wsj_no_aux is already up-to-date!\n[nltk_data]    | Downloading package book_grammars to\n[nltk_data]    |     /usr/share/nltk_data...\n[nltk_data]    |   Package book_grammars is already up-to-date!\n[nltk_data]    | Downloading package brown to /usr/share/nltk_data...\n[nltk_data]    |   Package brown is already up-to-date!\n[nltk_data]    | Downloading package brown_tei to\n[nltk_data]    |     /usr/share/nltk_data...\n[nltk_data]    |   Package brown_tei is already up-to-date!\n[nltk_data]    | Downloading package cess_cat to\n[nltk_data]    |     /usr/share/nltk_data...\n[nltk_data]    |   Package cess_cat is already up-to-date!\n[nltk_data]    | Downloading package cess_esp to\n[nltk_data]    |     /usr/share/nltk_data...\n[nltk_data]    |   Package cess_esp is already up-to-date!\n[nltk_data]    | Downloading package chat80 to /usr/share/nltk_data...\n[nltk_data]    |   Package chat80 is already up-to-date!\n[nltk_data]    | Downloading package city_database to\n[nltk_data]    |     /usr/share/nltk_data...\n[nltk_data]    |   Package city_database is already up-to-date!\n[nltk_data]    | Downloading package cmudict to\n[nltk_data]    |     /usr/share/nltk_data...\n[nltk_data]    |   Package cmudict is already up-to-date!\n[nltk_data]    | Downloading package comparative_sentences to\n[nltk_data]    |     /usr/share/nltk_data...\n[nltk_data]    |   Unzipping corpora/comparative_sentences.zip.\n[nltk_data]    | Downloading package comtrans to\n[nltk_data]    |     /usr/share/nltk_data...\n[nltk_data]    |   Package comtrans is already up-to-date!\n[nltk_data]    | Downloading package conll2000 to\n[nltk_data]    |     /usr/share/nltk_data...\n[nltk_data]    |   Package conll2000 is already up-to-date!\n[nltk_data]    | Downloading package conll2002 to\n[nltk_data]    |     /usr/share/nltk_data...\n[nltk_data]    |   Package conll2002 is already up-to-date!\n[nltk_data]    | Downloading package conll2007 to\n[nltk_data]    |     /usr/share/nltk_data...\n[nltk_data]    |   Package conll2007 is already up-to-date!\n[nltk_data]    | Downloading package crubadan to\n[nltk_data]    |     /usr/share/nltk_data...\n[nltk_data]    |   Package crubadan is already up-to-date!\n[nltk_data]    | Downloading package dependency_treebank to\n[nltk_data]    |     /usr/share/nltk_data...\n[nltk_data]    |   Package dependency_treebank is already up-to-date!\n[nltk_data]    | Downloading package dolch to /usr/share/nltk_data...\n[nltk_data]    |   Unzipping corpora/dolch.zip.\n[nltk_data]    | Downloading package europarl_raw to\n[nltk_data]    |     /usr/share/nltk_data...\n[nltk_data]    |   Package europarl_raw is already up-to-date!\n[nltk_data]    | Downloading package extended_omw to\n[nltk_data]    |     /usr/share/nltk_data...\n[nltk_data]    | Downloading package floresta to\n[nltk_data]    |     /usr/share/nltk_data...\n[nltk_data]    |   Package floresta is already up-to-date!\n[nltk_data]    | Downloading package framenet_v15 to\n[nltk_data]    |     /usr/share/nltk_data...\n[nltk_data]    |   Unzipping corpora/framenet_v15.zip.\n[nltk_data]    | Downloading package framenet_v17 to\n[nltk_data]    |     /usr/share/nltk_data...\n[nltk_data]    |   Unzipping corpora/framenet_v17.zip.\n[nltk_data]    | Downloading package gazetteers to\n[nltk_data]    |     /usr/share/nltk_data...\n[nltk_data]    |   Package gazetteers is already up-to-date!\n[nltk_data]    | Downloading package genesis to\n[nltk_data]    |     /usr/share/nltk_data...\n[nltk_data]    |   Package genesis is already up-to-date!\n[nltk_data]    | Downloading package gutenberg to\n[nltk_data]    |     /usr/share/nltk_data...\n[nltk_data]    |   Package gutenberg is already up-to-date!\n[nltk_data]    | Downloading package ieer to /usr/share/nltk_data...\n[nltk_data]    |   Package ieer is already up-to-date!\n[nltk_data]    | Downloading package inaugural to\n[nltk_data]    |     /usr/share/nltk_data...\n[nltk_data]    |   Package inaugural is already up-to-date!\n[nltk_data]    | Downloading package indian to /usr/share/nltk_data...\n[nltk_data]    |   Package indian is already up-to-date!\n[nltk_data]    | Downloading package jeita to /usr/share/nltk_data...\n[nltk_data]    |   Package jeita is already up-to-date!\n[nltk_data]    | Downloading package kimmo to /usr/share/nltk_data...\n[nltk_data]    |   Package kimmo is already up-to-date!\n[nltk_data]    | Downloading package knbc to /usr/share/nltk_data...\n[nltk_data]    |   Package knbc is already up-to-date!\n[nltk_data]    | Downloading package large_grammars to\n[nltk_data]    |     /usr/share/nltk_data...\n[nltk_data]    |   Package large_grammars is already up-to-date!\n[nltk_data]    | Downloading package lin_thesaurus to\n[nltk_data]    |     /usr/share/nltk_data...\n[nltk_data]    |   Package lin_thesaurus is already up-to-date!\n[nltk_data]    | Downloading package mac_morpho to\n[nltk_data]    |     /usr/share/nltk_data...\n[nltk_data]    |   Package mac_morpho is already up-to-date!\n[nltk_data]    | Downloading package machado to\n[nltk_data]    |     /usr/share/nltk_data...\n[nltk_data]    |   Package machado is already up-to-date!\n[nltk_data]    | Downloading package masc_tagged to\n[nltk_data]    |     /usr/share/nltk_data...\n[nltk_data]    |   Package masc_tagged is already up-to-date!\n[nltk_data]    | Downloading package maxent_ne_chunker to\n[nltk_data]    |     /usr/share/nltk_data...\n[nltk_data]    |   Package maxent_ne_chunker is already up-to-date!\n[nltk_data]    | Downloading package maxent_treebank_pos_tagger to\n[nltk_data]    |     /usr/share/nltk_data...\n[nltk_data]    |   Package maxent_treebank_pos_tagger is already up-\n[nltk_data]    |       to-date!\n[nltk_data]    | Downloading package moses_sample to\n[nltk_data]    |     /usr/share/nltk_data...\n[nltk_data]    |   Package moses_sample is already up-to-date!\n[nltk_data]    | Downloading package movie_reviews to\n[nltk_data]    |     /usr/share/nltk_data...\n[nltk_data]    |   Package movie_reviews is already up-to-date!\n[nltk_data]    | Downloading package mte_teip5 to\n[nltk_data]    |     /usr/share/nltk_data...\n[nltk_data]    |   Package mte_teip5 is already up-to-date!\n[nltk_data]    | Downloading package mwa_ppdb to\n[nltk_data]    |     /usr/share/nltk_data...\n[nltk_data]    |   Unzipping misc/mwa_ppdb.zip.\n[nltk_data]    | Downloading package names to /usr/share/nltk_data...\n[nltk_data]    |   Package names is already up-to-date!\n[nltk_data]    | Downloading package nombank.1.0 to\n[nltk_data]    |     /usr/share/nltk_data...\n[nltk_data]    | Downloading package nonbreaking_prefixes to\n[nltk_data]    |     /usr/share/nltk_data...\n[nltk_data]    |   Unzipping corpora/nonbreaking_prefixes.zip.\n[nltk_data]    | Downloading package nps_chat to\n[nltk_data]    |     /usr/share/nltk_data...\n[nltk_data]    |   Package nps_chat is already up-to-date!\n[nltk_data]    | Downloading package omw to /usr/share/nltk_data...\n[nltk_data]    |   Package omw is already up-to-date!\n[nltk_data]    | Downloading package omw-1.4 to\n[nltk_data]    |     /usr/share/nltk_data...\n[nltk_data]    |   Package omw-1.4 is already up-to-date!\n[nltk_data]    | Downloading package opinion_lexicon to\n[nltk_data]    |     /usr/share/nltk_data...\n[nltk_data]    |   Package opinion_lexicon is already up-to-date!\n[nltk_data]    | Downloading package panlex_swadesh to\n[nltk_data]    |     /usr/share/nltk_data...\n[nltk_data]    | Downloading package paradigms to\n[nltk_data]    |     /usr/share/nltk_data...\n[nltk_data]    |   Package paradigms is already up-to-date!\n[nltk_data]    | Downloading package pe08 to /usr/share/nltk_data...\n[nltk_data]    |   Unzipping corpora/pe08.zip.\n[nltk_data]    | Downloading package perluniprops to\n[nltk_data]    |     /usr/share/nltk_data...\n[nltk_data]    |   Unzipping misc/perluniprops.zip.\n[nltk_data]    | Downloading package pil to /usr/share/nltk_data...\n[nltk_data]    |   Package pil is already up-to-date!\n[nltk_data]    | Downloading package pl196x to /usr/share/nltk_data...\n[nltk_data]    |   Package pl196x is already up-to-date!\n[nltk_data]    | Downloading package porter_test to\n[nltk_data]    |     /usr/share/nltk_data...\n[nltk_data]    |   Package porter_test is already up-to-date!\n[nltk_data]    | Downloading package ppattach to\n[nltk_data]    |     /usr/share/nltk_data...\n[nltk_data]    |   Package ppattach is already up-to-date!\n[nltk_data]    | Downloading package problem_reports to\n[nltk_data]    |     /usr/share/nltk_data...\n[nltk_data]    |   Package problem_reports is already up-to-date!\n[nltk_data]    | Downloading package product_reviews_1 to\n[nltk_data]    |     /usr/share/nltk_data...\n[nltk_data]    |   Package product_reviews_1 is already up-to-date!\n[nltk_data]    | Downloading package product_reviews_2 to\n[nltk_data]    |     /usr/share/nltk_data...\n[nltk_data]    |   Package product_reviews_2 is already up-to-date!\n[nltk_data]    | Downloading package propbank to\n[nltk_data]    |     /usr/share/nltk_data...\n[nltk_data]    |   Package propbank is already up-to-date!\n[nltk_data]    | Downloading package pros_cons to\n[nltk_data]    |     /usr/share/nltk_data...\n[nltk_data]    |   Package pros_cons is already up-to-date!\n[nltk_data]    | Downloading package ptb to /usr/share/nltk_data...\n[nltk_data]    |   Package ptb is already up-to-date!\n[nltk_data]    | Downloading package punkt to /usr/share/nltk_data...\n[nltk_data]    |   Package punkt is already up-to-date!\n[nltk_data]    | Downloading package qc to /usr/share/nltk_data...\n[nltk_data]    |   Package qc is already up-to-date!\n[nltk_data]    | Downloading package reuters to\n[nltk_data]    |     /usr/share/nltk_data...\n[nltk_data]    |   Package reuters is already up-to-date!\n[nltk_data]    | Downloading package rslp to /usr/share/nltk_data...\n[nltk_data]    |   Package rslp is already up-to-date!\n[nltk_data]    | Downloading package rte to /usr/share/nltk_data...\n[nltk_data]    |   Package rte is already up-to-date!\n[nltk_data]    | Downloading package sample_grammars to\n[nltk_data]    |     /usr/share/nltk_data...\n[nltk_data]    |   Package sample_grammars is already up-to-date!\n[nltk_data]    | Downloading package semcor to /usr/share/nltk_data...\n[nltk_data]    |   Package semcor is already up-to-date!\n[nltk_data]    | Downloading package senseval to\n[nltk_data]    |     /usr/share/nltk_data...\n[nltk_data]    |   Package senseval is already up-to-date!\n[nltk_data]    | Downloading package sentence_polarity to\n[nltk_data]    |     /usr/share/nltk_data...\n[nltk_data]    |   Package sentence_polarity is already up-to-date!\n[nltk_data]    | Downloading package sentiwordnet to\n[nltk_data]    |     /usr/share/nltk_data...\n[nltk_data]    |   Package sentiwordnet is already up-to-date!\n[nltk_data]    | Downloading package shakespeare to\n[nltk_data]    |     /usr/share/nltk_data...\n[nltk_data]    |   Package shakespeare is already up-to-date!\n[nltk_data]    | Downloading package sinica_treebank to\n[nltk_data]    |     /usr/share/nltk_data...\n[nltk_data]    |   Package sinica_treebank is already up-to-date!\n[nltk_data]    | Downloading package smultron to\n[nltk_data]    |     /usr/share/nltk_data...\n[nltk_data]    |   Package smultron is already up-to-date!\n[nltk_data]    | Downloading package snowball_data to\n[nltk_data]    |     /usr/share/nltk_data...\n[nltk_data]    |   Package snowball_data is already up-to-date!\n[nltk_data]    | Downloading package spanish_grammars to\n[nltk_data]    |     /usr/share/nltk_data...\n[nltk_data]    |   Package spanish_grammars is already up-to-date!\n[nltk_data]    | Downloading package state_union to\n[nltk_data]    |     /usr/share/nltk_data...\n[nltk_data]    |   Package state_union is already up-to-date!\n[nltk_data]    | Downloading package stopwords to\n[nltk_data]    |     /usr/share/nltk_data...\n[nltk_data]    |   Package stopwords is already up-to-date!\n[nltk_data]    | Downloading package subjectivity to\n[nltk_data]    |     /usr/share/nltk_data...\n[nltk_data]    |   Package subjectivity is already up-to-date!\n[nltk_data]    | Downloading package swadesh to\n[nltk_data]    |     /usr/share/nltk_data...\n[nltk_data]    |   Package swadesh is already up-to-date!\n[nltk_data]    | Downloading package switchboard to\n[nltk_data]    |     /usr/share/nltk_data...\n[nltk_data]    |   Package switchboard is already up-to-date!\n[nltk_data]    | Downloading package tagsets to\n[nltk_data]    |     /usr/share/nltk_data...\n[nltk_data]    |   Package tagsets is already up-to-date!\n[nltk_data]    | Downloading package timit to /usr/share/nltk_data...\n[nltk_data]    |   Package timit is already up-to-date!\n[nltk_data]    | Downloading package toolbox to\n[nltk_data]    |     /usr/share/nltk_data...\n[nltk_data]    |   Package toolbox is already up-to-date!\n[nltk_data]    | Downloading package treebank to\n[nltk_data]    |     /usr/share/nltk_data...\n[nltk_data]    |   Package treebank is already up-to-date!\n[nltk_data]    | Downloading package twitter_samples to\n[nltk_data]    |     /usr/share/nltk_data...\n[nltk_data]    |   Package twitter_samples is already up-to-date!\n[nltk_data]    | Downloading package udhr to /usr/share/nltk_data...\n[nltk_data]    |   Package udhr is already up-to-date!\n[nltk_data]    | Downloading package udhr2 to /usr/share/nltk_data...\n[nltk_data]    |   Package udhr2 is already up-to-date!\n[nltk_data]    | Downloading package unicode_samples to\n[nltk_data]    |     /usr/share/nltk_data...\n[nltk_data]    |   Package unicode_samples is already up-to-date!\n[nltk_data]    | Downloading package universal_tagset to\n[nltk_data]    |     /usr/share/nltk_data...\n[nltk_data]    |   Package universal_tagset is already up-to-date!\n[nltk_data]    | Downloading package universal_treebanks_v20 to\n[nltk_data]    |     /usr/share/nltk_data...\n[nltk_data]    |   Package universal_treebanks_v20 is already up-to-\n[nltk_data]    |       date!\n[nltk_data]    | Downloading package vader_lexicon to\n[nltk_data]    |     /usr/share/nltk_data...\n[nltk_data]    |   Package vader_lexicon is already up-to-date!\n[nltk_data]    | Downloading package verbnet to\n[nltk_data]    |     /usr/share/nltk_data...\n[nltk_data]    |   Package verbnet is already up-to-date!\n[nltk_data]    | Downloading package verbnet3 to\n[nltk_data]    |     /usr/share/nltk_data...\n[nltk_data]    |   Unzipping corpora/verbnet3.zip.\n[nltk_data]    | Downloading package webtext to\n[nltk_data]    |     /usr/share/nltk_data...\n[nltk_data]    |   Package webtext is already up-to-date!\n[nltk_data]    | Downloading package wmt15_eval to\n[nltk_data]    |     /usr/share/nltk_data...\n[nltk_data]    |   Unzipping models/wmt15_eval.zip.\n[nltk_data]    | Downloading package word2vec_sample to\n[nltk_data]    |     /usr/share/nltk_data...\n[nltk_data]    |   Package word2vec_sample is already up-to-date!\n[nltk_data]    | Downloading package wordnet to\n[nltk_data]    |     /usr/share/nltk_data...\n[nltk_data]    |   Package wordnet is already up-to-date!\n[nltk_data]    | Downloading package wordnet2021 to\n[nltk_data]    |     /usr/share/nltk_data...\n[nltk_data]    | Downloading package wordnet2022 to\n[nltk_data]    |     /usr/share/nltk_data...\n[nltk_data]    |   Unzipping corpora/wordnet2022.zip.\n[nltk_data]    | Downloading package wordnet31 to\n[nltk_data]    |     /usr/share/nltk_data...\n[nltk_data]    | Downloading package wordnet_ic to\n[nltk_data]    |     /usr/share/nltk_data...\n[nltk_data]    |   Package wordnet_ic is already up-to-date!\n[nltk_data]    | Downloading package words to /usr/share/nltk_data...\n[nltk_data]    |   Package words is already up-to-date!\n[nltk_data]    | Downloading package ycoe to /usr/share/nltk_data...\n[nltk_data]    |   Package ycoe is already up-to-date!\n[nltk_data]    | \n[nltk_data]  Done downloading collection all\n",
          "output_type": "stream"
        },
        {
          "execution_count": 52,
          "output_type": "execute_result",
          "data": {
            "text/plain": "True"
          },
          "metadata": {}
        }
      ]
    },
    {
      "cell_type": "code",
      "source": [
        "\"\"\"\n",
        "This command removes the directory \n",
        "/usr/share/nltk_data/corpora/wordnet and all its contents,\n",
        "and then recursively copies the directory \n",
        "/usr/share/nltk_data/corpora/wordnet2022 to /usr/share/nltk_data/corpora/wordnet.\"\n",
        "\"\"\"\n",
        "!cp -rf /usr/share/nltk_data/corpora/wordnet2022 /usr/share/nltk_data/corpora/wordnet "
      ],
      "metadata": {
        "execution": {
          "iopub.status.busy": "2023-04-13T11:31:34.912417Z",
          "iopub.execute_input": "2023-04-13T11:31:34.912730Z",
          "iopub.status.idle": "2023-04-13T11:31:36.116136Z",
          "shell.execute_reply.started": "2023-04-13T11:31:34.912694Z",
          "shell.execute_reply": "2023-04-13T11:31:36.114736Z"
        },
        "trusted": true,
        "id": "7obsSO9iIusi"
      },
      "execution_count": null,
      "outputs": []
    },
    {
      "cell_type": "code",
      "source": [
        "\"\"\"\n",
        "building function to clean data from\n",
        "1- html tags\n",
        "2- digits\n",
        "3- special characters\n",
        "4- links \n",
        "5- all whitespaces\n",
        "6-single letter character\n",
        "7- Tokenize the text into words\n",
        "\"\"\"\n",
        "stop_words = set(stopwords.words(\"english\"))\n",
        "def clean_text(text, for_embedding):\n",
        "    # a regular expression pattern that matches one or more whitespace characters (spaces, tabs, and newlines)\n",
        "    #re.IGNORECASE flag is used to make the regular expression case-insensitive\n",
        "    whitespace = re.compile(r\"\\s+\", re.IGNORECASE)\n",
        "    # a regular expression pattern that matches HTML or XML tags\n",
        "    tags = re.compile(r\"<.*?>\") \n",
        "    # a regular expression pattern that matches any single character (i.e., a character that is not part of a word)\n",
        "    single_char = re.compile(r\"\\b^[^A-Za-zÀ-ž0-9]+\\b\", re.IGNORECASE) \n",
        "    if for_embedding:\n",
        "        # Keep punctuation\n",
        "        single_char = re.compile(r\"\\b[A-Za-zÀ-ž,.!?]\\b\", re.IGNORECASE)\n",
        "    \n",
        "    # Remove any HTML tags\n",
        "    text = re.sub(tags, ' ', text)\n",
        "\n",
        "    # Remove single letter chars\n",
        "    text = re.sub(single_char, ' ', text)\n",
        "\n",
        "    # Convert all whitespaces (tabs etc.) to single wspace\n",
        "    text = re.sub(whitespace, ' ', text)\n",
        "\n",
        "    # Tokenize the text into words\n",
        "    word_tokens = word_tokenize(text)\n",
        " \n",
        "    return word_tokens "
      ],
      "metadata": {
        "execution": {
          "iopub.status.busy": "2023-04-13T11:31:36.117958Z",
          "iopub.execute_input": "2023-04-13T11:31:36.118326Z",
          "iopub.status.idle": "2023-04-13T11:31:37.880862Z",
          "shell.execute_reply.started": "2023-04-13T11:31:36.118291Z",
          "shell.execute_reply": "2023-04-13T11:31:37.879554Z"
        },
        "trusted": true,
        "id": "HDAdMxFLIusi",
        "outputId": "0496eda5-c497-4f77-e17a-7651bee6edb4"
      },
      "execution_count": null,
      "outputs": [
        {
          "execution_count": 54,
          "output_type": "execute_result",
          "data": {
            "text/plain": "'\\nbuilding function to clean data from\\n1- html tags\\n2- digits\\n3- special characters\\n4- links \\n5- all whitespaces\\n6-single letter character\\n7- Tokenize the text into words\\n'"
          },
          "metadata": {}
        }
      ]
    },
    {
      "cell_type": "code",
      "source": [
        "# Method 1: Text Cleaning with Lemmatization\n",
        "# lemmatization mean drop Extra letters from each word and back the word to its base \n",
        "\n",
        "\"\"\"\n",
        "An Examble \n",
        "the word of \"studies\" after lemmatization will be \"study\"\n",
        "\"\"\"\n",
        "\n",
        "\n",
        "\"\"\"\n",
        "This method will clean the text by removing any unnecessary characters, \n",
        "such as stop words, and punctuation marks, and then perform lemmatization on the remaining words.\n",
        "\n",
        "\"\"\"\n",
        "\n",
        "def cleaning_with_lemmatization(text: str, for_embedding= False):\n",
        "    # make Tokenization and tag the words\n",
        "    lemmatizer = WordNetLemmatizer()\n",
        "    word_tokens = clean_text(text,for_embedding)\n",
        "    if for_embedding:\n",
        "        words_filtered = word_tokens \n",
        "    else:\n",
        "        tokens_tokens_lower = [word.lower() for word in word_tokens]\n",
        "        words_filtered = [lemmatizer.lemmatize(word) for word in tokens_tokens_lower if word not in stop_words]\n",
        "    clean_texts = \" \".join(words_filtered)\n",
        "    return clean_texts"
      ],
      "metadata": {
        "execution": {
          "iopub.status.busy": "2023-04-13T11:31:37.882792Z",
          "iopub.execute_input": "2023-04-13T11:31:37.883315Z",
          "iopub.status.idle": "2023-04-13T11:31:37.892284Z",
          "shell.execute_reply.started": "2023-04-13T11:31:37.883265Z",
          "shell.execute_reply": "2023-04-13T11:31:37.891213Z"
        },
        "trusted": true,
        "id": "Mddwp_QHIusi"
      },
      "execution_count": null,
      "outputs": []
    },
    {
      "cell_type": "code",
      "source": [
        "# include only rows where the length of the text in summary feature string is greater than 20 characters\n",
        "train[\"summary\"] = train.loc[train[\"summary\"].str.len() > 20, \"summary\"]\n",
        "test[\"summary\"] = test.loc[test[\"summary\"].str.len() > 20, \"summary\"]"
      ],
      "metadata": {
        "execution": {
          "iopub.status.busy": "2023-04-13T11:31:37.893730Z",
          "iopub.execute_input": "2023-04-13T11:31:37.894247Z",
          "iopub.status.idle": "2023-04-13T11:31:37.902035Z",
          "shell.execute_reply.started": "2023-04-13T11:31:37.894212Z",
          "shell.execute_reply": "2023-04-13T11:31:37.900977Z"
        },
        "trusted": true,
        "id": "kVoOdKVjIusj"
      },
      "execution_count": null,
      "outputs": []
    },
    {
      "cell_type": "code",
      "source": [
        "# clean and make of lemmatization on summary feature in train data\n",
        "train[\"summary\"]= train[\"summary\"].map(lambda x: cleaning_with_lemmatization(x ,for_embedding=False) if isinstance(x, str) else x)"
      ],
      "metadata": {
        "execution": {
          "iopub.status.busy": "2023-04-13T11:31:37.903731Z",
          "iopub.execute_input": "2023-04-13T11:31:37.904533Z",
          "iopub.status.idle": "2023-04-13T11:31:37.913435Z",
          "shell.execute_reply.started": "2023-04-13T11:31:37.904496Z",
          "shell.execute_reply": "2023-04-13T11:31:37.912312Z"
        },
        "trusted": true,
        "id": "vzf3UnZVIusj"
      },
      "execution_count": null,
      "outputs": []
    },
    {
      "cell_type": "code",
      "source": [
        "# clean and make of lemmatization on summary feature in test data\n",
        "test[\"summary\"]= test[\"summary\"].map(lambda x: cleaning_with_lemmatization(x ,for_embedding=False) if isinstance(x, str) else x)"
      ],
      "metadata": {
        "execution": {
          "iopub.status.busy": "2023-04-13T11:31:37.914942Z",
          "iopub.execute_input": "2023-04-13T11:31:37.916068Z",
          "iopub.status.idle": "2023-04-13T11:31:37.925922Z",
          "shell.execute_reply.started": "2023-04-13T11:31:37.916031Z",
          "shell.execute_reply": "2023-04-13T11:31:37.924886Z"
        },
        "trusted": true,
        "id": "N9oWrZNvIusj"
      },
      "execution_count": null,
      "outputs": []
    },
    {
      "cell_type": "code",
      "source": [
        "# data preprocessing\n",
        "# preprocess on image data\n",
        "\"\"\"\n",
        "1- The function tries to open the image file using the PIL  module's \"Image.open\" method.\n",
        "2- It then converts the image to grayscale (\"LA\" mode) and resizes it to a 64x64 pixel image.\n",
        "3- The resulting image is then converted to a NumPy array using the \"np.array\" method.\n",
        "\"\"\"\n",
        "from PIL import Image\n",
        "import os\n",
        "\n",
        "def load_image(file):\n",
        "    try:\n",
        "        image = Image.open(\n",
        "            file\n",
        "        ).convert('LA').resize((64, 64))\n",
        "        arr = np.array(image)\n",
        "    except:\n",
        "        arr = np.zeros((64, 64,2))\n",
        "    return arr"
      ],
      "metadata": {
        "execution": {
          "iopub.status.busy": "2023-04-13T16:08:36.386400Z",
          "iopub.execute_input": "2023-04-13T16:08:36.387755Z",
          "iopub.status.idle": "2023-04-13T16:08:36.395867Z",
          "shell.execute_reply.started": "2023-04-13T16:08:36.387700Z",
          "shell.execute_reply": "2023-04-13T16:08:36.394428Z"
        },
        "trusted": true,
        "id": "5hUYGuhgIusj"
      },
      "execution_count": null,
      "outputs": []
    },
    {
      "cell_type": "code",
      "source": [
        "# loading images:\n",
        "\"\"\"\n",
        "The \"tqdm\" method is used to display a progress bar during the loop, \n",
        "which can be helpful for keeping track of the processing time for large datasets.\n",
        "\"\"\"\n",
        "x_train_image = np.array([load_image('/kaggle/input/copy-of-cisc-873-dm-w23-a4/a4/'+str(i)) for i in tqdm(train[\"image\"])])\n",
        "x_test_image = np.array([load_image('/kaggle/input/copy-of-cisc-873-dm-w23-a4/a4/'+str(i)) for i in tqdm(test[\"image\"])])"
      ],
      "metadata": {
        "execution": {
          "iopub.status.busy": "2023-04-13T16:10:24.841587Z",
          "iopub.execute_input": "2023-04-13T16:10:24.841968Z",
          "iopub.status.idle": "2023-04-13T16:12:47.617170Z",
          "shell.execute_reply.started": "2023-04-13T16:10:24.841936Z",
          "shell.execute_reply": "2023-04-13T16:12:47.615995Z"
        },
        "trusted": true,
        "colab": {
          "referenced_widgets": [
            "464e75c1b8fd4ee48d11b97651a697a2",
            "845077c71c64401d8cd300021964593c"
          ]
        },
        "id": "mKr36ByDIusj",
        "outputId": "e9f50f45-b6d7-46f3-985e-5cef170eb848"
      },
      "execution_count": null,
      "outputs": [
        {
          "output_type": "display_data",
          "data": {
            "text/plain": "  0%|          | 0/7326 [00:00<?, ?it/s]",
            "application/vnd.jupyter.widget-view+json": {
              "version_major": 2,
              "version_minor": 0,
              "model_id": "464e75c1b8fd4ee48d11b97651a697a2"
            }
          },
          "metadata": {}
        },
        {
          "output_type": "display_data",
          "data": {
            "text/plain": "  0%|          | 0/7360 [00:00<?, ?it/s]",
            "application/vnd.jupyter.widget-view+json": {
              "version_major": 2,
              "version_minor": 0,
              "model_id": "845077c71c64401d8cd300021964593c"
            }
          },
          "metadata": {}
        }
      ]
    },
    {
      "cell_type": "code",
      "source": [
        "# get type \n",
        "y_train_type = train.type\n",
        "# get price\n",
        "y_train_price = train.price"
      ],
      "metadata": {
        "execution": {
          "iopub.status.busy": "2023-04-13T16:12:54.980561Z",
          "iopub.execute_input": "2023-04-13T16:12:54.980949Z",
          "iopub.status.idle": "2023-04-13T16:12:54.986878Z",
          "shell.execute_reply.started": "2023-04-13T16:12:54.980915Z",
          "shell.execute_reply": "2023-04-13T16:12:54.985751Z"
        },
        "trusted": true,
        "id": "dVSNdjhiIusj"
      },
      "execution_count": null,
      "outputs": []
    },
    {
      "cell_type": "code",
      "source": [
        "# loading summary: (force convert some of the non-string cell to string)\n",
        "# selecting the \"summary\" column from the \"train\" DataFrame and converting its data type to a string using the \"astype\" method.\n",
        "# selecting the \"summary\" column from the \"test\" DataFrame and converting its data type to a string using the \"astype\" method.\n",
        "x_train_text = train.summary.astype('str')\n",
        "x_test_text = test.summary.astype('str')\n"
      ],
      "metadata": {
        "execution": {
          "iopub.status.busy": "2023-04-13T16:12:56.882886Z",
          "iopub.execute_input": "2023-04-13T16:12:56.883425Z",
          "iopub.status.idle": "2023-04-13T16:12:56.892463Z",
          "shell.execute_reply.started": "2023-04-13T16:12:56.883356Z",
          "shell.execute_reply": "2023-04-13T16:12:56.891176Z"
        },
        "trusted": true,
        "id": "agK2NfsuIusk"
      },
      "execution_count": null,
      "outputs": []
    },
    {
      "cell_type": "code",
      "source": [
        "# preprocess on text data\n",
        "\n",
        "\n",
        "\"\"\"\n",
        "1- building Tokenizer object from the Keras preprocessing module with a vocabulary size of \n",
        "\"vocab_size\" and fits it on the text data in \"x_train_text\" using the \"fit_on_texts\" method.\n",
        "This builds the vocabulary from the training set.\n",
        "2- The \"text_to_sequences\" method converts the text data to sequences of word indices based on the vocabulary built by the Tokenizer object\n",
        "\"\"\"\n",
        "from tensorflow.keras.preprocessing.text import Tokenizer\n",
        "from tensorflow.keras.preprocessing.sequence import pad_sequences\n",
        "from sklearn.model_selection import train_test_split\n",
        "from pprint import pprint\n",
        "\n",
        "vocab_size = 40000\n",
        "max_len = 100\n",
        "\n",
        "\n",
        "# build vocabulary from training set\n",
        "tokenizer = Tokenizer(num_words=vocab_size)\n",
        "tokenizer.fit_on_texts(x_train_text)\n",
        "\n",
        "\n",
        "def _preprocess(list_of_text):\n",
        "    return pad_sequences(\n",
        "        tokenizer.texts_to_sequences(list_of_text),\n",
        "        maxlen=max_len,\n",
        "        padding='post',\n",
        "    )\n",
        "    \n",
        "\n",
        "# padding is done inside: \n",
        "x_train_text_id = _preprocess(x_train_text)\n",
        "\n",
        "print(x_train_text_id.shape)"
      ],
      "metadata": {
        "execution": {
          "iopub.status.busy": "2023-04-13T11:35:03.786931Z",
          "iopub.execute_input": "2023-04-13T11:35:03.787469Z",
          "iopub.status.idle": "2023-04-13T11:35:04.511904Z",
          "shell.execute_reply.started": "2023-04-13T11:35:03.787432Z",
          "shell.execute_reply": "2023-04-13T11:35:04.510706Z"
        },
        "trusted": true,
        "id": "hMF60zNxIusk",
        "outputId": "6f4eb63c-7965-4f1c-9735-5fec679cd4f5"
      },
      "execution_count": null,
      "outputs": [
        {
          "name": "stdout",
          "text": "(7326, 100)\n",
          "output_type": "stream"
        }
      ]
    },
    {
      "cell_type": "code",
      "source": [
        "# apply the function of _preprocess on summary feature\n",
        "x_test_text = _preprocess(test.summary.astype('str'))"
      ],
      "metadata": {
        "execution": {
          "iopub.status.busy": "2023-04-13T11:35:04.513621Z",
          "iopub.execute_input": "2023-04-13T11:35:04.513999Z",
          "iopub.status.idle": "2023-04-13T11:35:04.850923Z",
          "shell.execute_reply.started": "2023-04-13T11:35:04.513960Z",
          "shell.execute_reply": "2023-04-13T11:35:04.850011Z"
        },
        "trusted": true,
        "id": "6g7jwg83Iusk"
      },
      "execution_count": null,
      "outputs": []
    },
    {
      "cell_type": "code",
      "source": [
        "# we can use the tokenizer to convert IDs to words.\n",
        "pprint(tokenizer.sequences_to_texts(x_train_text_id[:5]))"
      ],
      "metadata": {
        "execution": {
          "iopub.status.busy": "2023-04-13T11:35:04.852429Z",
          "iopub.execute_input": "2023-04-13T11:35:04.852811Z",
          "iopub.status.idle": "2023-04-13T11:35:04.860126Z",
          "shell.execute_reply.started": "2023-04-13T11:35:04.852775Z",
          "shell.execute_reply": "2023-04-13T11:35:04.858990Z"
        },
        "trusted": true,
        "id": "xmdA4O3tIusk",
        "outputId": "69d8b6f3-f2b8-4e23-f1d7-6b813a722134"
      },
      "execution_count": null,
      "outputs": [
        {
          "name": "stdout",
          "text": "['spacious sunny and cozy modern apartment in the heart of montreal this 3 '\n 'bedroom centrally located in the very popular plateau mont royal '\n 'neighborhood in the middle of prince arthur pedestrian only street close to '\n 'all amenities restaurants coffee house bars clubs shopping universities '\n 'subway stations experience montreal like a real local resident be in the '\n 'heart of the action grand prix week grill saint laurent festival mural 2019 '\n 'and so much more',\n 'located in one of the most vibrant and accessible locations of downtown '\n 'montreal this one bedroom condo will not only impress you but leave you with '\n 'one of the most memorable experiences it is walking distance of the popular '\n 'sainte catherine street the bell center the old port lachine canal '\n 'bonaventure metro and much much more',\n 'pretty and cozy accommodation 10 minutes from downtown montreal grocery '\n 'store pharmacy saq restaurants and public transport nearby two closed '\n 'bedrooms that can accommodate 4 adults',\n 'beautiful and spacious 1076 sc ft 100 mc condo on the 1th floor in the west '\n 'island of montreal located in a quiet residential area near a number of '\n 'superb green spaces 3 min car from highways 13 40 7 min from le marché de '\n \"l'ouest 15 min from the airport 6 min walk from sunnybrooke train station \"\n 'that goes downtown mtl in 20 min and is close to the beautiful nature park '\n 'bois de liesse walk and bike paths in summer and snowshoe and cross country '\n 'skiing paths in winter',\n \"very large ''rustic'' and very pleasant apartment for rent in a nice \"\n 'neighborhood of montreal a large bedroom in the basement and on the ground '\n 'floor there is a bedroom a large kitchen dining room and a large double '\n 'living room the kitchen offers many machines such as a blender a food '\n 'processor a coffee maker a panini machine a waffle machine very close to the '\n 'riverfront and downtown verdun and montreal on foot by metro bike or bus']\n",
          "output_type": "stream"
        }
      ]
    },
    {
      "cell_type": "code",
      "source": [
        "# we can use the tokenizer to convert IDs to words.\n",
        "pprint(tokenizer.sequences_to_texts(x_test_text[:5]))"
      ],
      "metadata": {
        "execution": {
          "iopub.status.busy": "2023-04-13T11:35:04.861845Z",
          "iopub.execute_input": "2023-04-13T11:35:04.862189Z",
          "iopub.status.idle": "2023-04-13T11:35:04.872423Z",
          "shell.execute_reply.started": "2023-04-13T11:35:04.862153Z",
          "shell.execute_reply": "2023-04-13T11:35:04.871273Z"
        },
        "trusted": true,
        "id": "75TSY0WCIusk",
        "outputId": "9ddcb07b-ba94-4d8a-ca4e-3b5246aa82e1"
      },
      "execution_count": null,
      "outputs": [
        {
          "name": "stdout",
          "text": "['charming warm house is ready to host you here in multi cultural parc ex '\n 'short walk to parc jarry to watch rogers cup and on major bus lines to metro '\n 'and downtown',\n 'the room is spacious and bright in an apartment shared with three other '\n 'roommates',\n 'large comfortable room located in the basement of our house a large bathroom '\n 'with shower washer and dryer are included',\n 'near a metro orange line 10 minutes walking ahuntsic residential area of '\n '\\u200b\\u200bmontreal north center easy street parking one bedroom double bed '\n '2 people maximum during my presence 1 bedroom and 2 bedrooms during my '\n 'absence friendly and warm',\n 'very bright appartment and very cosy 2 separate bedrooms 1 with a queen size '\n 'and the other with a double sofa bed located in verdun near promenade '\n 'wellington and its nice bars and restaurants']\n",
          "output_type": "stream"
        }
      ]
    },
    {
      "cell_type": "markdown",
      "source": [
        "# **Trial 1 : Dropout Layer**"
      ],
      "metadata": {
        "id": "QqL-J-J9Iusk"
      }
    },
    {
      "cell_type": "code",
      "source": [
        "\"\"\"\n",
        "the steps : \n",
        "1- The code you provided defines a multi-task neural network model using the Keras API with two inputs and two outputs.\n",
        "2- in two inputs: image data and text data, and outputs two labels: the price of real estate and it's type\n",
        "3- The text input is processed using an embedding layer and a simple average pooling layer that called \"reduce_mean\"\n",
        "4- the image input is processed using two convolutional layers, a dropout layer, a max pooling layer, and a flatten layer.\n",
        "5- The resulting output from the text and image processing layers are then concatenated and fed into two separate dense layers,\n",
        "one for each output task.\n",
        "6- The model is compiled with the Adam optimizer and sparse categorical cross-entropy loss functions for both tasks\n",
        "7- The loss weights are set to 0.2 for the \"type\" output and 0.8 for the \"price\" \n",
        "8- The metrics for evaluation are set to sparse categorical accuracy for both tasks.\n",
        "9-  make summarization on model\n",
        "\"\"\"\n",
        "\n",
        "\"\"\"\n",
        "thoughts and observations\n",
        "1- I used  dropout layer after convolution  because adding dropout after the convolutional layers,\n",
        "the model can learn more diverse and less correlated features,\n",
        "which can improve its performance on new, unseen data and reduce overfitting.\n",
        "\n",
        "2- I think the model will fit well with the dropout technique \n",
        "\"\"\"\n",
        "\n",
        "\"\"\"\n",
        "my plan is using multiple Conv2d layer without dropout technique.\n",
        "\"\"\"\n",
        "\n",
        "\n",
        "from tensorflow.keras.layers import Conv2D, MaxPooling2D\n",
        "# here we have two inputs. one for image and the other for text.\n",
        "in_text = keras.Input(batch_shape=(None, max_len))\n",
        "in_image = keras.Input(batch_shape=(None, 64, 64, 2))\n",
        "\n",
        "# text part\n",
        "embedded = keras.layers.Embedding(tokenizer.num_words, 100)(in_text)\n",
        "averaged = tf.reduce_mean(embedded, axis=1) \n",
        "\n",
        "# image part \n",
        "cov1 = Conv2D(10, (15,15) , activation='relu')(in_image) # 10 number of filters  and  (15, 15) size of filter\n",
        "cov2 = Conv2D(10, (15,15) , activation='relu')(cov1) # 10 number of filters  and  (15, 15) size of filter\n",
        "con_drop = Dropout(0.2)(cov2) #add drop out layer \n",
        "pl = MaxPool2D((10, 10))(con_drop)#add maxpooling layer \n",
        "\n",
        "flattened = Flatten()(pl)#add flatten layer \n",
        "\n",
        "# combinig \n",
        "fused = tf.concat([averaged, flattened], axis=-1)#merge between two input \n",
        "\n",
        "p_type = Dense(length_of_type, activation='softmax', name='type')(fused)#layer for predict type \n",
        "p_price = Dense(length_of_price, activation='softmax', name='price')(fused)#layer for predict price \n",
        "\n",
        "\n",
        "model_dropout = keras.Model(\n",
        "    inputs={\n",
        "        'summary': in_text,\n",
        "        'image': in_image\n",
        "    },\n",
        "    outputs={\n",
        "        'type': p_type,\n",
        "        'price': p_price,\n",
        "    },\n",
        ")\n",
        "\n",
        "\n",
        "model_dropout.compile(\n",
        "    optimizer=Adam(),#using adam optimizer with learning rate 1e-3\n",
        "    loss={\n",
        "        'type': 'sparse_categorical_crossentropy',\n",
        "        'price': 'sparse_categorical_crossentropy',\n",
        "    },\n",
        "    loss_weights={\n",
        "        'type': 0.2, \n",
        "        'price': 0.8,       \n",
        "    },\n",
        "    metrics={\n",
        "        'type': ['SparseCategoricalAccuracy'],\n",
        "        'price': ['SparseCategoricalAccuracy'],\n",
        "    },\n",
        ")\n",
        "\n",
        "\n",
        "model_dropout.summary()"
      ],
      "metadata": {
        "execution": {
          "iopub.status.busy": "2023-04-13T11:35:04.912435Z",
          "iopub.execute_input": "2023-04-13T11:35:04.914880Z",
          "iopub.status.idle": "2023-04-13T11:35:07.594270Z",
          "shell.execute_reply.started": "2023-04-13T11:35:04.914775Z",
          "shell.execute_reply": "2023-04-13T11:35:07.593437Z"
        },
        "trusted": true,
        "id": "rdaow_-hIusk",
        "outputId": "64a70319-8d49-4dfa-e1b3-eeca71d5b612"
      },
      "execution_count": null,
      "outputs": [
        {
          "name": "stdout",
          "text": "Model: \"model\"\n__________________________________________________________________________________________________\n Layer (type)                   Output Shape         Param #     Connected to                     \n==================================================================================================\n input_2 (InputLayer)           [(None, 64, 64, 2)]  0           []                               \n                                                                                                  \n conv2d (Conv2D)                (None, 50, 50, 10)   4510        ['input_2[0][0]']                \n                                                                                                  \n conv2d_1 (Conv2D)              (None, 36, 36, 10)   22510       ['conv2d[0][0]']                 \n                                                                                                  \n input_1 (InputLayer)           [(None, 100)]        0           []                               \n                                                                                                  \n dropout (Dropout)              (None, 36, 36, 10)   0           ['conv2d_1[0][0]']               \n                                                                                                  \n embedding (Embedding)          (None, 100, 100)     4000000     ['input_1[0][0]']                \n                                                                                                  \n max_pooling2d (MaxPooling2D)   (None, 3, 3, 10)     0           ['dropout[0][0]']                \n                                                                                                  \n tf.math.reduce_mean (TFOpLambd  (None, 100)         0           ['embedding[0][0]']              \n a)                                                                                               \n                                                                                                  \n flatten (Flatten)              (None, 90)           0           ['max_pooling2d[0][0]']          \n                                                                                                  \n tf.concat (TFOpLambda)         (None, 190)          0           ['tf.math.reduce_mean[0][0]',    \n                                                                  'flatten[0][0]']                \n                                                                                                  \n price (Dense)                  (None, 24)           4584        ['tf.concat[0][0]']              \n                                                                                                  \n type (Dense)                   (None, 24)           4584        ['tf.concat[0][0]']              \n                                                                                                  \n==================================================================================================\nTotal params: 4,036,188\nTrainable params: 4,036,188\nNon-trainable params: 0\n__________________________________________________________________________________________________\n",
          "output_type": "stream"
        }
      ]
    },
    {
      "cell_type": "code",
      "source": [
        "# set seed to reproduce results\n",
        "\"\"\"\n",
        "1- trains the \"model_dropout\" neural network model using the \"fit\" method\n",
        "2- The training data consists of two inputs: \"x_train_text_id\" ,\"x_train_image\" . The target outputs consist of two separate arrays: \n",
        "\"y_train_type\" for the real estate type classification and \"y_train_price\" for the real estate price range classification.\n",
        "3- The model is trained for 10 epochs with a batch size of 16 and a validation split of 0.2,\n",
        "meaning that 20% of the training data is reserved for validation during training\n",
        "\"\"\"\n",
        "seed = 2021\n",
        "np.random.seed(seed)\n",
        "tf.random.set_seed(seed)\n",
        "history= model_dropout.fit(\n",
        "    x={\n",
        "        'summary': x_train_text_id,\n",
        "        'image': x_train_image\n",
        "    },\n",
        "    y={\n",
        "        'type': y_train_type,\n",
        "        'price': y_train_price,\n",
        "    },\n",
        "    epochs=10,\n",
        "    batch_size=16,\n",
        "    validation_split=0.2,\n",
        "    callbacks=[\n",
        "        tf.keras.callbacks.EarlyStopping(monitor='val_price_loss', patience=6,)\n",
        "    ],\n",
        "    verbose=1\n",
        ")"
      ],
      "metadata": {
        "execution": {
          "iopub.status.busy": "2023-04-13T11:35:07.595420Z",
          "iopub.execute_input": "2023-04-13T11:35:07.595778Z",
          "iopub.status.idle": "2023-04-13T11:36:20.548986Z",
          "shell.execute_reply.started": "2023-04-13T11:35:07.595739Z",
          "shell.execute_reply": "2023-04-13T11:36:20.547956Z"
        },
        "trusted": true,
        "id": "XbM9ocauIusl",
        "outputId": "1349f540-8d3e-43e4-968f-296dbd2c376e"
      },
      "execution_count": null,
      "outputs": [
        {
          "name": "stdout",
          "text": "Epoch 1/10\n",
          "output_type": "stream"
        },
        {
          "name": "stderr",
          "text": "2023-04-13 11:35:09.799887: E tensorflow/core/grappler/optimizers/meta_optimizer.cc:954] layout failed: INVALID_ARGUMENT: Size of values 0 does not match size of permutation 4 @ fanin shape inmodel/dropout/dropout/SelectV2-2-TransposeNHWCToNCHW-LayoutOptimizer\n",
          "output_type": "stream"
        },
        {
          "name": "stdout",
          "text": "367/367 [==============================] - 35s 74ms/step - loss: 2.0124 - price_loss: 2.0204 - type_loss: 1.9803 - price_sparse_categorical_accuracy: 0.6067 - type_sparse_categorical_accuracy: 0.7452 - val_loss: 0.8578 - val_price_loss: 0.8323 - val_type_loss: 0.9598 - val_price_sparse_categorical_accuracy: 0.6241 - val_type_sparse_categorical_accuracy: 0.7688\nEpoch 2/10\n367/367 [==============================] - 8s 21ms/step - loss: 0.8576 - price_loss: 0.8234 - type_loss: 0.9942 - price_sparse_categorical_accuracy: 0.6206 - type_sparse_categorical_accuracy: 0.7560 - val_loss: 0.8341 - val_price_loss: 0.8059 - val_type_loss: 0.9468 - val_price_sparse_categorical_accuracy: 0.6317 - val_type_sparse_categorical_accuracy: 0.7688\nEpoch 3/10\n367/367 [==============================] - 5s 15ms/step - loss: 0.8277 - price_loss: 0.7894 - type_loss: 0.9809 - price_sparse_categorical_accuracy: 0.6283 - type_sparse_categorical_accuracy: 0.7560 - val_loss: 0.8063 - val_price_loss: 0.7737 - val_type_loss: 0.9369 - val_price_sparse_categorical_accuracy: 0.6439 - val_type_sparse_categorical_accuracy: 0.7688\nEpoch 4/10\n367/367 [==============================] - 3s 9ms/step - loss: 0.7935 - price_loss: 0.7495 - type_loss: 0.9694 - price_sparse_categorical_accuracy: 0.6532 - type_sparse_categorical_accuracy: 0.7560 - val_loss: 0.7817 - val_price_loss: 0.7452 - val_type_loss: 0.9274 - val_price_sparse_categorical_accuracy: 0.6610 - val_type_sparse_categorical_accuracy: 0.7688\nEpoch 5/10\n367/367 [==============================] - 3s 9ms/step - loss: 0.7601 - price_loss: 0.7113 - type_loss: 0.9553 - price_sparse_categorical_accuracy: 0.6814 - type_sparse_categorical_accuracy: 0.7560 - val_loss: 0.7632 - val_price_loss: 0.7250 - val_type_loss: 0.9159 - val_price_sparse_categorical_accuracy: 0.6658 - val_type_sparse_categorical_accuracy: 0.7688\nEpoch 6/10\n367/367 [==============================] - 4s 10ms/step - loss: 0.7297 - price_loss: 0.6766 - type_loss: 0.9419 - price_sparse_categorical_accuracy: 0.7068 - type_sparse_categorical_accuracy: 0.7560 - val_loss: 0.7486 - val_price_loss: 0.7090 - val_type_loss: 0.9072 - val_price_sparse_categorical_accuracy: 0.6855 - val_type_sparse_categorical_accuracy: 0.7688\nEpoch 7/10\n367/367 [==============================] - 3s 9ms/step - loss: 0.7029 - price_loss: 0.6465 - type_loss: 0.9286 - price_sparse_categorical_accuracy: 0.7196 - type_sparse_categorical_accuracy: 0.7560 - val_loss: 0.7398 - val_price_loss: 0.7002 - val_type_loss: 0.8981 - val_price_sparse_categorical_accuracy: 0.6862 - val_type_sparse_categorical_accuracy: 0.7688\nEpoch 8/10\n367/367 [==============================] - 4s 11ms/step - loss: 0.6775 - price_loss: 0.6185 - type_loss: 0.9137 - price_sparse_categorical_accuracy: 0.7372 - type_sparse_categorical_accuracy: 0.7560 - val_loss: 0.7318 - val_price_loss: 0.6927 - val_type_loss: 0.8882 - val_price_sparse_categorical_accuracy: 0.7012 - val_type_sparse_categorical_accuracy: 0.7688\nEpoch 9/10\n367/367 [==============================] - 3s 9ms/step - loss: 0.6536 - price_loss: 0.5926 - type_loss: 0.8978 - price_sparse_categorical_accuracy: 0.7495 - type_sparse_categorical_accuracy: 0.7560 - val_loss: 0.7294 - val_price_loss: 0.6922 - val_type_loss: 0.8782 - val_price_sparse_categorical_accuracy: 0.6896 - val_type_sparse_categorical_accuracy: 0.7688\nEpoch 10/10\n367/367 [==============================] - 3s 8ms/step - loss: 0.6296 - price_loss: 0.5668 - type_loss: 0.8808 - price_sparse_categorical_accuracy: 0.7652 - type_sparse_categorical_accuracy: 0.7561 - val_loss: 0.7276 - val_price_loss: 0.6926 - val_type_loss: 0.8678 - val_price_sparse_categorical_accuracy: 0.6924 - val_type_sparse_categorical_accuracy: 0.7688\n",
          "output_type": "stream"
        }
      ]
    },
    {
      "cell_type": "code",
      "source": [
        "\"\"\"\n",
        "1- use \"predict\" method to generate predictions on new test data, \n",
        "which consists of both text and image inputs. The text input is represented by the \"x_test_text\" variable,\n",
        "and the image input is represented by the \"x_test_image\" variable.\n",
        "\n",
        "2-  \"argmax\" use to  convert the  probabilities into predicted categories \n",
        "\"\"\"\n",
        "y_predict_dropout = model_dropout.predict(\n",
        "    {\n",
        "        'summary': x_test_text,\n",
        "        'image': x_test_image\n",
        "    }\n",
        ")\n",
        "\n",
        "\n",
        "# probabilities\n",
        "price_predicted_dropout = y_predict_dropout['price'] #predict one target from multi objective \n",
        "print(price_predicted_dropout)\n",
        "\n",
        "# categories\n",
        "price_category_predicted_dropout = np.argmax(price_predicted_dropout, axis=1)\n",
        "print(price_category_predicted_dropout)"
      ],
      "metadata": {
        "execution": {
          "iopub.status.busy": "2023-04-13T11:36:20.552815Z",
          "iopub.execute_input": "2023-04-13T11:36:20.553783Z",
          "iopub.status.idle": "2023-04-13T11:36:22.285967Z",
          "shell.execute_reply.started": "2023-04-13T11:36:20.553741Z",
          "shell.execute_reply": "2023-04-13T11:36:22.284822Z"
        },
        "trusted": true,
        "id": "-atJNX3GIusl",
        "outputId": "c6db5f7c-afe4-4e44-afb5-be57a2b65172"
      },
      "execution_count": null,
      "outputs": [
        {
          "name": "stdout",
          "text": "230/230 [==============================] - 1s 2ms/step\n[[8.32926631e-01 1.31908149e-01 3.48950624e-02 ... 1.25524239e-05\n  2.40106674e-05 1.41656310e-05]\n [9.04407918e-01 7.09752664e-02 2.45207436e-02 ... 4.53655684e-06\n  8.81507640e-06 5.06066272e-06]\n [8.71435285e-01 8.99046659e-02 3.84228230e-02 ... 1.11106710e-05\n  2.10725702e-05 1.27045014e-05]\n ...\n [8.36533666e-01 1.33875504e-01 2.94866301e-02 ... 4.87665375e-06\n  9.84442431e-06 5.49604692e-06]\n [9.73674536e-01 1.73992068e-02 8.76167044e-03 ... 7.69843609e-06\n  1.33588101e-05 8.82964287e-06]\n [7.86975920e-01 1.75777093e-01 3.71042639e-02 ... 6.54816131e-06\n  1.32502355e-05 7.30347620e-06]]\n[0 0 0 ... 0 0 0]\n",
          "output_type": "stream"
        }
      ]
    },
    {
      "cell_type": "code",
      "source": [
        "# create submission file\n",
        "pd.DataFrame(\n",
        "    {'id':test.id,\n",
        "     'price': price_category_predicted_dropout}\n",
        ").to_csv('trail_1.csv', index=False)"
      ],
      "metadata": {
        "execution": {
          "iopub.status.busy": "2023-04-13T11:36:22.287598Z",
          "iopub.execute_input": "2023-04-13T11:36:22.288285Z",
          "iopub.status.idle": "2023-04-13T11:36:22.304981Z",
          "shell.execute_reply.started": "2023-04-13T11:36:22.288231Z",
          "shell.execute_reply": "2023-04-13T11:36:22.304058Z"
        },
        "trusted": true,
        "id": "BpmeGwnSIusl"
      },
      "execution_count": null,
      "outputs": []
    },
    {
      "cell_type": "markdown",
      "source": [
        "# **Trial 2 : Conv2d layer**"
      ],
      "metadata": {
        "id": "wu_NCEb3Iusl"
      }
    },
    {
      "cell_type": "code",
      "source": [
        "# trial 2\n",
        "\"\"\"\n",
        "the steps : \n",
        "1- The code provide defines a multi-task neural network model using the Keras API with two inputs and two outputs,\n",
        "2- in two inputs: image data and text data, and outputs two labels: the price of real estate and it's type\n",
        "3- The text input is processed using an embedding layer and a simple average pooling layer that called \"reduce_mean\"\n",
        "4- The image input is processed using three convolutional layers with different kernel sizes, followed by a max pooling layer and a flatten layer\n",
        "5- The resulting output from the text and image processing layers are then concatenated and fed into two separate dense layers,\n",
        "one for each output task.\n",
        "6- The model is compiled with the Adam optimizer and sparse categorical cross-entropy loss functions for both tasks\n",
        "7- The loss weights are set to 0.2 for the \"type\" output and 0.8 for the \"price\" \n",
        "8- The metrics for evaluation are set to sparse categorical accuracy for both tasks.\n",
        "9-  make summarization on model\n",
        "\"\"\"\n",
        "\n",
        "\"\"\"\n",
        "thoughts and observations\n",
        "1- I used multiple convolution layers to enable the model to learn more complex and expressive representations of the input data  \n",
        "and prevent overfitting.\n",
        "\n",
        "2- I think the model will fit well with the multiple convolution layer\n",
        "\"\"\"\n",
        "\n",
        "\"\"\"\n",
        "my plan is using LSTM technique \n",
        "\"\"\"\n",
        "\n",
        "from tensorflow.keras import layers\n",
        "# here we have two inputs. one for image and the other for text.\n",
        "in_text = keras.Input(batch_shape=(None, max_len))\n",
        "in_image = keras.Input(batch_shape=(None, 64, 64, 2))\n",
        "\n",
        "# text part\n",
        "embedded = keras.layers.Embedding(tokenizer.num_words, 100)(in_text)\n",
        "averaged = tf.reduce_mean(embedded, axis=1)\n",
        "\n",
        "\n",
        "# image part \n",
        "convolution1 =layers.Conv2D(15, 15 ,activation='relu')(in_image)\n",
        "convolution2 =layers.Conv2D(10, 10,activation='relu')(convolution1)\n",
        "convolution3=layers.Conv2D(15, 15,activation='relu')(convolution2)\n",
        "pl = MaxPool2D((3, 3))(convolution3)\n",
        "flattened = Flatten()(pl)\n",
        "\n",
        "#combinig\n",
        "fused_com = tf.concat([averaged, flattened], axis=-1)\n",
        "\n",
        "\n",
        "p_type = Dense(length_of_type, activation='softmax', name='type')(fused_com)\n",
        "p_price = Dense(length_of_price, activation='softmax', name='price')(fused_com)\n",
        "\n",
        "\n",
        "model_conv = keras.Model(\n",
        "    inputs={\n",
        "        'summary': in_text,\n",
        "        'image': in_image\n",
        "    },\n",
        "    outputs={\n",
        "        'type': p_type,\n",
        "        'price': p_price,\n",
        "    },\n",
        ")\n",
        "\n",
        "\n",
        "model_conv.compile(\n",
        "    optimizer=Adam(),\n",
        "    loss={\n",
        "        'type': 'sparse_categorical_crossentropy',\n",
        "        'price': 'sparse_categorical_crossentropy',\n",
        "    },\n",
        "    loss_weights={\n",
        "        'type': 0.2,\n",
        "        'price': 0.8,       \n",
        "    },\n",
        "    metrics={\n",
        "        'type': ['SparseCategoricalAccuracy'],\n",
        "        'price': ['SparseCategoricalAccuracy'],\n",
        "    },\n",
        ")\n",
        "\n",
        "\n",
        "model_conv.summary()"
      ],
      "metadata": {
        "execution": {
          "iopub.status.busy": "2023-04-13T11:36:22.306328Z",
          "iopub.execute_input": "2023-04-13T11:36:22.306778Z",
          "iopub.status.idle": "2023-04-13T11:36:22.440215Z",
          "shell.execute_reply.started": "2023-04-13T11:36:22.306740Z",
          "shell.execute_reply": "2023-04-13T11:36:22.439423Z"
        },
        "trusted": true,
        "id": "au8f5D1SIusl",
        "outputId": "41e658b5-1096-49b5-86c9-bb38361cfad1"
      },
      "execution_count": null,
      "outputs": [
        {
          "name": "stdout",
          "text": "Model: \"model_1\"\n__________________________________________________________________________________________________\n Layer (type)                   Output Shape         Param #     Connected to                     \n==================================================================================================\n input_4 (InputLayer)           [(None, 64, 64, 2)]  0           []                               \n                                                                                                  \n conv2d_2 (Conv2D)              (None, 50, 50, 15)   6765        ['input_4[0][0]']                \n                                                                                                  \n conv2d_3 (Conv2D)              (None, 41, 41, 10)   15010       ['conv2d_2[0][0]']               \n                                                                                                  \n input_3 (InputLayer)           [(None, 100)]        0           []                               \n                                                                                                  \n conv2d_4 (Conv2D)              (None, 27, 27, 15)   33765       ['conv2d_3[0][0]']               \n                                                                                                  \n embedding_1 (Embedding)        (None, 100, 100)     4000000     ['input_3[0][0]']                \n                                                                                                  \n max_pooling2d_1 (MaxPooling2D)  (None, 9, 9, 15)    0           ['conv2d_4[0][0]']               \n                                                                                                  \n tf.math.reduce_mean_1 (TFOpLam  (None, 100)         0           ['embedding_1[0][0]']            \n bda)                                                                                             \n                                                                                                  \n flatten_1 (Flatten)            (None, 1215)         0           ['max_pooling2d_1[0][0]']        \n                                                                                                  \n tf.concat_1 (TFOpLambda)       (None, 1315)         0           ['tf.math.reduce_mean_1[0][0]',  \n                                                                  'flatten_1[0][0]']              \n                                                                                                  \n price (Dense)                  (None, 24)           31584       ['tf.concat_1[0][0]']            \n                                                                                                  \n type (Dense)                   (None, 24)           31584       ['tf.concat_1[0][0]']            \n                                                                                                  \n==================================================================================================\nTotal params: 4,118,708\nTrainable params: 4,118,708\nNon-trainable params: 0\n__________________________________________________________________________________________________\n",
          "output_type": "stream"
        }
      ]
    },
    {
      "cell_type": "code",
      "source": [
        "\"\"\"\n",
        "1- trains the \"model_conv\" neural network model using the \"fit\" method\n",
        "2- The training data consists of two inputs: \"x_train_text_id\" ,\"x_train_image\" . The target outputs consist of two separate arrays: \n",
        "\"y_train_type\" for the real estate type classification and \"y_train_price\" for the real estate price range classification.\n",
        "3- The model is trained for 10 epochs with a batch size of 16 and a validation split of 0.2,\n",
        "meaning that 20% of the training data is reserved for validation during training\n",
        "\"\"\"\n",
        "history = model_conv.fit(\n",
        "    x={\n",
        "        'summary': x_train_text_id,\n",
        "        'image': x_train_image\n",
        "    },\n",
        "    y={\n",
        "        'type': y_train_type,\n",
        "        'price': y_train_price,\n",
        "    },\n",
        "    epochs=10,\n",
        "    batch_size=16,\n",
        "    validation_split=0.2,\n",
        "    callbacks=[\n",
        "        tf.keras.callbacks.EarlyStopping(monitor='val_price_loss', patience=10, )\n",
        "    ],\n",
        "    verbose=1\n",
        ")"
      ],
      "metadata": {
        "execution": {
          "iopub.status.busy": "2023-04-13T11:36:22.441221Z",
          "iopub.execute_input": "2023-04-13T11:36:22.441540Z",
          "iopub.status.idle": "2023-04-13T11:37:45.961732Z",
          "shell.execute_reply.started": "2023-04-13T11:36:22.441505Z",
          "shell.execute_reply": "2023-04-13T11:37:45.960553Z"
        },
        "trusted": true,
        "id": "b8LpZX5dIusl",
        "outputId": "68b9a632-e80d-4728-a8a1-2a7d0595a15c"
      },
      "execution_count": null,
      "outputs": [
        {
          "name": "stdout",
          "text": "Epoch 1/10\n367/367 [==============================] - 19s 45ms/step - loss: 1.4360 - price_loss: 1.3276 - type_loss: 1.8695 - price_sparse_categorical_accuracy: 0.5874 - type_sparse_categorical_accuracy: 0.7290 - val_loss: 0.8521 - val_price_loss: 0.8195 - val_type_loss: 0.9825 - val_price_sparse_categorical_accuracy: 0.6282 - val_type_sparse_categorical_accuracy: 0.7688\nEpoch 2/10\n367/367 [==============================] - 6s 17ms/step - loss: 0.8236 - price_loss: 0.7795 - type_loss: 1.0000 - price_sparse_categorical_accuracy: 0.6474 - type_sparse_categorical_accuracy: 0.7560 - val_loss: 0.7900 - val_price_loss: 0.7500 - val_type_loss: 0.9499 - val_price_sparse_categorical_accuracy: 0.6583 - val_type_sparse_categorical_accuracy: 0.7688\nEpoch 3/10\n367/367 [==============================] - 4s 12ms/step - loss: 0.7584 - price_loss: 0.7073 - type_loss: 0.9631 - price_sparse_categorical_accuracy: 0.6901 - type_sparse_categorical_accuracy: 0.7560 - val_loss: 0.7492 - val_price_loss: 0.7087 - val_type_loss: 0.9113 - val_price_sparse_categorical_accuracy: 0.6828 - val_type_sparse_categorical_accuracy: 0.7688\nEpoch 4/10\n367/367 [==============================] - 3s 9ms/step - loss: 0.7165 - price_loss: 0.6617 - type_loss: 0.9358 - price_sparse_categorical_accuracy: 0.7118 - type_sparse_categorical_accuracy: 0.7561 - val_loss: 0.7336 - val_price_loss: 0.6931 - val_type_loss: 0.8954 - val_price_sparse_categorical_accuracy: 0.6917 - val_type_sparse_categorical_accuracy: 0.7688\nEpoch 5/10\n367/367 [==============================] - 3s 8ms/step - loss: 0.6802 - price_loss: 0.6230 - type_loss: 0.9091 - price_sparse_categorical_accuracy: 0.7326 - type_sparse_categorical_accuracy: 0.7560 - val_loss: 0.7273 - val_price_loss: 0.6896 - val_type_loss: 0.8781 - val_price_sparse_categorical_accuracy: 0.6924 - val_type_sparse_categorical_accuracy: 0.7694\nEpoch 6/10\n367/367 [==============================] - 3s 9ms/step - loss: 0.6492 - price_loss: 0.5894 - type_loss: 0.8883 - price_sparse_categorical_accuracy: 0.7526 - type_sparse_categorical_accuracy: 0.7570 - val_loss: 0.7215 - val_price_loss: 0.6851 - val_type_loss: 0.8670 - val_price_sparse_categorical_accuracy: 0.7005 - val_type_sparse_categorical_accuracy: 0.7694\nEpoch 7/10\n367/367 [==============================] - 3s 8ms/step - loss: 0.6224 - price_loss: 0.5611 - type_loss: 0.8677 - price_sparse_categorical_accuracy: 0.7631 - type_sparse_categorical_accuracy: 0.7580 - val_loss: 0.7215 - val_price_loss: 0.6875 - val_type_loss: 0.8574 - val_price_sparse_categorical_accuracy: 0.6965 - val_type_sparse_categorical_accuracy: 0.7715\nEpoch 8/10\n367/367 [==============================] - 3s 9ms/step - loss: 0.5951 - price_loss: 0.5320 - type_loss: 0.8476 - price_sparse_categorical_accuracy: 0.7807 - type_sparse_categorical_accuracy: 0.7582 - val_loss: 0.7220 - val_price_loss: 0.6905 - val_type_loss: 0.8481 - val_price_sparse_categorical_accuracy: 0.6965 - val_type_sparse_categorical_accuracy: 0.7722\nEpoch 9/10\n367/367 [==============================] - 3s 9ms/step - loss: 0.5705 - price_loss: 0.5062 - type_loss: 0.8276 - price_sparse_categorical_accuracy: 0.7956 - type_sparse_categorical_accuracy: 0.7613 - val_loss: 0.7299 - val_price_loss: 0.7027 - val_type_loss: 0.8385 - val_price_sparse_categorical_accuracy: 0.6849 - val_type_sparse_categorical_accuracy: 0.7749\nEpoch 10/10\n367/367 [==============================] - 3s 9ms/step - loss: 0.5464 - price_loss: 0.4802 - type_loss: 0.8112 - price_sparse_categorical_accuracy: 0.8055 - type_sparse_categorical_accuracy: 0.7655 - val_loss: 0.7364 - val_price_loss: 0.7114 - val_type_loss: 0.8366 - val_price_sparse_categorical_accuracy: 0.6910 - val_type_sparse_categorical_accuracy: 0.7769\n",
          "output_type": "stream"
        }
      ]
    },
    {
      "cell_type": "code",
      "source": [
        "# we can do prediction on training set\n",
        "\n",
        "\"\"\"\n",
        "1- use \"predict\" method to generate predictions on new test data, \n",
        "which consists of both text and image inputs. The text input is represented by the \"x_test_text\" variable,\n",
        "and the image input is represented by the \"x_test_image\" variable.\n",
        "\n",
        "2-  \"argmax\" use to  convert the  probabilities into predicted categories \n",
        "\"\"\"\n",
        "y_predict_conv = model_conv.predict(\n",
        "    {\n",
        "        'summary': x_test_text,\n",
        "        'image': x_test_image\n",
        "    }\n",
        ")\n",
        "\n",
        "\n",
        "# probabilities\n",
        "price_predicted_conv = y_predict_conv['price']\n",
        "print(price_predicted_conv)\n",
        "\n",
        "# categories\n",
        "price_category_predicted_conv = np.argmax(price_predicted_conv, axis=1)\n",
        "print(price_category_predicted_conv)"
      ],
      "metadata": {
        "execution": {
          "iopub.status.busy": "2023-04-13T11:37:45.964059Z",
          "iopub.execute_input": "2023-04-13T11:37:45.965037Z",
          "iopub.status.idle": "2023-04-13T11:37:47.528964Z",
          "shell.execute_reply.started": "2023-04-13T11:37:45.964993Z",
          "shell.execute_reply": "2023-04-13T11:37:47.527969Z"
        },
        "trusted": true,
        "id": "gH-sUeooIusm",
        "outputId": "64f571c4-cddf-4a5a-fa82-49ff60a98456"
      },
      "execution_count": null,
      "outputs": [
        {
          "name": "stdout",
          "text": "230/230 [==============================] - 1s 3ms/step\n[[8.30187082e-01 1.30616799e-01 3.89041305e-02 ... 1.35916735e-05\n  1.16270603e-05 9.61425576e-06]\n [9.51798141e-01 3.74613926e-02 1.06498636e-02 ... 4.12432064e-06\n  3.56638247e-06 2.93705534e-06]\n [9.30969536e-01 4.35884967e-02 2.52267849e-02 ... 1.02690201e-05\n  8.69182986e-06 7.13395821e-06]\n ...\n [8.53956640e-01 1.21889345e-01 2.39772871e-02 ... 8.01630176e-06\n  6.96405868e-06 5.70035854e-06]\n [9.96598184e-01 2.27763457e-03 1.10220443e-03 ... 1.03522325e-06\n  8.68716199e-07 7.25680991e-07]\n [8.73581350e-01 1.06853485e-01 1.94059759e-02 ... 7.23387348e-06\n  6.24166432e-06 5.21314632e-06]]\n[0 0 0 ... 0 0 0]\n",
          "output_type": "stream"
        }
      ]
    },
    {
      "cell_type": "code",
      "source": [
        "#create submission file\n",
        "pd.DataFrame(\n",
        "    {'id': test.index,\n",
        "     'price': price_category_predicted_conv}\n",
        ").to_csv('trail_2.csv', index=False)"
      ],
      "metadata": {
        "execution": {
          "iopub.status.busy": "2023-04-13T11:37:47.530491Z",
          "iopub.execute_input": "2023-04-13T11:37:47.530858Z",
          "iopub.status.idle": "2023-04-13T11:37:47.547166Z",
          "shell.execute_reply.started": "2023-04-13T11:37:47.530821Z",
          "shell.execute_reply": "2023-04-13T11:37:47.546224Z"
        },
        "trusted": true,
        "id": "txEn7YsJIusm"
      },
      "execution_count": null,
      "outputs": []
    },
    {
      "cell_type": "markdown",
      "source": [
        "# **Trial 3 : LSTM**"
      ],
      "metadata": {
        "id": "P35LKmGkIusm"
      }
    },
    {
      "cell_type": "code",
      "source": [
        "# trial 3\n",
        "\"\"\"\n",
        "the steps : \n",
        "1- defines a neural network model using the Keras API with two inputs and two outputs\n",
        "2- in two inputs: image data and text data, and outputs two labels: the price of real estate and it's type\n",
        "3- The text input is processed using an embedding layer followed by a long short-term memory (LSTM) layer.\n",
        "4- The image input is processed using a single convolutional layer with a large kernel size, followed by a max pooling layer and a flatten layer\n",
        "5- The resulting output from the text and image processing layers are then concatenated and fed into two separate dense layers,\n",
        "one for each output task.\n",
        "6- The model is compiled with the Adam optimizer and sparse categorical cross-entropy loss functions for both tasks\n",
        "7- The loss weights are set to 0.7 for the \"type\" output and 0.3 for the \"price\" \n",
        "8- The metrics for evaluation are set to sparse categorical accuracy for both tasks.\n",
        "9-  make summarization on model\n",
        "\"\"\"\n",
        "\n",
        "\"\"\"\n",
        "thoughts and observations\n",
        "1- I Apply LSTM technique on the text input for understanding the context and meaning of the input data , \n",
        "LSTMs allow the model to learn long-term dependencies in sequential data\n",
        "\n",
        "2- I think the model will fit well but get the accuracy on validation less than the validation accuracy on trial 1, and tria 2\n",
        "\"\"\"\n",
        "\n",
        "\"\"\"\n",
        "my plan is using  BiDirectional layer on input text  \n",
        "\"\"\"\n",
        "\n",
        "# here we have two inputs. one for image and the other for text.\n",
        "in_text = keras.Input(batch_shape=(None, max_len))\n",
        "in_image = keras.Input(batch_shape=(None, 64, 64, 2))\n",
        "\n",
        "# text part\n",
        "embedded = keras.layers.Embedding(tokenizer.num_words, 100)(in_text)\n",
        "lstm = tf.keras.layers.LSTM(4)(embedded)\n",
        "\n",
        "\n",
        "# image part \n",
        "cov1 = Conv2D(32, (16, 16))(in_image) \n",
        "pl = MaxPool2D((16, 16))(cov1)\n",
        "flattened = Flatten()(pl)\n",
        "\n",
        "#combinig \n",
        "fused = tf.concat([lstm, flattened], axis=-1)\n",
        "\n",
        "\n",
        "p_type = Dense(length_of_type, activation='softmax', name='type')(fused)\n",
        "p_price = Dense(length_of_price, activation='softmax', name='price')(fused)\n",
        "\n",
        "\n",
        "# define model input/output using keys.\n",
        "model_lstm = keras.Model(\n",
        "    inputs={\n",
        "        'summary': in_text,\n",
        "        'image': in_image\n",
        "    },\n",
        "    outputs={\n",
        "        'type': p_type,\n",
        "        'price': p_price,\n",
        "    },\n",
        ")\n",
        "\n",
        "\n",
        "model_lstm.compile(\n",
        "    optimizer=Adam(),\n",
        "    loss={\n",
        "        'type': 'sparse_categorical_crossentropy',\n",
        "        'price': 'sparse_categorical_crossentropy',\n",
        "    },\n",
        "    loss_weights={\n",
        "        'type': 0.7,\n",
        "        'price': 0.3,       \n",
        "    },\n",
        "    metrics={\n",
        "        'type': ['SparseCategoricalAccuracy'],\n",
        "        'price': ['SparseCategoricalAccuracy'],\n",
        "    },\n",
        ")\n",
        "\n",
        "\n",
        "model_lstm.summary()"
      ],
      "metadata": {
        "execution": {
          "iopub.status.busy": "2023-04-13T11:37:47.548740Z",
          "iopub.execute_input": "2023-04-13T11:37:47.549310Z",
          "iopub.status.idle": "2023-04-13T11:37:47.911362Z",
          "shell.execute_reply.started": "2023-04-13T11:37:47.549272Z",
          "shell.execute_reply": "2023-04-13T11:37:47.910547Z"
        },
        "trusted": true,
        "id": "t1SrNCkSIusm",
        "outputId": "ec03b5eb-9ca0-4f1a-e7dd-496aee976316"
      },
      "execution_count": null,
      "outputs": [
        {
          "name": "stdout",
          "text": "Model: \"model_2\"\n__________________________________________________________________________________________________\n Layer (type)                   Output Shape         Param #     Connected to                     \n==================================================================================================\n input_6 (InputLayer)           [(None, 64, 64, 2)]  0           []                               \n                                                                                                  \n input_5 (InputLayer)           [(None, 100)]        0           []                               \n                                                                                                  \n conv2d_5 (Conv2D)              (None, 49, 49, 32)   16416       ['input_6[0][0]']                \n                                                                                                  \n embedding_2 (Embedding)        (None, 100, 100)     4000000     ['input_5[0][0]']                \n                                                                                                  \n max_pooling2d_2 (MaxPooling2D)  (None, 3, 3, 32)    0           ['conv2d_5[0][0]']               \n                                                                                                  \n lstm (LSTM)                    (None, 4)            1680        ['embedding_2[0][0]']            \n                                                                                                  \n flatten_2 (Flatten)            (None, 288)          0           ['max_pooling2d_2[0][0]']        \n                                                                                                  \n tf.concat_2 (TFOpLambda)       (None, 292)          0           ['lstm[0][0]',                   \n                                                                  'flatten_2[0][0]']              \n                                                                                                  \n price (Dense)                  (None, 24)           7032        ['tf.concat_2[0][0]']            \n                                                                                                  \n type (Dense)                   (None, 24)           7032        ['tf.concat_2[0][0]']            \n                                                                                                  \n==================================================================================================\nTotal params: 4,032,160\nTrainable params: 4,032,160\nNon-trainable params: 0\n__________________________________________________________________________________________________\n",
          "output_type": "stream"
        }
      ]
    },
    {
      "cell_type": "code",
      "source": [
        "\"\"\"\n",
        "1- trains the \"model_lstm\" neural network model using the \"fit\" method\n",
        "2- The training data consists of two inputs: \"x_train_text_id\" ,\"x_train_image\" . The target outputs consist of two separate arrays: \n",
        "\"y_train_type\" for the real estate type classification and \"y_train_price\" for the real estate price range classification.\n",
        "3- The model is trained for 10 epochs with a batch size of 16 and a validation split of 0.2,\n",
        "meaning that 20% of the training data is reserved for validation during training\n",
        "\"\"\"\n",
        "\n",
        "history = model_lstm.fit(\n",
        "    x={\n",
        "        'summary': x_train_text_id,\n",
        "        'image': x_train_image\n",
        "    },\n",
        "    y={\n",
        "        'type': y_train_type,\n",
        "        'price': y_train_price,\n",
        "    },\n",
        "    epochs=10,\n",
        "    batch_size=16,\n",
        "    validation_split=0.2,\n",
        "    callbacks=[\n",
        "        tf.keras.callbacks.EarlyStopping(monitor='val_price_loss', patience=6,)\n",
        "    ],\n",
        "    verbose=1\n",
        ")"
      ],
      "metadata": {
        "execution": {
          "iopub.status.busy": "2023-04-13T11:37:47.912415Z",
          "iopub.execute_input": "2023-04-13T11:37:47.912767Z",
          "iopub.status.idle": "2023-04-13T11:38:50.058110Z",
          "shell.execute_reply.started": "2023-04-13T11:37:47.912730Z",
          "shell.execute_reply": "2023-04-13T11:38:50.057079Z"
        },
        "trusted": true,
        "id": "w6rPsFsoIusm",
        "outputId": "f18b5e4c-6111-4a9e-9fd5-e9a8205278a2"
      },
      "execution_count": null,
      "outputs": [
        {
          "name": "stdout",
          "text": "Epoch 1/10\n367/367 [==============================] - 21s 48ms/step - loss: 41.0419 - price_loss: 28.7784 - type_loss: 46.2977 - price_sparse_categorical_accuracy: 0.4874 - type_sparse_categorical_accuracy: 0.5824 - val_loss: 25.3097 - val_price_loss: 12.1843 - val_type_loss: 30.9349 - val_price_sparse_categorical_accuracy: 0.5375 - val_type_sparse_categorical_accuracy: 0.0859\nEpoch 2/10\n367/367 [==============================] - 6s 17ms/step - loss: 17.2256 - price_loss: 12.4287 - type_loss: 19.2814 - price_sparse_categorical_accuracy: 0.5019 - type_sparse_categorical_accuracy: 0.5870 - val_loss: 14.2013 - val_price_loss: 9.3381 - val_type_loss: 16.2855 - val_price_sparse_categorical_accuracy: 0.5969 - val_type_sparse_categorical_accuracy: 0.3990\nEpoch 3/10\n367/367 [==============================] - 6s 15ms/step - loss: 10.9361 - price_loss: 7.2369 - type_loss: 12.5214 - price_sparse_categorical_accuracy: 0.5061 - type_sparse_categorical_accuracy: 0.5944 - val_loss: 8.0281 - val_price_loss: 7.3276 - val_type_loss: 8.3282 - val_price_sparse_categorical_accuracy: 0.3574 - val_type_sparse_categorical_accuracy: 0.6685\nEpoch 4/10\n367/367 [==============================] - 4s 11ms/step - loss: 8.5763 - price_loss: 5.7574 - type_loss: 9.7845 - price_sparse_categorical_accuracy: 0.5121 - type_sparse_categorical_accuracy: 0.6014 - val_loss: 23.7263 - val_price_loss: 14.0651 - val_type_loss: 27.8669 - val_price_sparse_categorical_accuracy: 0.6146 - val_type_sparse_categorical_accuracy: 0.7538\nEpoch 5/10\n367/367 [==============================] - 4s 11ms/step - loss: 13.6208 - price_loss: 7.2201 - type_loss: 16.3639 - price_sparse_categorical_accuracy: 0.5078 - type_sparse_categorical_accuracy: 0.5939 - val_loss: 6.2021 - val_price_loss: 6.0379 - val_type_loss: 6.2725 - val_price_sparse_categorical_accuracy: 0.4973 - val_type_sparse_categorical_accuracy: 0.6241\nEpoch 6/10\n367/367 [==============================] - 4s 12ms/step - loss: 6.3506 - price_loss: 4.8453 - type_loss: 6.9957 - price_sparse_categorical_accuracy: 0.5213 - type_sparse_categorical_accuracy: 0.6056 - val_loss: 5.3721 - val_price_loss: 4.2767 - val_type_loss: 5.8415 - val_price_sparse_categorical_accuracy: 0.5730 - val_type_sparse_categorical_accuracy: 0.6726\nEpoch 7/10\n367/367 [==============================] - 4s 11ms/step - loss: 9.4040 - price_loss: 9.0950 - type_loss: 9.5364 - price_sparse_categorical_accuracy: 0.5148 - type_sparse_categorical_accuracy: 0.6036 - val_loss: 8.3823 - val_price_loss: 5.5277 - val_type_loss: 9.6057 - val_price_sparse_categorical_accuracy: 0.4748 - val_type_sparse_categorical_accuracy: 0.5839\nEpoch 8/10\n367/367 [==============================] - 4s 12ms/step - loss: 8.6807 - price_loss: 6.4073 - type_loss: 9.6550 - price_sparse_categorical_accuracy: 0.5172 - type_sparse_categorical_accuracy: 0.6106 - val_loss: 12.2774 - val_price_loss: 6.6532 - val_type_loss: 14.6878 - val_price_sparse_categorical_accuracy: 0.5846 - val_type_sparse_categorical_accuracy: 0.2599\nEpoch 9/10\n367/367 [==============================] - 4s 10ms/step - loss: 14.5162 - price_loss: 9.2231 - type_loss: 16.7846 - price_sparse_categorical_accuracy: 0.5068 - type_sparse_categorical_accuracy: 0.6044 - val_loss: 14.7078 - val_price_loss: 8.8544 - val_type_loss: 17.2165 - val_price_sparse_categorical_accuracy: 0.3417 - val_type_sparse_categorical_accuracy: 0.3240\nEpoch 10/10\n367/367 [==============================] - 4s 12ms/step - loss: 15.8453 - price_loss: 10.2515 - type_loss: 18.2427 - price_sparse_categorical_accuracy: 0.5027 - type_sparse_categorical_accuracy: 0.6051 - val_loss: 20.8223 - val_price_loss: 17.4481 - val_type_loss: 22.2684 - val_price_sparse_categorical_accuracy: 0.6201 - val_type_sparse_categorical_accuracy: 0.4952\n",
          "output_type": "stream"
        }
      ]
    },
    {
      "cell_type": "code",
      "source": [
        "# we can do prediction on training set\n",
        "\"\"\"\n",
        "1- use \"predict\" method to generate predictions on new test data, \n",
        "which consists of both text and image inputs. The text input is represented by the \"x_test_text\" variable,\n",
        "and the image input is represented by the \"x_test_image\" variable.\n",
        "\n",
        "2-  \"argmax\" use to  convert the  probabilities into predicted categories \n",
        "\"\"\"\n",
        "y_predict_lstm= model_lstm.predict(\n",
        "    {\n",
        "        'summary': x_test_text,\n",
        "        'image': x_test_image\n",
        "    }\n",
        ")\n",
        "\n",
        "\n",
        "# probabilities\n",
        "price_predicted_lstm = y_predict_lstm['price']\n",
        "print(price_predicted_lstm)\n",
        "\n",
        "# categories\n",
        "price_category_predicted_lstm = np.argmax(price_predicted_lstm, axis=1)\n",
        "print(price_category_predicted_lstm)"
      ],
      "metadata": {
        "execution": {
          "iopub.status.busy": "2023-04-13T11:38:50.060563Z",
          "iopub.execute_input": "2023-04-13T11:38:50.060984Z",
          "iopub.status.idle": "2023-04-13T11:38:52.613264Z",
          "shell.execute_reply.started": "2023-04-13T11:38:50.060943Z",
          "shell.execute_reply": "2023-04-13T11:38:52.611960Z"
        },
        "trusted": true,
        "id": "J-lnj1PjIusn",
        "outputId": "3b88551c-88e7-4556-cdb0-bcff71979cb7"
      },
      "execution_count": null,
      "outputs": [
        {
          "name": "stdout",
          "text": "230/230 [==============================] - 1s 4ms/step\n[[1.0000000e+00 2.3043900e-30 2.0092168e-25 ... 0.0000000e+00\n  0.0000000e+00 0.0000000e+00]\n [1.0000000e+00 4.8254631e-21 8.9533960e-28 ... 0.0000000e+00\n  0.0000000e+00 0.0000000e+00]\n [1.0000000e+00 2.0386383e-19 2.8969947e-32 ... 0.0000000e+00\n  0.0000000e+00 0.0000000e+00]\n ...\n [1.0000000e+00 1.7275845e-19 1.7821226e-14 ... 0.0000000e+00\n  0.0000000e+00 0.0000000e+00]\n [1.0000000e+00 4.5476127e-23 1.3132015e-16 ... 0.0000000e+00\n  0.0000000e+00 0.0000000e+00]\n [1.0000000e+00 1.6962980e-11 0.0000000e+00 ... 0.0000000e+00\n  0.0000000e+00 0.0000000e+00]]\n[0 0 0 ... 0 0 0]\n",
          "output_type": "stream"
        }
      ]
    },
    {
      "cell_type": "code",
      "source": [
        "#create submission file\n",
        "pd.DataFrame(\n",
        "    {'id': test.index,\n",
        "     'price': price_category_predicted_lstm}\n",
        ").to_csv('trail_3.csv', index=False)"
      ],
      "metadata": {
        "execution": {
          "iopub.status.busy": "2023-04-13T11:38:52.614820Z",
          "iopub.execute_input": "2023-04-13T11:38:52.615301Z",
          "iopub.status.idle": "2023-04-13T11:38:52.631811Z",
          "shell.execute_reply.started": "2023-04-13T11:38:52.615259Z",
          "shell.execute_reply": "2023-04-13T11:38:52.630857Z"
        },
        "trusted": true,
        "id": "rMWK_ecKIusn"
      },
      "execution_count": null,
      "outputs": []
    },
    {
      "cell_type": "markdown",
      "source": [
        "# **Trial 4 : BiDirectional LSTM layer**"
      ],
      "metadata": {
        "id": "tHijiBKJIusn"
      }
    },
    {
      "cell_type": "code",
      "source": [
        "\"\"\"\n",
        "the steps : \n",
        "1- The code provide defines a neural network model using the Keras API with two inputs and two outputs,\n",
        "2- in two inputs: image data and text data, and outputs two labels: the price of real estate and it's type\n",
        "3- The text input is processed using an embedding layer followed by a bidirectional LSTM layer. The bidirectional LSTM layer is a type of recurrent neural network (RNN) \n",
        "layer that can capture information from both past and future input data\n",
        "4-The image input is processed using two convolutional layers with different kernel sizes and a max pooling layer, followed by a flatten layer\n",
        "5- The resulting output from the text and image processing layers are then concatenated and fed into two separate dense layers,\n",
        "one for each output task.\n",
        "6- The model is compiled with the Adam optimizer and sparse categorical cross-entropy loss functions for both tasks\n",
        "7- The loss weights are set to 0.5 for the \"type\" output and 0.5 for the \"price\" \n",
        "8- The metrics for evaluation are set to sparse categorical accuracy for both tasks.\n",
        "9-  make summarization on model\n",
        "\"\"\"\n",
        "\n",
        "\"\"\"\n",
        "thoughts and observations\n",
        "1- I Apply bidirectional LSTM layer technique on the text input.\n",
        "\n",
        "Bidirectional LSTMs allow the model to capture dependencies and relationships between words or phrases that occur in both directions, \n",
        "and help to prevent the vanishing gradient problem that can occur in traditional LSTMs.\n",
        "\n",
        "2- I think the model will fit well with using Bidirectional LSTMs \n",
        "\"\"\"\n",
        "\n",
        "\"\"\"\n",
        "my plan is using bidirectional GRU with  multi-modality and single-task\n",
        "\"\"\"\n",
        "in_text = keras.Input(batch_shape=(None, max_len))\n",
        "in_image = keras.Input(batch_shape=(None, 64, 64, 2)) \n",
        "\n",
        "# text part\n",
        "embedded = keras.layers.Embedding(tokenizer.num_words, 100)(in_text) \n",
        "bi_lstm = Bidirectional(LSTM(20))(embedded) \n",
        "\n",
        "# image part\n",
        "cov = Conv2D(32, (3, 3))(in_image) # convolutional layer with 32 filters, no padding\n",
        "pl = MaxPool2D((3, 3))(cov) # max pooling with a 3x3 mask, reducing the size to 20x20x32\n",
        "cov2 = Conv2D(32, (2,2))(pl) # convolutional layer with 32 filters, and a 2x2 mask, no padding\n",
        "pl2 = MaxPool2D((2,2))(cov2) # max pooling with a 2x2 mask, reducing the size to 9x9x32\n",
        "flattened = Flatten()(pl2) # flatten the shape to (2592,)\n",
        "\n",
        "\n",
        "# concat\n",
        "fused = tf.concat([bi_lstm, flattened], axis=-1) # concatenate text features with images\n",
        "\n",
        "# multi-objectives \n",
        "p_price = Dense(length_of_price, activation='softmax', name='price')(fused) \n",
        "p_type = Dense(length_of_type, activation='softmax', name='type')(fused) \n",
        "\n",
        "# model definition\n",
        "model_bidircectional= keras.Model(\n",
        "    inputs={\n",
        "        'summary': in_text, \n",
        "        'image': in_image \n",
        "    },\n",
        "    outputs={\n",
        "        'price': p_price, \n",
        "        'type': p_type, \n",
        "    },\n",
        ")\n",
        "\n",
        "# compiling the bidirectional model \n",
        "model_bidircectional.compile(\n",
        "    optimizer=Adam(),\n",
        "    loss={\n",
        "        'type': 'sparse_categorical_crossentropy',\n",
        "        'price': 'sparse_categorical_crossentropy',\n",
        "    },\n",
        "    loss_weights={\n",
        "        'type': 0.5,\n",
        "        'price': 0.5,       \n",
        "    },\n",
        "    metrics={\n",
        "        'type': ['SparseCategoricalAccuracy'],\n",
        "        'price': ['SparseCategoricalAccuracy'],\n",
        "    },\n",
        ")\n",
        "model_bidircectional.summary()"
      ],
      "metadata": {
        "execution": {
          "iopub.status.busy": "2023-04-13T11:38:52.633250Z",
          "iopub.execute_input": "2023-04-13T11:38:52.633819Z",
          "iopub.status.idle": "2023-04-13T11:38:53.222392Z",
          "shell.execute_reply.started": "2023-04-13T11:38:52.633780Z",
          "shell.execute_reply": "2023-04-13T11:38:53.221548Z"
        },
        "trusted": true,
        "id": "NvUtDpH0Iusn",
        "outputId": "0619eabe-b40a-4427-bb63-49a89a4f2d8c"
      },
      "execution_count": null,
      "outputs": [
        {
          "name": "stdout",
          "text": "Model: \"model_3\"\n__________________________________________________________________________________________________\n Layer (type)                   Output Shape         Param #     Connected to                     \n==================================================================================================\n input_8 (InputLayer)           [(None, 64, 64, 2)]  0           []                               \n                                                                                                  \n conv2d_6 (Conv2D)              (None, 62, 62, 32)   608         ['input_8[0][0]']                \n                                                                                                  \n max_pooling2d_3 (MaxPooling2D)  (None, 20, 20, 32)  0           ['conv2d_6[0][0]']               \n                                                                                                  \n input_7 (InputLayer)           [(None, 100)]        0           []                               \n                                                                                                  \n conv2d_7 (Conv2D)              (None, 19, 19, 32)   4128        ['max_pooling2d_3[0][0]']        \n                                                                                                  \n embedding_3 (Embedding)        (None, 100, 100)     4000000     ['input_7[0][0]']                \n                                                                                                  \n max_pooling2d_4 (MaxPooling2D)  (None, 9, 9, 32)    0           ['conv2d_7[0][0]']               \n                                                                                                  \n bidirectional (Bidirectional)  (None, 40)           19360       ['embedding_3[0][0]']            \n                                                                                                  \n flatten_3 (Flatten)            (None, 2592)         0           ['max_pooling2d_4[0][0]']        \n                                                                                                  \n tf.concat_3 (TFOpLambda)       (None, 2632)         0           ['bidirectional[0][0]',          \n                                                                  'flatten_3[0][0]']              \n                                                                                                  \n price (Dense)                  (None, 24)           63192       ['tf.concat_3[0][0]']            \n                                                                                                  \n type (Dense)                   (None, 24)           63192       ['tf.concat_3[0][0]']            \n                                                                                                  \n==================================================================================================\nTotal params: 4,150,480\nTrainable params: 4,150,480\nNon-trainable params: 0\n__________________________________________________________________________________________________\n",
          "output_type": "stream"
        }
      ]
    },
    {
      "cell_type": "code",
      "source": [
        "\"\"\"\n",
        "1- trains the \"model_bidircectional\" neural network model using the \"fit\" method\n",
        "2- The training data consists of two inputs: \"x_train_text_id\" ,\"x_train_image\" . The target outputs consist of two separate arrays: \n",
        "\"y_train_type\" for the real estate type classification and \"y_train_price\" for the real estate price range classification.\n",
        "3- The model is trained for 5 epochs with a batch size of 17 and a validation split of 0.2,\n",
        "meaning that 20% of the training data is reserved for validation during training\n",
        "\"\"\"\n",
        "history = model_bidircectional.fit(\n",
        "    x={\n",
        "        'summary': x_train_text_id,\n",
        "        'image': x_train_image\n",
        "    },\n",
        "    y={\n",
        "        'type': y_train_type,\n",
        "        'price': y_train_price,\n",
        "    },\n",
        "    epochs=5,\n",
        "    batch_size=17,\n",
        "    validation_split=0.2,\n",
        "    callbacks=[\n",
        "        tf.keras.callbacks.EarlyStopping(monitor='val_price_loss', patience=6, )\n",
        "    ],\n",
        "    verbose=1\n",
        ")"
      ],
      "metadata": {
        "execution": {
          "iopub.status.busy": "2023-04-13T11:38:53.223462Z",
          "iopub.execute_input": "2023-04-13T11:38:53.223833Z",
          "iopub.status.idle": "2023-04-13T11:39:44.906646Z",
          "shell.execute_reply.started": "2023-04-13T11:38:53.223795Z",
          "shell.execute_reply": "2023-04-13T11:39:44.905628Z"
        },
        "trusted": true,
        "id": "z2JjSEUUIusn",
        "outputId": "133e2e76-aadc-42e4-9915-88b20c8bff88"
      },
      "execution_count": null,
      "outputs": [
        {
          "name": "stdout",
          "text": "Epoch 1/5\n345/345 [==============================] - 24s 56ms/step - loss: 10.1294 - price_loss: 8.9939 - type_loss: 11.2649 - price_sparse_categorical_accuracy: 0.5140 - type_sparse_categorical_accuracy: 0.5867 - val_loss: 2.8523 - val_price_loss: 2.5509 - val_type_loss: 3.1537 - val_price_sparse_categorical_accuracy: 0.4877 - val_type_sparse_categorical_accuracy: 0.6903\nEpoch 2/5\n345/345 [==============================] - 9s 25ms/step - loss: 2.1861 - price_loss: 1.9226 - type_loss: 2.4496 - price_sparse_categorical_accuracy: 0.5799 - type_sparse_categorical_accuracy: 0.6543 - val_loss: 1.9738 - val_price_loss: 1.6795 - val_type_loss: 2.2681 - val_price_sparse_categorical_accuracy: 0.5621 - val_type_sparse_categorical_accuracy: 0.7196\nEpoch 3/5\n345/345 [==============================] - 7s 19ms/step - loss: 1.2999 - price_loss: 1.2182 - type_loss: 1.3817 - price_sparse_categorical_accuracy: 0.6515 - type_sparse_categorical_accuracy: 0.7191 - val_loss: 2.0333 - val_price_loss: 1.6849 - val_type_loss: 2.3817 - val_price_sparse_categorical_accuracy: 0.5211 - val_type_sparse_categorical_accuracy: 0.7244\nEpoch 4/5\n345/345 [==============================] - 6s 18ms/step - loss: 1.6772 - price_loss: 1.3394 - type_loss: 2.0150 - price_sparse_categorical_accuracy: 0.6872 - type_sparse_categorical_accuracy: 0.7377 - val_loss: 13.4062 - val_price_loss: 10.5077 - val_type_loss: 16.3047 - val_price_sparse_categorical_accuracy: 0.6241 - val_type_sparse_categorical_accuracy: 0.1139\nEpoch 5/5\n345/345 [==============================] - 5s 16ms/step - loss: 5.8716 - price_loss: 4.2722 - type_loss: 7.4709 - price_sparse_categorical_accuracy: 0.6643 - type_sparse_categorical_accuracy: 0.6978 - val_loss: 1.8931 - val_price_loss: 1.6295 - val_type_loss: 2.1568 - val_price_sparse_categorical_accuracy: 0.6057 - val_type_sparse_categorical_accuracy: 0.7026\n",
          "output_type": "stream"
        }
      ]
    },
    {
      "cell_type": "code",
      "source": [
        "# we can do prediction on training set\n",
        "\"\"\"\n",
        "1- use \"predict\" method to generate predictions on new test data, \n",
        "which consists of both text and image inputs. The text input is represented by the \"x_test_text\" variable,\n",
        "and the image input is represented by the \"x_test_image\" variable.\n",
        "\n",
        "2-  \"argmax\" use to  convert the  probabilities into predicted categories \n",
        "\"\"\"\n",
        "y_predict_bidircectional = model_bidircectional.predict(\n",
        "    {\n",
        "        'summary': x_test_text,\n",
        "        'image': x_test_image\n",
        "    }\n",
        ")\n",
        "\n",
        "\n",
        "# probabilities\n",
        "price_predicted_bidircectional = y_predict_bidircectional['price']\n",
        "print(price_predicted_bidircectional)\n",
        "\n",
        "# categories\n",
        "price_category_predicted_bidircectional = np.argmax(price_predicted_bidircectional, axis=1)\n",
        "print(price_category_predicted_bidircectional)"
      ],
      "metadata": {
        "execution": {
          "iopub.status.busy": "2023-04-13T11:39:44.910351Z",
          "iopub.execute_input": "2023-04-13T11:39:44.910662Z",
          "iopub.status.idle": "2023-04-13T11:39:47.542277Z",
          "shell.execute_reply.started": "2023-04-13T11:39:44.910633Z",
          "shell.execute_reply": "2023-04-13T11:39:47.541212Z"
        },
        "trusted": true,
        "id": "6d3nbzZ7Iusn",
        "outputId": "17389140-5bf5-4190-dfd6-ec225276c199"
      },
      "execution_count": null,
      "outputs": [
        {
          "name": "stdout",
          "text": "230/230 [==============================] - 2s 5ms/step\n[[6.9479889e-01 3.0064374e-01 4.5573693e-03 ... 4.3250972e-15\n  1.0904095e-10 5.4938103e-11]\n [9.8048055e-01 1.9422997e-02 9.6387572e-05 ... 1.7224247e-16\n  2.2088403e-14 1.8723281e-10]\n [9.9858284e-01 1.4168469e-03 3.6350187e-07 ... 5.0854454e-21\n  6.0878232e-15 2.0284145e-13]\n ...\n [9.9808228e-01 1.9167847e-03 9.3436665e-07 ... 5.6778566e-18\n  5.8286119e-14 2.1109111e-14]\n [9.8097712e-01 1.8607037e-02 4.1565869e-04 ... 2.4293034e-15\n  4.1951477e-11 3.4597740e-13]\n [1.2501171e-02 9.8674124e-01 7.5757981e-04 ... 5.6074815e-16\n  1.1461290e-09 1.4048023e-09]]\n[0 0 0 ... 0 0 1]\n",
          "output_type": "stream"
        }
      ]
    },
    {
      "cell_type": "code",
      "source": [
        "#create submission file\n",
        "pd.DataFrame(\n",
        "    {'id': test.index,\n",
        "     'price': price_category_predicted_bidircectional}\n",
        ").to_csv('trial_4.csv', index=False)"
      ],
      "metadata": {
        "execution": {
          "iopub.status.busy": "2023-04-13T11:39:47.543610Z",
          "iopub.execute_input": "2023-04-13T11:39:47.543984Z",
          "iopub.status.idle": "2023-04-13T11:39:47.561294Z",
          "shell.execute_reply.started": "2023-04-13T11:39:47.543945Z",
          "shell.execute_reply": "2023-04-13T11:39:47.560194Z"
        },
        "trusted": true,
        "id": "bdIp99HcIusn"
      },
      "execution_count": null,
      "outputs": []
    },
    {
      "cell_type": "markdown",
      "source": [
        "# **Trial 5 : multi-modality and single-task**"
      ],
      "metadata": {
        "id": "SwTo_-WoIuso"
      }
    },
    {
      "cell_type": "code",
      "source": [
        "\n",
        "\"\"\"\n",
        "the steps : \n",
        "1- The code provide defines a neural network model using the Keras API with two inputs and one output.\n",
        "2- in two inputs: image data and text data, and outputs two labels: the price of real estate \n",
        "3-The text input is processed using an embedding layer followed by a bidirectional GRU layer\n",
        "4-The image input is processed using a single convolutional layer and a max pooling layer, followed by a flatten layer\n",
        "5- The resulting output from the text and image processing layers are then concatenated and fed into two separate dense layers,\n",
        "one for each output task.\n",
        "6- The model is compiled with the Nadam optimizer and sparse categorical cross-entropy loss functions for the price prediction task\n",
        "7- The loss weights are set to 1 for the \"price\" \n",
        "8- The metrics for evaluation are set to sparse categorical accuracy for both tasks.\n",
        "9-  make summarization on model\n",
        "\"\"\"\n",
        "\n",
        "\"\"\"\n",
        "thoughts and observations\n",
        "1- I Apply bidirectional GRU with  multi-modality and single-task technique on the text input.\n",
        "\n",
        "\n",
        "2- I think the model will fit well than previous trial\n",
        "\"\"\"\n",
        "\n",
        "\"\"\"\n",
        "my plan is using bidirectional LSTM with single-modality and multi-task\n",
        "\"\"\"\n",
        "\n",
        "\n",
        "\n",
        "in_text = keras.Input(batch_shape=(None, max_len))\n",
        "in_image = keras.Input(batch_shape=(None, 64, 64, 2))\n",
        "\n",
        "embedded = keras.layers.Embedding(tokenizer.num_words, 100)(in_text)\n",
        "bidir_gru =  Bidirectional(GRU(units = 128,return_sequences=True))(embedded)\n",
        "averaged = tf.reduce_mean(bidir_gru, axis=1)\n",
        "\n",
        "# image part \n",
        "cov = Conv2D(32, (16, 16))(in_image)\n",
        "pl = MaxPool2D((16, 16))(cov)\n",
        "flattened = Flatten()(pl)\n",
        "\n",
        "#combinig \n",
        "fused = tf.concat([averaged , flattened], axis=-1)\n",
        "\n",
        "# single-task learning\n",
        "fused1 = Dense(128, activation='relu')(fused)\n",
        "dropout_1 = Dropout(rate = 0.2)(fused1)\n",
        "fused_2 = Dense(256, activation='relu')(dropout_1)\n",
        "\n",
        "\n",
        "p_price = Dense(length_of_price, activation='softmax', name='price')(fused_2)\n",
        "\n",
        "\n",
        "bidirec_with_GRU = keras.Model(\n",
        "    inputs={\n",
        "        'summary': in_text,\n",
        "        'image': in_image\n",
        "    },\n",
        "    outputs={\n",
        "        'price': p_price,\n",
        "    },\n",
        ")\n",
        "\n",
        "\n",
        "# compile model with optimizer\n",
        "bidirec_with_GRU.compile(\n",
        "    optimizer=Nadam(),\n",
        "    loss={\n",
        "        'price': 'sparse_categorical_crossentropy',\n",
        "    },\n",
        "    loss_weights={\n",
        "        'price': 1,       \n",
        "    },\n",
        "    metrics={\n",
        "        'price': ['SparseCategoricalAccuracy'],\n",
        "    },\n",
        ")\n",
        "\n",
        "\n",
        "bidirec_with_GRU.summary()"
      ],
      "metadata": {
        "execution": {
          "iopub.status.busy": "2023-04-13T11:39:47.563205Z",
          "iopub.execute_input": "2023-04-13T11:39:47.563596Z",
          "iopub.status.idle": "2023-04-13T11:39:48.088300Z",
          "shell.execute_reply.started": "2023-04-13T11:39:47.563542Z",
          "shell.execute_reply": "2023-04-13T11:39:48.087477Z"
        },
        "trusted": true,
        "id": "_cNz4XkrIuso",
        "outputId": "cd5ba339-b916-4418-e01e-7284846d3876"
      },
      "execution_count": null,
      "outputs": [
        {
          "name": "stdout",
          "text": "Model: \"model_4\"\n__________________________________________________________________________________________________\n Layer (type)                   Output Shape         Param #     Connected to                     \n==================================================================================================\n input_9 (InputLayer)           [(None, 100)]        0           []                               \n                                                                                                  \n input_10 (InputLayer)          [(None, 64, 64, 2)]  0           []                               \n                                                                                                  \n embedding_4 (Embedding)        (None, 100, 100)     4000000     ['input_9[0][0]']                \n                                                                                                  \n conv2d_8 (Conv2D)              (None, 49, 49, 32)   16416       ['input_10[0][0]']               \n                                                                                                  \n bidirectional_1 (Bidirectional  (None, 100, 256)    176640      ['embedding_4[0][0]']            \n )                                                                                                \n                                                                                                  \n max_pooling2d_5 (MaxPooling2D)  (None, 3, 3, 32)    0           ['conv2d_8[0][0]']               \n                                                                                                  \n tf.math.reduce_mean_2 (TFOpLam  (None, 256)         0           ['bidirectional_1[0][0]']        \n bda)                                                                                             \n                                                                                                  \n flatten_4 (Flatten)            (None, 288)          0           ['max_pooling2d_5[0][0]']        \n                                                                                                  \n tf.concat_4 (TFOpLambda)       (None, 544)          0           ['tf.math.reduce_mean_2[0][0]',  \n                                                                  'flatten_4[0][0]']              \n                                                                                                  \n dense (Dense)                  (None, 128)          69760       ['tf.concat_4[0][0]']            \n                                                                                                  \n dropout_1 (Dropout)            (None, 128)          0           ['dense[0][0]']                  \n                                                                                                  \n dense_1 (Dense)                (None, 256)          33024       ['dropout_1[0][0]']              \n                                                                                                  \n price (Dense)                  (None, 24)           6168        ['dense_1[0][0]']                \n                                                                                                  \n==================================================================================================\nTotal params: 4,302,008\nTrainable params: 4,302,008\nNon-trainable params: 0\n__________________________________________________________________________________________________\n",
          "output_type": "stream"
        }
      ]
    },
    {
      "cell_type": "code",
      "source": [
        "\"\"\"\n",
        "1- trains the \"bidirec_with_GRU\" neural network model using the \"fit\" method\n",
        "2- The training data consists of two inputs: \"x_train_text_id\" ,\"x_train_image\" . The target outputs consist of one array: \n",
        " \"y_train_price\" for the real estate price range classification.\n",
        "3- The model is trained for 10 epochs with a batch size of 16 and a validation split of 0.2,\n",
        "meaning that 20% of the training data is reserved for validation during training\n",
        "\"\"\"\n",
        "history = bidirec_with_GRU.fit(\n",
        "    x={\n",
        "        'summary': x_train_text_id,\n",
        "        'image': x_train_image\n",
        "    },\n",
        "    y={\n",
        "        'price': y_train_price,\n",
        "    },\n",
        "    epochs=10,\n",
        "    batch_size=16,\n",
        "    validation_split=0.2,\n",
        "    callbacks=[\n",
        "        tf.keras.callbacks.EarlyStopping(monitor='val_price_loss', patience=6,)\n",
        "    ],\n",
        "    verbose=1\n",
        ")"
      ],
      "metadata": {
        "execution": {
          "iopub.status.busy": "2023-04-13T11:39:48.089360Z",
          "iopub.execute_input": "2023-04-13T11:39:48.089723Z",
          "iopub.status.idle": "2023-04-13T11:42:14.744860Z",
          "shell.execute_reply.started": "2023-04-13T11:39:48.089672Z",
          "shell.execute_reply": "2023-04-13T11:42:14.743515Z"
        },
        "trusted": true,
        "id": "oFp9eaViIuso",
        "outputId": "d7f88976-f05e-43fc-df8d-741dd1f0f16b"
      },
      "execution_count": null,
      "outputs": [
        {
          "name": "stdout",
          "text": "Epoch 1/10\n367/367 [==============================] - 40s 92ms/step - loss: 4.0775 - sparse_categorical_accuracy: 0.5278 - val_loss: 0.8598 - val_sparse_categorical_accuracy: 0.6241\nEpoch 2/10\n367/367 [==============================] - 11s 30ms/step - loss: 0.9357 - sparse_categorical_accuracy: 0.6113 - val_loss: 0.8596 - val_sparse_categorical_accuracy: 0.6241\nEpoch 3/10\n367/367 [==============================] - 9s 24ms/step - loss: 0.8577 - sparse_categorical_accuracy: 0.6183 - val_loss: 0.8341 - val_sparse_categorical_accuracy: 0.6241\nEpoch 4/10\n367/367 [==============================] - 6s 18ms/step - loss: 0.8412 - sparse_categorical_accuracy: 0.6196 - val_loss: 0.8312 - val_sparse_categorical_accuracy: 0.6241\nEpoch 5/10\n367/367 [==============================] - 6s 16ms/step - loss: 0.8398 - sparse_categorical_accuracy: 0.6196 - val_loss: 0.8305 - val_sparse_categorical_accuracy: 0.6241\nEpoch 6/10\n367/367 [==============================] - 7s 18ms/step - loss: 0.8392 - sparse_categorical_accuracy: 0.6196 - val_loss: 0.8304 - val_sparse_categorical_accuracy: 0.6241\nEpoch 7/10\n367/367 [==============================] - 6s 17ms/step - loss: 0.8387 - sparse_categorical_accuracy: 0.6196 - val_loss: 0.8308 - val_sparse_categorical_accuracy: 0.6241\nEpoch 8/10\n367/367 [==============================] - 7s 18ms/step - loss: 0.8387 - sparse_categorical_accuracy: 0.6196 - val_loss: 0.8302 - val_sparse_categorical_accuracy: 0.6241\nEpoch 9/10\n367/367 [==============================] - 6s 17ms/step - loss: 0.8391 - sparse_categorical_accuracy: 0.6196 - val_loss: 0.8310 - val_sparse_categorical_accuracy: 0.6241\nEpoch 10/10\n367/367 [==============================] - 5s 15ms/step - loss: 0.8384 - sparse_categorical_accuracy: 0.6196 - val_loss: 0.8316 - val_sparse_categorical_accuracy: 0.6241\n",
          "output_type": "stream"
        }
      ]
    },
    {
      "cell_type": "code",
      "source": [
        "# we can do prediction on training set\n",
        "\"\"\"\n",
        "1- use \"predict\" method to generate predictions on new test data, \n",
        "which consists of both text and image inputs. The text input is represented by the \"x_test_text\" variable,\n",
        "and the image input is represented by the \"x_test_image\" variable.\n",
        "\n",
        "2-  \"argmax\" use to  convert the  probabilities into predicted categories \n",
        "\"\"\"\n",
        "y_predict_bid_withGRU = bidirec_with_GRU.predict(\n",
        "    {\n",
        "        'summary': x_test_text,\n",
        "        'image': x_test_image\n",
        "    }\n",
        ")\n",
        "\n",
        "\n",
        "# probabilities\n",
        "price_predicted_bidirwithGRU = y_predict_bid_withGRU['price']\n",
        "print(price_predicted_bidirwithGRU)\n",
        "\n",
        "# categories\n",
        "price_category_predicted_bidirwithGRU = np.argmax(price_predicted_bidirwithGRU, axis=1)\n",
        "print(price_category_predicted_bidirwithGRU)"
      ],
      "metadata": {
        "execution": {
          "iopub.status.busy": "2023-04-13T11:42:14.746793Z",
          "iopub.execute_input": "2023-04-13T11:42:14.747499Z",
          "iopub.status.idle": "2023-04-13T11:42:17.648837Z",
          "shell.execute_reply.started": "2023-04-13T11:42:14.747456Z",
          "shell.execute_reply": "2023-04-13T11:42:17.647758Z"
        },
        "trusted": true,
        "id": "LUwbR3CeIuso",
        "outputId": "9d3d4725-fc2b-41ee-fd76-f054eb73b237"
      },
      "execution_count": null,
      "outputs": [
        {
          "name": "stdout",
          "text": "230/230 [==============================] - 2s 6ms/step\n[[6.4695638e-01 2.8551570e-01 6.7296989e-02 ... 2.7117783e-05\n  3.5520262e-07 3.9536894e-07]\n [6.4695638e-01 2.8551570e-01 6.7296989e-02 ... 2.7117783e-05\n  3.5520262e-07 3.9536894e-07]\n [6.4695638e-01 2.8551570e-01 6.7296989e-02 ... 2.7117783e-05\n  3.5520262e-07 3.9536894e-07]\n ...\n [6.4695638e-01 2.8551570e-01 6.7296989e-02 ... 2.7117783e-05\n  3.5520262e-07 3.9536894e-07]\n [6.4695638e-01 2.8551570e-01 6.7296989e-02 ... 2.7117783e-05\n  3.5520262e-07 3.9536894e-07]\n [6.4695638e-01 2.8551570e-01 6.7296989e-02 ... 2.7117783e-05\n  3.5520262e-07 3.9536894e-07]]\n[0 0 0 ... 0 0 0]\n",
          "output_type": "stream"
        }
      ]
    },
    {
      "cell_type": "code",
      "source": [
        "#create submission file\n",
        "pd.DataFrame(\n",
        "    {'id': test.index,\n",
        "     'price': price_category_predicted_bidirwithGRU}\n",
        ").to_csv('trial_5.csv', index=False)"
      ],
      "metadata": {
        "execution": {
          "iopub.status.busy": "2023-04-13T11:42:17.650570Z",
          "iopub.execute_input": "2023-04-13T11:42:17.650968Z",
          "iopub.status.idle": "2023-04-13T11:42:17.667374Z",
          "shell.execute_reply.started": "2023-04-13T11:42:17.650929Z",
          "shell.execute_reply": "2023-04-13T11:42:17.666438Z"
        },
        "trusted": true,
        "id": "rDejGBGaIuso"
      },
      "execution_count": null,
      "outputs": []
    },
    {
      "cell_type": "markdown",
      "source": [
        "# **Trial 6 : single-modality and multi-task**"
      ],
      "metadata": {
        "id": "3ykW9qEeIuso"
      }
    },
    {
      "cell_type": "code",
      "source": [
        "\"\"\"\n",
        "the steps : \n",
        "1- This code defines a neural network model using the Keras API with one input and two outputs\n",
        "2- in one  inputs:  text data, and outputs two labels: the price of real estate \n",
        "3-The text input is processed using an embedding layer followed by a Bidirectional LSTM layer\n",
        "4-The output from the Bidirectional LSTM layer is a sequence of vectors\n",
        "5- The model is compiled with the Nadam optimizer and sparse categorical cross-entropy loss functions\n",
        "6-  The loss weight is set to 0.5 for each output\n",
        "7- The metrics for evaluation are set to sparse categorical accuracy for both tasks.\n",
        "8-  make summarization on model\n",
        "\"\"\"\n",
        "\n",
        "\"\"\"\n",
        "thoughts and observations\n",
        "1- I Apply bidirectional LSTM with  single-modality and multi-task technique on the text input.\n",
        "\n",
        "\n",
        "2- I think the model will fit more  well than previous trial\n",
        "\"\"\"\n",
        "\n",
        "\"\"\"\n",
        "my plan is building transfer learning neural network\n",
        "\"\"\"\n",
        "\n",
        "in_text = keras.Input(batch_shape=(None, max_len))\n",
        "in_image = keras.Input(batch_shape=(None, 64, 64, 2))\n",
        "\n",
        "embedded = keras.layers.Embedding(tokenizer.num_words, 100)(in_text)\n",
        "bi_lstm =  Bidirectional(LSTM(units = 128,return_sequences=True))(embedded)\n",
        "averaged = tf.reduce_mean(bi_lstm, axis=1)\n",
        "\n",
        "\n",
        "fused_1 = Dense(128, activation='relu')(averaged)\n",
        "dropout_1 = Dropout(rate = 0.2)(fused_1)\n",
        "fused_2 = Dense(256, activation='relu')(dropout_1)\n",
        "\n",
        "p_price = Dense(length_of_price, activation='softmax', name='price')(fused_2)\n",
        "p_type = Dense(length_of_type, activation='softmax', name='type')(fused_2)\n",
        "\n",
        "\n",
        "# define model input/output using keys.\n",
        "single_model = keras.Model(\n",
        "    inputs={\n",
        "        'summary': in_text,\n",
        "    },\n",
        "    outputs={\n",
        "        'type': p_type,\n",
        "        'price': p_price,\n",
        "\n",
        "    },\n",
        ")\n",
        "\n",
        "\n",
        "# compile model with optimizer\n",
        "single_model.compile(\n",
        "    optimizer=Nadam(),\n",
        "    loss={\n",
        "        'type':'sparse_categorical_crossentropy',\n",
        "        'price': 'sparse_categorical_crossentropy',\n",
        "    },\n",
        "    loss_weights={\n",
        "        'type':0.5,\n",
        "        'price': 0.5\n",
        "    },\n",
        "    metrics={\n",
        "        'type': ['SparseCategoricalAccuracy'],\n",
        "        'price': ['SparseCategoricalAccuracy']\n",
        "    },\n",
        ")\n",
        "\n",
        "\n",
        "single_model.summary()"
      ],
      "metadata": {
        "execution": {
          "iopub.status.busy": "2023-04-13T11:42:17.668767Z",
          "iopub.execute_input": "2023-04-13T11:42:17.669214Z",
          "iopub.status.idle": "2023-04-13T11:42:18.229701Z",
          "shell.execute_reply.started": "2023-04-13T11:42:17.669167Z",
          "shell.execute_reply": "2023-04-13T11:42:18.228872Z"
        },
        "trusted": true,
        "id": "j5rUemUqIusp",
        "outputId": "88a773c3-3347-4994-fb19-094adfdb8aab"
      },
      "execution_count": null,
      "outputs": [
        {
          "name": "stdout",
          "text": "Model: \"model_5\"\n__________________________________________________________________________________________________\n Layer (type)                   Output Shape         Param #     Connected to                     \n==================================================================================================\n input_11 (InputLayer)          [(None, 100)]        0           []                               \n                                                                                                  \n embedding_5 (Embedding)        (None, 100, 100)     4000000     ['input_11[0][0]']               \n                                                                                                  \n bidirectional_2 (Bidirectional  (None, 100, 256)    234496      ['embedding_5[0][0]']            \n )                                                                                                \n                                                                                                  \n tf.math.reduce_mean_3 (TFOpLam  (None, 256)         0           ['bidirectional_2[0][0]']        \n bda)                                                                                             \n                                                                                                  \n dense_2 (Dense)                (None, 128)          32896       ['tf.math.reduce_mean_3[0][0]']  \n                                                                                                  \n dropout_2 (Dropout)            (None, 128)          0           ['dense_2[0][0]']                \n                                                                                                  \n dense_3 (Dense)                (None, 256)          33024       ['dropout_2[0][0]']              \n                                                                                                  \n price (Dense)                  (None, 24)           6168        ['dense_3[0][0]']                \n                                                                                                  \n type (Dense)                   (None, 24)           6168        ['dense_3[0][0]']                \n                                                                                                  \n==================================================================================================\nTotal params: 4,312,752\nTrainable params: 4,312,752\nNon-trainable params: 0\n__________________________________________________________________________________________________\n",
          "output_type": "stream"
        }
      ]
    },
    {
      "cell_type": "code",
      "source": [
        "\"\"\"\n",
        "1- trains the \"single_model\" neural network model using the \"fit\" method\n",
        "2- The training data consists of two inputs: \"x_train_text_id\" . The target outputs consist of two array: \n",
        " \"y_train_price\" for the real estate price range classification and \"y_train_type\" for the type of real estate \n",
        "3- The model is trained for 10 epochs with a batch size of 16 and a validation split of 0.2,\n",
        "meaning that 20% of the training data is reserved for validation during training\n",
        "\"\"\"\n",
        "history = single_model.fit(\n",
        "    x={\n",
        "        'summary': x_train_text_id,\n",
        "    },\n",
        "    y={\n",
        "        'type': y_train_type,\n",
        "        'price': y_train_price,\n",
        "    },\n",
        "    epochs=10,\n",
        "    batch_size=16,\n",
        "    validation_split=0.2,\n",
        "    callbacks=[\n",
        "        tf.keras.callbacks.EarlyStopping(monitor='val_price_loss', patience=6,)\n",
        "    ],\n",
        "    verbose=1\n",
        ")"
      ],
      "metadata": {
        "execution": {
          "iopub.status.busy": "2023-04-13T11:42:18.230787Z",
          "iopub.execute_input": "2023-04-13T11:42:18.231324Z",
          "iopub.status.idle": "2023-04-13T11:44:44.688024Z",
          "shell.execute_reply.started": "2023-04-13T11:42:18.231294Z",
          "shell.execute_reply": "2023-04-13T11:44:44.686915Z"
        },
        "trusted": true,
        "id": "ZTOY3BnBIusp",
        "outputId": "b3e78e5a-d339-4874-839c-d101b7614e1c"
      },
      "execution_count": null,
      "outputs": [
        {
          "name": "stdout",
          "text": "Epoch 1/10\n367/367 [==============================] - 29s 61ms/step - loss: 0.9882 - price_loss: 0.9080 - type_loss: 1.0683 - price_sparse_categorical_accuracy: 0.6046 - type_sparse_categorical_accuracy: 0.7495 - val_loss: 0.9166 - val_price_loss: 0.8374 - val_type_loss: 0.9959 - val_price_sparse_categorical_accuracy: 0.6241 - val_type_sparse_categorical_accuracy: 0.7688\nEpoch 2/10\n367/367 [==============================] - 9s 24ms/step - loss: 0.8775 - price_loss: 0.8142 - type_loss: 0.9408 - price_sparse_categorical_accuracy: 0.6189 - type_sparse_categorical_accuracy: 0.7592 - val_loss: 0.8318 - val_price_loss: 0.7696 - val_type_loss: 0.8939 - val_price_sparse_categorical_accuracy: 0.6330 - val_type_sparse_categorical_accuracy: 0.7599\nEpoch 3/10\n367/367 [==============================] - 8s 21ms/step - loss: 0.8080 - price_loss: 0.7634 - type_loss: 0.8525 - price_sparse_categorical_accuracy: 0.6299 - type_sparse_categorical_accuracy: 0.7666 - val_loss: 0.8328 - val_price_loss: 0.7725 - val_type_loss: 0.8930 - val_price_sparse_categorical_accuracy: 0.6221 - val_type_sparse_categorical_accuracy: 0.7640\nEpoch 4/10\n367/367 [==============================] - 6s 16ms/step - loss: 0.7587 - price_loss: 0.7357 - type_loss: 0.7817 - price_sparse_categorical_accuracy: 0.6398 - type_sparse_categorical_accuracy: 0.7746 - val_loss: 0.8358 - val_price_loss: 0.7774 - val_type_loss: 0.8942 - val_price_sparse_categorical_accuracy: 0.6160 - val_type_sparse_categorical_accuracy: 0.7674\nEpoch 5/10\n367/367 [==============================] - 6s 16ms/step - loss: 0.6998 - price_loss: 0.6912 - type_loss: 0.7084 - price_sparse_categorical_accuracy: 0.6727 - type_sparse_categorical_accuracy: 0.7903 - val_loss: 0.8194 - val_price_loss: 0.7449 - val_type_loss: 0.8940 - val_price_sparse_categorical_accuracy: 0.6658 - val_type_sparse_categorical_accuracy: 0.7708\nEpoch 6/10\n367/367 [==============================] - 6s 17ms/step - loss: 0.6113 - price_loss: 0.6105 - type_loss: 0.6122 - price_sparse_categorical_accuracy: 0.7396 - type_sparse_categorical_accuracy: 0.8166 - val_loss: 0.8700 - val_price_loss: 0.7824 - val_type_loss: 0.9577 - val_price_sparse_categorical_accuracy: 0.6774 - val_type_sparse_categorical_accuracy: 0.7831\nEpoch 7/10\n367/367 [==============================] - 6s 17ms/step - loss: 0.5427 - price_loss: 0.5469 - type_loss: 0.5385 - price_sparse_categorical_accuracy: 0.7763 - type_sparse_categorical_accuracy: 0.8375 - val_loss: 0.8797 - val_price_loss: 0.7817 - val_type_loss: 0.9777 - val_price_sparse_categorical_accuracy: 0.6508 - val_type_sparse_categorical_accuracy: 0.7265\nEpoch 8/10\n367/367 [==============================] - 6s 17ms/step - loss: 0.4950 - price_loss: 0.5066 - type_loss: 0.4834 - price_sparse_categorical_accuracy: 0.7911 - type_sparse_categorical_accuracy: 0.8539 - val_loss: 0.9837 - val_price_loss: 0.8975 - val_type_loss: 1.0700 - val_price_sparse_categorical_accuracy: 0.6651 - val_type_sparse_categorical_accuracy: 0.7517\nEpoch 9/10\n367/367 [==============================] - 6s 16ms/step - loss: 0.4478 - price_loss: 0.4659 - type_loss: 0.4298 - price_sparse_categorical_accuracy: 0.8143 - type_sparse_categorical_accuracy: 0.8679 - val_loss: 1.1526 - val_price_loss: 1.0792 - val_type_loss: 1.2259 - val_price_sparse_categorical_accuracy: 0.6637 - val_type_sparse_categorical_accuracy: 0.7708\nEpoch 10/10\n367/367 [==============================] - 6s 15ms/step - loss: 0.3973 - price_loss: 0.4196 - type_loss: 0.3751 - price_sparse_categorical_accuracy: 0.8343 - type_sparse_categorical_accuracy: 0.8857 - val_loss: 1.1392 - val_price_loss: 1.0676 - val_type_loss: 1.2108 - val_price_sparse_categorical_accuracy: 0.6562 - val_type_sparse_categorical_accuracy: 0.7531\n",
          "output_type": "stream"
        }
      ]
    },
    {
      "cell_type": "code",
      "source": [
        "# we can do prediction on training set\n",
        "\"\"\"\n",
        "1- use \"predict\" method to generate predictions on new test data, \n",
        "  The text input is represented by the \"x_test_text\" variable,\n",
        "  and the image input is represented by the \"x_test_image\" variable.\n",
        "\n",
        "2-  \"argmax\" use to  convert the  probabilities into predicted categories \n",
        "\"\"\"\n",
        "y_predict_sigle_model = single_model.predict(\n",
        "    {\n",
        "        'summary': x_test_text,\n",
        "        'image': x_test_image\n",
        "    }\n",
        ")\n",
        "\n",
        "\n",
        "# probabilities\n",
        "price_predicted_single_model = y_predict_sigle_model['price']\n",
        "print(price_predicted_single_model)\n",
        "\n",
        "# categories\n",
        "price_category_predicted_single_model = np.argmax(price_predicted_single_model, axis=1)\n",
        "print(price_category_predicted_single_model)"
      ],
      "metadata": {
        "execution": {
          "iopub.status.busy": "2023-04-13T11:44:44.690097Z",
          "iopub.execute_input": "2023-04-13T11:44:44.691156Z",
          "iopub.status.idle": "2023-04-13T11:44:47.552833Z",
          "shell.execute_reply.started": "2023-04-13T11:44:44.691096Z",
          "shell.execute_reply": "2023-04-13T11:44:47.551797Z"
        },
        "trusted": true,
        "id": "3WgRRX7XIusp",
        "outputId": "80ad7751-3592-40b7-ff03-cc1eed1c23e7"
      },
      "execution_count": null,
      "outputs": [
        {
          "name": "stdout",
          "text": "230/230 [==============================] - 2s 6ms/step\n[[7.72014678e-01 1.48180351e-01 7.98049346e-02 ... 2.56531019e-10\n  2.01146960e-10 1.86232543e-10]\n [9.92765784e-01 6.53140107e-03 7.02794059e-04 ... 6.15641649e-10\n  1.92679969e-10 3.78730630e-10]\n [9.16600525e-01 6.50476515e-02 1.83469988e-02 ... 2.51991082e-07\n  1.28395271e-07 1.72299849e-07]\n ...\n [9.27207470e-01 6.32930100e-02 9.49915778e-03 ... 1.38711114e-08\n  6.14062268e-09 9.71356506e-09]\n [9.99999642e-01 3.46208765e-07 3.39655593e-09 ... 1.55628232e-20\n  5.73151094e-22 4.94979709e-21]\n [8.62708986e-01 1.16495766e-01 2.07946766e-02 ... 2.31359962e-08\n  1.13286136e-08 2.25696368e-08]]\n[0 0 0 ... 0 0 0]\n",
          "output_type": "stream"
        }
      ]
    },
    {
      "cell_type": "code",
      "source": [
        "#create submission file\n",
        "pd.DataFrame(\n",
        "    {'id': test.index,\n",
        "     'price': price_category_predicted_single_model}\n",
        ").to_csv('trial_6.csv', index=False)"
      ],
      "metadata": {
        "execution": {
          "iopub.status.busy": "2023-04-13T11:44:47.555483Z",
          "iopub.execute_input": "2023-04-13T11:44:47.556708Z",
          "iopub.status.idle": "2023-04-13T11:44:47.570851Z",
          "shell.execute_reply.started": "2023-04-13T11:44:47.556664Z",
          "shell.execute_reply": "2023-04-13T11:44:47.569765Z"
        },
        "trusted": true,
        "id": "cOCRpDm1Iusp"
      },
      "execution_count": null,
      "outputs": []
    },
    {
      "cell_type": "markdown",
      "source": [
        "# **Trial 7 : Transefer Learning**"
      ],
      "metadata": {
        "id": "yPyY7onEIusp"
      }
    },
    {
      "cell_type": "code",
      "source": [
        "# I will use VGG-19\n",
        "\"\"\"\n",
        "the steps : \n",
        "1- The code you provided defines a multi-task neural network model using the Keras API with two inputs and two outputs.\n",
        "2- in two inputs: image data and text data, and outputs two labels: the price of real estate and it's type\n",
        "3-The text input is processed using an embedding layer followed by averaging over time to obtain a fixed-length vector that summarizes the input text.\n",
        "4- The image input is processed using a convolutional layer with 10 filters and a (16,16) filter size, followed by a VGG19 model \n",
        "5- The resulting output from the text and image processing layers are then concatenated and fed into two separate dense layers,\n",
        "one for each output task.\n",
        "6-The model is compiled with the Adam optimizer and sparse categorical cross-entropy loss functions\n",
        "7- The loss weights are set to 0.7 for the \"type\" output and 0.3 for the \"price\" \n",
        "8- The metrics for evaluation are set to sparse categorical accuracy for both tasks.\n",
        "9-  make summarization on model\n",
        "\"\"\"\n",
        "\n",
        "\"\"\"\n",
        "thoughts and observations\n",
        "1- I used  transfer learning technique that called VGG-19, \n",
        "The VGG19 model consists of 19 layers, including 16 convolutional layers and 3 fully connected layers.\n",
        "The convolutional layers are arranged in groups of two or three, and each group is followed by a max pooling layer.\n",
        "\n",
        "2- I think the model will fit well compared to the previous trial \n",
        "\"\"\"\n",
        "from tensorflow.keras.applications import VGG19\n",
        "from tensorflow.keras.layers import Conv2D, MaxPooling2D\n",
        "\n",
        "\n",
        "in_text = keras.Input(batch_shape=(None, max_len))\n",
        "in_image = keras.Input(batch_shape=(None, 64, 64, 2))\n",
        "\n",
        "# text part\n",
        "embedded = keras.layers.Embedding(tokenizer.num_words, 100)(in_text)\n",
        "averaged = tf.reduce_mean(embedded, axis=1)\n",
        "\n",
        "\n",
        "# image part \n",
        "cov1 = Conv2D(10,(16,16), activation='tanh')(in_image) # 10 number of filters  and  (15, 15) size of filter\n",
        "vgg=VGG19(weights=None, input_shape=(49, 49, 10), include_top=False)(cov1)\n",
        "flattened = Flatten()(vgg)\n",
        "\n",
        "# combinig\n",
        "fused = tf.concat([averaged, flattened], axis=-1)\n",
        "\n",
        "\n",
        "p_type = Dense(length_of_type, activation='softmax', name='type')(fused)\n",
        "p_price = Dense(length_of_price, activation='softmax', name='price')(fused)\n",
        "\n",
        "\n",
        "# define model input/output using keys.\n",
        "model_vgg19 = keras.Model(\n",
        "    inputs={\n",
        "        'summary': in_text,\n",
        "        'image': in_image\n",
        "    },\n",
        "    outputs={\n",
        "        'type': p_type,\n",
        "        'price': p_price,\n",
        "    },\n",
        ")\n",
        "\n",
        "\n",
        "\n",
        "model_vgg19.compile(\n",
        "    optimizer=Adam(),\n",
        "    loss={\n",
        "        'type': 'sparse_categorical_crossentropy',\n",
        "        'price': 'sparse_categorical_crossentropy',\n",
        "    },\n",
        "    loss_weights={\n",
        "        'type': 0.7,\n",
        "        'price': 0.3,       \n",
        "    },\n",
        "    metrics={\n",
        "        'type': ['SparseCategoricalAccuracy'],\n",
        "        'price': ['SparseCategoricalAccuracy'],\n",
        "    },\n",
        ")\n",
        "\n",
        "\n",
        "model_vgg19.summary()"
      ],
      "metadata": {
        "execution": {
          "iopub.status.busy": "2023-04-13T11:44:47.572215Z",
          "iopub.execute_input": "2023-04-13T11:44:47.572699Z",
          "iopub.status.idle": "2023-04-13T11:44:47.901745Z",
          "shell.execute_reply.started": "2023-04-13T11:44:47.572660Z",
          "shell.execute_reply": "2023-04-13T11:44:47.900954Z"
        },
        "trusted": true,
        "id": "sRNMBwtZIusp",
        "outputId": "c500146a-66f1-400b-b8df-d71776104a0e"
      },
      "execution_count": null,
      "outputs": [
        {
          "name": "stdout",
          "text": "Model: \"model_6\"\n__________________________________________________________________________________________________\n Layer (type)                   Output Shape         Param #     Connected to                     \n==================================================================================================\n input_14 (InputLayer)          [(None, 64, 64, 2)]  0           []                               \n                                                                                                  \n input_13 (InputLayer)          [(None, 100)]        0           []                               \n                                                                                                  \n conv2d_9 (Conv2D)              (None, 49, 49, 10)   5130        ['input_14[0][0]']               \n                                                                                                  \n embedding_6 (Embedding)        (None, 100, 100)     4000000     ['input_13[0][0]']               \n                                                                                                  \n vgg19 (Functional)             (None, 1, 1, 512)    20028416    ['conv2d_9[0][0]']               \n                                                                                                  \n tf.math.reduce_mean_4 (TFOpLam  (None, 100)         0           ['embedding_6[0][0]']            \n bda)                                                                                             \n                                                                                                  \n flatten_5 (Flatten)            (None, 512)          0           ['vgg19[0][0]']                  \n                                                                                                  \n tf.concat_5 (TFOpLambda)       (None, 612)          0           ['tf.math.reduce_mean_4[0][0]',  \n                                                                  'flatten_5[0][0]']              \n                                                                                                  \n price (Dense)                  (None, 24)           14712       ['tf.concat_5[0][0]']            \n                                                                                                  \n type (Dense)                   (None, 24)           14712       ['tf.concat_5[0][0]']            \n                                                                                                  \n==================================================================================================\nTotal params: 24,062,970\nTrainable params: 24,062,970\nNon-trainable params: 0\n__________________________________________________________________________________________________\n",
          "output_type": "stream"
        }
      ]
    },
    {
      "cell_type": "code",
      "source": [
        "\"\"\"\n",
        "1- trains the \"model_vgg19\" neural network model using the \"fit\" method\n",
        "2- The training data consists of two inputs: \"x_train_text_id\" ,\"x_train_image\" . The target outputs consist of two separate arrays: \n",
        "\"y_train_type\" for the real estate type classification and \"y_train_price\" for the real estate price range classification.\n",
        "3- The model is trained for 10 epochs with a batch size of 17 and a validation split of 0.2,\n",
        "meaning that 20% of the training data is reserved for validation during training\n",
        "\"\"\"\n",
        "history = model_vgg19.fit(\n",
        "    x={\n",
        "        'summary': x_train_text_id,\n",
        "        'image': x_train_image\n",
        "    },\n",
        "    y={\n",
        "        'type': y_train_type,\n",
        "        'price': y_train_price,\n",
        "    },\n",
        "    epochs=10,\n",
        "    batch_size=17,\n",
        "    validation_split=0.2,\n",
        "    callbacks=[\n",
        "        tf.keras.callbacks.EarlyStopping(monitor='val_price_loss', patience=6, )\n",
        "    ],\n",
        "    verbose=1\n",
        ")"
      ],
      "metadata": {
        "execution": {
          "iopub.status.busy": "2023-04-13T11:44:47.902826Z",
          "iopub.execute_input": "2023-04-13T11:44:47.903158Z",
          "iopub.status.idle": "2023-04-13T11:46:12.155968Z",
          "shell.execute_reply.started": "2023-04-13T11:44:47.903122Z",
          "shell.execute_reply": "2023-04-13T11:46:12.154945Z"
        },
        "trusted": true,
        "id": "eW2DUZIuIusq",
        "outputId": "5afa9c2f-15f1-467a-dbee-dbec804cff9a"
      },
      "execution_count": null,
      "outputs": [
        {
          "name": "stdout",
          "text": "Epoch 1/5\n345/345 [==============================] - 32s 73ms/step - loss: 1.1899 - price_loss: 1.0621 - type_loss: 1.2447 - price_sparse_categorical_accuracy: 0.5887 - type_sparse_categorical_accuracy: 0.7215 - val_loss: 0.9214 - val_price_loss: 0.8212 - val_type_loss: 0.9643 - val_price_sparse_categorical_accuracy: 0.6241 - val_type_sparse_categorical_accuracy: 0.7688\nEpoch 2/5\n345/345 [==============================] - 15s 42ms/step - loss: 0.9320 - price_loss: 0.8139 - type_loss: 0.9827 - price_sparse_categorical_accuracy: 0.6258 - type_sparse_categorical_accuracy: 0.7560 - val_loss: 0.8771 - val_price_loss: 0.7776 - val_type_loss: 0.9197 - val_price_sparse_categorical_accuracy: 0.6473 - val_type_sparse_categorical_accuracy: 0.7688\nEpoch 3/5\n345/345 [==============================] - 13s 37ms/step - loss: 0.8642 - price_loss: 0.7601 - type_loss: 0.9088 - price_sparse_categorical_accuracy: 0.6567 - type_sparse_categorical_accuracy: 0.7567 - val_loss: 0.8264 - val_price_loss: 0.7405 - val_type_loss: 0.8633 - val_price_sparse_categorical_accuracy: 0.6603 - val_type_sparse_categorical_accuracy: 0.7688\nEpoch 4/5\n345/345 [==============================] - 12s 35ms/step - loss: 0.8043 - price_loss: 0.7227 - type_loss: 0.8393 - price_sparse_categorical_accuracy: 0.6746 - type_sparse_categorical_accuracy: 0.7621 - val_loss: 0.7906 - val_price_loss: 0.7203 - val_type_loss: 0.8207 - val_price_sparse_categorical_accuracy: 0.6739 - val_type_sparse_categorical_accuracy: 0.7797\nEpoch 5/5\n345/345 [==============================] - 12s 34ms/step - loss: 0.7509 - price_loss: 0.6926 - type_loss: 0.7759 - price_sparse_categorical_accuracy: 0.6918 - type_sparse_categorical_accuracy: 0.7763 - val_loss: 0.7672 - val_price_loss: 0.7128 - val_type_loss: 0.7905 - val_price_sparse_categorical_accuracy: 0.6739 - val_type_sparse_categorical_accuracy: 0.7858\n",
          "output_type": "stream"
        }
      ]
    },
    {
      "cell_type": "code",
      "source": [
        "# we can do prediction on training set\n",
        "\"\"\"\n",
        "1- use \"predict\" method to generate predictions on new test data, \n",
        "which consists of both text and image inputs. The text input is represented by the \"x_test_text\" variable,\n",
        "and the image input is represented by the \"x_test_image\" variable.\n",
        "\n",
        "2-  \"argmax\" use to  convert the  probabilities into predicted categories \n",
        "\"\"\"\n",
        "y_predict_vgg = model_vgg19.predict(\n",
        "    {\n",
        "        'summary': x_test_text,\n",
        "        'image': x_test_image\n",
        "    }\n",
        ")\n",
        "\n",
        "\n",
        "# probabilities\n",
        "price_predicted_vgg = y_predict_vgg['price']\n",
        "print(price_predicted_vgg)\n",
        "\n",
        "# categories\n",
        "price_category_predicted_vgg = np.argmax(price_predicted_vgg, axis=1)\n",
        "print(price_category_predicted_vgg)"
      ],
      "metadata": {
        "execution": {
          "iopub.status.busy": "2023-04-13T11:46:12.158198Z",
          "iopub.execute_input": "2023-04-13T11:46:12.158625Z",
          "iopub.status.idle": "2023-04-13T11:46:15.659623Z",
          "shell.execute_reply.started": "2023-04-13T11:46:12.158565Z",
          "shell.execute_reply": "2023-04-13T11:46:15.658263Z"
        },
        "trusted": true,
        "id": "s2Ole3lgIusq",
        "outputId": "81f160e6-1d8b-46bf-fcdd-22b46a510583"
      },
      "execution_count": null,
      "outputs": [
        {
          "name": "stdout",
          "text": "230/230 [==============================] - 3s 9ms/step\n[[7.92528689e-01 1.63129985e-01 4.39770408e-02 ... 2.66820716e-05\n  1.91037470e-05 1.22518995e-05]\n [8.46406519e-01 1.29146427e-01 2.42421944e-02 ... 1.41374676e-05\n  1.13691913e-05 7.30326337e-06]\n [7.92086899e-01 1.59034804e-01 4.84818369e-02 ... 2.94538368e-05\n  2.08497804e-05 1.30033714e-05]\n ...\n [8.35922301e-01 1.35521919e-01 2.83166803e-02 ... 1.68639071e-05\n  1.31949901e-05 8.34740331e-06]\n [8.85842979e-01 8.93885866e-02 2.45083962e-02 ... 1.86186535e-05\n  1.35564596e-05 8.90999763e-06]\n [7.09742665e-01 2.41611123e-01 4.83056530e-02 ... 2.40856989e-05\n  1.78568425e-05 1.20058849e-05]]\n[0 0 0 ... 0 0 0]\n",
          "output_type": "stream"
        }
      ]
    },
    {
      "cell_type": "code",
      "source": [
        "# create submission file\n",
        "pd.DataFrame(\n",
        "    {'id': test.index,\n",
        "     'price': price_category_predicted_vgg}\n",
        ").to_csv('trial_6.csv', index=False)"
      ],
      "metadata": {
        "execution": {
          "iopub.status.busy": "2023-04-13T11:46:15.661122Z",
          "iopub.execute_input": "2023-04-13T11:46:15.661630Z",
          "iopub.status.idle": "2023-04-13T11:46:15.678966Z",
          "shell.execute_reply.started": "2023-04-13T11:46:15.661567Z",
          "shell.execute_reply": "2023-04-13T11:46:15.677961Z"
        },
        "trusted": true,
        "id": "iRPn8M_dIusq"
      },
      "execution_count": null,
      "outputs": []
    }
  ]
}