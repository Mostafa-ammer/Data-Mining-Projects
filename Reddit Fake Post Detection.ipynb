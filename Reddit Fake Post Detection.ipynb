{
  "metadata": {
    "kernelspec": {
      "language": "python",
      "display_name": "Python 3",
      "name": "python3"
    },
    "language_info": {
      "name": "python",
      "version": "3.7.12",
      "mimetype": "text/x-python",
      "codemirror_mode": {
        "name": "ipython",
        "version": 3
      },
      "pygments_lexer": "ipython3",
      "nbconvert_exporter": "python",
      "file_extension": ".py"
    },
    "colab": {
      "provenance": []
    }
  },
  "nbformat_minor": 0,
  "nbformat": 4,
  "cells": [
    {
      "cell_type": "markdown",
      "source": [
        "#**Define the problem? What is the input? What is the output?**\n",
        "\n",
        "it is a classification problem to classify the real  and fake news , the input is set of features such as id, text that contain title and the output is label "
      ],
      "metadata": {
        "id": "ICzqPHyO1ZGA"
      }
    },
    {
      "cell_type": "markdown",
      "source": [
        "# **What data mining function is required?**\n",
        "classification problem"
      ],
      "metadata": {
        "id": "w3HIn7bW4EOH"
      }
    },
    {
      "cell_type": "markdown",
      "source": [
        "# **What could be the challenges?**\n",
        "\n",
        "1.  clean text because text contain html tags, digits , non-English letters,punctuation\n",
        "2.  the text is big , so that it take some time to train the model on this data \n",
        "3. convert the string into vector \n",
        "4. using of steaming and lemmatization preprocessing\n"
      ],
      "metadata": {
        "id": "2Hg7tPoQ4dMP"
      }
    },
    {
      "cell_type": "markdown",
      "source": [
        "# **What is the impact?**\n",
        "\n",
        "there are many false information on internet , these information caused many social problems , so that we will build the model to detect the false information on internet "
      ],
      "metadata": {
        "id": "FlSJrvbm4df2"
      }
    },
    {
      "cell_type": "markdown",
      "source": [
        "# **What is an ideal solution?**\n",
        "building a pipline that contain tf-idf vectorizer and logistic regression model and use Randomized search to get the best hyperparameters \n"
      ],
      "metadata": {
        "id": "BqfVrj028Azv"
      }
    },
    {
      "cell_type": "markdown",
      "source": [
        "# **What is the experimental protocol used and how was it carried out? What preprocessing steps are used?**\n",
        "\n",
        "\n",
        "\n",
        "1.   import the required libraries\n",
        "2.   Read the data\n",
        "3.   make preprocessing such as\n",
        "      *   clean the data from html tags , digits, punctuation\n",
        "      *   steaming preprocessing\n",
        "      *   lemmatization preprocessing\n",
        "\n",
        "4.   building set of models with serch space \n",
        "2.   choose the model with the best score of AUC-ROC"
      ],
      "metadata": {
        "id": "KTNA9_O5815w"
      }
    },
    {
      "cell_type": "markdown",
      "source": [
        "# **What is the difference between Character n-gram and Word n-gram? Which one tends to suffer more from the OOV issue ?**\n",
        "- Character n-gram : it is set of characters taken from a text or speech sample\n",
        "- Word n-gram : it is set of words taken from a text or speech sample\n",
        "\n",
        "- Character n-grams tend to handle OOV words better, but may suffer from the curse of dimensionality, while word n-grams may not handle OOV words as well, but can capture more complex syntactic and semantic relationships between words.\n"
      ],
      "metadata": {
        "id": "xzY-MAs3AFSw"
      }
    },
    {
      "cell_type": "markdown",
      "source": [
        "# **What is the difference between stop word removal and stemming? Are these techniques language-dependent**?\n",
        "- stemming :  remove suffix and prefix without remove the whole words\n",
        "- stop words removal : remove predefined words such as \"a,an,the\"\n",
        "- both are language dependant , because grammer and stop words in English not like grammer and stop word in another language "
      ],
      "metadata": {
        "id": "eO95fd-UCDfQ"
      }
    },
    {
      "cell_type": "markdown",
      "source": [
        "# **Is tokenization techniques language dependent? Why?**\n",
        "NO, beacuse of the tokenization mean divide the text into set of words based on specific delimiter , so that tokens created based on delimiter , not the language"
      ],
      "metadata": {
        "id": "P823vYASEuoJ"
      }
    },
    {
      "cell_type": "markdown",
      "source": [
        "# **What is the difference between count vectorizer and tf-idf vectorizer? Would it be feasible to use all possible n-grams? If not, how should you select them?**\n",
        "\n",
        "- count vectorizer : convert the words into vector based on the count of each word in text\n",
        "-  tf-idf vectorizer :  count how many time the word appear in the text (tf) **divided by** count how many time the word appear in the whole document(idf)\n",
        "\n",
        "- it wouldn't be feasiable but we  can select them by using some of search space method techniques like Grid search"
      ],
      "metadata": {
        "id": "1iMAIjEIGRig"
      }
    },
    {
      "cell_type": "code",
      "source": [
        "# This Python 3 environment comes with many helpful analytics libraries installed\n",
        "# It is defined by the kaggle/python Docker image: https://github.com/kaggle/docker-python\n",
        "# For example, here's several helpful packages to load\n",
        "\n",
        "import numpy as np # linear algebra\n",
        "import pandas as pd # data processing, CSV file I/O (e.g. pd.read_csv)\n",
        "\n",
        "# Input data files are available in the read-only \"../input/\" directory\n",
        "# For example, running this (by clicking run or pressing Shift+Enter) will list all files under the input directory\n",
        "\n",
        "import os\n",
        "for dirname, _, filenames in os.walk('/kaggle/input'):\n",
        "    for filename in filenames:\n",
        "        print(os.path.join(dirname, filename))\n",
        "\n",
        "# You can write up to 20GB to the current directory (/kaggle/working/) that gets preserved as output when you create a version using \"Save & Run All\" \n",
        "# You can also write temporary files to /kaggle/temp/, but they won't be saved outside of the current session"
      ],
      "metadata": {
        "_uuid": "8f2839f25d086af736a60e9eeb907d3b93b6e0e5",
        "_cell_guid": "b1076dfc-b9ad-4769-8c92-a6c4dae69d19",
        "execution": {
          "iopub.status.busy": "2023-04-04T19:19:51.676390Z",
          "iopub.execute_input": "2023-04-04T19:19:51.677516Z",
          "iopub.status.idle": "2023-04-04T19:19:51.694932Z",
          "shell.execute_reply.started": "2023-04-04T19:19:51.677453Z",
          "shell.execute_reply": "2023-04-04T19:19:51.693460Z"
        },
        "id": "CoSfzgHj3pkM"
      },
      "execution_count": null,
      "outputs": []
    },
    {
      "cell_type": "markdown",
      "source": [
        "# **import libraries**"
      ],
      "metadata": {
        "id": "KqjWQcBc3pkN"
      }
    },
    {
      "cell_type": "code",
      "source": [
        "# import the required libraries\n",
        "import pandas as pd\n",
        "import numpy as np\n",
        "from nltk import word_tokenize, pos_tag \n",
        "from nltk.corpus import stopwords, wordnet \n",
        "from nltk.stem import WordNetLemmatizer\n",
        "import nltk\n",
        "import re\n",
        "import string\n",
        "from nltk.stem import PorterStemmer\n",
        "import warnings \n",
        "from sklearn.model_selection import train_test_split\n",
        "from sklearn.feature_extraction.text import TfidfVectorizer, CountVectorizer\n",
        "from sklearn.linear_model import LogisticRegression\n",
        "from sklearn.model_selection import PredefinedSplit\n",
        "from sklearn.ensemble import RandomForestClassifier\n",
        "from sklearn.pipeline import Pipeline\n",
        "from sklearn.model_selection import  RandomizedSearchCV\n",
        "from xgboost import XGBClassifier\n",
        "from nltk.tokenize import word_tokenize\n",
        "warnings.filterwarnings('ignore')\n",
        "warnings.simplefilter('ignore')"
      ],
      "metadata": {
        "execution": {
          "iopub.status.busy": "2023-04-04T19:19:51.713928Z",
          "iopub.execute_input": "2023-04-04T19:19:51.714340Z",
          "iopub.status.idle": "2023-04-04T19:19:52.422701Z",
          "shell.execute_reply.started": "2023-04-04T19:19:51.714301Z",
          "shell.execute_reply": "2023-04-04T19:19:52.421289Z"
        },
        "trusted": true,
        "id": "CRS_mu2-3pkO"
      },
      "execution_count": null,
      "outputs": []
    },
    {
      "cell_type": "code",
      "source": [
        "# The nltk.download() function is used to download NLTK data and resources\n",
        "nltk.download('omw-1.4')\n",
        "nltk.download('all')"
      ],
      "metadata": {
        "execution": {
          "iopub.status.busy": "2023-04-04T19:19:52.425285Z",
          "iopub.execute_input": "2023-04-04T19:19:52.425969Z",
          "iopub.status.idle": "2023-04-04T19:19:55.296158Z",
          "shell.execute_reply.started": "2023-04-04T19:19:52.425927Z",
          "shell.execute_reply": "2023-04-04T19:19:55.294676Z"
        },
        "trusted": true,
        "id": "_mEHdXPx3pkP",
        "outputId": "761e794a-8f92-488a-ba6a-4d65c1cb80f8"
      },
      "execution_count": null,
      "outputs": [
        {
          "name": "stdout",
          "text": "[nltk_data] Downloading package omw-1.4 to /usr/share/nltk_data...\n[nltk_data]   Package omw-1.4 is already up-to-date!\n[nltk_data] Downloading collection 'all'\n[nltk_data]    | \n[nltk_data]    | Downloading package abc to /usr/share/nltk_data...\n[nltk_data]    |   Package abc is already up-to-date!\n[nltk_data]    | Downloading package alpino to /usr/share/nltk_data...\n[nltk_data]    |   Package alpino is already up-to-date!\n[nltk_data]    | Downloading package averaged_perceptron_tagger to\n[nltk_data]    |     /usr/share/nltk_data...\n[nltk_data]    |   Package averaged_perceptron_tagger is already up-\n[nltk_data]    |       to-date!\n[nltk_data]    | Downloading package averaged_perceptron_tagger_ru to\n[nltk_data]    |     /usr/share/nltk_data...\n[nltk_data]    |   Package averaged_perceptron_tagger_ru is already\n[nltk_data]    |       up-to-date!\n[nltk_data]    | Downloading package basque_grammars to\n[nltk_data]    |     /usr/share/nltk_data...\n[nltk_data]    |   Package basque_grammars is already up-to-date!\n[nltk_data]    | Downloading package bcp47 to /usr/share/nltk_data...\n[nltk_data]    |   Package bcp47 is already up-to-date!\n[nltk_data]    | Downloading package biocreative_ppi to\n[nltk_data]    |     /usr/share/nltk_data...\n[nltk_data]    |   Package biocreative_ppi is already up-to-date!\n[nltk_data]    | Downloading package bllip_wsj_no_aux to\n[nltk_data]    |     /usr/share/nltk_data...\n[nltk_data]    |   Package bllip_wsj_no_aux is already up-to-date!\n[nltk_data]    | Downloading package book_grammars to\n[nltk_data]    |     /usr/share/nltk_data...\n[nltk_data]    |   Package book_grammars is already up-to-date!\n[nltk_data]    | Downloading package brown to /usr/share/nltk_data...\n[nltk_data]    |   Package brown is already up-to-date!\n[nltk_data]    | Downloading package brown_tei to\n[nltk_data]    |     /usr/share/nltk_data...\n[nltk_data]    |   Package brown_tei is already up-to-date!\n[nltk_data]    | Downloading package cess_cat to\n[nltk_data]    |     /usr/share/nltk_data...\n[nltk_data]    |   Package cess_cat is already up-to-date!\n[nltk_data]    | Downloading package cess_esp to\n[nltk_data]    |     /usr/share/nltk_data...\n[nltk_data]    |   Package cess_esp is already up-to-date!\n[nltk_data]    | Downloading package chat80 to /usr/share/nltk_data...\n[nltk_data]    |   Package chat80 is already up-to-date!\n[nltk_data]    | Downloading package city_database to\n[nltk_data]    |     /usr/share/nltk_data...\n[nltk_data]    |   Package city_database is already up-to-date!\n[nltk_data]    | Downloading package cmudict to\n[nltk_data]    |     /usr/share/nltk_data...\n[nltk_data]    |   Package cmudict is already up-to-date!\n[nltk_data]    | Downloading package comparative_sentences to\n[nltk_data]    |     /usr/share/nltk_data...\n[nltk_data]    |   Package comparative_sentences is already up-to-\n[nltk_data]    |       date!\n[nltk_data]    | Downloading package comtrans to\n[nltk_data]    |     /usr/share/nltk_data...\n[nltk_data]    |   Package comtrans is already up-to-date!\n[nltk_data]    | Downloading package conll2000 to\n[nltk_data]    |     /usr/share/nltk_data...\n[nltk_data]    |   Package conll2000 is already up-to-date!\n[nltk_data]    | Downloading package conll2002 to\n[nltk_data]    |     /usr/share/nltk_data...\n[nltk_data]    |   Package conll2002 is already up-to-date!\n[nltk_data]    | Downloading package conll2007 to\n[nltk_data]    |     /usr/share/nltk_data...\n[nltk_data]    |   Package conll2007 is already up-to-date!\n[nltk_data]    | Downloading package crubadan to\n[nltk_data]    |     /usr/share/nltk_data...\n[nltk_data]    |   Package crubadan is already up-to-date!\n[nltk_data]    | Downloading package dependency_treebank to\n[nltk_data]    |     /usr/share/nltk_data...\n[nltk_data]    |   Package dependency_treebank is already up-to-date!\n[nltk_data]    | Downloading package dolch to /usr/share/nltk_data...\n[nltk_data]    |   Package dolch is already up-to-date!\n[nltk_data]    | Downloading package europarl_raw to\n[nltk_data]    |     /usr/share/nltk_data...\n[nltk_data]    |   Package europarl_raw is already up-to-date!\n[nltk_data]    | Downloading package extended_omw to\n[nltk_data]    |     /usr/share/nltk_data...\n[nltk_data]    |   Package extended_omw is already up-to-date!\n[nltk_data]    | Downloading package floresta to\n[nltk_data]    |     /usr/share/nltk_data...\n[nltk_data]    |   Package floresta is already up-to-date!\n[nltk_data]    | Downloading package framenet_v15 to\n[nltk_data]    |     /usr/share/nltk_data...\n[nltk_data]    |   Package framenet_v15 is already up-to-date!\n[nltk_data]    | Downloading package framenet_v17 to\n[nltk_data]    |     /usr/share/nltk_data...\n[nltk_data]    |   Package framenet_v17 is already up-to-date!\n[nltk_data]    | Downloading package gazetteers to\n[nltk_data]    |     /usr/share/nltk_data...\n[nltk_data]    |   Package gazetteers is already up-to-date!\n[nltk_data]    | Downloading package genesis to\n[nltk_data]    |     /usr/share/nltk_data...\n[nltk_data]    |   Package genesis is already up-to-date!\n[nltk_data]    | Downloading package gutenberg to\n[nltk_data]    |     /usr/share/nltk_data...\n[nltk_data]    |   Package gutenberg is already up-to-date!\n[nltk_data]    | Downloading package ieer to /usr/share/nltk_data...\n[nltk_data]    |   Package ieer is already up-to-date!\n[nltk_data]    | Downloading package inaugural to\n[nltk_data]    |     /usr/share/nltk_data...\n[nltk_data]    |   Package inaugural is already up-to-date!\n[nltk_data]    | Downloading package indian to /usr/share/nltk_data...\n[nltk_data]    |   Package indian is already up-to-date!\n[nltk_data]    | Downloading package jeita to /usr/share/nltk_data...\n[nltk_data]    |   Package jeita is already up-to-date!\n[nltk_data]    | Downloading package kimmo to /usr/share/nltk_data...\n[nltk_data]    |   Package kimmo is already up-to-date!\n[nltk_data]    | Downloading package knbc to /usr/share/nltk_data...\n[nltk_data]    |   Package knbc is already up-to-date!\n[nltk_data]    | Downloading package large_grammars to\n[nltk_data]    |     /usr/share/nltk_data...\n[nltk_data]    |   Package large_grammars is already up-to-date!\n[nltk_data]    | Downloading package lin_thesaurus to\n[nltk_data]    |     /usr/share/nltk_data...\n[nltk_data]    |   Package lin_thesaurus is already up-to-date!\n[nltk_data]    | Downloading package mac_morpho to\n[nltk_data]    |     /usr/share/nltk_data...\n[nltk_data]    |   Package mac_morpho is already up-to-date!\n[nltk_data]    | Downloading package machado to\n[nltk_data]    |     /usr/share/nltk_data...\n[nltk_data]    |   Package machado is already up-to-date!\n[nltk_data]    | Downloading package masc_tagged to\n[nltk_data]    |     /usr/share/nltk_data...\n[nltk_data]    |   Package masc_tagged is already up-to-date!\n[nltk_data]    | Downloading package maxent_ne_chunker to\n[nltk_data]    |     /usr/share/nltk_data...\n[nltk_data]    |   Package maxent_ne_chunker is already up-to-date!\n[nltk_data]    | Downloading package maxent_treebank_pos_tagger to\n[nltk_data]    |     /usr/share/nltk_data...\n[nltk_data]    |   Package maxent_treebank_pos_tagger is already up-\n[nltk_data]    |       to-date!\n[nltk_data]    | Downloading package moses_sample to\n[nltk_data]    |     /usr/share/nltk_data...\n[nltk_data]    |   Package moses_sample is already up-to-date!\n[nltk_data]    | Downloading package movie_reviews to\n[nltk_data]    |     /usr/share/nltk_data...\n[nltk_data]    |   Package movie_reviews is already up-to-date!\n[nltk_data]    | Downloading package mte_teip5 to\n[nltk_data]    |     /usr/share/nltk_data...\n[nltk_data]    |   Package mte_teip5 is already up-to-date!\n[nltk_data]    | Downloading package mwa_ppdb to\n[nltk_data]    |     /usr/share/nltk_data...\n[nltk_data]    |   Package mwa_ppdb is already up-to-date!\n[nltk_data]    | Downloading package names to /usr/share/nltk_data...\n[nltk_data]    |   Package names is already up-to-date!\n[nltk_data]    | Downloading package nombank.1.0 to\n[nltk_data]    |     /usr/share/nltk_data...\n[nltk_data]    |   Package nombank.1.0 is already up-to-date!\n[nltk_data]    | Downloading package nonbreaking_prefixes to\n[nltk_data]    |     /usr/share/nltk_data...\n[nltk_data]    |   Package nonbreaking_prefixes is already up-to-date!\n[nltk_data]    | Downloading package nps_chat to\n[nltk_data]    |     /usr/share/nltk_data...\n[nltk_data]    |   Package nps_chat is already up-to-date!\n[nltk_data]    | Downloading package omw to /usr/share/nltk_data...\n[nltk_data]    |   Package omw is already up-to-date!\n[nltk_data]    | Downloading package omw-1.4 to\n[nltk_data]    |     /usr/share/nltk_data...\n[nltk_data]    |   Package omw-1.4 is already up-to-date!\n[nltk_data]    | Downloading package opinion_lexicon to\n[nltk_data]    |     /usr/share/nltk_data...\n[nltk_data]    |   Package opinion_lexicon is already up-to-date!\n[nltk_data]    | Downloading package panlex_swadesh to\n[nltk_data]    |     /usr/share/nltk_data...\n[nltk_data]    |   Package panlex_swadesh is already up-to-date!\n[nltk_data]    | Downloading package paradigms to\n[nltk_data]    |     /usr/share/nltk_data...\n[nltk_data]    |   Package paradigms is already up-to-date!\n[nltk_data]    | Downloading package pe08 to /usr/share/nltk_data...\n[nltk_data]    |   Package pe08 is already up-to-date!\n[nltk_data]    | Downloading package perluniprops to\n[nltk_data]    |     /usr/share/nltk_data...\n[nltk_data]    |   Package perluniprops is already up-to-date!\n[nltk_data]    | Downloading package pil to /usr/share/nltk_data...\n[nltk_data]    |   Package pil is already up-to-date!\n[nltk_data]    | Downloading package pl196x to /usr/share/nltk_data...\n[nltk_data]    |   Package pl196x is already up-to-date!\n[nltk_data]    | Downloading package porter_test to\n[nltk_data]    |     /usr/share/nltk_data...\n[nltk_data]    |   Package porter_test is already up-to-date!\n[nltk_data]    | Downloading package ppattach to\n[nltk_data]    |     /usr/share/nltk_data...\n[nltk_data]    |   Package ppattach is already up-to-date!\n[nltk_data]    | Downloading package problem_reports to\n[nltk_data]    |     /usr/share/nltk_data...\n[nltk_data]    |   Package problem_reports is already up-to-date!\n[nltk_data]    | Downloading package product_reviews_1 to\n[nltk_data]    |     /usr/share/nltk_data...\n[nltk_data]    |   Package product_reviews_1 is already up-to-date!\n[nltk_data]    | Downloading package product_reviews_2 to\n[nltk_data]    |     /usr/share/nltk_data...\n[nltk_data]    |   Package product_reviews_2 is already up-to-date!\n[nltk_data]    | Downloading package propbank to\n[nltk_data]    |     /usr/share/nltk_data...\n[nltk_data]    |   Package propbank is already up-to-date!\n[nltk_data]    | Downloading package pros_cons to\n[nltk_data]    |     /usr/share/nltk_data...\n[nltk_data]    |   Package pros_cons is already up-to-date!\n[nltk_data]    | Downloading package ptb to /usr/share/nltk_data...\n[nltk_data]    |   Package ptb is already up-to-date!\n[nltk_data]    | Downloading package punkt to /usr/share/nltk_data...\n[nltk_data]    |   Package punkt is already up-to-date!\n[nltk_data]    | Downloading package qc to /usr/share/nltk_data...\n[nltk_data]    |   Package qc is already up-to-date!\n[nltk_data]    | Downloading package reuters to\n[nltk_data]    |     /usr/share/nltk_data...\n[nltk_data]    |   Package reuters is already up-to-date!\n[nltk_data]    | Downloading package rslp to /usr/share/nltk_data...\n[nltk_data]    |   Package rslp is already up-to-date!\n[nltk_data]    | Downloading package rte to /usr/share/nltk_data...\n[nltk_data]    |   Package rte is already up-to-date!\n[nltk_data]    | Downloading package sample_grammars to\n[nltk_data]    |     /usr/share/nltk_data...\n[nltk_data]    |   Package sample_grammars is already up-to-date!\n[nltk_data]    | Downloading package semcor to /usr/share/nltk_data...\n[nltk_data]    |   Package semcor is already up-to-date!\n[nltk_data]    | Downloading package senseval to\n[nltk_data]    |     /usr/share/nltk_data...\n[nltk_data]    |   Package senseval is already up-to-date!\n[nltk_data]    | Downloading package sentence_polarity to\n[nltk_data]    |     /usr/share/nltk_data...\n[nltk_data]    |   Package sentence_polarity is already up-to-date!\n[nltk_data]    | Downloading package sentiwordnet to\n[nltk_data]    |     /usr/share/nltk_data...\n[nltk_data]    |   Package sentiwordnet is already up-to-date!\n[nltk_data]    | Downloading package shakespeare to\n[nltk_data]    |     /usr/share/nltk_data...\n[nltk_data]    |   Package shakespeare is already up-to-date!\n[nltk_data]    | Downloading package sinica_treebank to\n[nltk_data]    |     /usr/share/nltk_data...\n[nltk_data]    |   Package sinica_treebank is already up-to-date!\n[nltk_data]    | Downloading package smultron to\n[nltk_data]    |     /usr/share/nltk_data...\n[nltk_data]    |   Package smultron is already up-to-date!\n[nltk_data]    | Downloading package snowball_data to\n[nltk_data]    |     /usr/share/nltk_data...\n[nltk_data]    |   Package snowball_data is already up-to-date!\n[nltk_data]    | Downloading package spanish_grammars to\n[nltk_data]    |     /usr/share/nltk_data...\n[nltk_data]    |   Package spanish_grammars is already up-to-date!\n[nltk_data]    | Downloading package state_union to\n[nltk_data]    |     /usr/share/nltk_data...\n[nltk_data]    |   Package state_union is already up-to-date!\n[nltk_data]    | Downloading package stopwords to\n[nltk_data]    |     /usr/share/nltk_data...\n[nltk_data]    |   Package stopwords is already up-to-date!\n[nltk_data]    | Downloading package subjectivity to\n[nltk_data]    |     /usr/share/nltk_data...\n[nltk_data]    |   Package subjectivity is already up-to-date!\n[nltk_data]    | Downloading package swadesh to\n[nltk_data]    |     /usr/share/nltk_data...\n[nltk_data]    |   Package swadesh is already up-to-date!\n[nltk_data]    | Downloading package switchboard to\n[nltk_data]    |     /usr/share/nltk_data...\n[nltk_data]    |   Package switchboard is already up-to-date!\n[nltk_data]    | Downloading package tagsets to\n[nltk_data]    |     /usr/share/nltk_data...\n[nltk_data]    |   Package tagsets is already up-to-date!\n[nltk_data]    | Downloading package timit to /usr/share/nltk_data...\n[nltk_data]    |   Package timit is already up-to-date!\n[nltk_data]    | Downloading package toolbox to\n[nltk_data]    |     /usr/share/nltk_data...\n[nltk_data]    |   Package toolbox is already up-to-date!\n[nltk_data]    | Downloading package treebank to\n[nltk_data]    |     /usr/share/nltk_data...\n[nltk_data]    |   Package treebank is already up-to-date!\n[nltk_data]    | Downloading package twitter_samples to\n[nltk_data]    |     /usr/share/nltk_data...\n[nltk_data]    |   Package twitter_samples is already up-to-date!\n[nltk_data]    | Downloading package udhr to /usr/share/nltk_data...\n[nltk_data]    |   Package udhr is already up-to-date!\n[nltk_data]    | Downloading package udhr2 to /usr/share/nltk_data...\n[nltk_data]    |   Package udhr2 is already up-to-date!\n[nltk_data]    | Downloading package unicode_samples to\n[nltk_data]    |     /usr/share/nltk_data...\n[nltk_data]    |   Package unicode_samples is already up-to-date!\n[nltk_data]    | Downloading package universal_tagset to\n[nltk_data]    |     /usr/share/nltk_data...\n[nltk_data]    |   Package universal_tagset is already up-to-date!\n[nltk_data]    | Downloading package universal_treebanks_v20 to\n[nltk_data]    |     /usr/share/nltk_data...\n[nltk_data]    |   Package universal_treebanks_v20 is already up-to-\n[nltk_data]    |       date!\n[nltk_data]    | Downloading package vader_lexicon to\n[nltk_data]    |     /usr/share/nltk_data...\n[nltk_data]    |   Package vader_lexicon is already up-to-date!\n[nltk_data]    | Downloading package verbnet to\n[nltk_data]    |     /usr/share/nltk_data...\n[nltk_data]    |   Package verbnet is already up-to-date!\n[nltk_data]    | Downloading package verbnet3 to\n[nltk_data]    |     /usr/share/nltk_data...\n[nltk_data]    |   Package verbnet3 is already up-to-date!\n[nltk_data]    | Downloading package webtext to\n[nltk_data]    |     /usr/share/nltk_data...\n[nltk_data]    |   Package webtext is already up-to-date!\n[nltk_data]    | Downloading package wmt15_eval to\n[nltk_data]    |     /usr/share/nltk_data...\n[nltk_data]    |   Package wmt15_eval is already up-to-date!\n[nltk_data]    | Downloading package word2vec_sample to\n[nltk_data]    |     /usr/share/nltk_data...\n[nltk_data]    |   Package word2vec_sample is already up-to-date!\n[nltk_data]    | Downloading package wordnet to\n[nltk_data]    |     /usr/share/nltk_data...\n[nltk_data]    |   Unzipping corpora/wordnet.zip.\n[nltk_data]    | Downloading package wordnet2021 to\n[nltk_data]    |     /usr/share/nltk_data...\n[nltk_data]    |   Package wordnet2021 is already up-to-date!\n[nltk_data]    | Downloading package wordnet2022 to\n[nltk_data]    |     /usr/share/nltk_data...\n[nltk_data]    |   Package wordnet2022 is already up-to-date!\n[nltk_data]    | Downloading package wordnet31 to\n[nltk_data]    |     /usr/share/nltk_data...\n[nltk_data]    |   Package wordnet31 is already up-to-date!\n[nltk_data]    | Downloading package wordnet_ic to\n[nltk_data]    |     /usr/share/nltk_data...\n[nltk_data]    |   Package wordnet_ic is already up-to-date!\n[nltk_data]    | Downloading package words to /usr/share/nltk_data...\n[nltk_data]    |   Package words is already up-to-date!\n[nltk_data]    | Downloading package ycoe to /usr/share/nltk_data...\n[nltk_data]    |   Package ycoe is already up-to-date!\n[nltk_data]    | \n[nltk_data]  Done downloading collection all\n",
          "output_type": "stream"
        },
        {
          "execution_count": 3,
          "output_type": "execute_result",
          "data": {
            "text/plain": "True"
          },
          "metadata": {}
        }
      ]
    },
    {
      "cell_type": "code",
      "source": [
        "\"\"\"\n",
        "This command removes the directory \n",
        "/usr/share/nltk_data/corpora/wordnet and all its contents,\n",
        "and then recursively copies the directory \n",
        "/usr/share/nltk_data/corpora/wordnet2022 to /usr/share/nltk_data/corpora/wordnet.\"\n",
        "\"\"\"\n",
        "!cp -rf /usr/share/nltk_data/corpora/wordnet2022 /usr/share/nltk_data/corpora/wordnet \n",
        "#temp fix for lookup error."
      ],
      "metadata": {
        "execution": {
          "iopub.status.busy": "2023-04-04T19:19:55.297903Z",
          "iopub.execute_input": "2023-04-04T19:19:55.298249Z",
          "iopub.status.idle": "2023-04-04T19:19:56.550485Z",
          "shell.execute_reply.started": "2023-04-04T19:19:55.298216Z",
          "shell.execute_reply": "2023-04-04T19:19:56.548724Z"
        },
        "trusted": true,
        "id": "4Vxx8kap3pkP"
      },
      "execution_count": null,
      "outputs": []
    },
    {
      "cell_type": "markdown",
      "source": [
        "# **Read The Data**"
      ],
      "metadata": {
        "id": "RC3JGohX3pkQ"
      }
    },
    {
      "cell_type": "code",
      "source": [
        "# reading \"xy_train.csv\" that contain id , text , label\n",
        "train = pd.read_csv('/kaggle/input/cisc-873-dm-w23-a3/xy_train.csv', sep=\",\", na_values=[\"\"])\n",
        "# reading \"x_test.csv\" that contai id , text\n",
        "test = pd.read_csv('/kaggle/input/cisc-873-dm-w23-a3/x_test.csv',index_col='id')"
      ],
      "metadata": {
        "execution": {
          "iopub.status.busy": "2023-04-04T19:19:56.652393Z",
          "iopub.execute_input": "2023-04-04T19:19:56.653743Z",
          "iopub.status.idle": "2023-04-04T19:19:56.910366Z",
          "shell.execute_reply.started": "2023-04-04T19:19:56.653685Z",
          "shell.execute_reply": "2023-04-04T19:19:56.909124Z"
        },
        "trusted": true,
        "id": "v1dRUBqO3pkQ"
      },
      "execution_count": null,
      "outputs": []
    },
    {
      "cell_type": "markdown",
      "source": [
        "# **Explore The Data**"
      ],
      "metadata": {
        "id": "94EM3-PH3pkQ"
      }
    },
    {
      "cell_type": "code",
      "source": [
        "# count frequent for each class in label\n",
        "train.label.value_counts()"
      ],
      "metadata": {
        "execution": {
          "iopub.status.busy": "2023-04-04T19:24:30.206894Z",
          "iopub.execute_input": "2023-04-04T19:24:30.207360Z",
          "iopub.status.idle": "2023-04-04T19:24:30.217902Z",
          "shell.execute_reply.started": "2023-04-04T19:24:30.207320Z",
          "shell.execute_reply": "2023-04-04T19:24:30.216542Z"
        },
        "trusted": true,
        "id": "jDWbsenI3pkR",
        "outputId": "2e82e0cc-04a5-460f-fa7e-5812bd336d2e"
      },
      "execution_count": null,
      "outputs": [
        {
          "execution_count": 13,
          "output_type": "execute_result",
          "data": {
            "text/plain": "0    32172\n1    27596\n2      232\nName: label, dtype: int64"
          },
          "metadata": {}
        }
      ]
    },
    {
      "cell_type": "code",
      "source": [
        "# the label contain three values (0,1,2)\n",
        "# using Matplotlib to draw the count of 0,1 and 2\n",
        "import matplotlib.pyplot as plt\n",
        "plt.bar([\"0\", \"1\", \"2\"], train[\"label\"].value_counts())\n",
        "plt.title(\"Representation Of Target\")\n",
        "plt.xlabel(\"Labels\")\n",
        "plt.ylabel(\"Counts\")\n",
        "plt.show()"
      ],
      "metadata": {
        "execution": {
          "iopub.status.busy": "2023-04-04T19:25:30.130049Z",
          "iopub.execute_input": "2023-04-04T19:25:30.130492Z",
          "iopub.status.idle": "2023-04-04T19:25:30.263622Z",
          "shell.execute_reply.started": "2023-04-04T19:25:30.130454Z",
          "shell.execute_reply": "2023-04-04T19:25:30.262242Z"
        },
        "trusted": true,
        "id": "Z7IaTu2l3pkR",
        "outputId": "721b1fa6-215f-4a99-da53-5133083301d5"
      },
      "execution_count": null,
      "outputs": [
        {
          "output_type": "display_data",
          "data": {
            "text/plain": "<Figure size 640x480 with 1 Axes>",
            "image/png": "[encoded data removed]"
          },
          "metadata": {}
        }
      ]
    },
    {
      "cell_type": "code",
      "source": [
        "# This command drops all the rows from the train DataFrame where the label column has a value of 2.\n",
        "# the label of train data contain three values (0,1,2)\n",
        "# i will remove the value \"2\" from label  because we predict if a specific reddit post is fake news or not(0 or 1)\n",
        "train = train.drop(train[train.label == 2].index)"
      ],
      "metadata": {
        "execution": {
          "iopub.status.busy": "2023-04-04T19:26:32.766754Z",
          "iopub.execute_input": "2023-04-04T19:26:32.767219Z",
          "iopub.status.idle": "2023-04-04T19:26:32.780900Z",
          "shell.execute_reply.started": "2023-04-04T19:26:32.767176Z",
          "shell.execute_reply": "2023-04-04T19:26:32.779437Z"
        },
        "trusted": true,
        "id": "4vPDXEGH3pkR"
      },
      "execution_count": null,
      "outputs": []
    },
    {
      "cell_type": "code",
      "source": [
        "# count frequent for each class in label after drop the value \"2\" from label\n",
        "train.label.value_counts()"
      ],
      "metadata": {
        "execution": {
          "iopub.status.busy": "2023-04-04T19:27:53.038036Z",
          "iopub.execute_input": "2023-04-04T19:27:53.038475Z",
          "iopub.status.idle": "2023-04-04T19:27:53.049867Z",
          "shell.execute_reply.started": "2023-04-04T19:27:53.038439Z",
          "shell.execute_reply": "2023-04-04T19:27:53.048295Z"
        },
        "trusted": true,
        "id": "LEMMO7AK3pkR",
        "outputId": "1d9d2eb3-2f78-4525-817b-85ddcde3acee"
      },
      "execution_count": null,
      "outputs": [
        {
          "execution_count": 17,
          "output_type": "execute_result",
          "data": {
            "text/plain": "0    32172\n1    27596\nName: label, dtype: int64"
          },
          "metadata": {}
        }
      ]
    },
    {
      "cell_type": "code",
      "source": [
        "# the label contain three values (0,1)\n",
        "# using Matplotlib to draw the count of 0,1 \n",
        "import matplotlib.pyplot as plt\n",
        "plt.bar([\"0\" , \"1\"], train[\"label\"].value_counts())\n",
        "plt.title(\"Representation Of Target After Dropping\")\n",
        "plt.xlabel(\"Labels\")\n",
        "plt.ylabel(\"Counts\")\n",
        "plt.show()"
      ],
      "metadata": {
        "execution": {
          "iopub.status.busy": "2023-04-04T19:29:02.465977Z",
          "iopub.execute_input": "2023-04-04T19:29:02.466417Z",
          "iopub.status.idle": "2023-04-04T19:29:02.664362Z",
          "shell.execute_reply.started": "2023-04-04T19:29:02.466364Z",
          "shell.execute_reply": "2023-04-04T19:29:02.663030Z"
        },
        "trusted": true,
        "id": "Jm_1uMBk3pkR",
        "outputId": "924e4e1b-d42d-4a0b-9c1f-f366f83d2a84"
      },
      "execution_count": null,
      "outputs": [
        {
          "output_type": "display_data",
          "data": {
            "text/plain": "<Figure size 640x480 with 1 Axes>",
            "image/png": "[encoded data removed]"
          },
          "metadata": {}
        }
      ]
    },
    {
      "cell_type": "code",
      "source": [
        "# converts the label column in the train DataFrame to the int8 data type\n",
        "train.label = train.label.astype('int8')"
      ],
      "metadata": {
        "execution": {
          "iopub.status.busy": "2023-04-04T20:03:02.000306Z",
          "iopub.execute_input": "2023-04-04T20:03:02.001047Z",
          "iopub.status.idle": "2023-04-04T20:03:02.008553Z",
          "shell.execute_reply.started": "2023-04-04T20:03:02.000986Z",
          "shell.execute_reply": "2023-04-04T20:03:02.007243Z"
        },
        "trusted": true,
        "id": "02v29C053pkS"
      },
      "execution_count": null,
      "outputs": []
    },
    {
      "cell_type": "code",
      "source": [
        "# catch id of test id \n",
        "id = test.index"
      ],
      "metadata": {
        "execution": {
          "iopub.status.busy": "2023-04-04T20:03:02.907840Z",
          "iopub.execute_input": "2023-04-04T20:03:02.908457Z",
          "iopub.status.idle": "2023-04-04T20:03:02.915910Z",
          "shell.execute_reply.started": "2023-04-04T20:03:02.908401Z",
          "shell.execute_reply": "2023-04-04T20:03:02.914405Z"
        },
        "trusted": true,
        "id": "51-HDZsD3pkS"
      },
      "execution_count": null,
      "outputs": []
    },
    {
      "cell_type": "code",
      "source": [
        "# show train data that contain \"id,text,label\"\n",
        "train"
      ],
      "metadata": {
        "execution": {
          "iopub.status.busy": "2023-04-04T20:03:04.482529Z",
          "iopub.execute_input": "2023-04-04T20:03:04.482972Z",
          "iopub.status.idle": "2023-04-04T20:03:04.501310Z",
          "shell.execute_reply.started": "2023-04-04T20:03:04.482933Z",
          "shell.execute_reply": "2023-04-04T20:03:04.499723Z"
        },
        "trusted": true,
        "id": "GjbEymdh3pkS",
        "outputId": "56f0880e-9821-4356-cfb7-00a3d69ce414"
      },
      "execution_count": null,
      "outputs": [
        {
          "execution_count": 35,
          "output_type": "execute_result",
          "data": {
            "text/plain": "           id                                               text  label\n0      265723  A group of friends began to volunteer at a hom...      0\n1      284269  British Prime Minister @Theresa_May on Nerve A...      0\n2      207715  In 1961, Goodyear released a kit that allows P...      0\n3      551106  Happy Birthday, Bob Barker! The Price Is Right...      0\n4        8584  Obama to Nation: 聙\"Innocent Cops and Unarmed Y...      0\n...       ...                                                ...    ...\n59995   70046  Finish Sniper Simo H盲yh盲 during the invasion o...      0\n59996  189377  Nigerian Prince Scam took $110K from Kansas ma...      1\n59997   93486  Is It Safe To Smoke Marijuana During Pregnancy...      0\n59998  140950  Julius Caesar upon realizing that everyone in ...      0\n59999   34509  Jeff Bridges Releasing 鈥楽leeping Tapes,鈥?a New...      1\n\n[59768 rows x 3 columns]",
            "text/html": "<div>\n<style scoped>\n    .dataframe tbody tr th:only-of-type {\n        vertical-align: middle;\n    }\n\n    .dataframe tbody tr th {\n        vertical-align: top;\n    }\n\n    .dataframe thead th {\n        text-align: right;\n    }\n</style>\n<table border=\"1\" class=\"dataframe\">\n  <thead>\n    <tr style=\"text-align: right;\">\n      <th></th>\n      <th>id</th>\n      <th>text</th>\n      <th>label</th>\n    </tr>\n  </thead>\n  <tbody>\n    <tr>\n      <th>0</th>\n      <td>265723</td>\n      <td>A group of friends began to volunteer at a hom...</td>\n      <td>0</td>\n    </tr>\n    <tr>\n      <th>1</th>\n      <td>284269</td>\n      <td>British Prime Minister @Theresa_May on Nerve A...</td>\n      <td>0</td>\n    </tr>\n    <tr>\n      <th>2</th>\n      <td>207715</td>\n      <td>In 1961, Goodyear released a kit that allows P...</td>\n      <td>0</td>\n    </tr>\n    <tr>\n      <th>3</th>\n      <td>551106</td>\n      <td>Happy Birthday, Bob Barker! The Price Is Right...</td>\n      <td>0</td>\n    </tr>\n    <tr>\n      <th>4</th>\n      <td>8584</td>\n      <td>Obama to Nation: 聙\"Innocent Cops and Unarmed Y...</td>\n      <td>0</td>\n    </tr>\n    <tr>\n      <th>...</th>\n      <td>...</td>\n      <td>...</td>\n      <td>...</td>\n    </tr>\n    <tr>\n      <th>59995</th>\n      <td>70046</td>\n      <td>Finish Sniper Simo H盲yh盲 during the invasion o...</td>\n      <td>0</td>\n    </tr>\n    <tr>\n      <th>59996</th>\n      <td>189377</td>\n      <td>Nigerian Prince Scam took $110K from Kansas ma...</td>\n      <td>1</td>\n    </tr>\n    <tr>\n      <th>59997</th>\n      <td>93486</td>\n      <td>Is It Safe To Smoke Marijuana During Pregnancy...</td>\n      <td>0</td>\n    </tr>\n    <tr>\n      <th>59998</th>\n      <td>140950</td>\n      <td>Julius Caesar upon realizing that everyone in ...</td>\n      <td>0</td>\n    </tr>\n    <tr>\n      <th>59999</th>\n      <td>34509</td>\n      <td>Jeff Bridges Releasing 鈥楽leeping Tapes,鈥?a New...</td>\n      <td>1</td>\n    </tr>\n  </tbody>\n</table>\n<p>59768 rows × 3 columns</p>\n</div>"
          },
          "metadata": {}
        }
      ]
    },
    {
      "cell_type": "code",
      "source": [
        "# show test data that contain \"id,text\"\n",
        "# no label data\n",
        "test"
      ],
      "metadata": {
        "execution": {
          "iopub.status.busy": "2023-04-04T20:03:05.951314Z",
          "iopub.execute_input": "2023-04-04T20:03:05.952501Z",
          "iopub.status.idle": "2023-04-04T20:03:05.963981Z",
          "shell.execute_reply.started": "2023-04-04T20:03:05.952443Z",
          "shell.execute_reply": "2023-04-04T20:03:05.962638Z"
        },
        "trusted": true,
        "id": "le332flI3pkS",
        "outputId": "d3c0931d-d564-4422-a418-7c2df2357bb0"
      },
      "execution_count": null,
      "outputs": [
        {
          "execution_count": 36,
          "output_type": "execute_result",
          "data": {
            "text/plain": "                                                    text\nid                                                      \n0                                             stargazer \n1                                                   yeah\n2      PD: Phoenix car thief gets instructions from Y...\n3      As Trump Accuses Iran, He Has One Problem: His...\n4                           \"Believers\" - Hezbollah 2011\n...                                                  ...\n59146                  Bicycle taxi drivers of New Delhi\n59147  Trump blows up GOP's formula for winning House...\n59148  Napoleon returns from his exile on the island ...\n59149   Deep down he always wanted to be a ballet dancer\n59150  Toddler miraculously survives 6-story fall lan...\n\n[59151 rows x 1 columns]",
            "text/html": "<div>\n<style scoped>\n    .dataframe tbody tr th:only-of-type {\n        vertical-align: middle;\n    }\n\n    .dataframe tbody tr th {\n        vertical-align: top;\n    }\n\n    .dataframe thead th {\n        text-align: right;\n    }\n</style>\n<table border=\"1\" class=\"dataframe\">\n  <thead>\n    <tr style=\"text-align: right;\">\n      <th></th>\n      <th>text</th>\n    </tr>\n    <tr>\n      <th>id</th>\n      <th></th>\n    </tr>\n  </thead>\n  <tbody>\n    <tr>\n      <th>0</th>\n      <td>stargazer</td>\n    </tr>\n    <tr>\n      <th>1</th>\n      <td>yeah</td>\n    </tr>\n    <tr>\n      <th>2</th>\n      <td>PD: Phoenix car thief gets instructions from Y...</td>\n    </tr>\n    <tr>\n      <th>3</th>\n      <td>As Trump Accuses Iran, He Has One Problem: His...</td>\n    </tr>\n    <tr>\n      <th>4</th>\n      <td>\"Believers\" - Hezbollah 2011</td>\n    </tr>\n    <tr>\n      <th>...</th>\n      <td>...</td>\n    </tr>\n    <tr>\n      <th>59146</th>\n      <td>Bicycle taxi drivers of New Delhi</td>\n    </tr>\n    <tr>\n      <th>59147</th>\n      <td>Trump blows up GOP's formula for winning House...</td>\n    </tr>\n    <tr>\n      <th>59148</th>\n      <td>Napoleon returns from his exile on the island ...</td>\n    </tr>\n    <tr>\n      <th>59149</th>\n      <td>Deep down he always wanted to be a ballet dancer</td>\n    </tr>\n    <tr>\n      <th>59150</th>\n      <td>Toddler miraculously survives 6-story fall lan...</td>\n    </tr>\n  </tbody>\n</table>\n<p>59151 rows × 1 columns</p>\n</div>"
          },
          "metadata": {}
        }
      ]
    },
    {
      "cell_type": "code",
      "source": [
        "# print the shape of train \n",
        "print(train.shape)"
      ],
      "metadata": {
        "execution": {
          "iopub.status.busy": "2023-04-04T20:03:06.895163Z",
          "iopub.execute_input": "2023-04-04T20:03:06.896278Z",
          "iopub.status.idle": "2023-04-04T20:03:06.903553Z",
          "shell.execute_reply.started": "2023-04-04T20:03:06.896227Z",
          "shell.execute_reply": "2023-04-04T20:03:06.902139Z"
        },
        "trusted": true,
        "id": "Z3V1zB6N3pkS",
        "outputId": "016bc7c6-e896-489c-bff7-f1da2181a2ca"
      },
      "execution_count": null,
      "outputs": [
        {
          "name": "stdout",
          "text": "(59768, 3)\n",
          "output_type": "stream"
        }
      ]
    },
    {
      "cell_type": "code",
      "source": [
        "# print the shape of test \n",
        "print(test.shape)"
      ],
      "metadata": {
        "execution": {
          "iopub.status.busy": "2023-04-04T20:03:07.614175Z",
          "iopub.execute_input": "2023-04-04T20:03:07.614593Z",
          "iopub.status.idle": "2023-04-04T20:03:07.620934Z",
          "shell.execute_reply.started": "2023-04-04T20:03:07.614558Z",
          "shell.execute_reply": "2023-04-04T20:03:07.619152Z"
        },
        "trusted": true,
        "id": "HyyaVkcd3pkS",
        "outputId": "140d21ab-a485-4c0a-b2bc-91e5b7b68df5"
      },
      "execution_count": null,
      "outputs": [
        {
          "name": "stdout",
          "text": "(59151, 1)\n",
          "output_type": "stream"
        }
      ]
    },
    {
      "cell_type": "markdown",
      "source": [
        "# **Clean Data**"
      ],
      "metadata": {
        "id": "iIGwdGkx3pkT"
      }
    },
    {
      "cell_type": "code",
      "source": [
        "\"\"\"\n",
        "building function to clean data from\n",
        "1- html tags\n",
        "2- digits\n",
        "3- special characters\n",
        "4- links \n",
        "5- all whitespaces\n",
        "6-single letter character\n",
        "7- Tokenize the text into words\n",
        "\n",
        "\"\"\"\n",
        "def clean_text(text, for_embedding):\n",
        "    # a regular expression pattern that matches one or more whitespace characters (spaces, tabs, and newlines)\n",
        "    #re.IGNORECASE flag is used to make the regular expression case-insensitive\n",
        "    whitespace = re.compile(r\"\\s+\", re.IGNORECASE)\n",
        "    # a regular expression pattern that matches HTML or XML tags\n",
        "    tags = re.compile(r\"<.*?>\") \n",
        "    # a regular expression pattern that matches any character that is not a letter (uppercase or lowercase), a digit\n",
        "    ASCII = re.compile(r\"[^A-Za-zÀ-ž0-9]+\", re.IGNORECASE)\n",
        "    # a regular expression pattern that matches any single character (i.e., a character that is not part of a word)\n",
        "    single_char = re.compile(r\"\\b^[^A-Za-zÀ-ž0-9]+\\b\", re.IGNORECASE) \n",
        "    if for_embedding:\n",
        "        # Keep punctuation\n",
        "        ASCII = re.compile(r\"[^A-Za-zÀ-ž,.!? ]\", re.IGNORECASE) \n",
        "        single_char = re.compile(r\"\\b[A-Za-zÀ-ž,.!?]\\b\", re.IGNORECASE)\n",
        "    \n",
        "    # Remove any HTML tags\n",
        "    text = re.sub(tags, ' ', text)\n",
        "\n",
        "    # Keep only ASCII + European Chars and whitespace, no digits\n",
        "    text = re.sub(ASCII, ' ', text)\n",
        "\n",
        "    # Remove single letter chars\n",
        "    text = re.sub(single_char, ' ', text)\n",
        "\n",
        "    # Convert all whitespaces (tabs etc.) to single wspace\n",
        "    text = re.sub(whitespace, ' ', text)\n",
        "\n",
        "    # Tokenize the text into words\n",
        "    tokens = word_tokenize(text)\n",
        " \n",
        "    return tokens "
      ],
      "metadata": {
        "execution": {
          "iopub.status.busy": "2023-04-04T20:03:08.812984Z",
          "iopub.execute_input": "2023-04-04T20:03:08.813921Z",
          "iopub.status.idle": "2023-04-04T20:03:08.823951Z",
          "shell.execute_reply.started": "2023-04-04T20:03:08.813872Z",
          "shell.execute_reply": "2023-04-04T20:03:08.822281Z"
        },
        "trusted": true,
        "id": "Q6zZaMwM3pkT"
      },
      "execution_count": null,
      "outputs": []
    },
    {
      "cell_type": "code",
      "source": [
        "#print stop_words\n",
        "stop_words = set(stopwords.words(\"english\"))\n",
        "print(stop_words)"
      ],
      "metadata": {
        "execution": {
          "iopub.status.busy": "2023-04-04T20:03:11.484849Z",
          "iopub.execute_input": "2023-04-04T20:03:11.485293Z",
          "iopub.status.idle": "2023-04-04T20:03:11.494168Z",
          "shell.execute_reply.started": "2023-04-04T20:03:11.485252Z",
          "shell.execute_reply": "2023-04-04T20:03:11.492647Z"
        },
        "trusted": true,
        "id": "ObNH3h8G3pkT",
        "outputId": "b878c56c-2561-4582-9b9d-6aa8fb9cc1a9"
      },
      "execution_count": null,
      "outputs": [
        {
          "name": "stdout",
          "text": "{'of', 'should', 'which', 'their', 'no', 'here', 're', 'all', 'she', 'doesn', 'again', 'very', 'both', \"that'll\", 'll', 'between', 'them', 'until', \"you've\", 'where', 'will', 'hadn', 'm', 'can', 'why', 'weren', 'theirs', 'there', 'those', 'each', 'aren', 'ours', 'such', 's', 'above', 'any', 'a', 'shan', 'nor', 'it', 'from', 'do', 'i', 'needn', 'out', 'our', 'below', 'him', 'hasn', \"mightn't\", 'to', 'that', 'having', 'does', 'herself', 'or', 'mustn', 'just', 'couldn', 'whom', 'themselves', 'me', 'didn', \"you'll\", 'during', 'in', 'up', 'over', 'own', \"mustn't\", 'same', 'when', \"she's\", 'through', 'won', 'before', 'if', 'o', 'yours', 'further', 'been', \"should've\", 'be', 'myself', 'more', \"couldn't\", \"haven't\", 'than', \"isn't\", \"didn't\", 'too', \"needn't\", 'who', 'as', \"you'd\", 'were', 'while', 'd', \"wasn't\", 'the', 'ourselves', 'had', 'don', 'for', 'down', 'with', 'ain', 'few', 'isn', 'most', 'he', 'not', \"weren't\", 'am', 'your', 'about', 'because', 'have', 'did', 'then', 'is', 'doing', \"it's\", 't', 'wouldn', 'off', 'what', 'but', 'shouldn', 'her', \"won't\", \"doesn't\", 'by', \"don't\", 'this', 'only', \"hadn't\", 'yourself', 've', 'ma', 'wasn', 'was', 'under', 'on', 'itself', 'these', 'haven', 'hers', \"shan't\", \"aren't\", 'has', \"wouldn't\", 'you', 'other', \"hasn't\", 'mightn', 'my', 'we', 'yourselves', 'how', 'its', 'himself', 'y', 'some', 'they', 'once', 'against', \"you're\", 'now', \"shouldn't\", 'after', 'into', 'an', 'and', 'at', 'his', 'being', 'are', 'so'}\n",
          "output_type": "stream"
        }
      ]
    },
    {
      "cell_type": "markdown",
      "source": [
        "# **Preprocessing Using Lemmatization**"
      ],
      "metadata": {
        "id": "6OKdJDbb3pkT"
      }
    },
    {
      "cell_type": "code",
      "source": [
        "# Method 1: Text Cleaning with Lemmatization\n",
        "# lemmatization mean drop Extra letters from each word and back the word to its base \n",
        "\n",
        "\"\"\"\n",
        "An Examble \n",
        "the word of \"studies\" after lemmatization will be \"study\"\n",
        "\"\"\"\n",
        "\n",
        "\n",
        "\"\"\"\n",
        "This method will clean the text by removing any unnecessary characters, \n",
        "such as stop words, and punctuation marks, and then perform lemmatization on the remaining words.\n",
        "\n",
        "\"\"\"\n",
        "def cleaning_with_lemmatization(text: str, for_embedding: bool = False) -> str:\n",
        "    # make Tokenization and tag the words\n",
        "    lemmatizer = WordNetLemmatizer()\n",
        "    tokens = clean_text(text,for_embedding)\n",
        "    if for_embedding:\n",
        "        words_filtered = tokens \n",
        "    else:\n",
        "        tokens_lower = [word.lower() for word in tokens]\n",
        "        words_filtered = [lemmatizer.lemmatize(word) for word in tokens_lower if word not in stop_words]\n",
        "    clean_texts = \" \".join(words_filtered)\n",
        "    return clean_texts"
      ],
      "metadata": {
        "execution": {
          "iopub.status.busy": "2023-04-04T20:05:42.954287Z",
          "iopub.execute_input": "2023-04-04T20:05:42.954771Z",
          "iopub.status.idle": "2023-04-04T20:05:42.963105Z",
          "shell.execute_reply.started": "2023-04-04T20:05:42.954731Z",
          "shell.execute_reply": "2023-04-04T20:05:42.961966Z"
        },
        "trusted": true,
        "id": "ia7AxCgD3pkT"
      },
      "execution_count": null,
      "outputs": []
    },
    {
      "cell_type": "markdown",
      "source": [
        "# **Preprocessing Using Stemming**"
      ],
      "metadata": {
        "id": "YsbZiprU3pkU"
      }
    },
    {
      "cell_type": "code",
      "source": [
        "# stemming mean drop any Extra letters from words \n",
        "\n",
        "\"\"\"\n",
        "An Examble \n",
        "the word of \"studies\" after stemming will be \"stud\"\n",
        "\"\"\"\n",
        "\n",
        "\"\"\"\n",
        "This method will clean the text by removing any unnecessary characters, stop words, \n",
        "and punctuation marks, and then perform stemming on the remaining words.\n",
        "\"\"\"\n",
        "def cleaning_with_stemming(text: str, for_embedding: bool = False) -> str:\n",
        "    # make Tokenization and tag the words\n",
        "    stemmer = PorterStemmer()\n",
        "    tokens = clean_text(text,for_embedding)\n",
        "    if for_embedding:\n",
        "        words_filtered = tokens\n",
        "    else:\n",
        "        tokens_lower = [word.lower() for word in tokens]\n",
        "        words_filtered = [stemmer.stem(word) for word in tokens_lower if word not in stop_words]\n",
        "    clean_texts = \" \".join(words_filtered) \n",
        "    return clean_texts  "
      ],
      "metadata": {
        "execution": {
          "iopub.status.busy": "2023-04-04T20:05:48.818732Z",
          "iopub.execute_input": "2023-04-04T20:05:48.819122Z",
          "iopub.status.idle": "2023-04-04T20:05:48.827089Z",
          "shell.execute_reply.started": "2023-04-04T20:05:48.819088Z",
          "shell.execute_reply": "2023-04-04T20:05:48.825886Z"
        },
        "trusted": true,
        "id": "DJM8WQS03pkU"
      },
      "execution_count": null,
      "outputs": []
    },
    {
      "cell_type": "markdown",
      "source": [
        "# **Apply Lemmatization And Stemming on Data**"
      ],
      "metadata": {
        "id": "WSR_uwPL3pkU"
      }
    },
    {
      "cell_type": "code",
      "source": [
        "# include only rows where the length of the text string is greater than 20 characters\n",
        "train[\"text\"] = train.loc[train[\"text\"].str.len() > 20, \"text\"]\n",
        "#clean and make of lemmatization of  train data\n",
        "lemmatization_train = train[\"text\"].map(lambda x: cleaning_with_lemmatization(x ,for_embedding=False) if isinstance(x, str) else x).copy() \n",
        "#clean and make of steaming of  train data\n",
        "stemming_train = train[\"text\"].map(lambda x: cleaning_with_stemming(x, for_embedding=False) if isinstance(x, str) else x).copy() \n",
        "#clean and lemmatizing of test set\n",
        "lemmatization_test = test[\"text\"].map(lambda x: cleaning_with_lemmatization(x ,for_embedding=False) if isinstance(x, str) else x).copy() \n",
        "#clean and stemming of test set\n",
        "stemming_test = test[\"text\"].map(lambda x: cleaning_with_stemming(x ,for_embedding=False) if isinstance(x, str) else x).copy() "
      ],
      "metadata": {
        "execution": {
          "iopub.status.busy": "2023-04-04T20:08:04.242694Z",
          "iopub.execute_input": "2023-04-04T20:08:04.243228Z",
          "iopub.status.idle": "2023-04-04T20:09:28.804672Z",
          "shell.execute_reply.started": "2023-04-04T20:08:04.243179Z",
          "shell.execute_reply": "2023-04-04T20:09:28.803265Z"
        },
        "trusted": true,
        "id": "dFRLrOSv3pkU"
      },
      "execution_count": null,
      "outputs": []
    },
    {
      "cell_type": "code",
      "source": [
        "# show train data after lemmatization, only the second row \n",
        "lemmatization_train.head(50)[1]"
      ],
      "metadata": {
        "execution": {
          "iopub.status.busy": "2023-04-04T20:10:46.247190Z",
          "iopub.execute_input": "2023-04-04T20:10:46.247648Z",
          "iopub.status.idle": "2023-04-04T20:10:46.257152Z",
          "shell.execute_reply.started": "2023-04-04T20:10:46.247609Z",
          "shell.execute_reply": "2023-04-04T20:10:46.255477Z"
        },
        "trusted": true,
        "id": "INC9vWwt3pkU",
        "outputId": "bb4d0063-8165-480d-afb2-3621cb833ec3"
      },
      "execution_count": null,
      "outputs": [
        {
          "execution_count": 49,
          "output_type": "execute_result",
          "data": {
            "text/plain": "'british prime minister theresa may nerve attack former russian spy government concluded highly likely russia responsible act 0 96 1 0 0 anormalspudboy drawing large skull 1381531751 0 imgur com true 1o9638 http external preview redd gfmxactgvcyz09yqtpa3tycodxvbwikr3trcravsdti jpg width 320 crop smart auto webp c732bb056838f5b04096468e44e82c5d125d50ba 10 0 44 misleadingthumbnails drawing large skull 0 59 0 2 2 rainsofcatsandbears odin 1415027871 0 true clrpwrb http imgur com yhtpcq7 jpg 2l4hyj 21 psbattle artwork odin 0 2 4 ggingas first atomic bomb test circa 1558905755 0 redd true btdfle 0 0 26 fakehistoryporn first atomic bomb test circa 1945 0 91 0 2 2 yelzah go opposite direction 1419789175 0 true cn7hqo5 http imgur com ocgxnws jpg 2qlulz 2 psbattle artwork go opposite direction 0 2 4 probiotic disaster squirrel offering man ice cream 1419468195 0 true cn4ncqa http imgur com qkdjaoc jpg 2qao7a 6 psbattle artwork squirrel offering man ice cream 0 2 4 generalfelixbraxton imgur 1458670929 0 true d19fk2a http imgur com oyhtnhr jpg 4ba08g 1 psbattle artwork imgur 0 2 4 mikehancho9876 hotel put individual salt pepper packet salt pepper shaker 1562883080 0 redd true cc24wd http preview redd yqkzi98a0r931 jpg width 320 crop smart auto webp fa525323c49cf8e952a8d06fa1eaee762fd6934b 4 0 8 mildlyinteresting hotel put individual salt pepper packet salt pepper shaker 0 75 1 0 0 dylmye luminous goalkeeper 1499382525 0 image ibb co true 6lplym http external preview redd qux6bdtiqxxnezvtd3vi8snnkn2xt68eviyetodvywc jpg width 320 crop smart auto webp 083da95b074aebbe30fb7326ca1b80562e9e927a 2 0 3 photoshopbattles psbattle luminous goalkeeper 1 0 1 0 0 coolcheech hopefully make yesterday blunder 1398875161 0 true ch62ht5 http imgur com lownskg jpg 24czlw 76 psbattle artwork hopefully make yesterday blunder 0 2 4 princessdave64 louis xv sign treaty paris 1536342492 0 redd true 9dwqdh http preview redd 26tz14oxruk11 jpg width 320 crop smart auto webp 10ca16fd5e08297fb18569dc9167380ca0de3227 1 0 14 fakehistoryporn louis xv sign treaty paris 1763 0 9 0 2 2 spotter 300 mini display tent 1563455550 0 imgur com true cesb9g http external preview redd 3par08zhk5kqj2vrg4zfr6ellxryamiu6stt ikqkuy jpg width 320 crop smart auto webp 343a8c8b87beb715ba9ee575d763ac4ab23cbd72 832 0 34072 mildlyinteresting mini display tent 0 91 1 0 0 afluffypancake michael phelps catch breath 1470710462 0 redd true 4wtx0g http preview redd ifjebbijr9ex jpg width 320 crop smart auto webp b2457acde71bb528a5745099b8715692ed5e428e 6 0 6 photoshopbattles psbattle michael phelps catch breath 0 8 1 0 0 homeless man united family video go viral 1475094829 0 chroniclelive co uk true 54yh2l http external preview redd e ex6qvyrjsv fahqcnx1mav3ttw5 mjswmo0 fv bi jpg width 320 crop smart auto webp 189b85cdf12eecbd8fb9a469d81f4528b2d6184f 2 0 12 upliftingnews homeless man united family video go viral 0 94 1 0 0 done 1461871596 0 true d2l32bw http imgur com 23dxswh jpg 4gug4m 1 psbattle artwork done 0 2 4 picachu good time 1507661287 0 redd true 75j7br http preview redd j7k0xuojt1rz jpg width 320 crop smart auto webp b22f81c12f8835348405dd7da2cc1f873b34eba6 3 0 21 pareidolia picachu good time 0 69 0 2 2 drwankalot hello nsfw expectation old friend 1494067103 0 true dh7actz http imgur com xci8e1z jpg 69j3ud 2340 psbattle artwork hello nsfw expectation old friend 0 2 4 sariel007 young man saved five life 1447850786 0 wfaa com true 3tae72 http external preview redd 1b9gx2 dqp9zr4mm9zeb1cbw2b15gemkcvcw gi6am4 jpg width 320 crop smart auto webp d77c11314d24b9d9508d7ba270f49ff9b77379d6 0 0 10 upliftingnews young man saved five life 0 86 1 0 0 hebrewsuperman bender please insert girder 1452988193 0 imgur com true 41azr9 http external preview redd eo5aznh5c6qmmw9mz8iyt0wm8bejb3ietphcyp9l35e jpg width 320 crop smart auto webp cbda9b95716df2dfd798c209643401423d998235 0 0 12 pareidolia bender please insert girder 0 88 0 2 2 jedijock90 petri dish original penicillin strain 1485101474 0 imgur com true 5phqg6 http external preview redd m3srqqvolhu1opkxckwsvy0hk0hcrwdmhukiycywe1k jpg width 320 crop smart auto webp fef08371f51f7489aa94eb518cb6d3ca4d547e5c 0 0 5 misleadingthumbnails petri dish original penicillin strain 0 65 0 2 2 draven dog head iron fence hole 1450568109 0 kaifolog ru true 3xipxw http external preview redd g8joxfrcdjnetctmk8btk 863pkddvoyyuojbtztrxm jpg width 320 crop smart auto webp 2d7551b6008dc50d0829978549678a82764e7339 11 0 9 photoshopbattles psbattle dog head iron fence hole 0 91 1 0 0 chris55730 he hungry pillow 1525395126 0 redd true 8gvc3p http preview redd ymntftpalqv01 jpg width 320 crop smart auto webp 569b6b285e14b164c52901dd9e3f1c7623dc7539 0 0 5 pareidolia hungry pillow 1 0 0 2 2 im sato led project light look like eyeball 1550318975 0 redd true ar89bt http preview redd 5k8kgomq8xg21 jpg width 320 crop smart auto webp ecc078a29ebec64d503f1f511c001f8cb3ee5257 14 0 37 mildlyinteresting led project light look like eyeball 0 87 1 0 0 calosauce watch icy hot super slide 1373386534 0 true caz0c9s http imgur com btu0ppy jpg 1hxs3e 374 psbattle artwork watch icy hot super slide 0 2 4 p n g xi jinping prepares take action protest hong kong 1570757526 0 redd true dg7z4i http preview redd wv7uif82ftr31 jpg width 320 crop smart auto webp 791d6ca03ee1cda4f1b12640df14d05925c75c82 0 0 13 fakehistoryporn xi jinping prepares take action protest hong kong 2019 colorized 0 93 0 2 2 vikaksdm tcg 1510182201 0 true dpjp992 http imgur com gi1haw1 jpg 7bjpy5 1 psbattle artwork tcg 2 0 2 4 ravendesign settling 1408980559 0 true ck00c2y http imgur com 3kalo3n jpg 2ej0kd 23 psbattle artwork settling 0 2 4 faryl alaska offer free pregnancy test bar curb fetal alcohol syndrome 1402948570 0 foxnews com true 28b1r0 http external preview redd ursyjzuucb3hceiyfwuyunifjrhxuzmnkmpzeodtlm8 jpg width 320 crop smart auto webp c937619688d76299a02a401f6994fe57a5e524a0 4 0 9 nottheonion alaska offer free pregnancy test bar curb fetal alcohol syndrome 0 72 1 0 0 alpsstranger could think 1450382276 0 true cy2kltd http imgur com h2ho05o jpg 3x2dex 1 psbattle artwork could think 0 2 4 cptpatches probably beautiful goat lithuania 1467423216 0 npr org true 4qv5r5 http external preview redd 1 j9ontycatbks88 gd5s2xyhtptvxftzsizoeyenza jpg width 320 crop smart auto webp ee51d09699dcf5ad6f9161e84f2a35d4d7748baf 6 0 115 nottheonion probably beautiful goat lithuania 0 97 1 0 0 dookiebrownjr kid excited cake 1422729074 0 imgur com true 2ubqoz http external preview redd zltcltqefpvmpbokmdfdjjx8moghq89ozfzril zgow jpg width 320 crop smart auto webp 6897a47de2729cded6006018c6946ef08b325008 2 0 2 photoshopbattles psbattle kid excited cake 0 75 1 0 0 spasmos fly short nature call embroidered onto 1555607745 0 redd true beo54w http preview redd g2480mry22t21 jpg width 320 crop smart auto webp e58d3747857a075a2abebe82aa240272c0007d3a 1 0 10 mildlyinteresting fly short nature call embroidered onto 1 0 1 0 0 tyanders3 toilet built sink fill tank every flush 1566391243 0 redd true ctgajv http preview redd yqy6jusursh31 jpg width 320 crop smart auto webp 944dfa832533f6169c0a05bf64df52d37fa916bf 6 0 27 mildlyinteresting toilet built sink fill tank every flush 0 84 1 0 0 idkwhyimhereo ally 1559296443 0 redd true bv5kt8 http preview redd 38no7jobri131 jpg width 216 crop smart auto webp f7e99eae141a513b4af6bcfda723d93dd2bc09e7 6 0 57 fakehistoryporn ally 1944 0 87 0 2 2 danfrisch know simple easy cant see think sub 1567478422 0 redd true cyyy0o http preview redd 0ue0x74738k31 jpg width 320 crop smart auto webp c22826aac0862c8fdcd73cc0187740d694aa2d34 0 0 3 pareidolia know simple easy see think sub 1 0 0 2 2 wassworth canadian antifood hoarding poster wwi 1305576231 0 imgur com true hcsgr http external preview redd dghxi4bzguctsifj7rilxom2wzrk9eno31eekzrvki8 png width 320 crop smart auto webp 26031e8e9bc90832c67dcca073970fd9352fad34 0 0 2 propagandaposters canadian anti food hoarding poster wwi 1 0 0 1 5 rexleou see make rain stop 1492089585 0 true dg7iyuj http imgur com sfd7zox jpg 654c2a 8 psbattle artwork see make rain stop 0 2 4 bfwilley chief obamacare architect sacked fraudulent billing investigation 1503285261 0 dailycaller com true 6v0apl http external preview redd mc8n0lly lzq1v97zgdx2llnzypn6dh7amhbsy8jesq jpg width 320 crop smart auto webp 6973d36e01290bb9168efe1cc02365e31b0cb80f 0 0 3 usnews chief obamacare architect sacked fraudulent billing investigation 0 58 1 0 0 ea rube girl try sleep top 1514480182 0 redd true 7mnrc3 http preview redd yre64clm1p601 jpg width 320 crop smart auto webp 4916ee48d5e76af52f09b8e92b1f9bff86a9f0a1 2 0 77 confusing perspective girl try sleep top 0 91 0 2 2 tadelugnt made 1405286605 0 true ciwhqlm http imgur com kzujnle jpg 2altru 5 psbattle artwork made 0 2 4 elagabalusrex last man fight chivalry 1480447741 0 imgur com true 5fkoi1 http external preview redd 5uwbk9ugs412cevvdlfw6pfowaqbmdv51xv6xm724 4 jpg width 320 crop smart auto webp 9d6bb6abcbad4ca54defd093b66a065de9583608 4 0 44 fakehistoryporn last man fight chivalry 1943 0 89 0 2 2 pheonix200 minimum wage raise coming state new year day 1514732484 0 huffingtonpost com true 7n8vlw http external preview redd b858rdxumstlpxomgnvl0jn614z 4kn7aslaug5nvau jpg width 320 crop smart auto webp 13a8317f490643023a9d1819f4def23d3a2ab1f6 0 0 15 usnews minimum wage raise coming 18 state new year day 0 85 1 0 0 onlinealbatross jackie chan aeroplane 1481211010 0 imgur com true 5h7i9x http external preview redd dvm zqyzsx0xr5bgmfbkfxuru iipkychq7 5ookg jpg width 320 crop smart auto webp 4748744f9018b65c4ef803759cad62b01d009d78 7 0 15 photoshopbattles psbattle jackie chan aeroplane 0 85 1 0 0 richh00 local park dog walking company tied lamp post simple cheap good 1563290346 0 imgur com true cdyf7y http external preview redd c3oikoblzlrwfey0acrdmflbw 8rr 3jgzztlcu1cf4 jpg width 320 crop smart auto webp c4121c9f1953725237393805bcccbfc237bfa38f 5 0 14 mildlyinteresting local park dog walking company tied lamp post simple cheap good 0 95 1 0 0 bfwilley intel aware chip vulnerability ceo sold million company stock 1515105719 0 businessinsider com true 7o6juz http external preview redd qmv1oxruwci wqxc47r7mw1hjpbuqcwpn8wrkddvuzk jpg width 320 crop smart auto webp 8435fac4afb7d2686fb22f316bb1decf7cc717cb 3 0 34 usnews intel aware chip vulnerability ceo sold 24 million company stock 0 98 1 0 0 great gape photo taken republican rep matt gaetz kicked impeachment inquiry hearing 1571131859 0 imgur com true di5ed0 http external preview redd ppbhtzvzvk6bd0aerbghkwhgtoxisihluc9vlc8te9g png width 320 crop smart auto webp 8c4de49d249f22a779b56df4a5d57e69ae90f1a9 0 0 14 fakehistoryporn photo taken republican rep matt gaetz kicked impeachment inquiry hearing 10 14 2019 0 79 0 2 2 heythatsluke wife hanging saint bernard 1571278828 0 redd true dizu3d http preview redd 9jpwjn25h0t31 jpg width 320 crop smart auto webp 573584502d86c95f99fd10c68074fa360d5f38db 11 0 59 mildlyinteresting wife hanging saint bernard 0 8 1 0 0 dizzyellie 1346048388 0 true c5zc9zi http imgur com 2uy8l jpg yve8f 6 psbattle artwork 0 2 4 smunozmo shia lebeouf mexican girlfriend coachella 1530302654 0 redd true 8uw7ew http preview redd 862hy3hyxz611 jpg width 320 crop smart auto webp 8ac35d6af093ce9b61b72347665c3b6456c1a5bd 0 0 18 fakehistoryporn shia lebeouf mexican girlfriend coachella 2018 0 83 0 2 2 shavethebees hmm didnt think arm first 1557698294 0 redd true bnur0h http preview redd dsd3y5i9rux21 jpg width 320 crop smart auto webp b7604366534c8eec7b04a73a6d547e4b02ab6f0d 2 0 20 confusing perspective hmm think arm first 0 76 0 2 2 tapdance epidemic bark bigger bite 1400525376 0 true chlyl7x http imgur com linfttv jpg 25xh76 1 psbattle artwork bark bigger bite 0 2 4 sebastianpizarro brother found old man face little stone 1568687727 0 redd true d5astt http preview redd b5q9k9rbg2n31 jpg width 320 crop smart auto webp cb1f544e342c16ee0bec8d26f780a6c785042b50 4 0 25 pareidolia brother found old man face little stone 0 95 0 2 2 pipsdontsqueak british police say responding serious incident venue ariana grande performing 1495493394 0 reuters com true 6cqp53 http external preview redd clr4ukkrxf2etahzl3gk3hlbqlocmvxw1wkpiykfccg jpg width 320 crop smart auto webp ae53a50c6d768936c28def9ab3dd3972938574c2 1 0 16 neutralnews british police say responding serious incident venue ariana grande performing 0 84 1 0 0 jlew32 wonkyeyed chameleon 1413780259 0 imgur com true 2jradq http external preview redd 9ieczgo7lzga95qjf zzqp3tn8vh7umpwjy1bqowyc jpg width 320 crop smart auto webp 888c04c39f6d6260d75f70eeb382f2478cc00a3d 11 0 9 photoshopbattles psbattle wonky eyed chameleon 0 73 1 0 0 elbee inspector kitty pleased 1469615307 0 true d5ss5i2 http imgur com genvnn1 jpg 4utqfg 1 psbattle artwork inspector kitty pleased 0 2 4 justgimmesometruth youd upset made boiling hot dog 1422031702 0 imgur com true 2tf1p1 http external preview redd vhmzkvcus knbsqvoyyuqzzfloq4 58ga2pts79kxoy jpg width 320 crop smart auto webp 87f58166d3ce49fdfc308e41d451bde758913791 17 0 87 pareidolia upset made boiling hot dog 0 81 0 2 2 apicontraption discussion 1377825675 0 true cby3ify http imgur com aev5bre 2ejpg 1ldcqt 1 psbattle artwork discussion 0 2 4 wienerpoop beware ocean predator 1536118708 0 true e5eznu6 http imgur com g4bby4t jpg 9d2duu 8 psbattle artwork beware ocean predator 0 2 4 gabrielwingue local dq table tent little factoid 1567436344 0 redd true cyq18g http preview redd 38jnxizf37k31 jpg width 320 crop smart auto webp 150e243a181d272395e589b48b03bfac3eeaa5c5 6 0 5 mildlyinteresting local dq table tent little factoid 0 59 1 0 0 dyslexicoconut happy guy back car 1555256506 0 redd true bd4096 http preview redd jrn26vak29s21 jpg width 320 crop smart auto webp c9093c3514a66cc6770c951476b08a9e18e46837 0 0 28 pareidolia happy guy back car 0 94 0 2 2 monkeyknife boot prepared dirty work swiper quietly swiped solid gold dora medallion 1553295893 0 true ej5nf1u http imgur com 4syb3k1 jpg b41act 2 psbattle artwork boot prepared dirty work swiper quietly swiped solid gold dora medallion 0 2 4 9a45cf2daa7fbe thousand yard stare u soldier surrendering german force 1480270994 0 true dahtlpx http imgur com pbxt14o jpg 5f6ket 5 psbattle artwork thousand yard stare u soldier surrendering german force 0 2 4 sweetnopry doorknob middle door 1555732758 0 redd true bf8816 http preview redd ivhk5dmpect21 jpg width 320 crop smart auto webp bce7784c5700884e770c5fde868cd8f07f7436bc 13 0 36 mildlyinteresting doorknob middle door 0 92 1 0 0 zerzaze mean wish could come title cant im sure could put gallery people debate geopolitics 1415018262 0 true clrn0b5 http imgur com oi2j6tu jpg 2l56mi 3723 psbattle artwork mean wish could come title sure could put gallery people debate geopolitics 0 2 4 davethemann britney spear leaving paris hiltons car unflattering manner 1555101577 0 redd true bcijgs http preview redd daxy5dzv9wr21 jpg width 320 crop smart auto webp f1badb5c772c39dc42b7dc92e9409c37157f2f5c 2 0 19 fakehistoryporn britney spear leaving paris hiltons car unflattering manner 2006 colorized 0 95 0 2 2 fatefulthoughts steveo rainbow new zealand 1407559599 0 imgur com true 2d1ozy http external preview redd espm ttuk3werlgfwg wbsw trusdnu4bi5s2jvragq png width 108 crop smart auto webp 6bdf4d9c8ec6b3100f803c1cf0848f49a5aee344 7 0 4 photoshopbattles psbattle steve rainbow new zealand 0 75 1 0 0 man hanging giant metal bear 1443728116 0 imgur com true 3n524f http external preview redd lpjx zm34onzgoal jplgeqcdqwcgae xswufrj3zm jpg width 320 crop smart auto webp 6b9e98c0e1d04e7a36dc64dfa64339a55d19a0a2 1 0 2 photoshopbattles psbattle man hanging giant metal bear 1 0 1 0 0 jackogreen islamic state issue guide okay beat sex slave 1418507318 0 washingtonpost com true 2p7ezg http external preview redd jyvqfipg4 ae6mxewd4lr1kdbyoammnnopnkupmuw 8 jpg width 320 crop smart auto webp 6ef45ca247f6d39042fa6181e1092ce278a95491 7 0 28 nottheonion islamic state issue guide okay beat sex slave 0 82 1 0 0 124876720 united standdivided fall antiirish home rule postcard depicting national personification four nation uk 1477036964 0 efp org uk true 58m4c4 http external preview redd midb a2kpnn9gpqjyw rfmfcco 9yerm66pdytqggwm jpg width 320 crop smart auto webp da6e60998626a9aab818467e5650337483ca4447 56 0 790 propagandaposters united stand divided fall anti irish home rule postcard depicting national personification four nation uk 1914'"
          },
          "metadata": {}
        }
      ]
    },
    {
      "cell_type": "code",
      "source": [
        "# show test data after lemmatization ,only the second row \n",
        "lemmatization_test.head(50)[1]"
      ],
      "metadata": {
        "execution": {
          "iopub.status.busy": "2023-04-04T20:11:38.228336Z",
          "iopub.execute_input": "2023-04-04T20:11:38.228787Z",
          "iopub.status.idle": "2023-04-04T20:11:38.236657Z",
          "shell.execute_reply.started": "2023-04-04T20:11:38.228748Z",
          "shell.execute_reply": "2023-04-04T20:11:38.235387Z"
        },
        "trusted": true,
        "id": "LlGxFQvk3pkU",
        "outputId": "5c5f09fd-34d8-47c2-a777-9d50f21f5ac3"
      },
      "execution_count": null,
      "outputs": [
        {
          "execution_count": 52,
          "output_type": "execute_result",
          "data": {
            "text/plain": "'yeah'"
          },
          "metadata": {}
        }
      ]
    },
    {
      "cell_type": "code",
      "source": [
        "# get the label of train data\n",
        "label_train=train['label']"
      ],
      "metadata": {
        "execution": {
          "iopub.status.busy": "2023-04-04T20:16:32.242040Z",
          "iopub.execute_input": "2023-04-04T20:16:32.242495Z",
          "iopub.status.idle": "2023-04-04T20:16:32.248637Z",
          "shell.execute_reply.started": "2023-04-04T20:16:32.242455Z",
          "shell.execute_reply": "2023-04-04T20:16:32.247274Z"
        },
        "trusted": true,
        "id": "0dCO2UqV3pkV"
      },
      "execution_count": null,
      "outputs": []
    },
    {
      "cell_type": "markdown",
      "source": [
        "# **Split The Data**"
      ],
      "metadata": {
        "id": "UxjNt6k13pkV"
      }
    },
    {
      "cell_type": "code",
      "source": [
        "# start split the train data  \n",
        "# split the data based on lemmatization preprocessing\n",
        "# use \"train_test_split\" function to split the data\n",
        "X_train , X_val , Y_train, Y_val = train_test_split(lemmatization_train,label_train,stratify=label_train, random_state=42, test_size=0.25, shuffle=True)\n",
        "# prepare value of CV\n",
        "split_index_lemmatized = [-1 if x in X_train.index else 0 for x in lemmatization_train.index]"
      ],
      "metadata": {
        "execution": {
          "iopub.status.busy": "2023-04-04T20:16:37.284749Z",
          "iopub.execute_input": "2023-04-04T20:16:37.285165Z",
          "iopub.status.idle": "2023-04-04T20:16:37.466691Z",
          "shell.execute_reply.started": "2023-04-04T20:16:37.285127Z",
          "shell.execute_reply": "2023-04-04T20:16:37.465491Z"
        },
        "trusted": true,
        "id": "WaaaBiVR3pkV"
      },
      "execution_count": null,
      "outputs": []
    },
    {
      "cell_type": "code",
      "source": [
        "# start split the train data  \n",
        "# split the data based on stemming preprocessing\n",
        "# use \"train_test_split\" function to split the data \n",
        "label_train1=train['label']\n",
        "X_train1, X_val1 ,Y_train1, Y_val1 = train_test_split(stemming_train,label_train1,stratify=label_train1, random_state=42, test_size=0.25, shuffle=True)\n",
        "# prepare value of CV\n",
        "split_index_stemming = [-1 if x in X_train1.index else 0 for x in stemming_train.index]\n"
      ],
      "metadata": {
        "execution": {
          "iopub.status.busy": "2023-04-04T20:16:38.644655Z",
          "iopub.execute_input": "2023-04-04T20:16:38.645107Z",
          "iopub.status.idle": "2023-04-04T20:16:38.824655Z",
          "shell.execute_reply.started": "2023-04-04T20:16:38.645067Z",
          "shell.execute_reply": "2023-04-04T20:16:38.823283Z"
        },
        "trusted": true,
        "id": "TbO3qEea3pkV"
      },
      "execution_count": null,
      "outputs": []
    },
    {
      "cell_type": "markdown",
      "source": [
        "# **1- Randomized Search Using Logistic Regression With Lemmatization Preprocessing**"
      ],
      "metadata": {
        "id": "7cqUjug63pkV"
      }
    },
    {
      "cell_type": "code",
      "source": [
        "\"\"\" \n",
        "TfidfVectorizer : \n",
        "is a class in the sklearn.feature_extraction.text module of the scikit-learn library that converts \n",
        "a collection of raw documents into a matrix of TF-IDF (Term Frequency-Inverse Document Frequency) features\n",
        "\n",
        "\"\"\"\n",
        "\n",
        "\n",
        "\"\"\"\n",
        "the steps\n",
        "1- building a Pipeline that take TfidfVectorizer(), Logistic Regression model\n",
        "2- use Randomized Search  that take Pipeline, parameters such as (solver,class_weight,C)  to get the best hyperparameters\n",
        "3- using the metric \"roc_auc\"\n",
        "4- fit the model based on lemmatization train \n",
        "\"\"\"\n",
        "\n",
        "\n",
        "\n",
        "\"\"\"\n",
        "thoughts and observations\n",
        "1- I used  Logistic Regression model with Randomized Search to get the best parameters and fit the model \n",
        "2- make fit on model using lemmatization train\n",
        "2- I think the model will fit well  with lemmatization preprocessing\n",
        "\"\"\"\n",
        "\n",
        "\"\"\"\n",
        "my plan is  building the same model model using randomized search but different preprocessing\n",
        "\"\"\"\n",
        "\n",
        "\n",
        "\n",
        "ppipline_logistic_regression = Pipeline([(\"tfidf\", TfidfVectorizer()), (\"lg\", LogisticRegression(max_iter=10000,random_state=42,n_jobs=-1))])\n",
        "split_index = PredefinedSplit(split_index_lemmatized)\n",
        "# define parameter space to test\n",
        "parameters = {\n",
        "    'tfidf__sublinear_tf':[True], \n",
        "    'tfidf__strip_accents':[None],\n",
        "    'tfidf__smooth_idf':[False],\n",
        "    'tfidf__ngram_range': [(1, 5)], \n",
        "    'tfidf__analyzer':['char'],\n",
        "    'tfidf__min_df': [11], \n",
        "    'tfidf__max_df': [0.2],\n",
        "    'lg__class_weight':['balanced',None],\n",
        "    \"lg__solver\" : ['sag','newton-cg', 'lbfgs','saga'],\n",
        "    'lg__C': [1.0,0.1,0.001,0.0001,0.005,1.5,2.0,3.5],\n",
        "    'lg__fit_intercept':[False, True],\n",
        "\n",
        "} \n",
        "model_log = RandomizedSearchCV(ppipline_logistic_regression, parameters, n_jobs=-1,cv=split_index, scoring=\"roc_auc\", n_iter=50)\n",
        "model_log.fit(lemmatization_train, label_train)"
      ],
      "metadata": {
        "execution": {
          "iopub.status.busy": "2023-04-04T20:18:26.462771Z",
          "iopub.execute_input": "2023-04-04T20:18:26.463196Z",
          "iopub.status.idle": "2023-04-04T20:28:15.851794Z",
          "shell.execute_reply.started": "2023-04-04T20:18:26.463160Z",
          "shell.execute_reply": "2023-04-04T20:28:15.849443Z"
        },
        "trusted": true,
        "id": "b9ydhP7s3pkV",
        "outputId": "a7ba4f80-e890-4fe3-8c01-41c6dd771a98"
      },
      "execution_count": null,
      "outputs": [
        {
          "execution_count": 58,
          "output_type": "execute_result",
          "data": {
            "text/plain": "RandomizedSearchCV(cv=PredefinedSplit(test_fold=array([-1, -1, ..., -1, -1])),\n                   estimator=Pipeline(steps=[('tfidf', TfidfVectorizer()),\n                                             ('lg',\n                                              LogisticRegression(max_iter=10000,\n                                                                 n_jobs=-1,\n                                                                 random_state=42))]),\n                   n_iter=50, n_jobs=-1,\n                   param_distributions={'lg__C': [1.0, 0.1, 0.001, 0.0001,\n                                                  0.005, 1.5, 2.0, 3.5],\n                                        'lg__class_weight': ['balanced', None],\n                                        'lg__fit_intercept': [False, True],\n                                        'lg__solver': ['sag', 'newton-cg',\n                                                       'lbfgs', 'saga'],\n                                        'tfidf__analyzer': ['char'],\n                                        'tfidf__max_df': [0.2],\n                                        'tfidf__min_df': [11],\n                                        'tfidf__ngram_range': [(1, 5)],\n                                        'tfidf__smooth_idf': [False],\n                                        'tfidf__strip_accents': [None],\n                                        'tfidf__sublinear_tf': [True]},\n                   scoring='roc_auc')"
          },
          "metadata": {}
        }
      ]
    },
    {
      "cell_type": "code",
      "source": [
        "# get the best score and best parameters\n",
        "print('best score {}'.format(model_log.best_score_))\n",
        "print('best score {}'.format(model_log.best_params_))"
      ],
      "metadata": {
        "execution": {
          "iopub.status.busy": "2023-04-04T20:28:15.857232Z",
          "iopub.execute_input": "2023-04-04T20:28:15.857660Z",
          "iopub.status.idle": "2023-04-04T20:28:15.865816Z",
          "shell.execute_reply.started": "2023-04-04T20:28:15.857620Z",
          "shell.execute_reply": "2023-04-04T20:28:15.864552Z"
        },
        "trusted": true,
        "id": "Go5ws8Av3pkW",
        "outputId": "3e55abdb-af73-4545-f144-66e8ba9b2bff"
      },
      "execution_count": null,
      "outputs": [
        {
          "name": "stdout",
          "text": "best score 0.8909278341337401\nbest score {'tfidf__sublinear_tf': True, 'tfidf__strip_accents': None, 'tfidf__smooth_idf': False, 'tfidf__ngram_range': (1, 5), 'tfidf__min_df': 11, 'tfidf__max_df': 0.2, 'tfidf__analyzer': 'char', 'lg__solver': 'newton-cg', 'lg__fit_intercept': True, 'lg__class_weight': 'balanced', 'lg__C': 2.0}\n",
          "output_type": "stream"
        }
      ]
    },
    {
      "cell_type": "code",
      "source": [
        "#create submission file\n",
        "submission = pd.DataFrame()\n",
        "submission['id'] = id\n",
        "print(len(test['text']))\n",
        "submission['label'] = model_log.predict_proba(test['text'])[:,1]\n",
        "submission.to_csv('result1.csv', index=False)"
      ],
      "metadata": {
        "execution": {
          "iopub.status.busy": "2023-04-04T20:28:15.867544Z",
          "iopub.execute_input": "2023-04-04T20:28:15.868818Z",
          "iopub.status.idle": "2023-04-04T20:28:26.947093Z",
          "shell.execute_reply.started": "2023-04-04T20:28:15.868764Z",
          "shell.execute_reply": "2023-04-04T20:28:26.945775Z"
        },
        "trusted": true,
        "id": "-pFzKM6g3pkW",
        "outputId": "ddfce70a-a793-4049-dba3-60bc21de0e81"
      },
      "execution_count": null,
      "outputs": [
        {
          "name": "stdout",
          "text": "59151\n",
          "output_type": "stream"
        }
      ]
    },
    {
      "cell_type": "markdown",
      "source": [
        "# **2- Randomized Search Using Logistic Regression With Steaming Preprocessing**"
      ],
      "metadata": {
        "id": "02QJTRuz3pkW"
      }
    },
    {
      "cell_type": "code",
      "source": [
        "\"\"\" \n",
        "TfidfVectorizer : \n",
        "is a class in the sklearn.feature_extraction.text module of the scikit-learn library that converts \n",
        "a collection of raw documents into a matrix of TF-IDF (Term Frequency-Inverse Document Frequency) features\n",
        "\n",
        "\"\"\"\n",
        "\n",
        "\n",
        "\"\"\"\n",
        "the steps\n",
        "1- building a Pipeline that take TfidfVectorizer(), Logistic Regression model\n",
        "2- use Randomized Search  that take Pipeline, parameters such as (solver,class_weight,C)  to get the best hyperparameters\n",
        "3- using the metric \"roc_auc\"\n",
        "4- fit the model based on stemming train (different preprocessing)\n",
        "\"\"\"\n",
        "\n",
        "\"\"\"\n",
        "thoughts and observations\n",
        "1- I used  Logistic Regression model with Randomized Search to get the best parameters and fit the model \n",
        "2- make fit on model using stemming train\n",
        "2- I think the model will fit well, but best score will be less than best score when fitting using lemmatization train \n",
        "\"\"\"\n",
        "\n",
        "\"\"\"\n",
        "my plan is back to using lemmatization preprocessing with XGBoost Classifier\n",
        "\"\"\"\n",
        "\n",
        "# same trial with different preprocessing on data\n",
        "ppipline_logistic_regression_2 = Pipeline([(\"tfidf\", TfidfVectorizer()), (\"lg\", LogisticRegression(max_iter=10000,random_state=42,n_jobs=-1))])\n",
        "split_index1 = PredefinedSplit(split_index_stemming)\n",
        "# define parameter space to test\n",
        "parameters = {\n",
        "    'tfidf__sublinear_tf':[True],\n",
        "    'tfidf__strip_accents':[None],\n",
        "    'tfidf__smooth_idf':[False],\n",
        "    'tfidf__ngram_range': [(1, 5)],\n",
        "    'tfidf__analyzer':['char'],\n",
        "    'tfidf__min_df': [11], \n",
        "    'tfidf__max_df': [0.2],\n",
        "    'lg__class_weight':['balanced',None],\n",
        "    \"lg__solver\" : ['sag','newton-cg', 'lbfgs','saga'],\n",
        "    'lg__C': [1.0,0.1,0.001,0.0001,0.005,1.5,2.0,3.5],\n",
        "    'lg__fit_intercept':[False, True],\n",
        "\n",
        "} \n",
        "model_log1 = RandomizedSearchCV(ppipline_logistic_regression_2, parameters, n_jobs=-1,cv=split_index1, scoring=\"roc_auc\", n_iter=50)\n",
        "model_log1.fit(stemming_train, label_train)\n",
        "\n"
      ],
      "metadata": {
        "execution": {
          "iopub.status.busy": "2023-04-04T20:28:26.949882Z",
          "iopub.execute_input": "2023-04-04T20:28:26.950260Z",
          "iopub.status.idle": "2023-04-04T20:37:52.878040Z",
          "shell.execute_reply.started": "2023-04-04T20:28:26.950224Z",
          "shell.execute_reply": "2023-04-04T20:37:52.876602Z"
        },
        "trusted": true,
        "id": "V3xDmN8s3pkW",
        "outputId": "c403b3fd-e648-4512-9c01-5bd636c258e2"
      },
      "execution_count": null,
      "outputs": [
        {
          "execution_count": 61,
          "output_type": "execute_result",
          "data": {
            "text/plain": "RandomizedSearchCV(cv=PredefinedSplit(test_fold=array([-1, -1, ..., -1, -1])),\n                   estimator=Pipeline(steps=[('tfidf', TfidfVectorizer()),\n                                             ('lg',\n                                              LogisticRegression(max_iter=10000,\n                                                                 n_jobs=-1,\n                                                                 random_state=42))]),\n                   n_iter=50, n_jobs=-1,\n                   param_distributions={'lg__C': [1.0, 0.1, 0.001, 0.0001,\n                                                  0.005, 1.5, 2.0, 3.5],\n                                        'lg__class_weight': ['balanced', None],\n                                        'lg__fit_intercept': [False, True],\n                                        'lg__solver': ['sag', 'newton-cg',\n                                                       'lbfgs', 'saga'],\n                                        'tfidf__analyzer': ['char'],\n                                        'tfidf__max_df': [0.2],\n                                        'tfidf__min_df': [11],\n                                        'tfidf__ngram_range': [(1, 5)],\n                                        'tfidf__smooth_idf': [False],\n                                        'tfidf__strip_accents': [None],\n                                        'tfidf__sublinear_tf': [True]},\n                   scoring='roc_auc')"
          },
          "metadata": {}
        }
      ]
    },
    {
      "cell_type": "code",
      "source": [
        "# get the best score and best parameters\n",
        "print('best score {}'.format(model_log1.best_score_))\n",
        "print('best score {}'.format(model_log1.best_params_))"
      ],
      "metadata": {
        "execution": {
          "iopub.status.busy": "2023-04-04T20:37:52.879664Z",
          "iopub.execute_input": "2023-04-04T20:37:52.880044Z",
          "iopub.status.idle": "2023-04-04T20:37:52.887678Z",
          "shell.execute_reply.started": "2023-04-04T20:37:52.880010Z",
          "shell.execute_reply": "2023-04-04T20:37:52.885935Z"
        },
        "trusted": true,
        "id": "FraRXS9C3pkW",
        "outputId": "be415ea4-8ca9-4dbf-f0bd-581e7c5b069e"
      },
      "execution_count": null,
      "outputs": [
        {
          "name": "stdout",
          "text": "best score 0.8901338520411478\nbest score {'tfidf__sublinear_tf': True, 'tfidf__strip_accents': None, 'tfidf__smooth_idf': False, 'tfidf__ngram_range': (1, 5), 'tfidf__min_df': 11, 'tfidf__max_df': 0.2, 'tfidf__analyzer': 'char', 'lg__solver': 'lbfgs', 'lg__fit_intercept': True, 'lg__class_weight': 'balanced', 'lg__C': 3.5}\n",
          "output_type": "stream"
        }
      ]
    },
    {
      "cell_type": "code",
      "source": [
        "#create submission file\n",
        "submission = pd.DataFrame()\n",
        "submission['id'] = id\n",
        "print(len(test['text']))\n",
        "submission['label'] = model_log1.predict_proba(test['text'])[:,1]\n",
        "submission.to_csv('result2.csv', index=False)"
      ],
      "metadata": {
        "execution": {
          "iopub.status.busy": "2023-04-04T20:37:52.889494Z",
          "iopub.execute_input": "2023-04-04T20:37:52.889869Z",
          "iopub.status.idle": "2023-04-04T20:38:03.824200Z",
          "shell.execute_reply.started": "2023-04-04T20:37:52.889834Z",
          "shell.execute_reply": "2023-04-04T20:38:03.822610Z"
        },
        "trusted": true,
        "id": "3oMS5YOo3pkW",
        "outputId": "cd89d288-e027-4cf9-90ba-4f56555231d4"
      },
      "execution_count": null,
      "outputs": [
        {
          "name": "stdout",
          "text": "59151\n",
          "output_type": "stream"
        }
      ]
    },
    {
      "cell_type": "markdown",
      "source": [
        "# **3- Randomized Search Using XGboost Model**"
      ],
      "metadata": {
        "id": "9vOPI9ok3pkX"
      }
    },
    {
      "cell_type": "code",
      "source": [
        "\"\"\"\n",
        "the steps\n",
        "1- building a Pipeline that take TfidfVectorizer(), XGB Classifier model\n",
        "2- use Randomized Search  that take Pipeline, parameters such as (ngram_range,min_df,analyzer)  to get the best hyperparameters\n",
        "3- using the metric \"roc_auc\"\n",
        "4- fit the model based on lemmatization train \n",
        "\"\"\"\n",
        "\n",
        "\n",
        "\n",
        "\"\"\"\n",
        "thoughts and observations\n",
        "1- I used  XGBoost  model with Randomized Search to get the best parameters and fit the model \n",
        "2- make fit on model using lemmatization train\n",
        "2- I think the model will fit well with XGBoost Classifier \n",
        "\"\"\"\n",
        "\n",
        "\"\"\"\n",
        "my plan is  using lemmatization preprocessing with XGBoost Classifier but change hyperparameters\n",
        "\"\"\"\n",
        "\n",
        "pipe_xgboost_1 = Pipeline([(\"tfidf\", TfidfVectorizer()), (\"xgb\", XGBClassifier(random_state=42,n_jobs=-1,eval_metric='rmse',use_label_encoder=False))])\n",
        "\n",
        "split_index2 = PredefinedSplit(split_index_lemmatized)\n",
        "\n",
        "\n",
        "# define parameter space to test\n",
        "parameters_1 = {\n",
        "    \"tfidf__ngram_range\": [(1, 2), (1, 3), (1,4), (1,5)],\n",
        "    \"tfidf__max_df\": np.arange(0.2, 1.0),\n",
        "    \"tfidf__min_df\": np.arange(5, 100),\n",
        "    \"tfidf__strip_accents\":[None,'ascii','unicode'],\n",
        "    'tfidf__analyzer':['word','char','char_wb'],\n",
        "    'tfidf__smooth_idf':[False,True],\n",
        "    \"tfidf__sublinear_tf\":[True,False]\n",
        "}\n",
        "\n",
        "xgboost_1 = RandomizedSearchCV(pipe_xgboost_1, parameters_1, n_jobs=-1,cv=split_index2, scoring=\"roc_auc\", n_iter=45)\n",
        "xgboost_1.fit(lemmatization_train, label_train)"
      ],
      "metadata": {
        "execution": {
          "iopub.status.busy": "2023-04-04T20:38:03.825957Z",
          "iopub.execute_input": "2023-04-04T20:38:03.826329Z",
          "iopub.status.idle": "2023-04-04T21:36:55.229578Z",
          "shell.execute_reply.started": "2023-04-04T20:38:03.826293Z",
          "shell.execute_reply": "2023-04-04T21:36:55.227986Z"
        },
        "trusted": true,
        "id": "ZRLrI4QE3pkX",
        "outputId": "c2138c9e-ab3c-4b43-dc26-33dba3fd38b7"
      },
      "execution_count": null,
      "outputs": [
        {
          "execution_count": 64,
          "output_type": "execute_result",
          "data": {
            "text/plain": "RandomizedSearchCV(cv=PredefinedSplit(test_fold=array([-1, -1, ..., -1, -1])),\n                   estimator=Pipeline(steps=[('tfidf', TfidfVectorizer()),\n                                             ('xgb',\n                                              XGBClassifier(base_score=None,\n                                                            booster=None,\n                                                            callbacks=None,\n                                                            colsample_bylevel=None,\n                                                            colsample_bynode=None,\n                                                            colsample_bytree=None,\n                                                            early_stopping_rounds=None,\n                                                            enable_categorical=False,\n                                                            eval_metric='rmse',\n                                                            gamma=None,\n                                                            gpu_id=N...\n       39, 40, 41, 42, 43, 44, 45, 46, 47, 48, 49, 50, 51, 52, 53, 54, 55,\n       56, 57, 58, 59, 60, 61, 62, 63, 64, 65, 66, 67, 68, 69, 70, 71, 72,\n       73, 74, 75, 76, 77, 78, 79, 80, 81, 82, 83, 84, 85, 86, 87, 88, 89,\n       90, 91, 92, 93, 94, 95, 96, 97, 98, 99]),\n                                        'tfidf__ngram_range': [(1, 2), (1, 3),\n                                                               (1, 4), (1, 5)],\n                                        'tfidf__smooth_idf': [False, True],\n                                        'tfidf__strip_accents': [None, 'ascii',\n                                                                 'unicode'],\n                                        'tfidf__sublinear_tf': [True, False]},\n                   scoring='roc_auc')"
          },
          "metadata": {}
        }
      ]
    },
    {
      "cell_type": "code",
      "source": [
        "# get the best score and best parameters\n",
        "print('best score {}'.format(xgboost_1.best_score_))\n",
        "print('best score {}'.format(xgboost_1.best_params_))"
      ],
      "metadata": {
        "execution": {
          "iopub.status.busy": "2023-04-04T21:36:55.231361Z",
          "iopub.execute_input": "2023-04-04T21:36:55.231906Z",
          "iopub.status.idle": "2023-04-04T21:36:55.238994Z",
          "shell.execute_reply.started": "2023-04-04T21:36:55.231853Z",
          "shell.execute_reply": "2023-04-04T21:36:55.237753Z"
        },
        "trusted": true,
        "id": "xUnAqn933pkX",
        "outputId": "3c05b51a-ac3e-4b0c-ed3f-688a2f2c24d8"
      },
      "execution_count": null,
      "outputs": [
        {
          "name": "stdout",
          "text": "best score 0.8723300601778846\nbest score {'tfidf__sublinear_tf': True, 'tfidf__strip_accents': None, 'tfidf__smooth_idf': True, 'tfidf__ngram_range': (1, 5), 'tfidf__min_df': 29, 'tfidf__max_df': 0.2, 'tfidf__analyzer': 'char_wb'}\n",
          "output_type": "stream"
        }
      ]
    },
    {
      "cell_type": "code",
      "source": [
        "#create submission file\n",
        "submission = pd.DataFrame()\n",
        "submission['id'] = id\n",
        "print(len(test['text']))\n",
        "submission['label'] = xgboost_1.predict_proba(test['text'])[:,1]\n",
        "submission.to_csv('result3.csv', index=False)"
      ],
      "metadata": {
        "execution": {
          "iopub.status.busy": "2023-04-04T21:36:55.240440Z",
          "iopub.execute_input": "2023-04-04T21:36:55.240799Z",
          "iopub.status.idle": "2023-04-04T21:37:05.553442Z",
          "shell.execute_reply.started": "2023-04-04T21:36:55.240764Z",
          "shell.execute_reply": "2023-04-04T21:37:05.551950Z"
        },
        "trusted": true,
        "id": "UUq8_8xd3pkX",
        "outputId": "5927c76d-fedf-412b-88bb-32d0b2079d25"
      },
      "execution_count": null,
      "outputs": [
        {
          "name": "stdout",
          "text": "59151\n",
          "output_type": "stream"
        }
      ]
    },
    {
      "cell_type": "markdown",
      "source": [
        "# **4- Randomized Search Using XGboost Model With Different Hyperparameters**"
      ],
      "metadata": {
        "id": "YpkMtjZP3pkX"
      }
    },
    {
      "cell_type": "code",
      "source": [
        "# same trial with different parameters\n",
        "\n",
        "\"\"\"\n",
        "the steps\n",
        "1- building a Pipeline that take TfidfVectorizer(), XGB Classifier model\n",
        "2- use Randomized Search  that take Pipeline, parameters such as (ngram_range,min_df,analyzer)  to get the best hyperparameters\n",
        "3- using the metric \"roc_auc\"\n",
        "4- fit the model based on lemmatization train \n",
        "\"\"\"\n",
        "\n",
        "\n",
        "\"\"\"\n",
        "thoughts and observations\n",
        "1- I used  XGBoost  model with Randomized Search to get the best parameters and fit the model \n",
        "2- make fit on model using lemmatization train\n",
        "2- I think the model will fit well than XGBoost in previous classifier because of using different hyperparameters such as learning_rate\n",
        "\"\"\"\n",
        "\n",
        "\"\"\"\n",
        "my plan is  using lemmatization preprocessing with character-level vectorizer\n",
        "\"\"\"\n",
        "\n",
        "pipe_xgboost_2 = Pipeline([(\"tfidf\", TfidfVectorizer()), (\"xgb\", XGBClassifier(random_state=42,n_jobs=-1,eval_metric='rmse',use_label_encoder=False))])\n",
        "\n",
        "split_index3 = PredefinedSplit(split_index_lemmatized)\n",
        "\n",
        "\n",
        "# define parameter space to test\n",
        "parameters_2 = {\n",
        "   'tfidf__sublinear_tf':[True], #True best\n",
        "    'tfidf__strip_accents':[None],\n",
        "    'tfidf__smooth_idf':[False],\n",
        "    'tfidf__ngram_range': [(1, 5)], #(1,2)\n",
        "    'tfidf__min_df': [11], \n",
        "    'tfidf__max_df': [0.2],\n",
        "    'tfidf__analyzer':['word','char','char_wb'],\n",
        "    'xgb__booster':['gbtree','gblinear', 'dart'],\n",
        "    'xgb__learning_rate':[1.0, 0.1,0.01,0.0001, 1.5],\n",
        "}\n",
        "\n",
        "# here we still use data_lemmatized; but the random search model will use our predefined split internally to determine which sample belongs to the validation set\n",
        "\n",
        "xgboost_2 = RandomizedSearchCV(pipe_xgboost_2, parameters_2, n_jobs=-1,cv=split_index3, scoring=\"roc_auc\", n_iter=45)\n",
        "xgboost_2.fit(lemmatization_train, label_train)\n",
        "#start print best score and best parameters\n",
        "print('best score {}'.format(xgboost_2.best_score_))\n",
        "print('best score {}'.format(xgboost_2.best_params_))"
      ],
      "metadata": {
        "execution": {
          "iopub.status.busy": "2023-04-04T21:37:05.557735Z",
          "iopub.execute_input": "2023-04-04T21:37:05.558151Z",
          "iopub.status.idle": "2023-04-04T23:14:01.368580Z",
          "shell.execute_reply.started": "2023-04-04T21:37:05.558110Z",
          "shell.execute_reply": "2023-04-04T23:14:01.367083Z"
        },
        "trusted": true,
        "id": "CG3T3uQN3pkX",
        "outputId": "3e3a58b7-5b74-4011-cf68-bfb34995f8a8"
      },
      "execution_count": null,
      "outputs": [
        {
          "name": "stdout",
          "text": "best score 0.8805745469745285\nbest score {'xgb__learning_rate': 0.01, 'xgb__booster': 'gblinear', 'tfidf__sublinear_tf': True, 'tfidf__strip_accents': None, 'tfidf__smooth_idf': False, 'tfidf__ngram_range': (1, 5), 'tfidf__min_df': 11, 'tfidf__max_df': 0.2, 'tfidf__analyzer': 'word'}\n",
          "output_type": "stream"
        }
      ]
    },
    {
      "cell_type": "code",
      "source": [
        "#create submission file\n",
        "submission = pd.DataFrame()\n",
        "submission['id'] = id\n",
        "print(len(test['text']))\n",
        "submission['label'] = xgboost_2.predict_proba(test['text'])[:,1]\n",
        "submission.to_csv('result5.csv', index=False)"
      ],
      "metadata": {
        "execution": {
          "iopub.status.busy": "2023-04-04T23:14:01.373857Z",
          "iopub.execute_input": "2023-04-04T23:14:01.374511Z",
          "iopub.status.idle": "2023-04-04T23:14:03.664829Z",
          "shell.execute_reply.started": "2023-04-04T23:14:01.374466Z",
          "shell.execute_reply": "2023-04-04T23:14:03.663435Z"
        },
        "trusted": true,
        "id": "3OlS184T3pkY",
        "outputId": "c8d7104b-e2e6-44e0-fe96-8dd10d76f430"
      },
      "execution_count": null,
      "outputs": [
        {
          "name": "stdout",
          "text": "59151\n",
          "output_type": "stream"
        }
      ]
    },
    {
      "cell_type": "markdown",
      "source": [
        "# **5-character-level vectorizer**"
      ],
      "metadata": {
        "id": "esy3U7_o3pkY"
      }
    },
    {
      "cell_type": "code",
      "source": [
        " # character-level vectorizer\n",
        "\"\"\"\n",
        "the steps \n",
        "1- the first line   code creates a TfidfVectorizer object with several parameters\n",
        "-  analyzer=\"char\": Specifies that the input text should be treated as a sequence of characters, rather than words \n",
        "- max_df=0.2: Specifies that terms that appear in more than 20% of the documents in the corpus should be ignored. \n",
        "- min_df=10: Specifies that terms that appear in less than 10 documents in the corpus should be ignored.\n",
        "- ngram_range=(1, 3): Specifies that the vectorizer should use character n-grams of lengths 1, 2, and 3 as features\n",
        "\n",
        "2-fits the TfidfVectorizer object called vectorizer to a preprocessed text dataset called lemmatization_train \n",
        "\n",
        "3-transform a preprocessed text dataset called lemmatization_train into a matrix of TF-IDF features.\n",
        "\n",
        "4- transform a new preprocessed text dataset called lemmatization_test into a matrix of TF-IDF features.\n",
        "5-building The Random Forest Classifier that takes  several parameters such as (n_estimators,max_depth,max_leaf_nodes)\n",
        "6- fit the model\n",
        "7- create submission file\n",
        "\n",
        "\"\"\"\n",
        "\n",
        "\n",
        "\"\"\"\n",
        "thoughts and observations\n",
        "1- I used  Random Forest Classifier without any using search space \n",
        "2- make fit on model using lemmatization train\n",
        "2- I think the model will fit well with character-level vectorizer\n",
        "\"\"\"\n",
        "\n",
        "\"\"\"\n",
        "my plan is  using lemmatization preprocessing with word-level vectorizer\n",
        "\"\"\"\n",
        "\n",
        "\n",
        "\n",
        "\n",
        "\n",
        "vectorizer = TfidfVectorizer(analyzer=\"char\", max_df=0.2, min_df=10, ngram_range=(1, 3), norm=\"l2\") # 1\n",
        "vectorizer.fit(lemmatization_train) #2\n",
        "data_lemmatized_vec = vectorizer.transform(lemmatization_train) #3\n",
        "X_test_vec = vectorizer.transform(lemmatization_test) #4\n",
        "model_rf = RandomForestClassifier(n_estimators=150,max_depth=7,max_leaf_nodes=5) #5\n",
        "model_rf.fit(data_lemmatized_vec,label_train) # 6\n",
        "submission = pd.DataFrame()\n",
        "submission['id'] = id\n",
        "submission['label'] = model_rf.predict_proba(X_test_vec)[:,1]\n",
        "submission.to_csv('test7.csv', index=False)"
      ],
      "metadata": {
        "execution": {
          "iopub.status.busy": "2023-04-04T23:14:03.666710Z",
          "iopub.execute_input": "2023-04-04T23:14:03.667182Z",
          "iopub.status.idle": "2023-04-04T23:14:34.146785Z",
          "shell.execute_reply.started": "2023-04-04T23:14:03.667129Z",
          "shell.execute_reply": "2023-04-04T23:14:34.145420Z"
        },
        "trusted": true,
        "id": "tkkzujR63pkY"
      },
      "execution_count": null,
      "outputs": []
    },
    {
      "cell_type": "markdown",
      "source": [
        "# **6- Word-level vectorizer**"
      ],
      "metadata": {
        "id": "PHE24Htq3pkY"
      }
    },
    {
      "cell_type": "code",
      "source": [
        "# word-level vectorizer\n",
        "\"\"\"\n",
        "the steps \n",
        "1- the first line   code creates a TfidfVectorizer object with several parameters\n",
        "-  analyzer=\"word\": Specifies that the input text should be treated as a sequence  words \n",
        "- max_df=0.4: Specifies that terms that appear in more than 40% of the documents in the corpus should be ignored. \n",
        "- min_df=10: Specifies that terms that appear in less than 10 documents in the corpus should be ignored.\n",
        "- ngram_range=(1, 3): Specifies that the vectorizer should use character n-grams of lengths 1, 2, and 3 as features\n",
        "\n",
        "2-fits the TfidfVectorizer object called vectorizer to a preprocessed text dataset called lemmatization_train \n",
        "\n",
        "3-transform a preprocessed text dataset called lemmatization_train into a matrix of TF-IDF features.\n",
        "\n",
        "4- transform a new preprocessed text dataset called lemmatization_test into a matrix of TF-IDF features.\n",
        "5-building The Random Forest Classifier that takes  several parameters such as (n_estimators,max_depth,max_leaf_nodes)\n",
        "6- fit the model\n",
        "7- create submission file\n",
        "\n",
        "\"\"\"\n",
        "\n",
        "\n",
        "\"\"\"\n",
        "thoughts and observations\n",
        "1- I used  Random Forest Classifier without any using search space \n",
        "2- make fit on model using lemmatization train\n",
        "2- I think the model will fit well with word-level vectorizer\n",
        "\"\"\"\n",
        "\n",
        "vectorizer2 = TfidfVectorizer(analyzer=\"word\", max_df=0.4, min_df=10, ngram_range=(1, 2))\n",
        "vectorizer2.fit(lemmatization_train)\n",
        "data_lemmatized_vec2 = vectorizer2.transform(lemmatization_train)\n",
        "X_test_vec2 = vectorizer2.transform(lemmatization_test)\n",
        "model_rf2 = RandomForestClassifier(n_estimators=150,max_depth=7,max_leaf_nodes=5)\n",
        "model_rf2.fit(data_lemmatized_vec2,label_train)\n",
        "\n",
        "submission = pd.DataFrame()\n",
        "submission['id'] = id\n",
        "submission['label'] = model_rf2.predict_proba(X_test_vec2)[:,1]\n",
        "submission.to_csv('test8.csv', index=False)"
      ],
      "metadata": {
        "execution": {
          "iopub.status.busy": "2023-04-04T23:14:34.148294Z",
          "iopub.execute_input": "2023-04-04T23:14:34.148696Z",
          "iopub.status.idle": "2023-04-04T23:14:42.212214Z",
          "shell.execute_reply.started": "2023-04-04T23:14:34.148660Z",
          "shell.execute_reply": "2023-04-04T23:14:42.211072Z"
        },
        "trusted": true,
        "id": "gMypGooN3pkY"
      },
      "execution_count": null,
      "outputs": []
    }
  ]
}