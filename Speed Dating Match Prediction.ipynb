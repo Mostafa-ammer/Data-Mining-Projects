{
  "nbformat": 4,
  "nbformat_minor": 0,
  "metadata": {
    "colab": {
      "provenance": []
    },
    "kernelspec": {
      "name": "python3",
      "display_name": "Python 3"
    },
    "language_info": {
      "name": "python"
    },
    "accelerator": "GPU",
    "gpuClass": "standard"
  },
  "cells": [
    {
      "cell_type": "markdown",
      "source": [
        "# **Problem Defination**\n"
      ],
      "metadata": {
        "id": "GPgSVCl3Tlil"
      }
    },
    {
      "cell_type": "markdown",
      "source": [
        "it is a classification problem to predict the probability of match label in range from 0 to 1, to know the date will success or not"
      ],
      "metadata": {
        "id": "wQQyfIrUhERn"
      }
    },
    {
      "cell_type": "markdown",
      "source": [
        "# **Input Data**"
      ],
      "metadata": {
        "id": "O0ttjER3Tme-"
      }
    },
    {
      "cell_type": "markdown",
      "source": [
        "set of features such as gender , income ,id ..."
      ],
      "metadata": {
        "id": "UxK_f-A4TmiG"
      }
    },
    {
      "cell_type": "markdown",
      "source": [
        "# **Output Data**"
      ],
      "metadata": {
        "id": "7FbQbKNpTmlN"
      }
    },
    {
      "cell_type": "markdown",
      "source": [
        "the output is the probability of match for every sample"
      ],
      "metadata": {
        "id": "yq03gGljTmn8"
      }
    },
    {
      "cell_type": "markdown",
      "source": [
        "# **Required Function**"
      ],
      "metadata": {
        "id": "GkNe9acnTmq8"
      }
    },
    {
      "cell_type": "markdown",
      "source": [
        "classification problem "
      ],
      "metadata": {
        "id": "eWDGhB54TmuE"
      }
    },
    {
      "cell_type": "markdown",
      "source": [
        "# **Challenges**"
      ],
      "metadata": {
        "id": "cUf7mCUiTmw8"
      }
    },
    {
      "cell_type": "markdown",
      "source": [
        "1- the data contain many null values in column , and we must clean the the null values \n",
        "\n",
        "2- there are high correlation between features\n",
        "\n",
        "3- data imbalance between class 0 and class 1"
      ],
      "metadata": {
        "id": "8zvNIu6Yj4tH"
      }
    },
    {
      "cell_type": "markdown",
      "source": [
        "# **The Impact**"
      ],
      "metadata": {
        "id": "iRQySoKJj4wG"
      }
    },
    {
      "cell_type": "markdown",
      "source": [
        "make the people meet their suitable partners in speed date event\n"
      ],
      "metadata": {
        "id": "VHas1-_mj4y4"
      }
    },
    {
      "cell_type": "markdown",
      "source": [
        "# **The Solution**"
      ],
      "metadata": {
        "id": "LsgHemzCj41W"
      }
    },
    {
      "cell_type": "markdown",
      "source": [
        "building set of machine learning model such as Random Forest , XGBoost and SVC  and get the best hyperparameters using set of techniques such as Grid Search , Random Search "
      ],
      "metadata": {
        "id": "y11NuxWlj44f"
      }
    },
    {
      "cell_type": "markdown",
      "source": [
        "# **Experimental Protocol**"
      ],
      "metadata": {
        "id": "moYRGCwPj47n"
      }
    },
    {
      "cell_type": "markdown",
      "source": [
        "1- import the required libraries\n",
        "\n",
        "2- reading the data\n",
        "\n",
        "3- discover the data \n",
        "\n",
        "4- make preprocessing such as drop columns that contain many null values \n",
        "\n",
        "5- replace the column that contain a few null values with mean or mode based on the data type of feature \n",
        "\n",
        "6- make set of pipeline \n",
        "  \n",
        "\n",
        "*   one pipeline for numerical feature and make scaling process on data\n",
        "*   one pipeline for categorical features and make one hot encoding on data\n",
        "*   merge two pipeline \n",
        "*   build set of pipline for different classifier\n",
        "\n",
        "7- get the best hyperparameters using set of techniques such as Grid Search , Random Search  \n",
        "\n",
        "8- make prediction on test data\n",
        "\n"
      ],
      "metadata": {
        "id": "-qVhtDGuoGBQ"
      }
    },
    {
      "cell_type": "markdown",
      "source": [
        "## **Why a simple linear regression model (without any activation function) is not good for classification task, compared to Perceptron/Logistic regression?**"
      ],
      "metadata": {
        "id": "5yILt3lFoGN3"
      }
    },
    {
      "cell_type": "markdown",
      "source": [
        "* Simple linear regression model without using activation function is not good for classification task because it cannot produce binary classification outputs. A linear regression model predicts only continuous numerical values based on the input features, while in classification tasks, we need to categorize the input data into discrete classes.\n",
        "*  Perceptron and Logistic Regression models are specifically designed for classification tasks. They use an activation function, such as a step function or sigmoid function, to map the output of the linear model to a binary classification output. The step function used in Perceptron model produces a binary output directly, while the sigmoid function used in Logistic Regression model produces a probability score that can be thresholded to produce a binary output.\n",
        "\n"
      ],
      "metadata": {
        "id": "ZIv4QAgcoGTf"
      }
    },
    {
      "cell_type": "markdown",
      "source": [
        "# **What's a decision tree and how it is different to a logistic regression model?**"
      ],
      "metadata": {
        "id": "UbuISjR8oGW3"
      }
    },
    {
      "cell_type": "markdown",
      "source": [
        "\n",
        "\n",
        "* decision tree is a  supervised learning approach used for classification and regression tasks . Internal nodes represent tests on features, branching to following nodes based on the test results, while leaf nodes provide the class label or regression output.\n",
        "* logistic regression model is a type of linear model used for binary classification tasks. use  logistic or sigmoid function to map the linear combination of the features to a probability score between 0 and 1.\n",
        "*  another difference between them , decision tree is non-linear classifier but decision is linear classifier, logistic work well with  continous data but decision tree work well with categorical data\n",
        "\n",
        "\n"
      ],
      "metadata": {
        "id": "C4XUY6RIoGaM"
      }
    },
    {
      "cell_type": "markdown",
      "source": [
        "# **What's the difference between grid search and random search?**"
      ],
      "metadata": {
        "id": "azrz6rPk2j8o"
      }
    },
    {
      "cell_type": "markdown",
      "source": [
        "Grid Search and Random Search are techniques used for find the best hyperparameters , the difference between them how each technique search on hyperparameters space .\n",
        "\n",
        "* Grid Search : creates a list of all possible combinations of hyperparameters and evaluates the model performance using cross-validation for each combination. Grid search is a deterministic approach and guarantees to find the best hyperparameters within the specified grid.\n",
        "*   Random Search : selects hyperparameters from the distribution and evaluates the model performance using cross-validation. Random search is a stochastic approach, and the number of hyperparameter combinations sampled depends on the number of iterations specified."
      ],
      "metadata": {
        "id": "bJAA4zqw2t4B"
      }
    },
    {
      "cell_type": "markdown",
      "source": [
        "# **What's the difference between bayesian search and random search?**"
      ],
      "metadata": {
        "id": "c7HRsUzr8Ksg"
      }
    },
    {
      "cell_type": "markdown",
      "source": [
        "* Bayesian search use the result of the previous iteration  by the sequential model-based optimisation process to determine the value of the subsequent hyperparameter.\n",
        "* random search is selecting random different combination to train the model, Bayesian search is faster than random search"
      ],
      "metadata": {
        "id": "sgWhyd4r8R3Z"
      }
    },
    {
      "cell_type": "markdown",
      "source": [
        "# **Import Libraries**"
      ],
      "metadata": {
        "id": "KOo7rYSv199b"
      }
    },
    {
      "cell_type": "code",
      "execution_count": null,
      "metadata": {
        "id": "yr6KTjuGz6Kg"
      },
      "outputs": [],
      "source": [
        "# import the libraries \n",
        "import numpy as np \n",
        "import pandas as pd\n",
        "import seaborn as sns\n",
        "import matplotlib.pyplot as plt\n",
        "from sklearn.compose import ColumnTransformer\n",
        "from sklearn.datasets import fetch_openml\n",
        "from sklearn.pipeline import Pipeline\n",
        "from sklearn.impute import SimpleImputer\n",
        "from sklearn.preprocessing import StandardScaler, OneHotEncoder\n",
        "from sklearn.model_selection import train_test_split, RandomizedSearchCV\n",
        "from sklearn.linear_model import LogisticRegression\n",
        "from xgboost import XGBClassifier\n",
        "from sklearn.ensemble import RandomForestClassifier\n",
        "from sklearn.model_selection import GridSearchCV\n",
        "from skopt import BayesSearchCV\n",
        "from skopt.space import Real, Categorical, Integer\n",
        "from sklearn.svm import SVC"
      ]
    },
    {
      "cell_type": "markdown",
      "source": [
        "# **Read Data**"
      ],
      "metadata": {
        "id": "w7WYMum42MNa"
      }
    },
    {
      "cell_type": "code",
      "source": [
        "# read the data (train and test )\n",
        "train=pd.read_csv('/content/match/train.csv')  \n",
        "test= pd.read_csv('/content/match/test.csv')"
      ],
      "metadata": {
        "id": "f9EwRX9N0jX9"
      },
      "execution_count": null,
      "outputs": []
    },
    {
      "cell_type": "markdown",
      "source": [
        "# **Explore The Data**"
      ],
      "metadata": {
        "id": "Sd9Gkunl2REa"
      }
    },
    {
      "cell_type": "code",
      "source": [
        "# show train data\n",
        "train"
      ],
      "metadata": {
        "colab": {
          "base_uri": "https://localhost:8080/",
          "height": 467
        },
        "id": "AKmxO3vL1Wdc",
        "outputId": "c0811d99-b195-4cbf-a325-a5d1c6902074"
      },
      "execution_count": null,
      "outputs": [
        {
          "output_type": "execute_result",
          "data": {
            "text/plain": [
              "      gender  idg  condtn  wave  round  position  positin1  order  partner  \\\n",
              "0          0    3       2    14     18         2       2.0     14       12   \n",
              "1          1   14       1     3     10         2       NaN      8        8   \n",
              "2          1   14       1    13     10         8       8.0     10       10   \n",
              "3          1   38       2     9     20        18      13.0      6        7   \n",
              "4          1   24       2    14     20         6       6.0     20       17   \n",
              "...      ...  ...     ...   ...    ...       ...       ...    ...      ...   \n",
              "2954       1   24       2    14     20        19      19.0     13       14   \n",
              "2955       1   24       2     7     16        14       5.0     10        4   \n",
              "2956       0   15       2    15     19        14      14.0      5       14   \n",
              "2957       0   21       2     2     16         8       NaN     11        3   \n",
              "2958       1   12       1     5     10         9       NaN      2        2   \n",
              "\n",
              "        pid  ...  sinc3_3  intel3_3  fun3_3  amb3_3  attr5_3  sinc5_3  \\\n",
              "0     372.0  ...      NaN       NaN     NaN     NaN      NaN      NaN   \n",
              "1      63.0  ...      8.0       8.0     7.0     8.0      NaN      NaN   \n",
              "2     331.0  ...      NaN       NaN     NaN     NaN      NaN      NaN   \n",
              "3     200.0  ...      9.0       8.0     8.0     6.0      NaN      NaN   \n",
              "4     357.0  ...      NaN       NaN     NaN     NaN      NaN      NaN   \n",
              "...     ...  ...      ...       ...     ...     ...      ...      ...   \n",
              "2954  354.0  ...      NaN       NaN     NaN     NaN      NaN      NaN   \n",
              "2955  145.0  ...      9.0       8.0     7.0     7.0      NaN      NaN   \n",
              "2956  410.0  ...      8.0       8.0     7.0     7.0      6.0      7.0   \n",
              "2957   42.0  ...      6.0       8.0     8.0     9.0      NaN      NaN   \n",
              "2958  113.0  ...      NaN       NaN     NaN     NaN      NaN      NaN   \n",
              "\n",
              "      intel5_3  fun5_3  amb5_3      id  \n",
              "0          NaN     NaN     NaN  2583.0  \n",
              "1          NaN     NaN     NaN  6830.0  \n",
              "2          NaN     NaN     NaN  4840.0  \n",
              "3          NaN     NaN     NaN  5508.0  \n",
              "4          NaN     NaN     NaN  4828.0  \n",
              "...        ...     ...     ...     ...  \n",
              "2954       NaN     NaN     NaN  5930.0  \n",
              "2955       NaN     NaN     NaN   121.0  \n",
              "2956       7.0     6.0     7.0  7476.0  \n",
              "2957       NaN     NaN     NaN  4408.0  \n",
              "2958       NaN     NaN     NaN     NaN  \n",
              "\n",
              "[2959 rows x 192 columns]"
            ],
            "text/html": [
              "\n",
              "  <div id=\"df-0088250e-ff43-431d-9436-def4cec1cafd\">\n",
              "    <div class=\"colab-df-container\">\n",
              "      <div>\n",
              "<style scoped>\n",
              "    .dataframe tbody tr th:only-of-type {\n",
              "        vertical-align: middle;\n",
              "    }\n",
              "\n",
              "    .dataframe tbody tr th {\n",
              "        vertical-align: top;\n",
              "    }\n",
              "\n",
              "    .dataframe thead th {\n",
              "        text-align: right;\n",
              "    }\n",
              "</style>\n",
              "<table border=\"1\" class=\"dataframe\">\n",
              "  <thead>\n",
              "    <tr style=\"text-align: right;\">\n",
              "      <th></th>\n",
              "      <th>gender</th>\n",
              "      <th>idg</th>\n",
              "      <th>condtn</th>\n",
              "      <th>wave</th>\n",
              "      <th>round</th>\n",
              "      <th>position</th>\n",
              "      <th>positin1</th>\n",
              "      <th>order</th>\n",
              "      <th>partner</th>\n",
              "      <th>pid</th>\n",
              "      <th>...</th>\n",
              "      <th>sinc3_3</th>\n",
              "      <th>intel3_3</th>\n",
              "      <th>fun3_3</th>\n",
              "      <th>amb3_3</th>\n",
              "      <th>attr5_3</th>\n",
              "      <th>sinc5_3</th>\n",
              "      <th>intel5_3</th>\n",
              "      <th>fun5_3</th>\n",
              "      <th>amb5_3</th>\n",
              "      <th>id</th>\n",
              "    </tr>\n",
              "  </thead>\n",
              "  <tbody>\n",
              "    <tr>\n",
              "      <th>0</th>\n",
              "      <td>0</td>\n",
              "      <td>3</td>\n",
              "      <td>2</td>\n",
              "      <td>14</td>\n",
              "      <td>18</td>\n",
              "      <td>2</td>\n",
              "      <td>2.0</td>\n",
              "      <td>14</td>\n",
              "      <td>12</td>\n",
              "      <td>372.0</td>\n",
              "      <td>...</td>\n",
              "      <td>NaN</td>\n",
              "      <td>NaN</td>\n",
              "      <td>NaN</td>\n",
              "      <td>NaN</td>\n",
              "      <td>NaN</td>\n",
              "      <td>NaN</td>\n",
              "      <td>NaN</td>\n",
              "      <td>NaN</td>\n",
              "      <td>NaN</td>\n",
              "      <td>2583.0</td>\n",
              "    </tr>\n",
              "    <tr>\n",
              "      <th>1</th>\n",
              "      <td>1</td>\n",
              "      <td>14</td>\n",
              "      <td>1</td>\n",
              "      <td>3</td>\n",
              "      <td>10</td>\n",
              "      <td>2</td>\n",
              "      <td>NaN</td>\n",
              "      <td>8</td>\n",
              "      <td>8</td>\n",
              "      <td>63.0</td>\n",
              "      <td>...</td>\n",
              "      <td>8.0</td>\n",
              "      <td>8.0</td>\n",
              "      <td>7.0</td>\n",
              "      <td>8.0</td>\n",
              "      <td>NaN</td>\n",
              "      <td>NaN</td>\n",
              "      <td>NaN</td>\n",
              "      <td>NaN</td>\n",
              "      <td>NaN</td>\n",
              "      <td>6830.0</td>\n",
              "    </tr>\n",
              "    <tr>\n",
              "      <th>2</th>\n",
              "      <td>1</td>\n",
              "      <td>14</td>\n",
              "      <td>1</td>\n",
              "      <td>13</td>\n",
              "      <td>10</td>\n",
              "      <td>8</td>\n",
              "      <td>8.0</td>\n",
              "      <td>10</td>\n",
              "      <td>10</td>\n",
              "      <td>331.0</td>\n",
              "      <td>...</td>\n",
              "      <td>NaN</td>\n",
              "      <td>NaN</td>\n",
              "      <td>NaN</td>\n",
              "      <td>NaN</td>\n",
              "      <td>NaN</td>\n",
              "      <td>NaN</td>\n",
              "      <td>NaN</td>\n",
              "      <td>NaN</td>\n",
              "      <td>NaN</td>\n",
              "      <td>4840.0</td>\n",
              "    </tr>\n",
              "    <tr>\n",
              "      <th>3</th>\n",
              "      <td>1</td>\n",
              "      <td>38</td>\n",
              "      <td>2</td>\n",
              "      <td>9</td>\n",
              "      <td>20</td>\n",
              "      <td>18</td>\n",
              "      <td>13.0</td>\n",
              "      <td>6</td>\n",
              "      <td>7</td>\n",
              "      <td>200.0</td>\n",
              "      <td>...</td>\n",
              "      <td>9.0</td>\n",
              "      <td>8.0</td>\n",
              "      <td>8.0</td>\n",
              "      <td>6.0</td>\n",
              "      <td>NaN</td>\n",
              "      <td>NaN</td>\n",
              "      <td>NaN</td>\n",
              "      <td>NaN</td>\n",
              "      <td>NaN</td>\n",
              "      <td>5508.0</td>\n",
              "    </tr>\n",
              "    <tr>\n",
              "      <th>4</th>\n",
              "      <td>1</td>\n",
              "      <td>24</td>\n",
              "      <td>2</td>\n",
              "      <td>14</td>\n",
              "      <td>20</td>\n",
              "      <td>6</td>\n",
              "      <td>6.0</td>\n",
              "      <td>20</td>\n",
              "      <td>17</td>\n",
              "      <td>357.0</td>\n",
              "      <td>...</td>\n",
              "      <td>NaN</td>\n",
              "      <td>NaN</td>\n",
              "      <td>NaN</td>\n",
              "      <td>NaN</td>\n",
              "      <td>NaN</td>\n",
              "      <td>NaN</td>\n",
              "      <td>NaN</td>\n",
              "      <td>NaN</td>\n",
              "      <td>NaN</td>\n",
              "      <td>4828.0</td>\n",
              "    </tr>\n",
              "    <tr>\n",
              "      <th>...</th>\n",
              "      <td>...</td>\n",
              "      <td>...</td>\n",
              "      <td>...</td>\n",
              "      <td>...</td>\n",
              "      <td>...</td>\n",
              "      <td>...</td>\n",
              "      <td>...</td>\n",
              "      <td>...</td>\n",
              "      <td>...</td>\n",
              "      <td>...</td>\n",
              "      <td>...</td>\n",
              "      <td>...</td>\n",
              "      <td>...</td>\n",
              "      <td>...</td>\n",
              "      <td>...</td>\n",
              "      <td>...</td>\n",
              "      <td>...</td>\n",
              "      <td>...</td>\n",
              "      <td>...</td>\n",
              "      <td>...</td>\n",
              "      <td>...</td>\n",
              "    </tr>\n",
              "    <tr>\n",
              "      <th>2954</th>\n",
              "      <td>1</td>\n",
              "      <td>24</td>\n",
              "      <td>2</td>\n",
              "      <td>14</td>\n",
              "      <td>20</td>\n",
              "      <td>19</td>\n",
              "      <td>19.0</td>\n",
              "      <td>13</td>\n",
              "      <td>14</td>\n",
              "      <td>354.0</td>\n",
              "      <td>...</td>\n",
              "      <td>NaN</td>\n",
              "      <td>NaN</td>\n",
              "      <td>NaN</td>\n",
              "      <td>NaN</td>\n",
              "      <td>NaN</td>\n",
              "      <td>NaN</td>\n",
              "      <td>NaN</td>\n",
              "      <td>NaN</td>\n",
              "      <td>NaN</td>\n",
              "      <td>5930.0</td>\n",
              "    </tr>\n",
              "    <tr>\n",
              "      <th>2955</th>\n",
              "      <td>1</td>\n",
              "      <td>24</td>\n",
              "      <td>2</td>\n",
              "      <td>7</td>\n",
              "      <td>16</td>\n",
              "      <td>14</td>\n",
              "      <td>5.0</td>\n",
              "      <td>10</td>\n",
              "      <td>4</td>\n",
              "      <td>145.0</td>\n",
              "      <td>...</td>\n",
              "      <td>9.0</td>\n",
              "      <td>8.0</td>\n",
              "      <td>7.0</td>\n",
              "      <td>7.0</td>\n",
              "      <td>NaN</td>\n",
              "      <td>NaN</td>\n",
              "      <td>NaN</td>\n",
              "      <td>NaN</td>\n",
              "      <td>NaN</td>\n",
              "      <td>121.0</td>\n",
              "    </tr>\n",
              "    <tr>\n",
              "      <th>2956</th>\n",
              "      <td>0</td>\n",
              "      <td>15</td>\n",
              "      <td>2</td>\n",
              "      <td>15</td>\n",
              "      <td>19</td>\n",
              "      <td>14</td>\n",
              "      <td>14.0</td>\n",
              "      <td>5</td>\n",
              "      <td>14</td>\n",
              "      <td>410.0</td>\n",
              "      <td>...</td>\n",
              "      <td>8.0</td>\n",
              "      <td>8.0</td>\n",
              "      <td>7.0</td>\n",
              "      <td>7.0</td>\n",
              "      <td>6.0</td>\n",
              "      <td>7.0</td>\n",
              "      <td>7.0</td>\n",
              "      <td>6.0</td>\n",
              "      <td>7.0</td>\n",
              "      <td>7476.0</td>\n",
              "    </tr>\n",
              "    <tr>\n",
              "      <th>2957</th>\n",
              "      <td>0</td>\n",
              "      <td>21</td>\n",
              "      <td>2</td>\n",
              "      <td>2</td>\n",
              "      <td>16</td>\n",
              "      <td>8</td>\n",
              "      <td>NaN</td>\n",
              "      <td>11</td>\n",
              "      <td>3</td>\n",
              "      <td>42.0</td>\n",
              "      <td>...</td>\n",
              "      <td>6.0</td>\n",
              "      <td>8.0</td>\n",
              "      <td>8.0</td>\n",
              "      <td>9.0</td>\n",
              "      <td>NaN</td>\n",
              "      <td>NaN</td>\n",
              "      <td>NaN</td>\n",
              "      <td>NaN</td>\n",
              "      <td>NaN</td>\n",
              "      <td>4408.0</td>\n",
              "    </tr>\n",
              "    <tr>\n",
              "      <th>2958</th>\n",
              "      <td>1</td>\n",
              "      <td>12</td>\n",
              "      <td>1</td>\n",
              "      <td>5</td>\n",
              "      <td>10</td>\n",
              "      <td>9</td>\n",
              "      <td>NaN</td>\n",
              "      <td>2</td>\n",
              "      <td>2</td>\n",
              "      <td>113.0</td>\n",
              "      <td>...</td>\n",
              "      <td>NaN</td>\n",
              "      <td>NaN</td>\n",
              "      <td>NaN</td>\n",
              "      <td>NaN</td>\n",
              "      <td>NaN</td>\n",
              "      <td>NaN</td>\n",
              "      <td>NaN</td>\n",
              "      <td>NaN</td>\n",
              "      <td>NaN</td>\n",
              "      <td>NaN</td>\n",
              "    </tr>\n",
              "  </tbody>\n",
              "</table>\n",
              "<p>2959 rows × 192 columns</p>\n",
              "</div>\n",
              "      <button class=\"colab-df-convert\" onclick=\"convertToInteractive('df-0088250e-ff43-431d-9436-def4cec1cafd')\"\n",
              "              title=\"Convert this dataframe to an interactive table.\"\n",
              "              style=\"display:none;\">\n",
              "        \n",
              "  <svg xmlns=\"http://www.w3.org/2000/svg\" height=\"24px\"viewBox=\"0 0 24 24\"\n",
              "       width=\"24px\">\n",
              "    <path d=\"M0 0h24v24H0V0z\" fill=\"none\"/>\n",
              "    <path d=\"M18.56 5.44l.94 2.06.94-2.06 2.06-.94-2.06-.94-.94-2.06-.94 2.06-2.06.94zm-11 1L8.5 8.5l.94-2.06 2.06-.94-2.06-.94L8.5 2.5l-.94 2.06-2.06.94zm10 10l.94 2.06.94-2.06 2.06-.94-2.06-.94-.94-2.06-.94 2.06-2.06.94z\"/><path d=\"M17.41 7.96l-1.37-1.37c-.4-.4-.92-.59-1.43-.59-.52 0-1.04.2-1.43.59L10.3 9.45l-7.72 7.72c-.78.78-.78 2.05 0 2.83L4 21.41c.39.39.9.59 1.41.59.51 0 1.02-.2 1.41-.59l7.78-7.78 2.81-2.81c.8-.78.8-2.07 0-2.86zM5.41 20L4 18.59l7.72-7.72 1.47 1.35L5.41 20z\"/>\n",
              "  </svg>\n",
              "      </button>\n",
              "      \n",
              "  <style>\n",
              "    .colab-df-container {\n",
              "      display:flex;\n",
              "      flex-wrap:wrap;\n",
              "      gap: 12px;\n",
              "    }\n",
              "\n",
              "    .colab-df-convert {\n",
              "      background-color: #E8F0FE;\n",
              "      border: none;\n",
              "      border-radius: 50%;\n",
              "      cursor: pointer;\n",
              "      display: none;\n",
              "      fill: #1967D2;\n",
              "      height: 32px;\n",
              "      padding: 0 0 0 0;\n",
              "      width: 32px;\n",
              "    }\n",
              "\n",
              "    .colab-df-convert:hover {\n",
              "      background-color: #E2EBFA;\n",
              "      box-shadow: 0px 1px 2px rgba(60, 64, 67, 0.3), 0px 1px 3px 1px rgba(60, 64, 67, 0.15);\n",
              "      fill: #174EA6;\n",
              "    }\n",
              "\n",
              "    [theme=dark] .colab-df-convert {\n",
              "      background-color: #3B4455;\n",
              "      fill: #D2E3FC;\n",
              "    }\n",
              "\n",
              "    [theme=dark] .colab-df-convert:hover {\n",
              "      background-color: #434B5C;\n",
              "      box-shadow: 0px 1px 3px 1px rgba(0, 0, 0, 0.15);\n",
              "      filter: drop-shadow(0px 1px 2px rgba(0, 0, 0, 0.3));\n",
              "      fill: #FFFFFF;\n",
              "    }\n",
              "  </style>\n",
              "\n",
              "      <script>\n",
              "        const buttonEl =\n",
              "          document.querySelector('#df-0088250e-ff43-431d-9436-def4cec1cafd button.colab-df-convert');\n",
              "        buttonEl.style.display =\n",
              "          google.colab.kernel.accessAllowed ? 'block' : 'none';\n",
              "\n",
              "        async function convertToInteractive(key) {\n",
              "          const element = document.querySelector('#df-0088250e-ff43-431d-9436-def4cec1cafd');\n",
              "          const dataTable =\n",
              "            await google.colab.kernel.invokeFunction('convertToInteractive',\n",
              "                                                     [key], {});\n",
              "          if (!dataTable) return;\n",
              "\n",
              "          const docLinkHtml = 'Like what you see? Visit the ' +\n",
              "            '<a target=\"_blank\" href=https://colab.research.google.com/notebooks/data_table.ipynb>data table notebook</a>'\n",
              "            + ' to learn more about interactive tables.';\n",
              "          element.innerHTML = '';\n",
              "          dataTable['output_type'] = 'display_data';\n",
              "          await google.colab.output.renderOutput(dataTable, element);\n",
              "          const docLink = document.createElement('div');\n",
              "          docLink.innerHTML = docLinkHtml;\n",
              "          element.appendChild(docLink);\n",
              "        }\n",
              "      </script>\n",
              "    </div>\n",
              "  </div>\n",
              "  "
            ]
          },
          "metadata": {},
          "execution_count": 9
        }
      ]
    },
    {
      "cell_type": "code",
      "source": [
        "# show test data \n",
        "test"
      ],
      "metadata": {
        "colab": {
          "base_uri": "https://localhost:8080/",
          "height": 467
        },
        "id": "tDD9Orlv1Wic",
        "outputId": "75a92400-4378-4341-b0db-a4f40e996724"
      },
      "execution_count": null,
      "outputs": [
        {
          "output_type": "execute_result",
          "data": {
            "text/plain": [
              "      gender  idg  condtn  wave  round  position  positin1  order  partner  \\\n",
              "0          0    5       2     2     16         3       NaN     13       13   \n",
              "1          0   33       2    14     18         6       6.0      4        8   \n",
              "2          1    6       2     9     20        10      16.0     15       19   \n",
              "3          1   26       2     2     19        15       NaN      8       10   \n",
              "4          0   29       2     7     16         7       7.0     10        5   \n",
              "...      ...  ...     ...   ...    ...       ...       ...    ...      ...   \n",
              "2464       0   23       2    15     19        18      18.0     14       11   \n",
              "2465       0    5       1    13      9         4       4.0      4        8   \n",
              "2466       1   26       2     2     19         3       NaN     15        3   \n",
              "2467       0   19       2     9     20        11      11.0      9        2   \n",
              "2468       1   38       2    21     22        22       7.0     16        5   \n",
              "\n",
              "        pid  ...  sinc3_3  intel3_3  fun3_3  amb3_3  attr5_3  sinc5_3  \\\n",
              "0      52.0  ...      7.0       8.0     6.0     8.0      NaN      NaN   \n",
              "1     368.0  ...      8.0       7.0     7.0     8.0      6.0      7.0   \n",
              "2     212.0  ...      NaN       NaN     NaN     NaN      NaN      NaN   \n",
              "3      30.0  ...      NaN       NaN     NaN     NaN      NaN      NaN   \n",
              "4     162.0  ...      NaN       NaN     NaN     NaN      NaN      NaN   \n",
              "...     ...  ...      ...       ...     ...     ...      ...      ...   \n",
              "2464  407.0  ...      NaN       NaN     NaN     NaN      NaN      NaN   \n",
              "2465  339.0  ...      NaN       NaN     NaN     NaN      NaN      NaN   \n",
              "2466   23.0  ...      NaN       NaN     NaN     NaN      NaN      NaN   \n",
              "2467  215.0  ...      7.0      12.0    12.0     9.0      NaN      NaN   \n",
              "2468  513.0  ...      9.0       8.0     7.0     8.0      5.0      8.0   \n",
              "\n",
              "      intel5_3  fun5_3  amb5_3    id  \n",
              "0          NaN     NaN     NaN   934  \n",
              "1          6.0     5.0     5.0  6539  \n",
              "2          NaN     NaN     NaN  6757  \n",
              "3          NaN     NaN     NaN  2275  \n",
              "4          NaN     NaN     NaN  1052  \n",
              "...        ...     ...     ...   ...  \n",
              "2464       NaN     NaN     NaN  7982  \n",
              "2465       NaN     NaN     NaN  7299  \n",
              "2466       NaN     NaN     NaN  1818  \n",
              "2467       NaN     NaN     NaN   937  \n",
              "2468       8.0     6.0     8.0  6691  \n",
              "\n",
              "[2469 rows x 191 columns]"
            ],
            "text/html": [
              "\n",
              "  <div id=\"df-0d2efdc2-5bf6-42be-a682-576b2d859024\">\n",
              "    <div class=\"colab-df-container\">\n",
              "      <div>\n",
              "<style scoped>\n",
              "    .dataframe tbody tr th:only-of-type {\n",
              "        vertical-align: middle;\n",
              "    }\n",
              "\n",
              "    .dataframe tbody tr th {\n",
              "        vertical-align: top;\n",
              "    }\n",
              "\n",
              "    .dataframe thead th {\n",
              "        text-align: right;\n",
              "    }\n",
              "</style>\n",
              "<table border=\"1\" class=\"dataframe\">\n",
              "  <thead>\n",
              "    <tr style=\"text-align: right;\">\n",
              "      <th></th>\n",
              "      <th>gender</th>\n",
              "      <th>idg</th>\n",
              "      <th>condtn</th>\n",
              "      <th>wave</th>\n",
              "      <th>round</th>\n",
              "      <th>position</th>\n",
              "      <th>positin1</th>\n",
              "      <th>order</th>\n",
              "      <th>partner</th>\n",
              "      <th>pid</th>\n",
              "      <th>...</th>\n",
              "      <th>sinc3_3</th>\n",
              "      <th>intel3_3</th>\n",
              "      <th>fun3_3</th>\n",
              "      <th>amb3_3</th>\n",
              "      <th>attr5_3</th>\n",
              "      <th>sinc5_3</th>\n",
              "      <th>intel5_3</th>\n",
              "      <th>fun5_3</th>\n",
              "      <th>amb5_3</th>\n",
              "      <th>id</th>\n",
              "    </tr>\n",
              "  </thead>\n",
              "  <tbody>\n",
              "    <tr>\n",
              "      <th>0</th>\n",
              "      <td>0</td>\n",
              "      <td>5</td>\n",
              "      <td>2</td>\n",
              "      <td>2</td>\n",
              "      <td>16</td>\n",
              "      <td>3</td>\n",
              "      <td>NaN</td>\n",
              "      <td>13</td>\n",
              "      <td>13</td>\n",
              "      <td>52.0</td>\n",
              "      <td>...</td>\n",
              "      <td>7.0</td>\n",
              "      <td>8.0</td>\n",
              "      <td>6.0</td>\n",
              "      <td>8.0</td>\n",
              "      <td>NaN</td>\n",
              "      <td>NaN</td>\n",
              "      <td>NaN</td>\n",
              "      <td>NaN</td>\n",
              "      <td>NaN</td>\n",
              "      <td>934</td>\n",
              "    </tr>\n",
              "    <tr>\n",
              "      <th>1</th>\n",
              "      <td>0</td>\n",
              "      <td>33</td>\n",
              "      <td>2</td>\n",
              "      <td>14</td>\n",
              "      <td>18</td>\n",
              "      <td>6</td>\n",
              "      <td>6.0</td>\n",
              "      <td>4</td>\n",
              "      <td>8</td>\n",
              "      <td>368.0</td>\n",
              "      <td>...</td>\n",
              "      <td>8.0</td>\n",
              "      <td>7.0</td>\n",
              "      <td>7.0</td>\n",
              "      <td>8.0</td>\n",
              "      <td>6.0</td>\n",
              "      <td>7.0</td>\n",
              "      <td>6.0</td>\n",
              "      <td>5.0</td>\n",
              "      <td>5.0</td>\n",
              "      <td>6539</td>\n",
              "    </tr>\n",
              "    <tr>\n",
              "      <th>2</th>\n",
              "      <td>1</td>\n",
              "      <td>6</td>\n",
              "      <td>2</td>\n",
              "      <td>9</td>\n",
              "      <td>20</td>\n",
              "      <td>10</td>\n",
              "      <td>16.0</td>\n",
              "      <td>15</td>\n",
              "      <td>19</td>\n",
              "      <td>212.0</td>\n",
              "      <td>...</td>\n",
              "      <td>NaN</td>\n",
              "      <td>NaN</td>\n",
              "      <td>NaN</td>\n",
              "      <td>NaN</td>\n",
              "      <td>NaN</td>\n",
              "      <td>NaN</td>\n",
              "      <td>NaN</td>\n",
              "      <td>NaN</td>\n",
              "      <td>NaN</td>\n",
              "      <td>6757</td>\n",
              "    </tr>\n",
              "    <tr>\n",
              "      <th>3</th>\n",
              "      <td>1</td>\n",
              "      <td>26</td>\n",
              "      <td>2</td>\n",
              "      <td>2</td>\n",
              "      <td>19</td>\n",
              "      <td>15</td>\n",
              "      <td>NaN</td>\n",
              "      <td>8</td>\n",
              "      <td>10</td>\n",
              "      <td>30.0</td>\n",
              "      <td>...</td>\n",
              "      <td>NaN</td>\n",
              "      <td>NaN</td>\n",
              "      <td>NaN</td>\n",
              "      <td>NaN</td>\n",
              "      <td>NaN</td>\n",
              "      <td>NaN</td>\n",
              "      <td>NaN</td>\n",
              "      <td>NaN</td>\n",
              "      <td>NaN</td>\n",
              "      <td>2275</td>\n",
              "    </tr>\n",
              "    <tr>\n",
              "      <th>4</th>\n",
              "      <td>0</td>\n",
              "      <td>29</td>\n",
              "      <td>2</td>\n",
              "      <td>7</td>\n",
              "      <td>16</td>\n",
              "      <td>7</td>\n",
              "      <td>7.0</td>\n",
              "      <td>10</td>\n",
              "      <td>5</td>\n",
              "      <td>162.0</td>\n",
              "      <td>...</td>\n",
              "      <td>NaN</td>\n",
              "      <td>NaN</td>\n",
              "      <td>NaN</td>\n",
              "      <td>NaN</td>\n",
              "      <td>NaN</td>\n",
              "      <td>NaN</td>\n",
              "      <td>NaN</td>\n",
              "      <td>NaN</td>\n",
              "      <td>NaN</td>\n",
              "      <td>1052</td>\n",
              "    </tr>\n",
              "    <tr>\n",
              "      <th>...</th>\n",
              "      <td>...</td>\n",
              "      <td>...</td>\n",
              "      <td>...</td>\n",
              "      <td>...</td>\n",
              "      <td>...</td>\n",
              "      <td>...</td>\n",
              "      <td>...</td>\n",
              "      <td>...</td>\n",
              "      <td>...</td>\n",
              "      <td>...</td>\n",
              "      <td>...</td>\n",
              "      <td>...</td>\n",
              "      <td>...</td>\n",
              "      <td>...</td>\n",
              "      <td>...</td>\n",
              "      <td>...</td>\n",
              "      <td>...</td>\n",
              "      <td>...</td>\n",
              "      <td>...</td>\n",
              "      <td>...</td>\n",
              "      <td>...</td>\n",
              "    </tr>\n",
              "    <tr>\n",
              "      <th>2464</th>\n",
              "      <td>0</td>\n",
              "      <td>23</td>\n",
              "      <td>2</td>\n",
              "      <td>15</td>\n",
              "      <td>19</td>\n",
              "      <td>18</td>\n",
              "      <td>18.0</td>\n",
              "      <td>14</td>\n",
              "      <td>11</td>\n",
              "      <td>407.0</td>\n",
              "      <td>...</td>\n",
              "      <td>NaN</td>\n",
              "      <td>NaN</td>\n",
              "      <td>NaN</td>\n",
              "      <td>NaN</td>\n",
              "      <td>NaN</td>\n",
              "      <td>NaN</td>\n",
              "      <td>NaN</td>\n",
              "      <td>NaN</td>\n",
              "      <td>NaN</td>\n",
              "      <td>7982</td>\n",
              "    </tr>\n",
              "    <tr>\n",
              "      <th>2465</th>\n",
              "      <td>0</td>\n",
              "      <td>5</td>\n",
              "      <td>1</td>\n",
              "      <td>13</td>\n",
              "      <td>9</td>\n",
              "      <td>4</td>\n",
              "      <td>4.0</td>\n",
              "      <td>4</td>\n",
              "      <td>8</td>\n",
              "      <td>339.0</td>\n",
              "      <td>...</td>\n",
              "      <td>NaN</td>\n",
              "      <td>NaN</td>\n",
              "      <td>NaN</td>\n",
              "      <td>NaN</td>\n",
              "      <td>NaN</td>\n",
              "      <td>NaN</td>\n",
              "      <td>NaN</td>\n",
              "      <td>NaN</td>\n",
              "      <td>NaN</td>\n",
              "      <td>7299</td>\n",
              "    </tr>\n",
              "    <tr>\n",
              "      <th>2466</th>\n",
              "      <td>1</td>\n",
              "      <td>26</td>\n",
              "      <td>2</td>\n",
              "      <td>2</td>\n",
              "      <td>19</td>\n",
              "      <td>3</td>\n",
              "      <td>NaN</td>\n",
              "      <td>15</td>\n",
              "      <td>3</td>\n",
              "      <td>23.0</td>\n",
              "      <td>...</td>\n",
              "      <td>NaN</td>\n",
              "      <td>NaN</td>\n",
              "      <td>NaN</td>\n",
              "      <td>NaN</td>\n",
              "      <td>NaN</td>\n",
              "      <td>NaN</td>\n",
              "      <td>NaN</td>\n",
              "      <td>NaN</td>\n",
              "      <td>NaN</td>\n",
              "      <td>1818</td>\n",
              "    </tr>\n",
              "    <tr>\n",
              "      <th>2467</th>\n",
              "      <td>0</td>\n",
              "      <td>19</td>\n",
              "      <td>2</td>\n",
              "      <td>9</td>\n",
              "      <td>20</td>\n",
              "      <td>11</td>\n",
              "      <td>11.0</td>\n",
              "      <td>9</td>\n",
              "      <td>2</td>\n",
              "      <td>215.0</td>\n",
              "      <td>...</td>\n",
              "      <td>7.0</td>\n",
              "      <td>12.0</td>\n",
              "      <td>12.0</td>\n",
              "      <td>9.0</td>\n",
              "      <td>NaN</td>\n",
              "      <td>NaN</td>\n",
              "      <td>NaN</td>\n",
              "      <td>NaN</td>\n",
              "      <td>NaN</td>\n",
              "      <td>937</td>\n",
              "    </tr>\n",
              "    <tr>\n",
              "      <th>2468</th>\n",
              "      <td>1</td>\n",
              "      <td>38</td>\n",
              "      <td>2</td>\n",
              "      <td>21</td>\n",
              "      <td>22</td>\n",
              "      <td>22</td>\n",
              "      <td>7.0</td>\n",
              "      <td>16</td>\n",
              "      <td>5</td>\n",
              "      <td>513.0</td>\n",
              "      <td>...</td>\n",
              "      <td>9.0</td>\n",
              "      <td>8.0</td>\n",
              "      <td>7.0</td>\n",
              "      <td>8.0</td>\n",
              "      <td>5.0</td>\n",
              "      <td>8.0</td>\n",
              "      <td>8.0</td>\n",
              "      <td>6.0</td>\n",
              "      <td>8.0</td>\n",
              "      <td>6691</td>\n",
              "    </tr>\n",
              "  </tbody>\n",
              "</table>\n",
              "<p>2469 rows × 191 columns</p>\n",
              "</div>\n",
              "      <button class=\"colab-df-convert\" onclick=\"convertToInteractive('df-0d2efdc2-5bf6-42be-a682-576b2d859024')\"\n",
              "              title=\"Convert this dataframe to an interactive table.\"\n",
              "              style=\"display:none;\">\n",
              "        \n",
              "  <svg xmlns=\"http://www.w3.org/2000/svg\" height=\"24px\"viewBox=\"0 0 24 24\"\n",
              "       width=\"24px\">\n",
              "    <path d=\"M0 0h24v24H0V0z\" fill=\"none\"/>\n",
              "    <path d=\"M18.56 5.44l.94 2.06.94-2.06 2.06-.94-2.06-.94-.94-2.06-.94 2.06-2.06.94zm-11 1L8.5 8.5l.94-2.06 2.06-.94-2.06-.94L8.5 2.5l-.94 2.06-2.06.94zm10 10l.94 2.06.94-2.06 2.06-.94-2.06-.94-.94-2.06-.94 2.06-2.06.94z\"/><path d=\"M17.41 7.96l-1.37-1.37c-.4-.4-.92-.59-1.43-.59-.52 0-1.04.2-1.43.59L10.3 9.45l-7.72 7.72c-.78.78-.78 2.05 0 2.83L4 21.41c.39.39.9.59 1.41.59.51 0 1.02-.2 1.41-.59l7.78-7.78 2.81-2.81c.8-.78.8-2.07 0-2.86zM5.41 20L4 18.59l7.72-7.72 1.47 1.35L5.41 20z\"/>\n",
              "  </svg>\n",
              "      </button>\n",
              "      \n",
              "  <style>\n",
              "    .colab-df-container {\n",
              "      display:flex;\n",
              "      flex-wrap:wrap;\n",
              "      gap: 12px;\n",
              "    }\n",
              "\n",
              "    .colab-df-convert {\n",
              "      background-color: #E8F0FE;\n",
              "      border: none;\n",
              "      border-radius: 50%;\n",
              "      cursor: pointer;\n",
              "      display: none;\n",
              "      fill: #1967D2;\n",
              "      height: 32px;\n",
              "      padding: 0 0 0 0;\n",
              "      width: 32px;\n",
              "    }\n",
              "\n",
              "    .colab-df-convert:hover {\n",
              "      background-color: #E2EBFA;\n",
              "      box-shadow: 0px 1px 2px rgba(60, 64, 67, 0.3), 0px 1px 3px 1px rgba(60, 64, 67, 0.15);\n",
              "      fill: #174EA6;\n",
              "    }\n",
              "\n",
              "    [theme=dark] .colab-df-convert {\n",
              "      background-color: #3B4455;\n",
              "      fill: #D2E3FC;\n",
              "    }\n",
              "\n",
              "    [theme=dark] .colab-df-convert:hover {\n",
              "      background-color: #434B5C;\n",
              "      box-shadow: 0px 1px 3px 1px rgba(0, 0, 0, 0.15);\n",
              "      filter: drop-shadow(0px 1px 2px rgba(0, 0, 0, 0.3));\n",
              "      fill: #FFFFFF;\n",
              "    }\n",
              "  </style>\n",
              "\n",
              "      <script>\n",
              "        const buttonEl =\n",
              "          document.querySelector('#df-0d2efdc2-5bf6-42be-a682-576b2d859024 button.colab-df-convert');\n",
              "        buttonEl.style.display =\n",
              "          google.colab.kernel.accessAllowed ? 'block' : 'none';\n",
              "\n",
              "        async function convertToInteractive(key) {\n",
              "          const element = document.querySelector('#df-0d2efdc2-5bf6-42be-a682-576b2d859024');\n",
              "          const dataTable =\n",
              "            await google.colab.kernel.invokeFunction('convertToInteractive',\n",
              "                                                     [key], {});\n",
              "          if (!dataTable) return;\n",
              "\n",
              "          const docLinkHtml = 'Like what you see? Visit the ' +\n",
              "            '<a target=\"_blank\" href=https://colab.research.google.com/notebooks/data_table.ipynb>data table notebook</a>'\n",
              "            + ' to learn more about interactive tables.';\n",
              "          element.innerHTML = '';\n",
              "          dataTable['output_type'] = 'display_data';\n",
              "          await google.colab.output.renderOutput(dataTable, element);\n",
              "          const docLink = document.createElement('div');\n",
              "          docLink.innerHTML = docLinkHtml;\n",
              "          element.appendChild(docLink);\n",
              "        }\n",
              "      </script>\n",
              "    </div>\n",
              "  </div>\n",
              "  "
            ]
          },
          "metadata": {},
          "execution_count": 10
        }
      ]
    },
    {
      "cell_type": "code",
      "source": [
        "# save match column from train data\n",
        "match_in_train = train['match'] "
      ],
      "metadata": {
        "id": "7UUWd3Fl8fEy"
      },
      "execution_count": null,
      "outputs": []
    },
    {
      "cell_type": "code",
      "source": [
        "#drop match column from train data\n",
        "train.drop(['match'],axis=1,inplace=True)"
      ],
      "metadata": {
        "id": "2l3KpkSZ8t9D"
      },
      "execution_count": null,
      "outputs": []
    },
    {
      "cell_type": "code",
      "source": [
        "# concat train and test together  \n",
        "data = pd.concat([train,test],axis = 0)"
      ],
      "metadata": {
        "id": "KZDS2aOC2Myq"
      },
      "execution_count": null,
      "outputs": []
    },
    {
      "cell_type": "code",
      "source": [
        "#show the data after concatination\n",
        "data"
      ],
      "metadata": {
        "colab": {
          "base_uri": "https://localhost:8080/",
          "height": 467
        },
        "id": "a-HBB1HB59q9",
        "outputId": "1a0da946-2193-49a8-aba5-cc6771c85b65"
      },
      "execution_count": null,
      "outputs": [
        {
          "output_type": "execute_result",
          "data": {
            "text/plain": [
              "      gender  idg  condtn  wave  round  position  positin1  order  partner  \\\n",
              "0          0    3       2    14     18         2       2.0     14       12   \n",
              "1          1   14       1     3     10         2       NaN      8        8   \n",
              "2          1   14       1    13     10         8       8.0     10       10   \n",
              "3          1   38       2     9     20        18      13.0      6        7   \n",
              "4          1   24       2    14     20         6       6.0     20       17   \n",
              "...      ...  ...     ...   ...    ...       ...       ...    ...      ...   \n",
              "2464       0   23       2    15     19        18      18.0     14       11   \n",
              "2465       0    5       1    13      9         4       4.0      4        8   \n",
              "2466       1   26       2     2     19         3       NaN     15        3   \n",
              "2467       0   19       2     9     20        11      11.0      9        2   \n",
              "2468       1   38       2    21     22        22       7.0     16        5   \n",
              "\n",
              "        pid  ...  sinc3_3  intel3_3  fun3_3  amb3_3  attr5_3  sinc5_3  \\\n",
              "0     372.0  ...      NaN       NaN     NaN     NaN      NaN      NaN   \n",
              "1      63.0  ...      8.0       8.0     7.0     8.0      NaN      NaN   \n",
              "2     331.0  ...      NaN       NaN     NaN     NaN      NaN      NaN   \n",
              "3     200.0  ...      9.0       8.0     8.0     6.0      NaN      NaN   \n",
              "4     357.0  ...      NaN       NaN     NaN     NaN      NaN      NaN   \n",
              "...     ...  ...      ...       ...     ...     ...      ...      ...   \n",
              "2464  407.0  ...      NaN       NaN     NaN     NaN      NaN      NaN   \n",
              "2465  339.0  ...      NaN       NaN     NaN     NaN      NaN      NaN   \n",
              "2466   23.0  ...      NaN       NaN     NaN     NaN      NaN      NaN   \n",
              "2467  215.0  ...      7.0      12.0    12.0     9.0      NaN      NaN   \n",
              "2468  513.0  ...      9.0       8.0     7.0     8.0      5.0      8.0   \n",
              "\n",
              "      intel5_3  fun5_3  amb5_3      id  \n",
              "0          NaN     NaN     NaN  2583.0  \n",
              "1          NaN     NaN     NaN  6830.0  \n",
              "2          NaN     NaN     NaN  4840.0  \n",
              "3          NaN     NaN     NaN  5508.0  \n",
              "4          NaN     NaN     NaN  4828.0  \n",
              "...        ...     ...     ...     ...  \n",
              "2464       NaN     NaN     NaN  7982.0  \n",
              "2465       NaN     NaN     NaN  7299.0  \n",
              "2466       NaN     NaN     NaN  1818.0  \n",
              "2467       NaN     NaN     NaN   937.0  \n",
              "2468       8.0     6.0     8.0  6691.0  \n",
              "\n",
              "[5428 rows x 191 columns]"
            ],
            "text/html": [
              "\n",
              "  <div id=\"df-eb35f93b-b6c8-4f3e-8552-4c7cd737af15\">\n",
              "    <div class=\"colab-df-container\">\n",
              "      <div>\n",
              "<style scoped>\n",
              "    .dataframe tbody tr th:only-of-type {\n",
              "        vertical-align: middle;\n",
              "    }\n",
              "\n",
              "    .dataframe tbody tr th {\n",
              "        vertical-align: top;\n",
              "    }\n",
              "\n",
              "    .dataframe thead th {\n",
              "        text-align: right;\n",
              "    }\n",
              "</style>\n",
              "<table border=\"1\" class=\"dataframe\">\n",
              "  <thead>\n",
              "    <tr style=\"text-align: right;\">\n",
              "      <th></th>\n",
              "      <th>gender</th>\n",
              "      <th>idg</th>\n",
              "      <th>condtn</th>\n",
              "      <th>wave</th>\n",
              "      <th>round</th>\n",
              "      <th>position</th>\n",
              "      <th>positin1</th>\n",
              "      <th>order</th>\n",
              "      <th>partner</th>\n",
              "      <th>pid</th>\n",
              "      <th>...</th>\n",
              "      <th>sinc3_3</th>\n",
              "      <th>intel3_3</th>\n",
              "      <th>fun3_3</th>\n",
              "      <th>amb3_3</th>\n",
              "      <th>attr5_3</th>\n",
              "      <th>sinc5_3</th>\n",
              "      <th>intel5_3</th>\n",
              "      <th>fun5_3</th>\n",
              "      <th>amb5_3</th>\n",
              "      <th>id</th>\n",
              "    </tr>\n",
              "  </thead>\n",
              "  <tbody>\n",
              "    <tr>\n",
              "      <th>0</th>\n",
              "      <td>0</td>\n",
              "      <td>3</td>\n",
              "      <td>2</td>\n",
              "      <td>14</td>\n",
              "      <td>18</td>\n",
              "      <td>2</td>\n",
              "      <td>2.0</td>\n",
              "      <td>14</td>\n",
              "      <td>12</td>\n",
              "      <td>372.0</td>\n",
              "      <td>...</td>\n",
              "      <td>NaN</td>\n",
              "      <td>NaN</td>\n",
              "      <td>NaN</td>\n",
              "      <td>NaN</td>\n",
              "      <td>NaN</td>\n",
              "      <td>NaN</td>\n",
              "      <td>NaN</td>\n",
              "      <td>NaN</td>\n",
              "      <td>NaN</td>\n",
              "      <td>2583.0</td>\n",
              "    </tr>\n",
              "    <tr>\n",
              "      <th>1</th>\n",
              "      <td>1</td>\n",
              "      <td>14</td>\n",
              "      <td>1</td>\n",
              "      <td>3</td>\n",
              "      <td>10</td>\n",
              "      <td>2</td>\n",
              "      <td>NaN</td>\n",
              "      <td>8</td>\n",
              "      <td>8</td>\n",
              "      <td>63.0</td>\n",
              "      <td>...</td>\n",
              "      <td>8.0</td>\n",
              "      <td>8.0</td>\n",
              "      <td>7.0</td>\n",
              "      <td>8.0</td>\n",
              "      <td>NaN</td>\n",
              "      <td>NaN</td>\n",
              "      <td>NaN</td>\n",
              "      <td>NaN</td>\n",
              "      <td>NaN</td>\n",
              "      <td>6830.0</td>\n",
              "    </tr>\n",
              "    <tr>\n",
              "      <th>2</th>\n",
              "      <td>1</td>\n",
              "      <td>14</td>\n",
              "      <td>1</td>\n",
              "      <td>13</td>\n",
              "      <td>10</td>\n",
              "      <td>8</td>\n",
              "      <td>8.0</td>\n",
              "      <td>10</td>\n",
              "      <td>10</td>\n",
              "      <td>331.0</td>\n",
              "      <td>...</td>\n",
              "      <td>NaN</td>\n",
              "      <td>NaN</td>\n",
              "      <td>NaN</td>\n",
              "      <td>NaN</td>\n",
              "      <td>NaN</td>\n",
              "      <td>NaN</td>\n",
              "      <td>NaN</td>\n",
              "      <td>NaN</td>\n",
              "      <td>NaN</td>\n",
              "      <td>4840.0</td>\n",
              "    </tr>\n",
              "    <tr>\n",
              "      <th>3</th>\n",
              "      <td>1</td>\n",
              "      <td>38</td>\n",
              "      <td>2</td>\n",
              "      <td>9</td>\n",
              "      <td>20</td>\n",
              "      <td>18</td>\n",
              "      <td>13.0</td>\n",
              "      <td>6</td>\n",
              "      <td>7</td>\n",
              "      <td>200.0</td>\n",
              "      <td>...</td>\n",
              "      <td>9.0</td>\n",
              "      <td>8.0</td>\n",
              "      <td>8.0</td>\n",
              "      <td>6.0</td>\n",
              "      <td>NaN</td>\n",
              "      <td>NaN</td>\n",
              "      <td>NaN</td>\n",
              "      <td>NaN</td>\n",
              "      <td>NaN</td>\n",
              "      <td>5508.0</td>\n",
              "    </tr>\n",
              "    <tr>\n",
              "      <th>4</th>\n",
              "      <td>1</td>\n",
              "      <td>24</td>\n",
              "      <td>2</td>\n",
              "      <td>14</td>\n",
              "      <td>20</td>\n",
              "      <td>6</td>\n",
              "      <td>6.0</td>\n",
              "      <td>20</td>\n",
              "      <td>17</td>\n",
              "      <td>357.0</td>\n",
              "      <td>...</td>\n",
              "      <td>NaN</td>\n",
              "      <td>NaN</td>\n",
              "      <td>NaN</td>\n",
              "      <td>NaN</td>\n",
              "      <td>NaN</td>\n",
              "      <td>NaN</td>\n",
              "      <td>NaN</td>\n",
              "      <td>NaN</td>\n",
              "      <td>NaN</td>\n",
              "      <td>4828.0</td>\n",
              "    </tr>\n",
              "    <tr>\n",
              "      <th>...</th>\n",
              "      <td>...</td>\n",
              "      <td>...</td>\n",
              "      <td>...</td>\n",
              "      <td>...</td>\n",
              "      <td>...</td>\n",
              "      <td>...</td>\n",
              "      <td>...</td>\n",
              "      <td>...</td>\n",
              "      <td>...</td>\n",
              "      <td>...</td>\n",
              "      <td>...</td>\n",
              "      <td>...</td>\n",
              "      <td>...</td>\n",
              "      <td>...</td>\n",
              "      <td>...</td>\n",
              "      <td>...</td>\n",
              "      <td>...</td>\n",
              "      <td>...</td>\n",
              "      <td>...</td>\n",
              "      <td>...</td>\n",
              "      <td>...</td>\n",
              "    </tr>\n",
              "    <tr>\n",
              "      <th>2464</th>\n",
              "      <td>0</td>\n",
              "      <td>23</td>\n",
              "      <td>2</td>\n",
              "      <td>15</td>\n",
              "      <td>19</td>\n",
              "      <td>18</td>\n",
              "      <td>18.0</td>\n",
              "      <td>14</td>\n",
              "      <td>11</td>\n",
              "      <td>407.0</td>\n",
              "      <td>...</td>\n",
              "      <td>NaN</td>\n",
              "      <td>NaN</td>\n",
              "      <td>NaN</td>\n",
              "      <td>NaN</td>\n",
              "      <td>NaN</td>\n",
              "      <td>NaN</td>\n",
              "      <td>NaN</td>\n",
              "      <td>NaN</td>\n",
              "      <td>NaN</td>\n",
              "      <td>7982.0</td>\n",
              "    </tr>\n",
              "    <tr>\n",
              "      <th>2465</th>\n",
              "      <td>0</td>\n",
              "      <td>5</td>\n",
              "      <td>1</td>\n",
              "      <td>13</td>\n",
              "      <td>9</td>\n",
              "      <td>4</td>\n",
              "      <td>4.0</td>\n",
              "      <td>4</td>\n",
              "      <td>8</td>\n",
              "      <td>339.0</td>\n",
              "      <td>...</td>\n",
              "      <td>NaN</td>\n",
              "      <td>NaN</td>\n",
              "      <td>NaN</td>\n",
              "      <td>NaN</td>\n",
              "      <td>NaN</td>\n",
              "      <td>NaN</td>\n",
              "      <td>NaN</td>\n",
              "      <td>NaN</td>\n",
              "      <td>NaN</td>\n",
              "      <td>7299.0</td>\n",
              "    </tr>\n",
              "    <tr>\n",
              "      <th>2466</th>\n",
              "      <td>1</td>\n",
              "      <td>26</td>\n",
              "      <td>2</td>\n",
              "      <td>2</td>\n",
              "      <td>19</td>\n",
              "      <td>3</td>\n",
              "      <td>NaN</td>\n",
              "      <td>15</td>\n",
              "      <td>3</td>\n",
              "      <td>23.0</td>\n",
              "      <td>...</td>\n",
              "      <td>NaN</td>\n",
              "      <td>NaN</td>\n",
              "      <td>NaN</td>\n",
              "      <td>NaN</td>\n",
              "      <td>NaN</td>\n",
              "      <td>NaN</td>\n",
              "      <td>NaN</td>\n",
              "      <td>NaN</td>\n",
              "      <td>NaN</td>\n",
              "      <td>1818.0</td>\n",
              "    </tr>\n",
              "    <tr>\n",
              "      <th>2467</th>\n",
              "      <td>0</td>\n",
              "      <td>19</td>\n",
              "      <td>2</td>\n",
              "      <td>9</td>\n",
              "      <td>20</td>\n",
              "      <td>11</td>\n",
              "      <td>11.0</td>\n",
              "      <td>9</td>\n",
              "      <td>2</td>\n",
              "      <td>215.0</td>\n",
              "      <td>...</td>\n",
              "      <td>7.0</td>\n",
              "      <td>12.0</td>\n",
              "      <td>12.0</td>\n",
              "      <td>9.0</td>\n",
              "      <td>NaN</td>\n",
              "      <td>NaN</td>\n",
              "      <td>NaN</td>\n",
              "      <td>NaN</td>\n",
              "      <td>NaN</td>\n",
              "      <td>937.0</td>\n",
              "    </tr>\n",
              "    <tr>\n",
              "      <th>2468</th>\n",
              "      <td>1</td>\n",
              "      <td>38</td>\n",
              "      <td>2</td>\n",
              "      <td>21</td>\n",
              "      <td>22</td>\n",
              "      <td>22</td>\n",
              "      <td>7.0</td>\n",
              "      <td>16</td>\n",
              "      <td>5</td>\n",
              "      <td>513.0</td>\n",
              "      <td>...</td>\n",
              "      <td>9.0</td>\n",
              "      <td>8.0</td>\n",
              "      <td>7.0</td>\n",
              "      <td>8.0</td>\n",
              "      <td>5.0</td>\n",
              "      <td>8.0</td>\n",
              "      <td>8.0</td>\n",
              "      <td>6.0</td>\n",
              "      <td>8.0</td>\n",
              "      <td>6691.0</td>\n",
              "    </tr>\n",
              "  </tbody>\n",
              "</table>\n",
              "<p>5428 rows × 191 columns</p>\n",
              "</div>\n",
              "      <button class=\"colab-df-convert\" onclick=\"convertToInteractive('df-eb35f93b-b6c8-4f3e-8552-4c7cd737af15')\"\n",
              "              title=\"Convert this dataframe to an interactive table.\"\n",
              "              style=\"display:none;\">\n",
              "        \n",
              "  <svg xmlns=\"http://www.w3.org/2000/svg\" height=\"24px\"viewBox=\"0 0 24 24\"\n",
              "       width=\"24px\">\n",
              "    <path d=\"M0 0h24v24H0V0z\" fill=\"none\"/>\n",
              "    <path d=\"M18.56 5.44l.94 2.06.94-2.06 2.06-.94-2.06-.94-.94-2.06-.94 2.06-2.06.94zm-11 1L8.5 8.5l.94-2.06 2.06-.94-2.06-.94L8.5 2.5l-.94 2.06-2.06.94zm10 10l.94 2.06.94-2.06 2.06-.94-2.06-.94-.94-2.06-.94 2.06-2.06.94z\"/><path d=\"M17.41 7.96l-1.37-1.37c-.4-.4-.92-.59-1.43-.59-.52 0-1.04.2-1.43.59L10.3 9.45l-7.72 7.72c-.78.78-.78 2.05 0 2.83L4 21.41c.39.39.9.59 1.41.59.51 0 1.02-.2 1.41-.59l7.78-7.78 2.81-2.81c.8-.78.8-2.07 0-2.86zM5.41 20L4 18.59l7.72-7.72 1.47 1.35L5.41 20z\"/>\n",
              "  </svg>\n",
              "      </button>\n",
              "      \n",
              "  <style>\n",
              "    .colab-df-container {\n",
              "      display:flex;\n",
              "      flex-wrap:wrap;\n",
              "      gap: 12px;\n",
              "    }\n",
              "\n",
              "    .colab-df-convert {\n",
              "      background-color: #E8F0FE;\n",
              "      border: none;\n",
              "      border-radius: 50%;\n",
              "      cursor: pointer;\n",
              "      display: none;\n",
              "      fill: #1967D2;\n",
              "      height: 32px;\n",
              "      padding: 0 0 0 0;\n",
              "      width: 32px;\n",
              "    }\n",
              "\n",
              "    .colab-df-convert:hover {\n",
              "      background-color: #E2EBFA;\n",
              "      box-shadow: 0px 1px 2px rgba(60, 64, 67, 0.3), 0px 1px 3px 1px rgba(60, 64, 67, 0.15);\n",
              "      fill: #174EA6;\n",
              "    }\n",
              "\n",
              "    [theme=dark] .colab-df-convert {\n",
              "      background-color: #3B4455;\n",
              "      fill: #D2E3FC;\n",
              "    }\n",
              "\n",
              "    [theme=dark] .colab-df-convert:hover {\n",
              "      background-color: #434B5C;\n",
              "      box-shadow: 0px 1px 3px 1px rgba(0, 0, 0, 0.15);\n",
              "      filter: drop-shadow(0px 1px 2px rgba(0, 0, 0, 0.3));\n",
              "      fill: #FFFFFF;\n",
              "    }\n",
              "  </style>\n",
              "\n",
              "      <script>\n",
              "        const buttonEl =\n",
              "          document.querySelector('#df-eb35f93b-b6c8-4f3e-8552-4c7cd737af15 button.colab-df-convert');\n",
              "        buttonEl.style.display =\n",
              "          google.colab.kernel.accessAllowed ? 'block' : 'none';\n",
              "\n",
              "        async function convertToInteractive(key) {\n",
              "          const element = document.querySelector('#df-eb35f93b-b6c8-4f3e-8552-4c7cd737af15');\n",
              "          const dataTable =\n",
              "            await google.colab.kernel.invokeFunction('convertToInteractive',\n",
              "                                                     [key], {});\n",
              "          if (!dataTable) return;\n",
              "\n",
              "          const docLinkHtml = 'Like what you see? Visit the ' +\n",
              "            '<a target=\"_blank\" href=https://colab.research.google.com/notebooks/data_table.ipynb>data table notebook</a>'\n",
              "            + ' to learn more about interactive tables.';\n",
              "          element.innerHTML = '';\n",
              "          dataTable['output_type'] = 'display_data';\n",
              "          await google.colab.output.renderOutput(dataTable, element);\n",
              "          const docLink = document.createElement('div');\n",
              "          docLink.innerHTML = docLinkHtml;\n",
              "          element.appendChild(docLink);\n",
              "        }\n",
              "      </script>\n",
              "    </div>\n",
              "  </div>\n",
              "  "
            ]
          },
          "metadata": {},
          "execution_count": 14
        }
      ]
    },
    {
      "cell_type": "code",
      "source": [
        "# get the shape of train data\n",
        "train.shape"
      ],
      "metadata": {
        "colab": {
          "base_uri": "https://localhost:8080/"
        },
        "id": "IKLSMC8207f7",
        "outputId": "ac7e0643-e875-4c60-afb1-664382536021"
      },
      "execution_count": null,
      "outputs": [
        {
          "output_type": "execute_result",
          "data": {
            "text/plain": [
              "(2959, 191)"
            ]
          },
          "metadata": {},
          "execution_count": 15
        }
      ]
    },
    {
      "cell_type": "code",
      "source": [
        "# get the shape of test data\n",
        "test.shape"
      ],
      "metadata": {
        "colab": {
          "base_uri": "https://localhost:8080/"
        },
        "id": "_W5Ytl6e0-Ks",
        "outputId": "f41ae759-940b-47ad-919e-687c973e4298"
      },
      "execution_count": null,
      "outputs": [
        {
          "output_type": "execute_result",
          "data": {
            "text/plain": [
              "(2469, 191)"
            ]
          },
          "metadata": {},
          "execution_count": 16
        }
      ]
    },
    {
      "cell_type": "code",
      "source": [
        "# get the shape of data(train+test)\n",
        "data.shape"
      ],
      "metadata": {
        "colab": {
          "base_uri": "https://localhost:8080/"
        },
        "id": "YX0xWdwl9CZC",
        "outputId": "f955392f-d14e-480a-89e0-2ca187c145b5"
      },
      "execution_count": null,
      "outputs": [
        {
          "output_type": "execute_result",
          "data": {
            "text/plain": [
              "(5428, 191)"
            ]
          },
          "metadata": {},
          "execution_count": 17
        }
      ]
    },
    {
      "cell_type": "code",
      "source": [
        "# show the number of null values in each column in data\n",
        "# there are many column contain many null values \n",
        "data.isnull().sum().sort_values()"
      ],
      "metadata": {
        "colab": {
          "base_uri": "https://localhost:8080/"
        },
        "id": "PdceYaBV1F3s",
        "outputId": "c46287dd-e57f-4790-f3d2-f44606683d28"
      },
      "execution_count": null,
      "outputs": [
        {
          "output_type": "execute_result",
          "data": {
            "text/plain": [
              "gender         0\n",
              "idg            0\n",
              "condtn         0\n",
              "wave           0\n",
              "round          0\n",
              "            ... \n",
              "sinc7_2     4170\n",
              "amb7_2      4170\n",
              "expnum      4282\n",
              "numdat_3    4467\n",
              "num_in_3    4993\n",
              "Length: 191, dtype: int64"
            ]
          },
          "metadata": {},
          "execution_count": 18
        }
      ]
    },
    {
      "cell_type": "code",
      "source": [
        "# the total number of null values in data\n",
        "data.isnull().sum().sum()"
      ],
      "metadata": {
        "colab": {
          "base_uri": "https://localhost:8080/"
        },
        "id": "Vo2QHa4FBsJn",
        "outputId": "fd1f6460-cbc0-4061-c4c6-e9427e2bdc30"
      },
      "execution_count": null,
      "outputs": [
        {
          "output_type": "execute_result",
          "data": {
            "text/plain": [
              "279679"
            ]
          },
          "metadata": {},
          "execution_count": 19
        }
      ]
    },
    {
      "cell_type": "markdown",
      "source": [
        "# **Clean Data**"
      ],
      "metadata": {
        "id": "0-ueSt7t2eoq"
      }
    },
    {
      "cell_type": "code",
      "source": [
        "# Calculate the percentage of null values in each column\n",
        "null_rate_in_each_column_in_data = (data.isnull().sum() / len(data))"
      ],
      "metadata": {
        "id": "mPkbQWgT2IFD"
      },
      "execution_count": null,
      "outputs": []
    },
    {
      "cell_type": "code",
      "source": [
        "# drop column if the column have more than 40% are null\n",
        "data = data.dropna(thresh=len(data)*0.6, axis=1) "
      ],
      "metadata": {
        "id": "56_62fjXzGr5"
      },
      "execution_count": null,
      "outputs": []
    },
    {
      "cell_type": "code",
      "source": [
        "# the number of null values in data after drop set of columns\n",
        "data.isnull().sum().sum()"
      ],
      "metadata": {
        "colab": {
          "base_uri": "https://localhost:8080/"
        },
        "id": "AMQ17DZYBfQq",
        "outputId": "4ac37ff6-96f0-4aba-de2c-bf7fc684438a"
      },
      "execution_count": null,
      "outputs": [
        {
          "output_type": "execute_result",
          "data": {
            "text/plain": [
              "46543"
            ]
          },
          "metadata": {},
          "execution_count": 22
        }
      ]
    },
    {
      "cell_type": "code",
      "source": [
        "#count null values in each column after drop set of feature\n",
        "data.isnull().sum().sort_values()"
      ],
      "metadata": {
        "colab": {
          "base_uri": "https://localhost:8080/"
        },
        "id": "cD7DuFzgF5Kb",
        "outputId": "525df47d-5613-4fe8-b5e5-962dc7a58c16"
      },
      "execution_count": null,
      "outputs": [
        {
          "output_type": "execute_result",
          "data": {
            "text/plain": [
              "gender         0\n",
              "idg            0\n",
              "condtn         0\n",
              "wave           0\n",
              "round          0\n",
              "            ... \n",
              "fun4_2      1665\n",
              "intel4_2    1665\n",
              "sinc4_2     1665\n",
              "fun2_2      1665\n",
              "attr2_2     1665\n",
              "Length: 120, dtype: int64"
            ]
          },
          "metadata": {},
          "execution_count": 23
        }
      ]
    },
    {
      "cell_type": "code",
      "source": [
        "# drop the irrelevant features\n",
        "data = data.drop(['field','pid','idg', 'zipcode'],axis=1)"
      ],
      "metadata": {
        "id": "X6ortCKua3SU"
      },
      "execution_count": null,
      "outputs": []
    },
    {
      "cell_type": "code",
      "source": [
        "# get the correlation between features\n",
        "cor_matrix = data.corr().abs()"
      ],
      "metadata": {
        "id": "ld68VTvNg36W"
      },
      "execution_count": null,
      "outputs": []
    },
    {
      "cell_type": "code",
      "source": [
        "# show the correlation\n",
        "cor_matrix"
      ],
      "metadata": {
        "colab": {
          "base_uri": "https://localhost:8080/",
          "height": 487
        },
        "id": "qPgC9V0MkCTw",
        "outputId": "174a89a6-0f45-49a7-f610-fcd58170a32c"
      },
      "execution_count": null,
      "outputs": [
        {
          "output_type": "execute_result",
          "data": {
            "text/plain": [
              "            gender    condtn      wave     round  position  positin1  \\\n",
              "gender    1.000000  0.003110  0.005577  0.025675  0.005474  0.000538   \n",
              "condtn    0.003110  1.000000  0.208676  0.812845  0.326885  0.307583   \n",
              "wave      0.005577  0.208676  1.000000  0.234173  0.082841  0.079513   \n",
              "round     0.025675  0.812845  0.234173  1.000000  0.389907  0.377914   \n",
              "position  0.005474  0.326885  0.082841  0.389907  1.000000  0.723813   \n",
              "...            ...       ...       ...       ...       ...       ...   \n",
              "sinc3_2   0.144081  0.011081  0.008763  0.022472  0.038301  0.148907   \n",
              "intel3_2  0.116063  0.044201  0.025549  0.054482  0.041131  0.017283   \n",
              "fun3_2    0.098299  0.002339  0.074086  0.003603  0.069878  0.092300   \n",
              "amb3_2    0.014788  0.002940  0.073058  0.026962  0.053553  0.004744   \n",
              "id        0.014062  0.022257  0.015127  0.015401  0.025142  0.027436   \n",
              "\n",
              "             order   partner  int_corr  samerace  ...  intel2_2    fun2_2  \\\n",
              "gender    0.007901  0.007773  0.018230  0.007138  ...  0.259061  0.126026   \n",
              "condtn    0.319236  0.314278  0.029313  0.088723  ...  0.012266  0.013454   \n",
              "wave      0.092257  0.083519  0.028946  0.003550  ...  0.282516  0.021202   \n",
              "round     0.402357  0.387119  0.000281  0.050547  ...  0.075158  0.021400   \n",
              "position  0.164913  0.175268  0.006246  0.048402  ...  0.045677  0.085250   \n",
              "...            ...       ...       ...       ...  ...       ...       ...   \n",
              "sinc3_2   0.009578  0.008146  0.001816  0.005612  ...  0.043956  0.075159   \n",
              "intel3_2  0.028445  0.027748  0.005798  0.078025  ...  0.176207  0.008129   \n",
              "fun3_2    0.011708  0.006061  0.025236  0.005976  ...  0.049454  0.005276   \n",
              "amb3_2    0.015825  0.008688  0.006210  0.006899  ...  0.084972  0.003729   \n",
              "id        0.013995  0.011069  0.004311  0.012729  ...  0.038520  0.001857   \n",
              "\n",
              "            amb2_2   shar2_2   attr3_2   sinc3_2  intel3_2    fun3_2  \\\n",
              "gender    0.359049  0.181204  0.074841  0.144081  0.116063  0.098299   \n",
              "condtn    0.069743  0.014924  0.005133  0.011081  0.044201  0.002339   \n",
              "wave      0.325563  0.232416  0.013137  0.008763  0.025549  0.074086   \n",
              "round     0.093500  0.022791  0.018789  0.022472  0.054482  0.003603   \n",
              "position  0.031369  0.062193  0.036824  0.038301  0.041131  0.069878   \n",
              "...            ...       ...       ...       ...       ...       ...   \n",
              "sinc3_2   0.016599  0.141157  0.236207  1.000000  0.383983  0.293755   \n",
              "intel3_2  0.071772  0.008964  0.370967  0.383983  1.000000  0.310787   \n",
              "fun3_2    0.065448  0.072168  0.431847  0.293755  0.310787  1.000000   \n",
              "amb3_2    0.007450  0.113032  0.310566  0.207932  0.366714  0.354582   \n",
              "id        0.021149  0.000728  0.007458  0.012827  0.004629  0.006702   \n",
              "\n",
              "            amb3_2        id  \n",
              "gender    0.014788  0.014062  \n",
              "condtn    0.002940  0.022257  \n",
              "wave      0.073058  0.015127  \n",
              "round     0.026962  0.015401  \n",
              "position  0.053553  0.025142  \n",
              "...            ...       ...  \n",
              "sinc3_2   0.207932  0.012827  \n",
              "intel3_2  0.366714  0.004629  \n",
              "fun3_2    0.354582  0.006702  \n",
              "amb3_2    1.000000  0.005229  \n",
              "id        0.005229  1.000000  \n",
              "\n",
              "[114 rows x 114 columns]"
            ],
            "text/html": [
              "\n",
              "  <div id=\"df-ef61486f-5dd6-4c94-bc6f-3da4a8ebd204\">\n",
              "    <div class=\"colab-df-container\">\n",
              "      <div>\n",
              "<style scoped>\n",
              "    .dataframe tbody tr th:only-of-type {\n",
              "        vertical-align: middle;\n",
              "    }\n",
              "\n",
              "    .dataframe tbody tr th {\n",
              "        vertical-align: top;\n",
              "    }\n",
              "\n",
              "    .dataframe thead th {\n",
              "        text-align: right;\n",
              "    }\n",
              "</style>\n",
              "<table border=\"1\" class=\"dataframe\">\n",
              "  <thead>\n",
              "    <tr style=\"text-align: right;\">\n",
              "      <th></th>\n",
              "      <th>gender</th>\n",
              "      <th>condtn</th>\n",
              "      <th>wave</th>\n",
              "      <th>round</th>\n",
              "      <th>position</th>\n",
              "      <th>positin1</th>\n",
              "      <th>order</th>\n",
              "      <th>partner</th>\n",
              "      <th>int_corr</th>\n",
              "      <th>samerace</th>\n",
              "      <th>...</th>\n",
              "      <th>intel2_2</th>\n",
              "      <th>fun2_2</th>\n",
              "      <th>amb2_2</th>\n",
              "      <th>shar2_2</th>\n",
              "      <th>attr3_2</th>\n",
              "      <th>sinc3_2</th>\n",
              "      <th>intel3_2</th>\n",
              "      <th>fun3_2</th>\n",
              "      <th>amb3_2</th>\n",
              "      <th>id</th>\n",
              "    </tr>\n",
              "  </thead>\n",
              "  <tbody>\n",
              "    <tr>\n",
              "      <th>gender</th>\n",
              "      <td>1.000000</td>\n",
              "      <td>0.003110</td>\n",
              "      <td>0.005577</td>\n",
              "      <td>0.025675</td>\n",
              "      <td>0.005474</td>\n",
              "      <td>0.000538</td>\n",
              "      <td>0.007901</td>\n",
              "      <td>0.007773</td>\n",
              "      <td>0.018230</td>\n",
              "      <td>0.007138</td>\n",
              "      <td>...</td>\n",
              "      <td>0.259061</td>\n",
              "      <td>0.126026</td>\n",
              "      <td>0.359049</td>\n",
              "      <td>0.181204</td>\n",
              "      <td>0.074841</td>\n",
              "      <td>0.144081</td>\n",
              "      <td>0.116063</td>\n",
              "      <td>0.098299</td>\n",
              "      <td>0.014788</td>\n",
              "      <td>0.014062</td>\n",
              "    </tr>\n",
              "    <tr>\n",
              "      <th>condtn</th>\n",
              "      <td>0.003110</td>\n",
              "      <td>1.000000</td>\n",
              "      <td>0.208676</td>\n",
              "      <td>0.812845</td>\n",
              "      <td>0.326885</td>\n",
              "      <td>0.307583</td>\n",
              "      <td>0.319236</td>\n",
              "      <td>0.314278</td>\n",
              "      <td>0.029313</td>\n",
              "      <td>0.088723</td>\n",
              "      <td>...</td>\n",
              "      <td>0.012266</td>\n",
              "      <td>0.013454</td>\n",
              "      <td>0.069743</td>\n",
              "      <td>0.014924</td>\n",
              "      <td>0.005133</td>\n",
              "      <td>0.011081</td>\n",
              "      <td>0.044201</td>\n",
              "      <td>0.002339</td>\n",
              "      <td>0.002940</td>\n",
              "      <td>0.022257</td>\n",
              "    </tr>\n",
              "    <tr>\n",
              "      <th>wave</th>\n",
              "      <td>0.005577</td>\n",
              "      <td>0.208676</td>\n",
              "      <td>1.000000</td>\n",
              "      <td>0.234173</td>\n",
              "      <td>0.082841</td>\n",
              "      <td>0.079513</td>\n",
              "      <td>0.092257</td>\n",
              "      <td>0.083519</td>\n",
              "      <td>0.028946</td>\n",
              "      <td>0.003550</td>\n",
              "      <td>...</td>\n",
              "      <td>0.282516</td>\n",
              "      <td>0.021202</td>\n",
              "      <td>0.325563</td>\n",
              "      <td>0.232416</td>\n",
              "      <td>0.013137</td>\n",
              "      <td>0.008763</td>\n",
              "      <td>0.025549</td>\n",
              "      <td>0.074086</td>\n",
              "      <td>0.073058</td>\n",
              "      <td>0.015127</td>\n",
              "    </tr>\n",
              "    <tr>\n",
              "      <th>round</th>\n",
              "      <td>0.025675</td>\n",
              "      <td>0.812845</td>\n",
              "      <td>0.234173</td>\n",
              "      <td>1.000000</td>\n",
              "      <td>0.389907</td>\n",
              "      <td>0.377914</td>\n",
              "      <td>0.402357</td>\n",
              "      <td>0.387119</td>\n",
              "      <td>0.000281</td>\n",
              "      <td>0.050547</td>\n",
              "      <td>...</td>\n",
              "      <td>0.075158</td>\n",
              "      <td>0.021400</td>\n",
              "      <td>0.093500</td>\n",
              "      <td>0.022791</td>\n",
              "      <td>0.018789</td>\n",
              "      <td>0.022472</td>\n",
              "      <td>0.054482</td>\n",
              "      <td>0.003603</td>\n",
              "      <td>0.026962</td>\n",
              "      <td>0.015401</td>\n",
              "    </tr>\n",
              "    <tr>\n",
              "      <th>position</th>\n",
              "      <td>0.005474</td>\n",
              "      <td>0.326885</td>\n",
              "      <td>0.082841</td>\n",
              "      <td>0.389907</td>\n",
              "      <td>1.000000</td>\n",
              "      <td>0.723813</td>\n",
              "      <td>0.164913</td>\n",
              "      <td>0.175268</td>\n",
              "      <td>0.006246</td>\n",
              "      <td>0.048402</td>\n",
              "      <td>...</td>\n",
              "      <td>0.045677</td>\n",
              "      <td>0.085250</td>\n",
              "      <td>0.031369</td>\n",
              "      <td>0.062193</td>\n",
              "      <td>0.036824</td>\n",
              "      <td>0.038301</td>\n",
              "      <td>0.041131</td>\n",
              "      <td>0.069878</td>\n",
              "      <td>0.053553</td>\n",
              "      <td>0.025142</td>\n",
              "    </tr>\n",
              "    <tr>\n",
              "      <th>...</th>\n",
              "      <td>...</td>\n",
              "      <td>...</td>\n",
              "      <td>...</td>\n",
              "      <td>...</td>\n",
              "      <td>...</td>\n",
              "      <td>...</td>\n",
              "      <td>...</td>\n",
              "      <td>...</td>\n",
              "      <td>...</td>\n",
              "      <td>...</td>\n",
              "      <td>...</td>\n",
              "      <td>...</td>\n",
              "      <td>...</td>\n",
              "      <td>...</td>\n",
              "      <td>...</td>\n",
              "      <td>...</td>\n",
              "      <td>...</td>\n",
              "      <td>...</td>\n",
              "      <td>...</td>\n",
              "      <td>...</td>\n",
              "      <td>...</td>\n",
              "    </tr>\n",
              "    <tr>\n",
              "      <th>sinc3_2</th>\n",
              "      <td>0.144081</td>\n",
              "      <td>0.011081</td>\n",
              "      <td>0.008763</td>\n",
              "      <td>0.022472</td>\n",
              "      <td>0.038301</td>\n",
              "      <td>0.148907</td>\n",
              "      <td>0.009578</td>\n",
              "      <td>0.008146</td>\n",
              "      <td>0.001816</td>\n",
              "      <td>0.005612</td>\n",
              "      <td>...</td>\n",
              "      <td>0.043956</td>\n",
              "      <td>0.075159</td>\n",
              "      <td>0.016599</td>\n",
              "      <td>0.141157</td>\n",
              "      <td>0.236207</td>\n",
              "      <td>1.000000</td>\n",
              "      <td>0.383983</td>\n",
              "      <td>0.293755</td>\n",
              "      <td>0.207932</td>\n",
              "      <td>0.012827</td>\n",
              "    </tr>\n",
              "    <tr>\n",
              "      <th>intel3_2</th>\n",
              "      <td>0.116063</td>\n",
              "      <td>0.044201</td>\n",
              "      <td>0.025549</td>\n",
              "      <td>0.054482</td>\n",
              "      <td>0.041131</td>\n",
              "      <td>0.017283</td>\n",
              "      <td>0.028445</td>\n",
              "      <td>0.027748</td>\n",
              "      <td>0.005798</td>\n",
              "      <td>0.078025</td>\n",
              "      <td>...</td>\n",
              "      <td>0.176207</td>\n",
              "      <td>0.008129</td>\n",
              "      <td>0.071772</td>\n",
              "      <td>0.008964</td>\n",
              "      <td>0.370967</td>\n",
              "      <td>0.383983</td>\n",
              "      <td>1.000000</td>\n",
              "      <td>0.310787</td>\n",
              "      <td>0.366714</td>\n",
              "      <td>0.004629</td>\n",
              "    </tr>\n",
              "    <tr>\n",
              "      <th>fun3_2</th>\n",
              "      <td>0.098299</td>\n",
              "      <td>0.002339</td>\n",
              "      <td>0.074086</td>\n",
              "      <td>0.003603</td>\n",
              "      <td>0.069878</td>\n",
              "      <td>0.092300</td>\n",
              "      <td>0.011708</td>\n",
              "      <td>0.006061</td>\n",
              "      <td>0.025236</td>\n",
              "      <td>0.005976</td>\n",
              "      <td>...</td>\n",
              "      <td>0.049454</td>\n",
              "      <td>0.005276</td>\n",
              "      <td>0.065448</td>\n",
              "      <td>0.072168</td>\n",
              "      <td>0.431847</td>\n",
              "      <td>0.293755</td>\n",
              "      <td>0.310787</td>\n",
              "      <td>1.000000</td>\n",
              "      <td>0.354582</td>\n",
              "      <td>0.006702</td>\n",
              "    </tr>\n",
              "    <tr>\n",
              "      <th>amb3_2</th>\n",
              "      <td>0.014788</td>\n",
              "      <td>0.002940</td>\n",
              "      <td>0.073058</td>\n",
              "      <td>0.026962</td>\n",
              "      <td>0.053553</td>\n",
              "      <td>0.004744</td>\n",
              "      <td>0.015825</td>\n",
              "      <td>0.008688</td>\n",
              "      <td>0.006210</td>\n",
              "      <td>0.006899</td>\n",
              "      <td>...</td>\n",
              "      <td>0.084972</td>\n",
              "      <td>0.003729</td>\n",
              "      <td>0.007450</td>\n",
              "      <td>0.113032</td>\n",
              "      <td>0.310566</td>\n",
              "      <td>0.207932</td>\n",
              "      <td>0.366714</td>\n",
              "      <td>0.354582</td>\n",
              "      <td>1.000000</td>\n",
              "      <td>0.005229</td>\n",
              "    </tr>\n",
              "    <tr>\n",
              "      <th>id</th>\n",
              "      <td>0.014062</td>\n",
              "      <td>0.022257</td>\n",
              "      <td>0.015127</td>\n",
              "      <td>0.015401</td>\n",
              "      <td>0.025142</td>\n",
              "      <td>0.027436</td>\n",
              "      <td>0.013995</td>\n",
              "      <td>0.011069</td>\n",
              "      <td>0.004311</td>\n",
              "      <td>0.012729</td>\n",
              "      <td>...</td>\n",
              "      <td>0.038520</td>\n",
              "      <td>0.001857</td>\n",
              "      <td>0.021149</td>\n",
              "      <td>0.000728</td>\n",
              "      <td>0.007458</td>\n",
              "      <td>0.012827</td>\n",
              "      <td>0.004629</td>\n",
              "      <td>0.006702</td>\n",
              "      <td>0.005229</td>\n",
              "      <td>1.000000</td>\n",
              "    </tr>\n",
              "  </tbody>\n",
              "</table>\n",
              "<p>114 rows × 114 columns</p>\n",
              "</div>\n",
              "      <button class=\"colab-df-convert\" onclick=\"convertToInteractive('df-ef61486f-5dd6-4c94-bc6f-3da4a8ebd204')\"\n",
              "              title=\"Convert this dataframe to an interactive table.\"\n",
              "              style=\"display:none;\">\n",
              "        \n",
              "  <svg xmlns=\"http://www.w3.org/2000/svg\" height=\"24px\"viewBox=\"0 0 24 24\"\n",
              "       width=\"24px\">\n",
              "    <path d=\"M0 0h24v24H0V0z\" fill=\"none\"/>\n",
              "    <path d=\"M18.56 5.44l.94 2.06.94-2.06 2.06-.94-2.06-.94-.94-2.06-.94 2.06-2.06.94zm-11 1L8.5 8.5l.94-2.06 2.06-.94-2.06-.94L8.5 2.5l-.94 2.06-2.06.94zm10 10l.94 2.06.94-2.06 2.06-.94-2.06-.94-.94-2.06-.94 2.06-2.06.94z\"/><path d=\"M17.41 7.96l-1.37-1.37c-.4-.4-.92-.59-1.43-.59-.52 0-1.04.2-1.43.59L10.3 9.45l-7.72 7.72c-.78.78-.78 2.05 0 2.83L4 21.41c.39.39.9.59 1.41.59.51 0 1.02-.2 1.41-.59l7.78-7.78 2.81-2.81c.8-.78.8-2.07 0-2.86zM5.41 20L4 18.59l7.72-7.72 1.47 1.35L5.41 20z\"/>\n",
              "  </svg>\n",
              "      </button>\n",
              "      \n",
              "  <style>\n",
              "    .colab-df-container {\n",
              "      display:flex;\n",
              "      flex-wrap:wrap;\n",
              "      gap: 12px;\n",
              "    }\n",
              "\n",
              "    .colab-df-convert {\n",
              "      background-color: #E8F0FE;\n",
              "      border: none;\n",
              "      border-radius: 50%;\n",
              "      cursor: pointer;\n",
              "      display: none;\n",
              "      fill: #1967D2;\n",
              "      height: 32px;\n",
              "      padding: 0 0 0 0;\n",
              "      width: 32px;\n",
              "    }\n",
              "\n",
              "    .colab-df-convert:hover {\n",
              "      background-color: #E2EBFA;\n",
              "      box-shadow: 0px 1px 2px rgba(60, 64, 67, 0.3), 0px 1px 3px 1px rgba(60, 64, 67, 0.15);\n",
              "      fill: #174EA6;\n",
              "    }\n",
              "\n",
              "    [theme=dark] .colab-df-convert {\n",
              "      background-color: #3B4455;\n",
              "      fill: #D2E3FC;\n",
              "    }\n",
              "\n",
              "    [theme=dark] .colab-df-convert:hover {\n",
              "      background-color: #434B5C;\n",
              "      box-shadow: 0px 1px 3px 1px rgba(0, 0, 0, 0.15);\n",
              "      filter: drop-shadow(0px 1px 2px rgba(0, 0, 0, 0.3));\n",
              "      fill: #FFFFFF;\n",
              "    }\n",
              "  </style>\n",
              "\n",
              "      <script>\n",
              "        const buttonEl =\n",
              "          document.querySelector('#df-ef61486f-5dd6-4c94-bc6f-3da4a8ebd204 button.colab-df-convert');\n",
              "        buttonEl.style.display =\n",
              "          google.colab.kernel.accessAllowed ? 'block' : 'none';\n",
              "\n",
              "        async function convertToInteractive(key) {\n",
              "          const element = document.querySelector('#df-ef61486f-5dd6-4c94-bc6f-3da4a8ebd204');\n",
              "          const dataTable =\n",
              "            await google.colab.kernel.invokeFunction('convertToInteractive',\n",
              "                                                     [key], {});\n",
              "          if (!dataTable) return;\n",
              "\n",
              "          const docLinkHtml = 'Like what you see? Visit the ' +\n",
              "            '<a target=\"_blank\" href=https://colab.research.google.com/notebooks/data_table.ipynb>data table notebook</a>'\n",
              "            + ' to learn more about interactive tables.';\n",
              "          element.innerHTML = '';\n",
              "          dataTable['output_type'] = 'display_data';\n",
              "          await google.colab.output.renderOutput(dataTable, element);\n",
              "          const docLink = document.createElement('div');\n",
              "          docLink.innerHTML = docLinkHtml;\n",
              "          element.appendChild(docLink);\n",
              "        }\n",
              "      </script>\n",
              "    </div>\n",
              "  </div>\n",
              "  "
            ]
          },
          "metadata": {},
          "execution_count": 26
        }
      ]
    },
    {
      "cell_type": "code",
      "source": [
        "# Get the highly correlated feature pairs and drop it\n",
        "# if there are correlation between two feature more than 0.8 , drop one of them\n",
        "threshold = 0.80\n",
        "high_corr_pairs = [(column_1, column_2) for column_1 in cor_matrix.columns for column_2 in cor_matrix.columns if cor_matrix.loc[column_1, column_2] > threshold and column_1 != column_2]\n",
        "\n",
        "# Drop one of the highly correlated features\n",
        "for column_1, column_2 in high_corr_pairs:\n",
        "    if column_1 in data.columns and column_2 in data.columns:\n",
        "        if data[column_1].dtype == 'float64':\n",
        "            if data[column_1].std() > data[column_2].std():\n",
        "                data = data.drop(column_2, axis=1)\n",
        "            else:\n",
        "                data = data.drop(column_1, axis=1)\n",
        "        else:\n",
        "            data = data.drop(column_2, axis=1)\n",
        "\n",
        "# Display the resulting dataframe\n",
        "print(data)"
      ],
      "metadata": {
        "colab": {
          "base_uri": "https://localhost:8080/"
        },
        "id": "N8cL7EUTeeHN",
        "outputId": "cdafe453-c40c-484b-978e-226502737548"
      },
      "execution_count": null,
      "outputs": [
        {
          "output_type": "stream",
          "name": "stdout",
          "text": [
            "      gender  condtn  wave  position  positin1  order  partner  int_corr  \\\n",
            "0          0       2    14         2       2.0     14       12     -0.03   \n",
            "1          1       1     3         2       NaN      8        8      0.21   \n",
            "2          1       1    13         8       8.0     10       10      0.43   \n",
            "3          1       2     9        18      13.0      6        7      0.72   \n",
            "4          1       2    14         6       6.0     20       17      0.33   \n",
            "...      ...     ...   ...       ...       ...    ...      ...       ...   \n",
            "2464       0       2    15        18      18.0     14       11      0.74   \n",
            "2465       0       1    13         4       4.0      4        8       NaN   \n",
            "2466       1       2     2         3       NaN     15        3     -0.13   \n",
            "2467       0       2     9        11      11.0      9        2      0.43   \n",
            "2468       1       2    21        22       7.0     16        5      0.34   \n",
            "\n",
            "      samerace  age_o  ...  intel2_2  fun2_2  amb2_2  shar2_2  attr3_2  \\\n",
            "0            0   27.0  ...      5.00   25.00    0.00     0.00     10.0   \n",
            "1            0   24.0  ...       NaN     NaN     NaN      NaN      6.0   \n",
            "2            0   34.0  ...     20.00   20.00   15.00    10.00      7.0   \n",
            "3            1   25.0  ...     17.02   17.02   17.02    12.77      8.0   \n",
            "4            0   27.0  ...     10.00   10.00   20.00    10.00      7.0   \n",
            "...        ...    ...  ...       ...     ...     ...      ...      ...   \n",
            "2464         0   24.0  ...       NaN     NaN     NaN      NaN      NaN   \n",
            "2465         0    NaN  ...      2.00    5.00    3.00     2.00      8.0   \n",
            "2466         0   21.0  ...       NaN     NaN     NaN      NaN      5.0   \n",
            "2467         0   26.0  ...     13.64   18.18   15.91    13.64     10.0   \n",
            "2468         1   23.0  ...     15.00   25.00   10.00     0.00      6.0   \n",
            "\n",
            "      sinc3_2  intel3_2  fun3_2  amb3_2      id  \n",
            "0        10.0      10.0     9.0    10.0  2583.0  \n",
            "1         7.0       7.0     7.0     8.0  6830.0  \n",
            "2         9.0       9.0     8.0    10.0  4840.0  \n",
            "3         9.0       8.0     8.0     7.0  5508.0  \n",
            "4         8.0       9.0     9.0     8.0  4828.0  \n",
            "...       ...       ...     ...     ...     ...  \n",
            "2464      NaN       NaN     NaN     NaN  7982.0  \n",
            "2465      9.0       8.0     9.0     6.0  7299.0  \n",
            "2466      7.0       8.0     5.0     7.0  1818.0  \n",
            "2467      7.0      10.0    10.0    10.0   937.0  \n",
            "2468      8.0       8.0     8.0     8.0  6691.0  \n",
            "\n",
            "[5428 rows x 114 columns]\n"
          ]
        }
      ]
    },
    {
      "cell_type": "code",
      "source": [
        "# the number of null values in data after drop set of columns based on correlation \n",
        "data.isnull().sum().sum() "
      ],
      "metadata": {
        "colab": {
          "base_uri": "https://localhost:8080/"
        },
        "id": "7KyIrYQegre-",
        "outputId": "f8955aeb-9dcf-40c1-fedb-bf2d2e39e487"
      },
      "execution_count": null,
      "outputs": [
        {
          "output_type": "execute_result",
          "data": {
            "text/plain": [
              "45730"
            ]
          },
          "metadata": {},
          "execution_count": 28
        }
      ]
    },
    {
      "cell_type": "code",
      "source": [
        "# Calculate the number of null values in each column\n",
        "null_counts = data.isnull().sum()\n",
        "\n",
        "# Plot the null values in each column\n",
        "plt.figure(figsize=(18, 12))\n",
        "# Set the plot title and axis labels\n",
        "null_counts.plot(kind='bar')\n",
        "plt.title('Number of Null Values in Each Column')\n",
        "plt.xlabel('Columns')\n",
        "plt.ylabel('Number of Null Values')\n",
        "\n",
        "# Show the plot\n",
        "plt.tight_layout()\n",
        "plt.show()"
      ],
      "metadata": {
        "colab": {
          "base_uri": "https://localhost:8080/",
          "height": 896
        },
        "id": "s5x7Lkiwp3AP",
        "outputId": "5f79688c-ca53-4bbb-9890-c91a594585c1"
      },
      "execution_count": null,
      "outputs": [
        {
          "output_type": "display_data",
          "data": {
            "text/plain": [
              "<Figure size 1800x1200 with 1 Axes>"
            ],
            "image/png": "[encoded data removed]"
          },
          "metadata": {}
        }
      ]
    },
    {
      "cell_type": "code",
      "source": [
        "#6 in race feature means other, so I filled null values in this column with 6\n",
        "data.race = data.race.fillna(6)\n",
        "#same with race column\n",
        "data.race_o = data.race.fillna(6)\n",
        "#6 in goal feature means other, so I filled null values in this column with 6\n",
        "data['goal'] = data['goal'].fillna(6)\n",
        "#18 in field coded feature means other, so I filled null values in this column with 18\n",
        "data['field_cd'] = data['field_cd'].fillna(18)\n",
        "#18 in career coded feature means other, so I filled null values in this column with 15.0\n",
        "data['career_c'] = data['career_c'].fillna(15.0)"
      ],
      "metadata": {
        "id": "ioJUns4f3Bkt"
      },
      "execution_count": null,
      "outputs": []
    },
    {
      "cell_type": "code",
      "source": [
        "# select numerical feature\n",
        "numerical_features =data.select_dtypes(include=['float64','int64']).columns"
      ],
      "metadata": {
        "id": "2A5E46AGql_P"
      },
      "execution_count": null,
      "outputs": []
    },
    {
      "cell_type": "code",
      "source": [
        "# select categorical feature\n",
        "categorical_features = data.select_dtypes(include=['object']).columns"
      ],
      "metadata": {
        "id": "v_zy9PBQwuSq"
      },
      "execution_count": null,
      "outputs": []
    },
    {
      "cell_type": "code",
      "source": [
        "#show numerical feature\n",
        "numerical_features "
      ],
      "metadata": {
        "colab": {
          "base_uri": "https://localhost:8080/"
        },
        "id": "dwkVWeDPwYFW",
        "outputId": "6ec244ad-c8b2-4221-8fc3-5d5a315262ec"
      },
      "execution_count": null,
      "outputs": [
        {
          "output_type": "execute_result",
          "data": {
            "text/plain": [
              "Index(['gender', 'condtn', 'wave', 'position', 'positin1', 'order', 'partner',\n",
              "       'int_corr', 'samerace', 'age_o',\n",
              "       ...\n",
              "       'intel2_2', 'fun2_2', 'amb2_2', 'shar2_2', 'attr3_2', 'sinc3_2',\n",
              "       'intel3_2', 'fun3_2', 'amb3_2', 'id'],\n",
              "      dtype='object', length=112)"
            ]
          },
          "metadata": {},
          "execution_count": 33
        }
      ]
    },
    {
      "cell_type": "code",
      "source": [
        "#show categorical feature\n",
        "categorical_features "
      ],
      "metadata": {
        "colab": {
          "base_uri": "https://localhost:8080/"
        },
        "id": "-YkClHsTwbt_",
        "outputId": "20ec3ec6-31c2-45a6-b93d-17f0abba0bf3"
      },
      "execution_count": null,
      "outputs": [
        {
          "output_type": "execute_result",
          "data": {
            "text/plain": [
              "Index(['from', 'career'], dtype='object')"
            ]
          },
          "metadata": {},
          "execution_count": 34
        }
      ]
    },
    {
      "cell_type": "markdown",
      "source": [
        "# **Split Data**"
      ],
      "metadata": {
        "id": "RLtALERu2rzC"
      }
    },
    {
      "cell_type": "code",
      "source": [
        "# split the data into X , Y\n",
        "# X represent features\n",
        "# Y represent target\n",
        "X=data.iloc[:train.shape[0],:]\n",
        "Y=match_in_train"
      ],
      "metadata": {
        "id": "hjHw_bbf7TyZ"
      },
      "execution_count": null,
      "outputs": []
    },
    {
      "cell_type": "code",
      "source": [
        "# show target \n",
        "Y"
      ],
      "metadata": {
        "colab": {
          "base_uri": "https://localhost:8080/"
        },
        "id": "UjGlRifY7T5R",
        "outputId": "79136850-83f0-4e46-feb4-4a13e06fd5b4"
      },
      "execution_count": null,
      "outputs": [
        {
          "output_type": "execute_result",
          "data": {
            "text/plain": [
              "0       0\n",
              "1       0\n",
              "2       0\n",
              "3       0\n",
              "4       0\n",
              "       ..\n",
              "2954    1\n",
              "2955    0\n",
              "2956    0\n",
              "2957    0\n",
              "2958    0\n",
              "Name: match, Length: 2959, dtype: int64"
            ]
          },
          "metadata": {},
          "execution_count": 36
        }
      ]
    },
    {
      "cell_type": "code",
      "source": [
        "# show features\n",
        "X"
      ],
      "metadata": {
        "colab": {
          "base_uri": "https://localhost:8080/",
          "height": 487
        },
        "id": "9QH6U9iA7T85",
        "outputId": "3e94a864-d699-4490-813d-a31309042472"
      },
      "execution_count": null,
      "outputs": [
        {
          "output_type": "execute_result",
          "data": {
            "text/plain": [
              "      gender  condtn  wave  position  positin1  order  partner  int_corr  \\\n",
              "0          0       2    14         2       2.0     14       12     -0.03   \n",
              "1          1       1     3         2       NaN      8        8      0.21   \n",
              "2          1       1    13         8       8.0     10       10      0.43   \n",
              "3          1       2     9        18      13.0      6        7      0.72   \n",
              "4          1       2    14         6       6.0     20       17      0.33   \n",
              "...      ...     ...   ...       ...       ...    ...      ...       ...   \n",
              "2954       1       2    14        19      19.0     13       14      0.54   \n",
              "2955       1       2     7        14       5.0     10        4     -0.11   \n",
              "2956       0       2    15        14      14.0      5       14     -0.62   \n",
              "2957       0       2     2         8       NaN     11        3      0.47   \n",
              "2958       1       1     5         9       NaN      2        2     -0.28   \n",
              "\n",
              "      samerace  age_o  ...  intel2_2  fun2_2  amb2_2  shar2_2  attr3_2  \\\n",
              "0            0   27.0  ...      5.00   25.00    0.00     0.00     10.0   \n",
              "1            0   24.0  ...       NaN     NaN     NaN      NaN      6.0   \n",
              "2            0   34.0  ...     20.00   20.00   15.00    10.00      7.0   \n",
              "3            1   25.0  ...     17.02   17.02   17.02    12.77      8.0   \n",
              "4            0   27.0  ...     10.00   10.00   20.00    10.00      7.0   \n",
              "...        ...    ...  ...       ...     ...     ...      ...      ...   \n",
              "2954         1   22.0  ...     10.00   10.00   20.00    10.00      7.0   \n",
              "2955         1   24.0  ...     16.67   16.67   14.58    14.58      8.0   \n",
              "2956         1   27.0  ...     20.00   15.00   15.00    15.00      7.0   \n",
              "2957         0   23.0  ...       NaN     NaN     NaN      NaN      8.0   \n",
              "2958         1   21.0  ...       NaN     NaN     NaN      NaN      NaN   \n",
              "\n",
              "      sinc3_2  intel3_2  fun3_2  amb3_2      id  \n",
              "0        10.0      10.0     9.0    10.0  2583.0  \n",
              "1         7.0       7.0     7.0     8.0  6830.0  \n",
              "2         9.0       9.0     8.0    10.0  4840.0  \n",
              "3         9.0       8.0     8.0     7.0  5508.0  \n",
              "4         8.0       9.0     9.0     8.0  4828.0  \n",
              "...       ...       ...     ...     ...     ...  \n",
              "2954      8.0       9.0     9.0     8.0  5930.0  \n",
              "2955      9.0       8.0     7.0     7.0   121.0  \n",
              "2956      8.0       8.0     7.0     8.0  7476.0  \n",
              "2957      6.0       8.0     8.0     8.0  4408.0  \n",
              "2958      NaN       NaN     NaN     NaN     NaN  \n",
              "\n",
              "[2959 rows x 114 columns]"
            ],
            "text/html": [
              "\n",
              "  <div id=\"df-765643df-f4f8-4bb2-94c9-cc5fbd884e24\">\n",
              "    <div class=\"colab-df-container\">\n",
              "      <div>\n",
              "<style scoped>\n",
              "    .dataframe tbody tr th:only-of-type {\n",
              "        vertical-align: middle;\n",
              "    }\n",
              "\n",
              "    .dataframe tbody tr th {\n",
              "        vertical-align: top;\n",
              "    }\n",
              "\n",
              "    .dataframe thead th {\n",
              "        text-align: right;\n",
              "    }\n",
              "</style>\n",
              "<table border=\"1\" class=\"dataframe\">\n",
              "  <thead>\n",
              "    <tr style=\"text-align: right;\">\n",
              "      <th></th>\n",
              "      <th>gender</th>\n",
              "      <th>condtn</th>\n",
              "      <th>wave</th>\n",
              "      <th>position</th>\n",
              "      <th>positin1</th>\n",
              "      <th>order</th>\n",
              "      <th>partner</th>\n",
              "      <th>int_corr</th>\n",
              "      <th>samerace</th>\n",
              "      <th>age_o</th>\n",
              "      <th>...</th>\n",
              "      <th>intel2_2</th>\n",
              "      <th>fun2_2</th>\n",
              "      <th>amb2_2</th>\n",
              "      <th>shar2_2</th>\n",
              "      <th>attr3_2</th>\n",
              "      <th>sinc3_2</th>\n",
              "      <th>intel3_2</th>\n",
              "      <th>fun3_2</th>\n",
              "      <th>amb3_2</th>\n",
              "      <th>id</th>\n",
              "    </tr>\n",
              "  </thead>\n",
              "  <tbody>\n",
              "    <tr>\n",
              "      <th>0</th>\n",
              "      <td>0</td>\n",
              "      <td>2</td>\n",
              "      <td>14</td>\n",
              "      <td>2</td>\n",
              "      <td>2.0</td>\n",
              "      <td>14</td>\n",
              "      <td>12</td>\n",
              "      <td>-0.03</td>\n",
              "      <td>0</td>\n",
              "      <td>27.0</td>\n",
              "      <td>...</td>\n",
              "      <td>5.00</td>\n",
              "      <td>25.00</td>\n",
              "      <td>0.00</td>\n",
              "      <td>0.00</td>\n",
              "      <td>10.0</td>\n",
              "      <td>10.0</td>\n",
              "      <td>10.0</td>\n",
              "      <td>9.0</td>\n",
              "      <td>10.0</td>\n",
              "      <td>2583.0</td>\n",
              "    </tr>\n",
              "    <tr>\n",
              "      <th>1</th>\n",
              "      <td>1</td>\n",
              "      <td>1</td>\n",
              "      <td>3</td>\n",
              "      <td>2</td>\n",
              "      <td>NaN</td>\n",
              "      <td>8</td>\n",
              "      <td>8</td>\n",
              "      <td>0.21</td>\n",
              "      <td>0</td>\n",
              "      <td>24.0</td>\n",
              "      <td>...</td>\n",
              "      <td>NaN</td>\n",
              "      <td>NaN</td>\n",
              "      <td>NaN</td>\n",
              "      <td>NaN</td>\n",
              "      <td>6.0</td>\n",
              "      <td>7.0</td>\n",
              "      <td>7.0</td>\n",
              "      <td>7.0</td>\n",
              "      <td>8.0</td>\n",
              "      <td>6830.0</td>\n",
              "    </tr>\n",
              "    <tr>\n",
              "      <th>2</th>\n",
              "      <td>1</td>\n",
              "      <td>1</td>\n",
              "      <td>13</td>\n",
              "      <td>8</td>\n",
              "      <td>8.0</td>\n",
              "      <td>10</td>\n",
              "      <td>10</td>\n",
              "      <td>0.43</td>\n",
              "      <td>0</td>\n",
              "      <td>34.0</td>\n",
              "      <td>...</td>\n",
              "      <td>20.00</td>\n",
              "      <td>20.00</td>\n",
              "      <td>15.00</td>\n",
              "      <td>10.00</td>\n",
              "      <td>7.0</td>\n",
              "      <td>9.0</td>\n",
              "      <td>9.0</td>\n",
              "      <td>8.0</td>\n",
              "      <td>10.0</td>\n",
              "      <td>4840.0</td>\n",
              "    </tr>\n",
              "    <tr>\n",
              "      <th>3</th>\n",
              "      <td>1</td>\n",
              "      <td>2</td>\n",
              "      <td>9</td>\n",
              "      <td>18</td>\n",
              "      <td>13.0</td>\n",
              "      <td>6</td>\n",
              "      <td>7</td>\n",
              "      <td>0.72</td>\n",
              "      <td>1</td>\n",
              "      <td>25.0</td>\n",
              "      <td>...</td>\n",
              "      <td>17.02</td>\n",
              "      <td>17.02</td>\n",
              "      <td>17.02</td>\n",
              "      <td>12.77</td>\n",
              "      <td>8.0</td>\n",
              "      <td>9.0</td>\n",
              "      <td>8.0</td>\n",
              "      <td>8.0</td>\n",
              "      <td>7.0</td>\n",
              "      <td>5508.0</td>\n",
              "    </tr>\n",
              "    <tr>\n",
              "      <th>4</th>\n",
              "      <td>1</td>\n",
              "      <td>2</td>\n",
              "      <td>14</td>\n",
              "      <td>6</td>\n",
              "      <td>6.0</td>\n",
              "      <td>20</td>\n",
              "      <td>17</td>\n",
              "      <td>0.33</td>\n",
              "      <td>0</td>\n",
              "      <td>27.0</td>\n",
              "      <td>...</td>\n",
              "      <td>10.00</td>\n",
              "      <td>10.00</td>\n",
              "      <td>20.00</td>\n",
              "      <td>10.00</td>\n",
              "      <td>7.0</td>\n",
              "      <td>8.0</td>\n",
              "      <td>9.0</td>\n",
              "      <td>9.0</td>\n",
              "      <td>8.0</td>\n",
              "      <td>4828.0</td>\n",
              "    </tr>\n",
              "    <tr>\n",
              "      <th>...</th>\n",
              "      <td>...</td>\n",
              "      <td>...</td>\n",
              "      <td>...</td>\n",
              "      <td>...</td>\n",
              "      <td>...</td>\n",
              "      <td>...</td>\n",
              "      <td>...</td>\n",
              "      <td>...</td>\n",
              "      <td>...</td>\n",
              "      <td>...</td>\n",
              "      <td>...</td>\n",
              "      <td>...</td>\n",
              "      <td>...</td>\n",
              "      <td>...</td>\n",
              "      <td>...</td>\n",
              "      <td>...</td>\n",
              "      <td>...</td>\n",
              "      <td>...</td>\n",
              "      <td>...</td>\n",
              "      <td>...</td>\n",
              "      <td>...</td>\n",
              "    </tr>\n",
              "    <tr>\n",
              "      <th>2954</th>\n",
              "      <td>1</td>\n",
              "      <td>2</td>\n",
              "      <td>14</td>\n",
              "      <td>19</td>\n",
              "      <td>19.0</td>\n",
              "      <td>13</td>\n",
              "      <td>14</td>\n",
              "      <td>0.54</td>\n",
              "      <td>1</td>\n",
              "      <td>22.0</td>\n",
              "      <td>...</td>\n",
              "      <td>10.00</td>\n",
              "      <td>10.00</td>\n",
              "      <td>20.00</td>\n",
              "      <td>10.00</td>\n",
              "      <td>7.0</td>\n",
              "      <td>8.0</td>\n",
              "      <td>9.0</td>\n",
              "      <td>9.0</td>\n",
              "      <td>8.0</td>\n",
              "      <td>5930.0</td>\n",
              "    </tr>\n",
              "    <tr>\n",
              "      <th>2955</th>\n",
              "      <td>1</td>\n",
              "      <td>2</td>\n",
              "      <td>7</td>\n",
              "      <td>14</td>\n",
              "      <td>5.0</td>\n",
              "      <td>10</td>\n",
              "      <td>4</td>\n",
              "      <td>-0.11</td>\n",
              "      <td>1</td>\n",
              "      <td>24.0</td>\n",
              "      <td>...</td>\n",
              "      <td>16.67</td>\n",
              "      <td>16.67</td>\n",
              "      <td>14.58</td>\n",
              "      <td>14.58</td>\n",
              "      <td>8.0</td>\n",
              "      <td>9.0</td>\n",
              "      <td>8.0</td>\n",
              "      <td>7.0</td>\n",
              "      <td>7.0</td>\n",
              "      <td>121.0</td>\n",
              "    </tr>\n",
              "    <tr>\n",
              "      <th>2956</th>\n",
              "      <td>0</td>\n",
              "      <td>2</td>\n",
              "      <td>15</td>\n",
              "      <td>14</td>\n",
              "      <td>14.0</td>\n",
              "      <td>5</td>\n",
              "      <td>14</td>\n",
              "      <td>-0.62</td>\n",
              "      <td>1</td>\n",
              "      <td>27.0</td>\n",
              "      <td>...</td>\n",
              "      <td>20.00</td>\n",
              "      <td>15.00</td>\n",
              "      <td>15.00</td>\n",
              "      <td>15.00</td>\n",
              "      <td>7.0</td>\n",
              "      <td>8.0</td>\n",
              "      <td>8.0</td>\n",
              "      <td>7.0</td>\n",
              "      <td>8.0</td>\n",
              "      <td>7476.0</td>\n",
              "    </tr>\n",
              "    <tr>\n",
              "      <th>2957</th>\n",
              "      <td>0</td>\n",
              "      <td>2</td>\n",
              "      <td>2</td>\n",
              "      <td>8</td>\n",
              "      <td>NaN</td>\n",
              "      <td>11</td>\n",
              "      <td>3</td>\n",
              "      <td>0.47</td>\n",
              "      <td>0</td>\n",
              "      <td>23.0</td>\n",
              "      <td>...</td>\n",
              "      <td>NaN</td>\n",
              "      <td>NaN</td>\n",
              "      <td>NaN</td>\n",
              "      <td>NaN</td>\n",
              "      <td>8.0</td>\n",
              "      <td>6.0</td>\n",
              "      <td>8.0</td>\n",
              "      <td>8.0</td>\n",
              "      <td>8.0</td>\n",
              "      <td>4408.0</td>\n",
              "    </tr>\n",
              "    <tr>\n",
              "      <th>2958</th>\n",
              "      <td>1</td>\n",
              "      <td>1</td>\n",
              "      <td>5</td>\n",
              "      <td>9</td>\n",
              "      <td>NaN</td>\n",
              "      <td>2</td>\n",
              "      <td>2</td>\n",
              "      <td>-0.28</td>\n",
              "      <td>1</td>\n",
              "      <td>21.0</td>\n",
              "      <td>...</td>\n",
              "      <td>NaN</td>\n",
              "      <td>NaN</td>\n",
              "      <td>NaN</td>\n",
              "      <td>NaN</td>\n",
              "      <td>NaN</td>\n",
              "      <td>NaN</td>\n",
              "      <td>NaN</td>\n",
              "      <td>NaN</td>\n",
              "      <td>NaN</td>\n",
              "      <td>NaN</td>\n",
              "    </tr>\n",
              "  </tbody>\n",
              "</table>\n",
              "<p>2959 rows × 114 columns</p>\n",
              "</div>\n",
              "      <button class=\"colab-df-convert\" onclick=\"convertToInteractive('df-765643df-f4f8-4bb2-94c9-cc5fbd884e24')\"\n",
              "              title=\"Convert this dataframe to an interactive table.\"\n",
              "              style=\"display:none;\">\n",
              "        \n",
              "  <svg xmlns=\"http://www.w3.org/2000/svg\" height=\"24px\"viewBox=\"0 0 24 24\"\n",
              "       width=\"24px\">\n",
              "    <path d=\"M0 0h24v24H0V0z\" fill=\"none\"/>\n",
              "    <path d=\"M18.56 5.44l.94 2.06.94-2.06 2.06-.94-2.06-.94-.94-2.06-.94 2.06-2.06.94zm-11 1L8.5 8.5l.94-2.06 2.06-.94-2.06-.94L8.5 2.5l-.94 2.06-2.06.94zm10 10l.94 2.06.94-2.06 2.06-.94-2.06-.94-.94-2.06-.94 2.06-2.06.94z\"/><path d=\"M17.41 7.96l-1.37-1.37c-.4-.4-.92-.59-1.43-.59-.52 0-1.04.2-1.43.59L10.3 9.45l-7.72 7.72c-.78.78-.78 2.05 0 2.83L4 21.41c.39.39.9.59 1.41.59.51 0 1.02-.2 1.41-.59l7.78-7.78 2.81-2.81c.8-.78.8-2.07 0-2.86zM5.41 20L4 18.59l7.72-7.72 1.47 1.35L5.41 20z\"/>\n",
              "  </svg>\n",
              "      </button>\n",
              "      \n",
              "  <style>\n",
              "    .colab-df-container {\n",
              "      display:flex;\n",
              "      flex-wrap:wrap;\n",
              "      gap: 12px;\n",
              "    }\n",
              "\n",
              "    .colab-df-convert {\n",
              "      background-color: #E8F0FE;\n",
              "      border: none;\n",
              "      border-radius: 50%;\n",
              "      cursor: pointer;\n",
              "      display: none;\n",
              "      fill: #1967D2;\n",
              "      height: 32px;\n",
              "      padding: 0 0 0 0;\n",
              "      width: 32px;\n",
              "    }\n",
              "\n",
              "    .colab-df-convert:hover {\n",
              "      background-color: #E2EBFA;\n",
              "      box-shadow: 0px 1px 2px rgba(60, 64, 67, 0.3), 0px 1px 3px 1px rgba(60, 64, 67, 0.15);\n",
              "      fill: #174EA6;\n",
              "    }\n",
              "\n",
              "    [theme=dark] .colab-df-convert {\n",
              "      background-color: #3B4455;\n",
              "      fill: #D2E3FC;\n",
              "    }\n",
              "\n",
              "    [theme=dark] .colab-df-convert:hover {\n",
              "      background-color: #434B5C;\n",
              "      box-shadow: 0px 1px 3px 1px rgba(0, 0, 0, 0.15);\n",
              "      filter: drop-shadow(0px 1px 2px rgba(0, 0, 0, 0.3));\n",
              "      fill: #FFFFFF;\n",
              "    }\n",
              "  </style>\n",
              "\n",
              "      <script>\n",
              "        const buttonEl =\n",
              "          document.querySelector('#df-765643df-f4f8-4bb2-94c9-cc5fbd884e24 button.colab-df-convert');\n",
              "        buttonEl.style.display =\n",
              "          google.colab.kernel.accessAllowed ? 'block' : 'none';\n",
              "\n",
              "        async function convertToInteractive(key) {\n",
              "          const element = document.querySelector('#df-765643df-f4f8-4bb2-94c9-cc5fbd884e24');\n",
              "          const dataTable =\n",
              "            await google.colab.kernel.invokeFunction('convertToInteractive',\n",
              "                                                     [key], {});\n",
              "          if (!dataTable) return;\n",
              "\n",
              "          const docLinkHtml = 'Like what you see? Visit the ' +\n",
              "            '<a target=\"_blank\" href=https://colab.research.google.com/notebooks/data_table.ipynb>data table notebook</a>'\n",
              "            + ' to learn more about interactive tables.';\n",
              "          element.innerHTML = '';\n",
              "          dataTable['output_type'] = 'display_data';\n",
              "          await google.colab.output.renderOutput(dataTable, element);\n",
              "          const docLink = document.createElement('div');\n",
              "          docLink.innerHTML = docLinkHtml;\n",
              "          element.appendChild(docLink);\n",
              "        }\n",
              "      </script>\n",
              "    </div>\n",
              "  </div>\n",
              "  "
            ]
          },
          "metadata": {},
          "execution_count": 37
        }
      ]
    },
    {
      "cell_type": "markdown",
      "source": [
        "# **Pipline For Numerical**"
      ],
      "metadata": {
        "id": "h1uQy_Uu3SHy"
      }
    },
    {
      "cell_type": "code",
      "source": [
        "# pipline for numerical\n",
        "# make standard scalar on numerical data\n",
        "transformer_numeric = Pipeline(\n",
        "    steps=[\n",
        "        ('imputer', SimpleImputer(strategy='mean')),\n",
        "        ('scaler', StandardScaler())]\n",
        ")"
      ],
      "metadata": {
        "id": "n_pqe6wJ0I1y"
      },
      "execution_count": null,
      "outputs": []
    },
    {
      "cell_type": "markdown",
      "source": [
        "# **pipline for categorical**"
      ],
      "metadata": {
        "id": "asF3nWt73fYE"
      }
    },
    {
      "cell_type": "code",
      "source": [
        "# pipline for categorical\n",
        "# replace null value with the most frequent\n",
        "transformer_categorical = Pipeline(\n",
        "    steps=[\n",
        "        ('imputer', SimpleImputer(strategy='most_frequent')),\n",
        "        ('onehot', OneHotEncoder(handle_unknown='ignore'))\n",
        "    ]\n",
        ")"
      ],
      "metadata": {
        "id": "p7RG_HmW0I-h"
      },
      "execution_count": null,
      "outputs": []
    },
    {
      "cell_type": "markdown",
      "source": [
        "# **merging two pipline**"
      ],
      "metadata": {
        "id": "l-DHTRaZ3m_j"
      }
    },
    {
      "cell_type": "code",
      "source": [
        "# merging two pipline\n",
        "preprocessor = ColumnTransformer(\n",
        "    transformers=[\n",
        "        ('num', transformer_numeric, numerical_features),\n",
        "        ('cat', transformer_categorical, categorical_features)\n",
        "    ]\n",
        ")"
      ],
      "metadata": {
        "id": "5s0JdeB40JDg"
      },
      "execution_count": null,
      "outputs": []
    },
    {
      "cell_type": "markdown",
      "source": [
        "# **Pipline for Random Forest Classifier**"
      ],
      "metadata": {
        "id": "jVRUq_dc3syC"
      }
    },
    {
      "cell_type": "code",
      "source": [
        "# pipline for Random Forest Classifier\n",
        "\n",
        "pipline_forest = Pipeline(\n",
        "    steps=[\n",
        "        ('preprocessor', preprocessor),\n",
        "        ('my_classifier', \n",
        "           RandomForestClassifier()\n",
        "        )\n",
        "    ]\n",
        ")"
      ],
      "metadata": {
        "id": "mFRzAUi98QOy"
      },
      "execution_count": null,
      "outputs": []
    },
    {
      "cell_type": "markdown",
      "source": [
        "# **Pipline for XGBoost Classifier**"
      ],
      "metadata": {
        "id": "hBnPP4wZ36LC"
      }
    },
    {
      "cell_type": "code",
      "source": [
        "# pipline for XGBClassifier \n",
        "pipline_xgbost = Pipeline(\n",
        "    steps=[\n",
        "        ('preprocessor', preprocessor),\n",
        "        ('my_classifier', \n",
        "           XGBClassifier(),\n",
        "        )\n",
        "    ]\n",
        ")"
      ],
      "metadata": {
        "id": "PE2vkvCu8QUJ"
      },
      "execution_count": null,
      "outputs": []
    },
    {
      "cell_type": "markdown",
      "source": [
        "# **Pipline for Logistic Classifier**"
      ],
      "metadata": {
        "id": "62m5zVnI4Mqi"
      }
    },
    {
      "cell_type": "code",
      "source": [
        "# pipline for logistic \n",
        "pipline_logistic = Pipeline(\n",
        "    steps=[\n",
        "        ('preprocessor', preprocessor),\n",
        "        ('my_classifier', \n",
        "          LogisticRegression(),\n",
        "        )\n",
        "    ]\n",
        ")"
      ],
      "metadata": {
        "id": "FQM9WIi68QXh"
      },
      "execution_count": null,
      "outputs": []
    },
    {
      "cell_type": "markdown",
      "source": [
        "# **1- Grid Search using Random Forest Classifier**"
      ],
      "metadata": {
        "id": "GKTqU9vVAkEE"
      }
    },
    {
      "cell_type": "code",
      "source": [
        "\"\"\"\n",
        "1- Define set the hyperparameters \n",
        "2- pass these hyperparameters to grid search with another parameters such as cv,verbose \n",
        "3- grid search get the best hyperparameters \n",
        "4- train the random forest model using best hyperparameters and evalute based on roc_auc\n",
        "5- get the best score and the best parameters \n",
        "\"\"\"\n",
        "\n",
        "\"\"\"\n",
        "thoughts and observations\n",
        "1- I used set of hyperparameters  such as  n_estimators , max_features ,imputer__strategy\n",
        "2- I think the model will fit well with these hyperparameters and will get high score\n",
        "\"\"\"\n",
        "\n",
        "\"\"\"\n",
        "my plan is  building XGBoost model using Grid search\n",
        "\"\"\" \n",
        "\n",
        "param_grid_forest = {\n",
        "    'preprocessor__num__imputer__strategy': ['mean'],\n",
        "    'my_classifier__n_estimators':[550,650,750],\n",
        "    'my_classifier__max_features':[25,28,30],\n",
        "           }\n",
        "\n",
        "# Create the GridSearchCV object\n",
        "grid_forest = GridSearchCV(pipline_forest, param_grid_forest, cv=10, verbose=1, n_jobs=2, \n",
        "    scoring='roc_auc')\n",
        "\n",
        "# Fit the pipeline to the data\n",
        "grid_forest.fit(X, Y)\n",
        "print('best score {}'.format(grid_forest.best_score_))\n",
        "print('best score {}'.format(grid_forest.best_params_))"
      ],
      "metadata": {
        "id": "o5DJ37d2_JxD",
        "colab": {
          "base_uri": "https://localhost:8080/"
        },
        "outputId": "306d9a8d-3c0e-46b2-eef8-1ff052492056"
      },
      "execution_count": null,
      "outputs": [
        {
          "output_type": "stream",
          "name": "stdout",
          "text": [
            "Fitting 10 folds for each of 9 candidates, totalling 90 fits\n",
            "best score 0.860873311826111\n",
            "best score {'my_classifier__max_features': 30, 'my_classifier__n_estimators': 750, 'preprocessor__num__imputer__strategy': 'mean'}\n"
          ]
        }
      ]
    },
    {
      "cell_type": "code",
      "source": [
        "# Make predictions using the pipeline\n",
        "y_pred_grid_forest = grid_forest.predict(X)"
      ],
      "metadata": {
        "id": "p5rknP4sGjhl"
      },
      "execution_count": null,
      "outputs": []
    },
    {
      "cell_type": "code",
      "source": [
        "# save submission file that contain id of test data and the probability of match label\n",
        "submission = pd.DataFrame()\n",
        "\n",
        "submission['id'] = test['id']\n",
        "\n",
        "submission['match'] = grid_forest.predict_proba(test)[:,1]\n",
        "\n",
        "submission.to_csv('result_1.csv', index=False)"
      ],
      "metadata": {
        "id": "Q_82Rh0_IyVu"
      },
      "execution_count": null,
      "outputs": []
    },
    {
      "cell_type": "markdown",
      "source": [
        "# **2- Grid Search using XGBoost Classifier**"
      ],
      "metadata": {
        "id": "W45ROmQmA0Vr"
      }
    },
    {
      "cell_type": "code",
      "source": [
        "\"\"\"\n",
        "1- Define set the hyperparameters \n",
        "2- pass these hyperparameters to grid search with another parameters such as cv,verbose \n",
        "3- grid search get the best hyperparameters \n",
        "4- train xgboost model using best hyperparameters and evalute based on roc_auc\n",
        "5- get the best score and the best parameters \n",
        "\"\"\"\n",
        "\n",
        "\"\"\"\n",
        "thoughts and observations\n",
        "1- I used set of hyperparameters  such as  n_estimators , max_depth ,imputer__strategy,learning_rate\n",
        "2- I think the model will fit well compared to grid search with random forest \n",
        "\"\"\"\n",
        "\n",
        "\"\"\"\n",
        "my plan is  building random forest model using randomized search\n",
        "\"\"\"\n",
        "param_grid_xgbost = {\n",
        "    'preprocessor__num__imputer__strategy': ['mean'],\n",
        "    'my_classifier__max_depth': [15,17],\n",
        "               'my_classifier__n_estimators': [700,800],\n",
        "               'my_classifier__learning_rate': [0.1]\n",
        "\n",
        "               \n",
        " }\n",
        "# Create the GridSearchCV object\n",
        "grid_xgbost = GridSearchCV(pipline_xgbost, param_grid_xgbost, cv=10, verbose=1, n_jobs=-1, \n",
        "    scoring='roc_auc')\n",
        "\n",
        "# Fit the pipeline to the data\n",
        "grid_xgbost.fit(X, Y)\n",
        "\n",
        "print('best score {}'.format(grid_xgbost.best_score_))\n",
        "print('best score {}'.format(grid_xgbost.best_params_))"
      ],
      "metadata": {
        "colab": {
          "base_uri": "https://localhost:8080/"
        },
        "id": "wtFaqF9HFhDj",
        "outputId": "ace6ad90-1bb5-4c3f-a53a-46f1eb5ecfac"
      },
      "execution_count": null,
      "outputs": [
        {
          "output_type": "stream",
          "name": "stdout",
          "text": [
            "Fitting 10 folds for each of 4 candidates, totalling 40 fits\n",
            "best score 0.8685985369807451\n",
            "best score {'my_classifier__learning_rate': 0.1, 'my_classifier__max_depth': 17, 'my_classifier__n_estimators': 700, 'preprocessor__num__imputer__strategy': 'mean'}\n"
          ]
        }
      ]
    },
    {
      "cell_type": "code",
      "source": [
        "# Make predictions using the pipeline\n",
        "y_pred_xgbost_grid = grid_xgbost.predict(X)"
      ],
      "metadata": {
        "id": "w6_sP8oPcCpI"
      },
      "execution_count": null,
      "outputs": []
    },
    {
      "cell_type": "code",
      "source": [
        "# save submission file that contain id of test data and the probability of match label\n",
        "submission = pd.DataFrame()\n",
        "\n",
        "submission['id'] = test['id']\n",
        "\n",
        "submission['match'] = grid_xgbost.predict_proba(test)[:,1]\n",
        "\n",
        "submission.to_csv('result_2.csv', index=False)"
      ],
      "metadata": {
        "id": "RyKHTuCwFJsX"
      },
      "execution_count": null,
      "outputs": []
    },
    {
      "cell_type": "markdown",
      "source": [
        "# **3- Randomized Search using Random Forest**"
      ],
      "metadata": {
        "id": "ssk4XHUwBKsL"
      }
    },
    {
      "cell_type": "code",
      "source": [
        "\n",
        "\n",
        "\"\"\"\n",
        "1- Define set the hyperparameters \n",
        "2- pass these hyperparameters to randomize search with another parameters such as cv,verbose \n",
        "3- randomize search get the best hyperparameters \n",
        "4- train random forest model using best hyperparameters and evalute based on roc_auc\n",
        "5- get the best score and the best parameters \n",
        "\"\"\"\n",
        "\n",
        "\"\"\"\n",
        "thoughts and observations\n",
        "1- I used set of hyperparameters  such as  n_estimators , max_features ,imputer__strategy\n",
        "2- I think the model will fit well but the score will less than the score of xgboost using grid search because \n",
        "randmized search not make all combination but grid make all combination\n",
        "\"\"\"\n",
        "\n",
        "\"\"\"\n",
        "my plan is  building xgboost model using randomized search\n",
        "\"\"\"\n",
        "\n",
        "\n",
        "param_random_forest = {\n",
        "    'preprocessor__num__imputer__strategy': ['mean'],\n",
        "    'my_classifier__n_estimators':[550,650,750],\n",
        "    'my_classifier__max_features':[25,28,30],\n",
        "           }\n",
        "random_search_random = RandomizedSearchCV( \n",
        "    pipline_forest, param_random_forest, cv=10, verbose=1, n_jobs=-1, \n",
        "    # number of random trials\n",
        "    n_iter=10,\n",
        "    scoring='roc_auc')\n",
        "\n",
        "random_search_random.fit(X, Y)\n",
        "\n",
        "print('best score {}'.format(random_search_random.best_score_))\n",
        "print('best score {}'.format(random_search_random.best_params_))"
      ],
      "metadata": {
        "id": "0gMV57hb9wCP",
        "colab": {
          "base_uri": "https://localhost:8080/"
        },
        "outputId": "1678532e-eb6f-487e-84de-57413aec81d5"
      },
      "execution_count": null,
      "outputs": [
        {
          "output_type": "stream",
          "name": "stderr",
          "text": [
            "/usr/local/lib/python3.9/dist-packages/sklearn/model_selection/_search.py:305: UserWarning: The total space of parameters 9 is smaller than n_iter=10. Running 9 iterations. For exhaustive searches, use GridSearchCV.\n",
            "  warnings.warn(\n"
          ]
        },
        {
          "output_type": "stream",
          "name": "stdout",
          "text": [
            "Fitting 10 folds for each of 9 candidates, totalling 90 fits\n",
            "best score 0.8610908974373789\n",
            "best score {'preprocessor__num__imputer__strategy': 'mean', 'my_classifier__n_estimators': 650, 'my_classifier__max_features': 30}\n"
          ]
        }
      ]
    },
    {
      "cell_type": "code",
      "source": [
        "# Make predictions using the pipeline\n",
        "y_pred_forest_random = random_search_random.predict(X)"
      ],
      "metadata": {
        "id": "4AL5bns88187"
      },
      "execution_count": null,
      "outputs": []
    },
    {
      "cell_type": "code",
      "source": [
        "# save submission file that contain id of test data and the probability of match label\n",
        "submission = pd.DataFrame()\n",
        "\n",
        "submission['id'] = test['id']\n",
        "\n",
        "submission['match'] = random_search_random.predict_proba(test)[:,1]\n",
        "\n",
        "submission.to_csv('result_3.csv', index=False)"
      ],
      "metadata": {
        "id": "Vi3tA8Jb82Gi"
      },
      "execution_count": null,
      "outputs": []
    },
    {
      "cell_type": "markdown",
      "source": [
        "# **4- Randomized Search using XGBoost Forest**"
      ],
      "metadata": {
        "id": "k2GWPVA3BYo6"
      }
    },
    {
      "cell_type": "code",
      "source": [
        "\"\"\"\n",
        "1- Define set the hyperparameters \n",
        "2- pass these hyperparameters to randomize search with another parameters such as cv,verbose \n",
        "3- randomize search get the best hyperparameters \n",
        "4- train xgboost model using best hyperparameters and evalute based on roc_auc\n",
        "5- get the best score and the best parameters \n",
        "\"\"\"\n",
        "\n",
        "\"\"\"\n",
        "thoughts and observations\n",
        "1- I used set of hyperparameters  such as  n_estimators , max_features ,imputer__strategy\n",
        "2- I think the model will fit well compared with randomize search using random forest model\n",
        "\"\"\"\n",
        "\n",
        "\"\"\"\n",
        "my plan is  building svm model using bayesian  search\n",
        "\"\"\"\n",
        "param_forest_xgbost = {\n",
        "    'preprocessor__num__imputer__strategy': ['mean'],\n",
        "    'my_classifier__n_estimators':[550,650,750],\n",
        "    'my_classifier__max_features':[25,28,30],\n",
        "           }\n",
        "random_search_xgbost = RandomizedSearchCV( \n",
        "    pipline_xgbost, param_forest_xgbost, cv=10, verbose=1, n_jobs=2, \n",
        "    # number of random trials\n",
        "    n_iter=10,\n",
        "    scoring='roc_auc')\n",
        "\n",
        "random_search_xgbost.fit(X, Y)\n",
        "\n",
        "print('best score {}'.format(random_search_xgbost.best_score_))\n",
        "print('best score {}'.format(random_search_xgbost.best_params_))\n",
        "\n"
      ],
      "metadata": {
        "id": "UwUNOXXmMmmQ",
        "colab": {
          "base_uri": "https://localhost:8080/"
        },
        "outputId": "0a8ef0c5-7313-45d5-ed94-92c05271e952"
      },
      "execution_count": null,
      "outputs": [
        {
          "output_type": "stream",
          "name": "stderr",
          "text": [
            "/usr/local/lib/python3.9/dist-packages/sklearn/model_selection/_search.py:305: UserWarning: The total space of parameters 9 is smaller than n_iter=10. Running 9 iterations. For exhaustive searches, use GridSearchCV.\n",
            "  warnings.warn(\n"
          ]
        },
        {
          "output_type": "stream",
          "name": "stdout",
          "text": [
            "Fitting 10 folds for each of 9 candidates, totalling 90 fits\n",
            "[21:40:37] WARNING: ../src/learner.cc:767: \n",
            "Parameters: { \"max_features\" } are not used.\n",
            "\n",
            "best score 0.8750532635257635\n",
            "best score {'preprocessor__num__imputer__strategy': 'mean', 'my_classifier__n_estimators': 550, 'my_classifier__max_features': 25}\n"
          ]
        }
      ]
    },
    {
      "cell_type": "code",
      "source": [
        "# Make predictions using the pipeline\n",
        "y_pred_xgbost_random = random_search_random.predict(X)"
      ],
      "metadata": {
        "id": "aApLVuz0-BdM"
      },
      "execution_count": null,
      "outputs": []
    },
    {
      "cell_type": "code",
      "source": [
        "# save submission file that contain id of test data and the probability of match label\n",
        "submission = pd.DataFrame()\n",
        "\n",
        "submission['id'] = test['id']\n",
        "\n",
        "submission['match'] = random_search_xgbost.predict_proba(test)[:,1]\n",
        "\n",
        "submission.to_csv('result_4.csv', index=False)"
      ],
      "metadata": {
        "id": "lf1OHozr-BhS"
      },
      "execution_count": null,
      "outputs": []
    },
    {
      "cell_type": "code",
      "source": [
        "!pip install scikit-optimize"
      ],
      "metadata": {
        "id": "DxTwl36gKycI",
        "colab": {
          "base_uri": "https://localhost:8080/"
        },
        "outputId": "60e081cb-3cf6-4482-9937-470a4f912317"
      },
      "execution_count": null,
      "outputs": [
        {
          "output_type": "stream",
          "name": "stdout",
          "text": [
            "Looking in indexes: https://pypi.org/simple, https://us-python.pkg.dev/colab-wheels/public/simple/\n",
            "Collecting scikit-optimize\n",
            "  Downloading scikit_optimize-0.9.0-py2.py3-none-any.whl (100 kB)\n",
            "\u001b[2K     \u001b[90m━━━━━━━━━━━━━━━━━━━━━━━━━━━━━━━━━━━━━━\u001b[0m \u001b[32m100.3/100.3 KB\u001b[0m \u001b[31m11.7 MB/s\u001b[0m eta \u001b[36m0:00:00\u001b[0m\n",
            "\u001b[?25hRequirement already satisfied: scipy>=0.19.1 in /usr/local/lib/python3.9/dist-packages (from scikit-optimize) (1.10.1)\n",
            "Collecting pyaml>=16.9\n",
            "  Downloading pyaml-21.10.1-py2.py3-none-any.whl (24 kB)\n",
            "Requirement already satisfied: joblib>=0.11 in /usr/local/lib/python3.9/dist-packages (from scikit-optimize) (1.1.1)\n",
            "Requirement already satisfied: numpy>=1.13.3 in /usr/local/lib/python3.9/dist-packages (from scikit-optimize) (1.22.4)\n",
            "Requirement already satisfied: scikit-learn>=0.20.0 in /usr/local/lib/python3.9/dist-packages (from scikit-optimize) (1.2.2)\n",
            "Requirement already satisfied: PyYAML in /usr/local/lib/python3.9/dist-packages (from pyaml>=16.9->scikit-optimize) (6.0)\n",
            "Requirement already satisfied: threadpoolctl>=2.0.0 in /usr/local/lib/python3.9/dist-packages (from scikit-learn>=0.20.0->scikit-optimize) (3.1.0)\n",
            "Installing collected packages: pyaml, scikit-optimize\n",
            "Successfully installed pyaml-21.10.1 scikit-optimize-0.9.0\n"
          ]
        }
      ]
    },
    {
      "cell_type": "markdown",
      "source": [
        "\n",
        "\n",
        "# **5-Bayesian Search Using SVM**"
      ],
      "metadata": {
        "id": "6CBK5UnKBz_z"
      }
    },
    {
      "cell_type": "code",
      "source": [
        "# Let's try this with SVM model\n",
        "\"\"\"\n",
        "1- Define set the hyperparameters \n",
        "2- pass these hyperparameters to Bayes search with another parameters such as cv,n_iter \n",
        "3- Bayes search get the best hyperparameters \n",
        "4- train svm model using best hyperparameters and evalute based on roc_auc\n",
        "5- get the best score and the best parameters \n",
        "\"\"\"\n",
        "\n",
        "\"\"\"\n",
        "thoughts and observations\n",
        "1- I used set of hyperparameters  such as  gamma , kernel ,degree,C\n",
        "2- I think the model will fit , but the score will less than all previous score\n",
        "\"\"\"\n",
        "\n",
        "\"\"\"\n",
        "my plan is  building logistic model using grid search\n",
        "\"\"\"\n",
        "SVC_pipline = Pipeline(\n",
        "    steps=[\n",
        "        ('preprocessor', preprocessor),\n",
        "        ('my_svc', SVC(class_weight='balanced', probability=True))\n",
        "    ]\n",
        ")\n",
        "\n",
        "\n",
        "# define ranges for bayes search\n",
        "bayes_search = BayesSearchCV(\n",
        "    SVC_pipline,\n",
        "    {\n",
        "        'my_svc__C': Real(1e-6, 1e+6, prior='log-uniform'),\n",
        "        'my_svc__gamma': Real(1e-6, 1e+1, prior='log-uniform'),\n",
        "        'my_svc__degree': Integer(1,8),\n",
        "        'my_svc__kernel': Categorical(['linear', 'poly', 'rbf']),\n",
        "    },\n",
        "    # number of trials \n",
        "    n_iter=3,\n",
        "    random_state=0,\n",
        "    verbose=1,\n",
        "    # we still use \n",
        "    cv=10,\n",
        ")\n",
        "\n",
        "bayes_search.fit(X, Y)\n",
        "\n",
        "print('best score {}'.format(bayes_search.best_score_))\n",
        "print('best score {}'.format(bayes_search.best_params_))"
      ],
      "metadata": {
        "id": "NEyZQNvP9wFa",
        "colab": {
          "base_uri": "https://localhost:8080/"
        },
        "outputId": "cff41c77-cc32-4e15-8292-2d05413f997a"
      },
      "execution_count": null,
      "outputs": [
        {
          "output_type": "stream",
          "name": "stdout",
          "text": [
            "Fitting 10 folds for each of 1 candidates, totalling 10 fits\n",
            "Fitting 10 folds for each of 1 candidates, totalling 10 fits\n",
            "Fitting 10 folds for each of 1 candidates, totalling 10 fits\n",
            "best score 0.8361808483179901\n",
            "best score OrderedDict([('my_svc__C', 0.0012602593949011189), ('my_svc__degree', 8), ('my_svc__gamma', 2.285959941576884), ('my_svc__kernel', 'poly')])\n"
          ]
        }
      ]
    },
    {
      "cell_type": "code",
      "source": [
        "# Make predictions using the pipeline\n",
        "y_pred_bayes = bayes_search.predict(X)"
      ],
      "metadata": {
        "id": "dMq75YDuxkyz"
      },
      "execution_count": null,
      "outputs": []
    },
    {
      "cell_type": "code",
      "source": [
        "# save submission file that contain id of test data and the probability of match label\n",
        "submission = pd.DataFrame()\n",
        "\n",
        "submission['id'] = test['id']\n",
        "\n",
        "submission['match'] = bayes_search.predict_proba(test)[:,1]\n",
        "\n",
        "submission.to_csv('result_5.csv', index=False)\n",
        "\n"
      ],
      "metadata": {
        "id": "kifG1czhxpqR"
      },
      "execution_count": null,
      "outputs": []
    },
    {
      "cell_type": "markdown",
      "source": [
        "# **Grid Search using Logistic Classifier**"
      ],
      "metadata": {
        "id": "M4eNCZkLWL4h"
      }
    },
    {
      "cell_type": "code",
      "source": [
        "\"\"\"\n",
        "1- Define set the hyperparameters \n",
        "2- pass these hyperparameters to grid search with another parameters such as cv,verbose \n",
        "3- grid search get the best hyperparameters \n",
        "4- train logistic model using best hyperparameters and evalute based on roc_auc\n",
        "5- get the best score and the best parameters \n",
        "\"\"\"\n",
        "\n",
        "\"\"\"\n",
        "thoughts and observations\n",
        "1- I used set of hyperparameters  such as  solver ,penalty,C\n",
        "2- I think the model will fit compared with Bayes search\n",
        "\"\"\"\n",
        "param_grid_logistic = {\n",
        "   'my_classifier__C': [0.1, 1, 10],\n",
        "    'my_classifier__penalty': ['l1', 'l2'],\n",
        "    'my_classifier__solver': ['liblinear', 'saga']          \n",
        " }\n",
        "\n",
        "\n",
        "\n",
        "# Create the GridSearchCV object\n",
        "grid_logistic = GridSearchCV(pipline_logistic, param_grid_logistic, cv=5, verbose=1, n_jobs=-1, \n",
        "    scoring='roc_auc')\n",
        "\n",
        "# Fit the pipeline to the data\n",
        "grid_logistic.fit(X, Y)\n",
        "\n",
        "print('best score {}'.format(grid_logistic.best_score_))\n",
        "print('best score {}'.format(grid_logistic.best_params_))"
      ],
      "metadata": {
        "colab": {
          "base_uri": "https://localhost:8080/"
        },
        "id": "r3cgiPBUcCGV",
        "outputId": "90098eae-e28d-406c-a415-717f17a53966"
      },
      "execution_count": null,
      "outputs": [
        {
          "output_type": "stream",
          "name": "stdout",
          "text": [
            "Fitting 5 folds for each of 12 candidates, totalling 60 fits\n",
            "best score 0.8629641724902285\n",
            "best score {'my_classifier__C': 0.1, 'my_classifier__penalty': 'l2', 'my_classifier__solver': 'liblinear'}\n"
          ]
        }
      ]
    },
    {
      "cell_type": "code",
      "source": [
        "# save submission file that contain id of test data and the probability of match label\n",
        "submission = pd.DataFrame()\n",
        "\n",
        "submission['id'] = test['id']\n",
        "\n",
        "submission['match'] = grid_logistic.predict_proba(test)[:,1]\n",
        "\n",
        "submission.to_csv('result_logistic.csv', index=False)"
      ],
      "metadata": {
        "id": "osBobT4wcCPc"
      },
      "execution_count": null,
      "outputs": []
    }
  ]
}